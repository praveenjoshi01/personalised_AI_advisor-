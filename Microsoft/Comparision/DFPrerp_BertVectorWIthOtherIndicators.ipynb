{
 "cells": [
  {
   "cell_type": "code",
   "execution_count": 39,
   "metadata": {
    "ExecuteTime": {
     "end_time": "2019-05-20T13:26:18.596219Z",
     "start_time": "2019-05-20T13:26:18.592222Z"
    }
   },
   "outputs": [],
   "source": [
    "from sklearn.metrics import confusion_matrix, precision_score\n",
    "from sklearn.model_selection import train_test_split\n",
    "from keras.layers import Dense,Dropout\n",
    "from keras.models import Sequential\n",
    "from keras.regularizers import l2\n",
    "import matplotlib.pyplot as plt\n",
    "import pandas as pd\n",
    "import numpy as np\n",
    "import pandas as pd\n",
    "from sklearn.preprocessing import StandardScaler"
   ]
  },
  {
   "cell_type": "code",
   "execution_count": 40,
   "metadata": {
    "ExecuteTime": {
     "end_time": "2019-05-20T13:26:20.723484Z",
     "start_time": "2019-05-20T13:26:19.095479Z"
    }
   },
   "outputs": [],
   "source": [
    "featureDF_nw = pd.read_csv('nw_feature_woText_MSFT.csv')\n",
    "featureDF_tw = pd.read_csv('tw_feature_woText_MSFT.csv')\n",
    "featureFI = pd.read_csv('FIwithTargetwithFTT.csv')\n",
    "bert_featureDF_nw = pd.read_csv('nw_BertVector.csv')\n",
    "bert_featureDF_tw = pd.read_csv('tw_BertVector_MSFT.csv')"
   ]
  },
  {
   "cell_type": "code",
   "execution_count": 41,
   "metadata": {
    "ExecuteTime": {
     "end_time": "2019-05-20T13:26:20.731483Z",
     "start_time": "2019-05-20T13:26:20.723484Z"
    }
   },
   "outputs": [],
   "source": [
    "def getStartEndDateShape(dfz):\n",
    "    print('---------------------------')   \n",
    "    print('shape', dfz.shape) \n",
    "    try:\n",
    "        startDate = str(min(dfz['date']))\n",
    "        endDate = str(max(dfz['date']))\n",
    "        print('startDate', startDate)\n",
    "        print('endDate', endDate)\n",
    "\n",
    "    except:\n",
    "        print(\"No Date column\")"
   ]
  },
  {
   "cell_type": "code",
   "execution_count": 42,
   "metadata": {
    "ExecuteTime": {
     "end_time": "2019-05-20T13:26:20.743481Z",
     "start_time": "2019-05-20T13:26:20.731483Z"
    }
   },
   "outputs": [],
   "source": [
    "def createComparableDataset(_df):\n",
    "    _df.date = pd.to_datetime(_df.date)\n",
    "    _df = _df[_df['date'] >= pd.to_datetime('2015/05/04')]\n",
    "    _df = _df[_df['date'] <= pd.to_datetime('2019/03/28')]\n",
    "    return _df\n",
    "\t\n",
    "def createTrainingAndTestingSet(_df):\n",
    "    train = _df[_df['date'] < pd.to_datetime('2019/01/01')]\n",
    "    test = _df[_df['date'] >= pd.to_datetime('2019/01/01')]\n",
    "    return train ,test\n",
    "\t\n",
    "def getFeaturesAndTargetRemoveDate(_df):\n",
    "    train_y = _df['Target']\n",
    "    train = _df.drop(['date','Target'],axis =1)\n",
    "    return train, train_y"
   ]
  },
  {
   "cell_type": "code",
   "execution_count": 43,
   "metadata": {
    "ExecuteTime": {
     "end_time": "2019-05-20T13:26:20.759482Z",
     "start_time": "2019-05-20T13:26:20.743481Z"
    }
   },
   "outputs": [
    {
     "name": "stdout",
     "output_type": "stream",
     "text": [
      "---------------------------\n",
      "shape (4020, 24)\n",
      "startDate 2004/07/21\n",
      "endDate 2019/03/28\n",
      "---------------------------\n",
      "shape (1426, 25)\n",
      "startDate 2015/05/04\n",
      "endDate 2019/04/04\n",
      "---------------------------\n",
      "shape (4010, 32)\n",
      "startDate 2003/04/30\n",
      "endDate 2019/04/03\n",
      "---------------------------\n",
      "shape (4020, 768)\n",
      "No Date column\n",
      "---------------------------\n",
      "shape (1426, 768)\n",
      "No Date column\n"
     ]
    }
   ],
   "source": [
    "getStartEndDateShape(featureDF_nw)\n",
    "getStartEndDateShape(featureDF_tw)\n",
    "getStartEndDateShape(featureFI)\n",
    "getStartEndDateShape(bert_featureDF_nw)\n",
    "getStartEndDateShape(bert_featureDF_tw)"
   ]
  },
  {
   "cell_type": "markdown",
   "metadata": {},
   "source": [
    "# Formulation of overall dataset"
   ]
  },
  {
   "cell_type": "code",
   "execution_count": 44,
   "metadata": {
    "ExecuteTime": {
     "end_time": "2019-05-20T13:26:20.771509Z",
     "start_time": "2019-05-20T13:26:20.759482Z"
    }
   },
   "outputs": [],
   "source": [
    "nw_date = featureDF_nw.date.values.tolist()\n",
    "tw_date = featureDF_tw.date.values.tolist()"
   ]
  },
  {
   "cell_type": "code",
   "execution_count": 45,
   "metadata": {
    "ExecuteTime": {
     "end_time": "2019-05-20T13:26:20.791485Z",
     "start_time": "2019-05-20T13:26:20.771509Z"
    }
   },
   "outputs": [],
   "source": [
    "bert_featureDF_nw['date'] = nw_date\n",
    "bert_featureDF_tw['date'] = tw_date"
   ]
  },
  {
   "cell_type": "code",
   "execution_count": 46,
   "metadata": {
    "ExecuteTime": {
     "end_time": "2019-05-20T13:26:20.819524Z",
     "start_time": "2019-05-20T13:26:20.791485Z"
    }
   },
   "outputs": [
    {
     "name": "stdout",
     "output_type": "stream",
     "text": [
      "---------------------------\n",
      "shape (4749, 55)\n",
      "startDate 2003/04/30\n",
      "endDate 2019/04/03\n"
     ]
    }
   ],
   "source": [
    "result =pd.merge( featureFI,featureDF_nw, how='outer', on='date')\n",
    "getStartEndDateShape(result)"
   ]
  },
  {
   "cell_type": "code",
   "execution_count": 47,
   "metadata": {
    "ExecuteTime": {
     "end_time": "2019-05-20T13:26:20.843523Z",
     "start_time": "2019-05-20T13:26:20.819524Z"
    }
   },
   "outputs": [
    {
     "name": "stdout",
     "output_type": "stream",
     "text": [
      "---------------------------\n",
      "shape (5004, 79)\n",
      "startDate 2003/04/30\n",
      "endDate 2019/04/04\n"
     ]
    }
   ],
   "source": [
    "result =pd.merge( result,featureDF_tw, how='outer', on='date')\n",
    "getStartEndDateShape(result)"
   ]
  },
  {
   "cell_type": "code",
   "execution_count": 48,
   "metadata": {
    "ExecuteTime": {
     "end_time": "2019-05-20T13:26:20.851482Z",
     "start_time": "2019-05-20T13:26:20.843523Z"
    }
   },
   "outputs": [],
   "source": [
    "#start only scaling engineered features"
   ]
  },
  {
   "cell_type": "code",
   "execution_count": 49,
   "metadata": {
    "ExecuteTime": {
     "end_time": "2019-05-20T13:26:20.887482Z",
     "start_time": "2019-05-20T13:26:20.851482Z"
    }
   },
   "outputs": [],
   "source": [
    "resultScaled =result.copy()"
   ]
  },
  {
   "cell_type": "code",
   "execution_count": 50,
   "metadata": {
    "ExecuteTime": {
     "end_time": "2019-05-20T13:26:20.899483Z",
     "start_time": "2019-05-20T13:26:20.887482Z"
    }
   },
   "outputs": [],
   "source": [
    "tdate= resultScaled.date.tolist()\n",
    "ttarget = resultScaled.Target.tolist()\n",
    "resultScaled.drop(['date','Target'],axis =1,inplace=True)"
   ]
  },
  {
   "cell_type": "code",
   "execution_count": 51,
   "metadata": {
    "ExecuteTime": {
     "end_time": "2019-05-20T13:26:20.947482Z",
     "start_time": "2019-05-20T13:26:20.899483Z"
    }
   },
   "outputs": [],
   "source": [
    "scale = StandardScaler()\n",
    "resultScaled = pd.DataFrame(scale.fit_transform(resultScaled.values), columns=resultScaled.columns, index=resultScaled.index)"
   ]
  },
  {
   "cell_type": "code",
   "execution_count": 52,
   "metadata": {
    "ExecuteTime": {
     "end_time": "2019-05-20T13:26:20.959482Z",
     "start_time": "2019-05-20T13:26:20.947482Z"
    }
   },
   "outputs": [],
   "source": [
    "resultScaled['date'] = tdate\n",
    "resultScaled['target'] = ttarget"
   ]
  },
  {
   "cell_type": "code",
   "execution_count": 53,
   "metadata": {
    "ExecuteTime": {
     "end_time": "2019-05-20T13:26:21.031482Z",
     "start_time": "2019-05-20T13:26:20.959482Z"
    }
   },
   "outputs": [
    {
     "name": "stdout",
     "output_type": "stream",
     "text": [
      "---------------------------\n",
      "shape (5004, 847)\n",
      "startDate 2003/04/30\n",
      "endDate 2019/04/04\n"
     ]
    }
   ],
   "source": [
    "resultScaled =pd.merge( resultScaled,bert_featureDF_nw, how='outer', on='date')\n",
    "getStartEndDateShape(resultScaled)"
   ]
  },
  {
   "cell_type": "code",
   "execution_count": 54,
   "metadata": {
    "ExecuteTime": {
     "end_time": "2019-05-20T13:26:21.107482Z",
     "start_time": "2019-05-20T13:26:21.031482Z"
    }
   },
   "outputs": [
    {
     "name": "stdout",
     "output_type": "stream",
     "text": [
      "---------------------------\n",
      "shape (5004, 1615)\n",
      "startDate 2003/04/30\n",
      "endDate 2019/04/04\n"
     ]
    }
   ],
   "source": [
    "resultScaled =pd.merge( resultScaled,bert_featureDF_tw, how='outer', on='date')\n",
    "getStartEndDateShape(resultScaled)"
   ]
  },
  {
   "cell_type": "code",
   "execution_count": 55,
   "metadata": {
    "ExecuteTime": {
     "end_time": "2019-05-20T13:26:21.287482Z",
     "start_time": "2019-05-20T13:26:21.107482Z"
    }
   },
   "outputs": [],
   "source": [
    "resultScaled.sort_values(by='date',inplace=True) \n",
    "resultScaled = resultScaled.ffill()\n",
    "resultScaled.fillna(0,inplace=True)"
   ]
  },
  {
   "cell_type": "code",
   "execution_count": 56,
   "metadata": {
    "ExecuteTime": {
     "end_time": "2019-05-20T13:26:21.295483Z",
     "start_time": "2019-05-20T13:26:21.287482Z"
    }
   },
   "outputs": [],
   "source": [
    "resultScaled.date = pd.to_datetime(resultScaled.date)"
   ]
  },
  {
   "cell_type": "code",
   "execution_count": 57,
   "metadata": {
    "ExecuteTime": {
     "end_time": "2019-05-20T13:26:21.303482Z",
     "start_time": "2019-05-20T13:26:21.295483Z"
    }
   },
   "outputs": [],
   "source": [
    "#end only scaling engineered features"
   ]
  },
  {
   "cell_type": "code",
   "execution_count": 58,
   "metadata": {
    "ExecuteTime": {
     "end_time": "2019-05-20T13:26:21.383483Z",
     "start_time": "2019-05-20T13:26:21.303482Z"
    }
   },
   "outputs": [
    {
     "name": "stdout",
     "output_type": "stream",
     "text": [
      "---------------------------\n",
      "shape (5004, 847)\n",
      "startDate 2003/04/30\n",
      "endDate 2019/04/04\n"
     ]
    }
   ],
   "source": [
    "result =pd.merge( result,bert_featureDF_nw, how='outer', on='date')\n",
    "getStartEndDateShape(result)"
   ]
  },
  {
   "cell_type": "code",
   "execution_count": 59,
   "metadata": {
    "ExecuteTime": {
     "end_time": "2019-05-20T13:26:21.463483Z",
     "start_time": "2019-05-20T13:26:21.383483Z"
    }
   },
   "outputs": [
    {
     "name": "stdout",
     "output_type": "stream",
     "text": [
      "---------------------------\n",
      "shape (5004, 1615)\n",
      "startDate 2003/04/30\n",
      "endDate 2019/04/04\n"
     ]
    }
   ],
   "source": [
    "result =pd.merge( result,bert_featureDF_tw, how='outer', on='date')\n",
    "getStartEndDateShape(result)"
   ]
  },
  {
   "cell_type": "code",
   "execution_count": 60,
   "metadata": {
    "ExecuteTime": {
     "end_time": "2019-05-20T13:26:21.587482Z",
     "start_time": "2019-05-20T13:26:21.463483Z"
    }
   },
   "outputs": [],
   "source": [
    "result.sort_values(by='date',inplace=True) "
   ]
  },
  {
   "cell_type": "code",
   "execution_count": 61,
   "metadata": {
    "ExecuteTime": {
     "end_time": "2019-05-20T13:26:21.719483Z",
     "start_time": "2019-05-20T13:26:21.587482Z"
    }
   },
   "outputs": [],
   "source": [
    "result = result.ffill()\n",
    "result = result.bfill()\n",
    "result.fillna(0,inplace=True)"
   ]
  },
  {
   "cell_type": "code",
   "execution_count": 62,
   "metadata": {
    "ExecuteTime": {
     "end_time": "2019-05-20T13:26:21.731483Z",
     "start_time": "2019-05-20T13:26:21.723483Z"
    }
   },
   "outputs": [],
   "source": [
    "result.date = pd.to_datetime(result.date)"
   ]
  },
  {
   "cell_type": "code",
   "execution_count": 63,
   "metadata": {
    "ExecuteTime": {
     "end_time": "2019-05-20T13:26:21.751482Z",
     "start_time": "2019-05-20T13:26:21.735483Z"
    }
   },
   "outputs": [],
   "source": [
    "#start non Scaled Data Prep"
   ]
  },
  {
   "cell_type": "code",
   "execution_count": 64,
   "metadata": {
    "ExecuteTime": {
     "end_time": "2019-05-20T13:26:21.783483Z",
     "start_time": "2019-05-20T13:26:21.751482Z"
    }
   },
   "outputs": [],
   "source": [
    "resultNonScaledData = result.copy()"
   ]
  },
  {
   "cell_type": "code",
   "execution_count": 65,
   "metadata": {
    "ExecuteTime": {
     "end_time": "2019-05-20T13:26:21.791483Z",
     "start_time": "2019-05-20T13:26:21.783483Z"
    }
   },
   "outputs": [],
   "source": [
    "#end non Scaled Data Prep"
   ]
  },
  {
   "cell_type": "code",
   "execution_count": 66,
   "metadata": {
    "ExecuteTime": {
     "end_time": "2019-05-20T13:26:21.863483Z",
     "start_time": "2019-05-20T13:26:21.791483Z"
    }
   },
   "outputs": [],
   "source": [
    "date= result.date.tolist()\n",
    "target = result.Target.tolist()\n",
    "result.drop(['date','Target'],axis =1,inplace=True)"
   ]
  },
  {
   "cell_type": "code",
   "execution_count": 67,
   "metadata": {
    "ExecuteTime": {
     "end_time": "2019-05-20T13:26:22.127482Z",
     "start_time": "2019-05-20T13:26:21.863483Z"
    }
   },
   "outputs": [],
   "source": [
    "scale = StandardScaler()\n",
    "result = pd.DataFrame(scale.fit_transform(result.values), columns=result.columns, index=result.index)"
   ]
  },
  {
   "cell_type": "code",
   "execution_count": 68,
   "metadata": {
    "ExecuteTime": {
     "end_time": "2019-05-20T13:26:22.139483Z",
     "start_time": "2019-05-20T13:26:22.127482Z"
    }
   },
   "outputs": [],
   "source": [
    "result['date'] = date\n",
    "result['target'] = target"
   ]
  },
  {
   "cell_type": "code",
   "execution_count": 69,
   "metadata": {
    "ExecuteTime": {
     "end_time": "2019-05-20T13:26:38.519504Z",
     "start_time": "2019-05-20T13:26:22.139483Z"
    }
   },
   "outputs": [],
   "source": [
    "# Save data with without scaling\n",
    "result.to_csv('DFScaledNTFI_with_scaling.csv',index= False)"
   ]
  },
  {
   "cell_type": "markdown",
   "metadata": {},
   "source": [
    "# Test and Train Split"
   ]
  },
  {
   "cell_type": "code",
   "execution_count": 70,
   "metadata": {
    "ExecuteTime": {
     "end_time": "2019-05-20T13:26:38.647504Z",
     "start_time": "2019-05-20T13:26:38.519504Z"
    }
   },
   "outputs": [],
   "source": [
    "result =  createComparableDataset(result)\n",
    "train , test = createTrainingAndTestingSet(result)"
   ]
  },
  {
   "cell_type": "code",
   "execution_count": 71,
   "metadata": {
    "ExecuteTime": {
     "end_time": "2019-05-20T13:26:38.667505Z",
     "start_time": "2019-05-20T13:26:38.647504Z"
    }
   },
   "outputs": [
    {
     "name": "stdout",
     "output_type": "stream",
     "text": [
      "---------------------------\n",
      "shape (1336, 1615)\n",
      "startDate 2015-05-04 00:00:00\n",
      "endDate 2018-12-31 00:00:00\n",
      "---------------------------\n",
      "shape (87, 1615)\n",
      "startDate 2019-01-01 00:00:00\n",
      "endDate 2019-03-28 00:00:00\n"
     ]
    }
   ],
   "source": [
    "getStartEndDateShape(train)\n",
    "getStartEndDateShape(test)"
   ]
  },
  {
   "cell_type": "code",
   "execution_count": 72,
   "metadata": {
    "ExecuteTime": {
     "end_time": "2019-05-20T13:26:43.495509Z",
     "start_time": "2019-05-20T13:26:38.667505Z"
    }
   },
   "outputs": [],
   "source": [
    "train.to_csv('train_bert_tnfi.csv',index=False)\n",
    "test.to_csv('test_bert_tnfi.csv',index=False)"
   ]
  },
  {
   "cell_type": "code",
   "execution_count": 73,
   "metadata": {
    "ExecuteTime": {
     "end_time": "2019-05-20T13:26:43.499510Z",
     "start_time": "2019-05-20T13:26:43.495509Z"
    }
   },
   "outputs": [],
   "source": [
    "#start only scaling engineered features"
   ]
  },
  {
   "cell_type": "code",
   "execution_count": 74,
   "metadata": {
    "ExecuteTime": {
     "end_time": "2019-05-20T13:26:43.551512Z",
     "start_time": "2019-05-20T13:26:43.499510Z"
    }
   },
   "outputs": [],
   "source": [
    "result= createComparableDataset(resultScaled)\n",
    "train_s , test_s = createTrainingAndTestingSet(result)"
   ]
  },
  {
   "cell_type": "code",
   "execution_count": 75,
   "metadata": {
    "ExecuteTime": {
     "end_time": "2019-05-20T13:26:43.567513Z",
     "start_time": "2019-05-20T13:26:43.551512Z"
    }
   },
   "outputs": [
    {
     "name": "stdout",
     "output_type": "stream",
     "text": [
      "---------------------------\n",
      "shape (1336, 1615)\n",
      "startDate 2015-05-04 00:00:00\n",
      "endDate 2018-12-31 00:00:00\n",
      "---------------------------\n",
      "shape (87, 1615)\n",
      "startDate 2019-01-01 00:00:00\n",
      "endDate 2019-03-28 00:00:00\n"
     ]
    }
   ],
   "source": [
    "getStartEndDateShape(train_s)\n",
    "getStartEndDateShape(test_s)"
   ]
  },
  {
   "cell_type": "code",
   "execution_count": null,
   "metadata": {},
   "outputs": [],
   "source": [
    "train_s"
   ]
  },
  {
   "cell_type": "code",
   "execution_count": 38,
   "metadata": {
    "ExecuteTime": {
     "end_time": "2019-05-20T13:23:01.955954Z",
     "start_time": "2019-05-20T13:22:56.983948Z"
    }
   },
   "outputs": [],
   "source": [
    "train_s.to_csv('train_SEFnNSB_bert_tnfi.csv',index=False)\n",
    "test_s.to_csv('test_SEFnNSB_bert_tnfi.csv',index=False)"
   ]
  },
  {
   "cell_type": "code",
   "execution_count": 39,
   "metadata": {
    "ExecuteTime": {
     "end_time": "2019-05-01T01:46:52.217881Z",
     "start_time": "2019-05-01T01:46:52.213890Z"
    }
   },
   "outputs": [],
   "source": [
    "#end only scaling engineered features"
   ]
  },
  {
   "cell_type": "code",
   "execution_count": 40,
   "metadata": {
    "ExecuteTime": {
     "end_time": "2019-05-01T01:46:52.232959Z",
     "start_time": "2019-05-01T01:46:52.221869Z"
    }
   },
   "outputs": [],
   "source": [
    "#start only non-scaled dataset"
   ]
  },
  {
   "cell_type": "code",
   "execution_count": 41,
   "metadata": {
    "ExecuteTime": {
     "end_time": "2019-05-01T01:46:52.299687Z",
     "start_time": "2019-05-01T01:46:52.235834Z"
    }
   },
   "outputs": [],
   "source": [
    "resultNonScaledData = createComparableDataset(resultNonScaledData)\n",
    "train_ns, test_ns  = createTrainingAndTestingSet(result)"
   ]
  },
  {
   "cell_type": "code",
   "execution_count": 42,
   "metadata": {
    "ExecuteTime": {
     "end_time": "2019-05-01T01:46:52.311629Z",
     "start_time": "2019-05-01T01:46:52.301657Z"
    }
   },
   "outputs": [
    {
     "name": "stdout",
     "output_type": "stream",
     "text": [
      "---------------------------\n",
      "shape (1336, 1615)\n",
      "startDate 2015-05-04 00:00:00\n",
      "endDate 2018-12-31 00:00:00\n",
      "---------------------------\n",
      "shape (87, 1615)\n",
      "startDate 2019-01-01 00:00:00\n",
      "endDate 2019-03-28 00:00:00\n"
     ]
    }
   ],
   "source": [
    "getStartEndDateShape(train_ns)\n",
    "getStartEndDateShape(test_ns)"
   ]
  },
  {
   "cell_type": "code",
   "execution_count": 45,
   "metadata": {
    "ExecuteTime": {
     "end_time": "2019-05-01T01:59:12.288873Z",
     "start_time": "2019-05-01T01:59:08.246524Z"
    }
   },
   "outputs": [],
   "source": [
    "train_ns.to_csv('train_nS_bert_tnfi.csv',index=False)\n",
    "test_ns.to_csv('test_nS_bert_tnfi.csv',index=False)"
   ]
  },
  {
   "cell_type": "code",
   "execution_count": 44,
   "metadata": {
    "ExecuteTime": {
     "end_time": "2019-05-01T01:47:00.359111Z",
     "start_time": "2019-05-01T01:47:00.355121Z"
    }
   },
   "outputs": [],
   "source": [
    "#end only non-scaled dataset"
   ]
  },
  {
   "cell_type": "code",
   "execution_count": null,
   "metadata": {},
   "outputs": [],
   "source": []
  }
 ],
 "metadata": {
  "hide_input": false,
  "kernelspec": {
   "display_name": "Python 3",
   "language": "python",
   "name": "python3"
  },
  "language_info": {
   "codemirror_mode": {
    "name": "ipython",
    "version": 3
   },
   "file_extension": ".py",
   "mimetype": "text/x-python",
   "name": "python",
   "nbconvert_exporter": "python",
   "pygments_lexer": "ipython3",
   "version": "3.6.8"
  },
  "toc": {
   "base_numbering": 1,
   "nav_menu": {},
   "number_sections": true,
   "sideBar": true,
   "skip_h1_title": false,
   "title_cell": "Table of Contents",
   "title_sidebar": "Contents",
   "toc_cell": false,
   "toc_position": {},
   "toc_section_display": true,
   "toc_window_display": false
  }
 },
 "nbformat": 4,
 "nbformat_minor": 2
}
