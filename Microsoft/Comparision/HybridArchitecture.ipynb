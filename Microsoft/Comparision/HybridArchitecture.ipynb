{
 "cells": [
  {
   "cell_type": "code",
   "execution_count": 1,
   "metadata": {
    "ExecuteTime": {
     "end_time": "2019-05-20T21:33:10.301595Z",
     "start_time": "2019-05-20T21:33:08.538332Z"
    }
   },
   "outputs": [],
   "source": [
    "import pandas as pd\n",
    "import numpy as np\n",
    "\n",
    "import matplotlib.pyplot as plt\n",
    "import seaborn as sns\n",
    "from textblob import TextBlob\n",
    "\n",
    "import glob\n",
    "import os\n",
    "from sklearn.model_selection import cross_val_score\n",
    "\n",
    "import abc\n",
    "import numpy as np\n",
    "\n",
    "import pandas as pd\n",
    "import abc\n",
    "import re\n",
    "import nltk\n",
    "from sklearn import model_selection \n",
    "from sklearn.preprocessing import StandardScaler\n",
    "%matplotlib inline"
   ]
  },
  {
   "cell_type": "code",
   "execution_count": 2,
   "metadata": {
    "ExecuteTime": {
     "end_time": "2019-05-20T21:33:10.333548Z",
     "start_time": "2019-05-20T21:33:10.303590Z"
    }
   },
   "outputs": [],
   "source": [
    "\n",
    "import time\n",
    "import numpy as np\n",
    "\n",
    "import datetime\n",
    "import seaborn as sns\n",
    "\n",
    "import matplotlib.pyplot as plt\n",
    "%matplotlib inline\n",
    "from sklearn.decomposition import PCA\n",
    "\n",
    "import math\n",
    "\n",
    "from sklearn.preprocessing import MinMaxScaler\n",
    "from sklearn.metrics import mean_squared_error\n",
    "from sklearn.preprocessing import StandardScaler\n",
    "\n",
    "import xgboost as xgb\n",
    "from sklearn.metrics import accuracy_score"
   ]
  },
  {
   "cell_type": "code",
   "execution_count": 3,
   "metadata": {
    "ExecuteTime": {
     "end_time": "2019-05-20T21:33:10.338517Z",
     "start_time": "2019-05-20T21:33:10.334507Z"
    }
   },
   "outputs": [],
   "source": [
    "from sklearn.model_selection import learning_curve\n",
    "from sklearn.model_selection import ShuffleSplit\n",
    "import matplotlib.pyplot as plt\n",
    "from sklearn.model_selection import cross_validate\n",
    "from sklearn.model_selection import GridSearchCV\n",
    "from sklearn.metrics import confusion_matrix\n",
    "from sklearn.metrics import accuracy_score"
   ]
  },
  {
   "cell_type": "code",
   "execution_count": 4,
   "metadata": {
    "ExecuteTime": {
     "end_time": "2019-05-20T21:33:10.401369Z",
     "start_time": "2019-05-20T21:33:10.341491Z"
    }
   },
   "outputs": [],
   "source": [
    "import pandas as pd\n",
    "import numpy as np\n",
    "from dateutil.parser import parse\n",
    "import datetime\n",
    "import missingno as mn\n",
    "import pylab as plt\n",
    "from sklearn import model_selection\n",
    "from sklearn.ensemble import RandomForestClassifier\n",
    "from sklearn.metrics import confusion_matrix, accuracy_score, classification_report\n",
    "from sklearn.feature_selection import VarianceThreshold\n",
    "from statsmodels.stats.outliers_influence import variance_inflation_factor"
   ]
  },
  {
   "cell_type": "code",
   "execution_count": 5,
   "metadata": {
    "ExecuteTime": {
     "end_time": "2019-05-20T21:33:10.408356Z",
     "start_time": "2019-05-20T21:33:10.403324Z"
    }
   },
   "outputs": [],
   "source": [
    "from sklearn.ensemble import AdaBoostClassifier\n",
    "from sklearn.ensemble import GradientBoostingClassifier\n",
    "from sklearn.linear_model import LogisticRegression\n",
    "from sklearn.naive_bayes import GaussianNB\n",
    "from sklearn.ensemble import RandomForestClassifier\n",
    "from sklearn.ensemble import VotingClassifier"
   ]
  },
  {
   "cell_type": "code",
   "execution_count": 6,
   "metadata": {
    "ExecuteTime": {
     "end_time": "2019-05-20T21:33:10.420285Z",
     "start_time": "2019-05-20T21:33:10.409308Z"
    }
   },
   "outputs": [],
   "source": [
    "import pandas as pd\n",
    "import numpy as np\n",
    "import missingno as mn"
   ]
  },
  {
   "cell_type": "code",
   "execution_count": 138,
   "metadata": {
    "ExecuteTime": {
     "end_time": "2019-05-20T22:11:42.639782Z",
     "start_time": "2019-05-20T22:11:42.559958Z"
    }
   },
   "outputs": [],
   "source": [
    "featureDF_nw = pd.read_csv('nw_feature_woText_MSFT.csv')\n",
    "featureDF_tw = pd.read_csv('tw_feature_woText_MSFT.csv')\n",
    "targetDF_ = pd.read_csv('FIwithTargetwithFTT.csv')"
   ]
  },
  {
   "cell_type": "code",
   "execution_count": 139,
   "metadata": {
    "ExecuteTime": {
     "end_time": "2019-05-20T22:11:42.864510Z",
     "start_time": "2019-05-20T22:11:42.860514Z"
    }
   },
   "outputs": [],
   "source": [
    "def createComparableDataset(_df):\n",
    "    _df.date = pd.to_datetime(_df.date)\n",
    "    _df = _df[_df['date'] >= pd.to_datetime('2015/05/04')]\n",
    "    _df = _df[_df['date'] <= pd.to_datetime('2019/03/28')]\n",
    "    return _df"
   ]
  },
  {
   "cell_type": "code",
   "execution_count": 140,
   "metadata": {
    "ExecuteTime": {
     "end_time": "2019-05-20T22:11:43.109518Z",
     "start_time": "2019-05-20T22:11:43.104503Z"
    }
   },
   "outputs": [],
   "source": [
    "def prepareDataSet(_df):\n",
    "    _df.date = pd.to_datetime(_df.date)\n",
    "    train = _df[_df['date'] < pd.to_datetime('2019/01/01')]\n",
    "    test = _df[_df['date'] >= pd.to_datetime('2019/01/01')]\n",
    "    \n",
    "    train, train_y = getFeaturesAndTargetRemoveDate(train)\n",
    "    test, test_y = getFeaturesAndTargetRemoveDate(test)\n",
    "    return train, train_y,test, test_y"
   ]
  },
  {
   "cell_type": "code",
   "execution_count": 141,
   "metadata": {
    "ExecuteTime": {
     "end_time": "2019-05-20T22:11:43.418797Z",
     "start_time": "2019-05-20T22:11:43.414833Z"
    }
   },
   "outputs": [],
   "source": [
    "def createTrainingAndTestingSet(_df):\n",
    "    train = _df[_df['date'] < pd.to_datetime('2019/01/01')]\n",
    "    test = _df[_df['date'] >= pd.to_datetime('2019/01/01')]\n",
    "    return train ,test"
   ]
  },
  {
   "cell_type": "code",
   "execution_count": 142,
   "metadata": {
    "ExecuteTime": {
     "end_time": "2019-05-20T22:11:43.866992Z",
     "start_time": "2019-05-20T22:11:43.862987Z"
    }
   },
   "outputs": [],
   "source": [
    "def getStartEndDateShape(dfz):\n",
    "    startDate = str(min(dfz['date']))\n",
    "    endDate = str(max(dfz['date']))\n",
    "    print('startDate', startDate)\n",
    "    print('endDate', endDate)\n",
    "    print('shape', dfz.shape)\n",
    "    print('---------------------------')"
   ]
  },
  {
   "cell_type": "code",
   "execution_count": 143,
   "metadata": {
    "ExecuteTime": {
     "end_time": "2019-05-20T22:11:44.148627Z",
     "start_time": "2019-05-20T22:11:44.144610Z"
    }
   },
   "outputs": [],
   "source": [
    "def getFeaturesAndTargetRemoveDate(_df):\n",
    "    try:\n",
    "        train_y = _df['target']\n",
    "        train = _df.drop(['date','target'],axis =1)\n",
    "    except:\n",
    "        train_y = _df['Target']\n",
    "        train = _df.drop(['date','Target'],axis =1)        \n",
    "    return train, train_y"
   ]
  },
  {
   "cell_type": "code",
   "execution_count": 144,
   "metadata": {
    "ExecuteTime": {
     "end_time": "2019-05-20T22:11:44.475353Z",
     "start_time": "2019-05-20T22:11:44.467400Z"
    }
   },
   "outputs": [
    {
     "name": "stdout",
     "output_type": "stream",
     "text": [
      "startDate 2004/07/21\n",
      "endDate 2019/03/28\n",
      "shape (4020, 24)\n",
      "---------------------------\n",
      "startDate 2015/05/04\n",
      "endDate 2019/04/04\n",
      "shape (1426, 25)\n",
      "---------------------------\n",
      "startDate 2003/04/30\n",
      "endDate 2019/04/03\n",
      "shape (4010, 32)\n",
      "---------------------------\n"
     ]
    }
   ],
   "source": [
    "getStartEndDateShape(featureDF_nw)\n",
    "getStartEndDateShape(featureDF_tw)\n",
    "getStartEndDateShape(targetDF_)"
   ]
  },
  {
   "cell_type": "code",
   "execution_count": 145,
   "metadata": {
    "ExecuteTime": {
     "end_time": "2019-05-20T22:11:44.741142Z",
     "start_time": "2019-05-20T22:11:44.734157Z"
    }
   },
   "outputs": [],
   "source": [
    "targtWithDateForJoin =pd.DataFrame()\n",
    "targtWithDateForJoin['date'] = targetDF_.date.tolist()\n",
    "targtWithDateForJoin['target'] = targetDF_.Target.tolist()"
   ]
  },
  {
   "cell_type": "markdown",
   "metadata": {
    "ExecuteTime": {
     "end_time": "2019-04-11T05:59:14.290447Z",
     "start_time": "2019-04-11T05:59:14.286449Z"
    }
   },
   "source": [
    "# Formulation of overall data"
   ]
  },
  {
   "cell_type": "code",
   "execution_count": 146,
   "metadata": {
    "ExecuteTime": {
     "end_time": "2019-05-20T22:11:45.319062Z",
     "start_time": "2019-05-20T22:11:45.309099Z"
    }
   },
   "outputs": [],
   "source": [
    "featureDF_nw.date = pd.to_datetime(featureDF_nw.date)\n",
    "targtWithDateForJoin.date = pd.to_datetime(targtWithDateForJoin.date)\n",
    "featureDF_tw.date = pd.to_datetime(featureDF_tw.date)\n",
    "targetDF_.date = pd.to_datetime(targetDF_.date)"
   ]
  },
  {
   "cell_type": "code",
   "execution_count": 147,
   "metadata": {
    "ExecuteTime": {
     "end_time": "2019-05-20T22:11:45.931561Z",
     "start_time": "2019-05-20T22:11:45.642139Z"
    }
   },
   "outputs": [],
   "source": [
    "featureDF_nw= createComparableDataset(featureDF_nw)\n",
    "targtWithDateForJoin=createComparableDataset(targtWithDateForJoin)\n",
    "featureDF_tw=createComparableDataset(featureDF_tw)\n",
    "targetDF_=createComparableDataset(targetDF_)\n",
    "targetDF_.rename(columns={'Target':'target'}, inplace=True)"
   ]
  },
  {
   "cell_type": "code",
   "execution_count": 148,
   "metadata": {
    "ExecuteTime": {
     "end_time": "2019-05-20T22:11:45.974053Z",
     "start_time": "2019-05-20T22:11:45.955104Z"
    }
   },
   "outputs": [
    {
     "name": "stdout",
     "output_type": "stream",
     "text": [
      "startDate 2015-05-04 00:00:00\n",
      "endDate 2019-03-28 00:00:00\n",
      "shape (1027, 24)\n",
      "---------------------------\n",
      "startDate 2015-05-04 00:00:00\n",
      "endDate 2019-03-28 00:00:00\n",
      "shape (1419, 25)\n",
      "---------------------------\n",
      "startDate 2015-05-04 00:00:00\n",
      "endDate 2019-03-28 00:00:00\n",
      "shape (983, 32)\n",
      "---------------------------\n"
     ]
    }
   ],
   "source": [
    "getStartEndDateShape(featureDF_nw)\n",
    "getStartEndDateShape(featureDF_tw)\n",
    "getStartEndDateShape(targetDF_)"
   ]
  },
  {
   "cell_type": "code",
   "execution_count": 149,
   "metadata": {
    "ExecuteTime": {
     "end_time": "2019-05-20T22:11:46.220289Z",
     "start_time": "2019-05-20T22:11:46.209292Z"
    }
   },
   "outputs": [],
   "source": [
    "result =pd.merge( targetDF_,featureDF_nw, how='outer', on='date')"
   ]
  },
  {
   "cell_type": "code",
   "execution_count": 150,
   "metadata": {
    "ExecuteTime": {
     "end_time": "2019-05-20T22:11:46.499248Z",
     "start_time": "2019-05-20T22:11:46.489282Z"
    }
   },
   "outputs": [
    {
     "name": "stdout",
     "output_type": "stream",
     "text": [
      "startDate 2015-05-04 00:00:00\n",
      "endDate 2019-03-28 00:00:00\n",
      "shape (1171, 55)\n",
      "---------------------------\n"
     ]
    }
   ],
   "source": [
    "getStartEndDateShape(result)"
   ]
  },
  {
   "cell_type": "code",
   "execution_count": 151,
   "metadata": {
    "ExecuteTime": {
     "end_time": "2019-05-20T22:11:46.811254Z",
     "start_time": "2019-05-20T22:11:46.798249Z"
    }
   },
   "outputs": [],
   "source": [
    "result =pd.merge( result,featureDF_tw, how='outer', on='date')"
   ]
  },
  {
   "cell_type": "code",
   "execution_count": 152,
   "metadata": {
    "ExecuteTime": {
     "end_time": "2019-05-20T22:11:47.102053Z",
     "start_time": "2019-05-20T22:11:47.092078Z"
    }
   },
   "outputs": [
    {
     "name": "stdout",
     "output_type": "stream",
     "text": [
      "startDate 2015-05-04 00:00:00\n",
      "endDate 2019-03-28 00:00:00\n",
      "shape (1423, 79)\n",
      "---------------------------\n"
     ]
    }
   ],
   "source": [
    "getStartEndDateShape(result)"
   ]
  },
  {
   "cell_type": "code",
   "execution_count": 153,
   "metadata": {
    "ExecuteTime": {
     "end_time": "2019-05-20T22:11:47.374757Z",
     "start_time": "2019-05-20T22:11:47.367784Z"
    }
   },
   "outputs": [],
   "source": [
    "result.sort_values(by='date',inplace=True) "
   ]
  },
  {
   "cell_type": "code",
   "execution_count": 154,
   "metadata": {
    "ExecuteTime": {
     "end_time": "2019-05-20T22:11:47.703040Z",
     "start_time": "2019-05-20T22:11:47.697017Z"
    }
   },
   "outputs": [],
   "source": [
    "result = result.ffill()\n",
    "result.fillna(0,inplace=True)"
   ]
  },
  {
   "cell_type": "code",
   "execution_count": 155,
   "metadata": {
    "ExecuteTime": {
     "end_time": "2019-05-20T22:11:48.031714Z",
     "start_time": "2019-05-20T22:11:48.008754Z"
    }
   },
   "outputs": [
    {
     "data": {
      "text/html": [
       "<div>\n",
       "<style scoped>\n",
       "    .dataframe tbody tr th:only-of-type {\n",
       "        vertical-align: middle;\n",
       "    }\n",
       "\n",
       "    .dataframe tbody tr th {\n",
       "        vertical-align: top;\n",
       "    }\n",
       "\n",
       "    .dataframe thead th {\n",
       "        text-align: right;\n",
       "    }\n",
       "</style>\n",
       "<table border=\"1\" class=\"dataframe\">\n",
       "  <thead>\n",
       "    <tr style=\"text-align: right;\">\n",
       "      <th></th>\n",
       "      <th>Open</th>\n",
       "      <th>High</th>\n",
       "      <th>Low</th>\n",
       "      <th>Close</th>\n",
       "      <th>Adj Close</th>\n",
       "      <th>Volume</th>\n",
       "      <th>sma2</th>\n",
       "      <th>sma2_1</th>\n",
       "      <th>sma2_increment</th>\n",
       "      <th>sma2_1_increment</th>\n",
       "      <th>...</th>\n",
       "      <th>disgust_y</th>\n",
       "      <th>anticipation_y</th>\n",
       "      <th>fear_y</th>\n",
       "      <th>trust_y</th>\n",
       "      <th>tb_polarity_y</th>\n",
       "      <th>tb_subjectivity_y</th>\n",
       "      <th>hiv4_positive_y</th>\n",
       "      <th>hiv4_negative_y</th>\n",
       "      <th>hiv4_polarity_y</th>\n",
       "      <th>hiv4_subjectivity_y</th>\n",
       "    </tr>\n",
       "  </thead>\n",
       "  <tbody>\n",
       "    <tr>\n",
       "      <th>0</th>\n",
       "      <td>48.369999</td>\n",
       "      <td>48.869999</td>\n",
       "      <td>48.180000</td>\n",
       "      <td>48.240002</td>\n",
       "      <td>44.072769</td>\n",
       "      <td>34039500.0</td>\n",
       "      <td>48.475001</td>\n",
       "      <td>48.640002</td>\n",
       "      <td>-0.165001</td>\n",
       "      <td>-0.069999</td>\n",
       "      <td>...</td>\n",
       "      <td>0.0</td>\n",
       "      <td>0.002845</td>\n",
       "      <td>0.0</td>\n",
       "      <td>0.000000</td>\n",
       "      <td>2.400000</td>\n",
       "      <td>2.383333</td>\n",
       "      <td>5.0</td>\n",
       "      <td>2.0</td>\n",
       "      <td>2.333331</td>\n",
       "      <td>0.589387</td>\n",
       "    </tr>\n",
       "    <tr>\n",
       "      <th>1</th>\n",
       "      <td>47.820000</td>\n",
       "      <td>48.160000</td>\n",
       "      <td>47.310001</td>\n",
       "      <td>47.599998</td>\n",
       "      <td>43.488049</td>\n",
       "      <td>50369200.0</td>\n",
       "      <td>48.095000</td>\n",
       "      <td>48.475001</td>\n",
       "      <td>-0.380001</td>\n",
       "      <td>-0.165001</td>\n",
       "      <td>...</td>\n",
       "      <td>0.0</td>\n",
       "      <td>0.003759</td>\n",
       "      <td>0.0</td>\n",
       "      <td>0.000000</td>\n",
       "      <td>0.000000</td>\n",
       "      <td>0.300000</td>\n",
       "      <td>3.0</td>\n",
       "      <td>2.0</td>\n",
       "      <td>0.666666</td>\n",
       "      <td>0.326007</td>\n",
       "    </tr>\n",
       "    <tr>\n",
       "      <th>2</th>\n",
       "      <td>47.570000</td>\n",
       "      <td>47.770000</td>\n",
       "      <td>46.020000</td>\n",
       "      <td>46.279999</td>\n",
       "      <td>42.282074</td>\n",
       "      <td>52433000.0</td>\n",
       "      <td>47.695000</td>\n",
       "      <td>48.095000</td>\n",
       "      <td>-0.400000</td>\n",
       "      <td>-0.380001</td>\n",
       "      <td>...</td>\n",
       "      <td>0.0</td>\n",
       "      <td>0.000522</td>\n",
       "      <td>0.0</td>\n",
       "      <td>0.000000</td>\n",
       "      <td>1.250947</td>\n",
       "      <td>7.171212</td>\n",
       "      <td>19.0</td>\n",
       "      <td>5.0</td>\n",
       "      <td>7.999995</td>\n",
       "      <td>3.123412</td>\n",
       "    </tr>\n",
       "    <tr>\n",
       "      <th>3</th>\n",
       "      <td>46.270000</td>\n",
       "      <td>47.090000</td>\n",
       "      <td>46.160000</td>\n",
       "      <td>46.700001</td>\n",
       "      <td>42.665791</td>\n",
       "      <td>32971700.0</td>\n",
       "      <td>46.920000</td>\n",
       "      <td>47.695000</td>\n",
       "      <td>-0.775000</td>\n",
       "      <td>-0.400000</td>\n",
       "      <td>...</td>\n",
       "      <td>0.0</td>\n",
       "      <td>0.000573</td>\n",
       "      <td>0.0</td>\n",
       "      <td>0.000573</td>\n",
       "      <td>0.322159</td>\n",
       "      <td>3.534091</td>\n",
       "      <td>2.0</td>\n",
       "      <td>7.0</td>\n",
       "      <td>-3.999997</td>\n",
       "      <td>1.258474</td>\n",
       "    </tr>\n",
       "    <tr>\n",
       "      <th>4</th>\n",
       "      <td>47.549999</td>\n",
       "      <td>47.980000</td>\n",
       "      <td>47.520000</td>\n",
       "      <td>47.750000</td>\n",
       "      <td>43.625092</td>\n",
       "      <td>35364900.0</td>\n",
       "      <td>46.909999</td>\n",
       "      <td>46.920000</td>\n",
       "      <td>-0.010001</td>\n",
       "      <td>-0.775000</td>\n",
       "      <td>...</td>\n",
       "      <td>0.0</td>\n",
       "      <td>0.000548</td>\n",
       "      <td>0.0</td>\n",
       "      <td>0.000000</td>\n",
       "      <td>0.325000</td>\n",
       "      <td>0.962500</td>\n",
       "      <td>11.0</td>\n",
       "      <td>6.0</td>\n",
       "      <td>2.333332</td>\n",
       "      <td>1.455759</td>\n",
       "    </tr>\n",
       "  </tbody>\n",
       "</table>\n",
       "<p>5 rows × 79 columns</p>\n",
       "</div>"
      ],
      "text/plain": [
       "        Open       High        Low      Close  Adj Close      Volume  \\\n",
       "0  48.369999  48.869999  48.180000  48.240002  44.072769  34039500.0   \n",
       "1  47.820000  48.160000  47.310001  47.599998  43.488049  50369200.0   \n",
       "2  47.570000  47.770000  46.020000  46.279999  42.282074  52433000.0   \n",
       "3  46.270000  47.090000  46.160000  46.700001  42.665791  32971700.0   \n",
       "4  47.549999  47.980000  47.520000  47.750000  43.625092  35364900.0   \n",
       "\n",
       "        sma2     sma2_1  sma2_increment  sma2_1_increment  ...  disgust_y  \\\n",
       "0  48.475001  48.640002       -0.165001         -0.069999  ...        0.0   \n",
       "1  48.095000  48.475001       -0.380001         -0.165001  ...        0.0   \n",
       "2  47.695000  48.095000       -0.400000         -0.380001  ...        0.0   \n",
       "3  46.920000  47.695000       -0.775000         -0.400000  ...        0.0   \n",
       "4  46.909999  46.920000       -0.010001         -0.775000  ...        0.0   \n",
       "\n",
       "   anticipation_y  fear_y   trust_y  tb_polarity_y  tb_subjectivity_y  \\\n",
       "0        0.002845     0.0  0.000000       2.400000           2.383333   \n",
       "1        0.003759     0.0  0.000000       0.000000           0.300000   \n",
       "2        0.000522     0.0  0.000000       1.250947           7.171212   \n",
       "3        0.000573     0.0  0.000573       0.322159           3.534091   \n",
       "4        0.000548     0.0  0.000000       0.325000           0.962500   \n",
       "\n",
       "   hiv4_positive_y  hiv4_negative_y  hiv4_polarity_y  hiv4_subjectivity_y  \n",
       "0              5.0              2.0         2.333331             0.589387  \n",
       "1              3.0              2.0         0.666666             0.326007  \n",
       "2             19.0              5.0         7.999995             3.123412  \n",
       "3              2.0              7.0        -3.999997             1.258474  \n",
       "4             11.0              6.0         2.333332             1.455759  \n",
       "\n",
       "[5 rows x 79 columns]"
      ]
     },
     "execution_count": 155,
     "metadata": {},
     "output_type": "execute_result"
    }
   ],
   "source": [
    "result.head(5)"
   ]
  },
  {
   "cell_type": "code",
   "execution_count": 156,
   "metadata": {
    "ExecuteTime": {
     "end_time": "2019-05-20T22:11:48.335714Z",
     "start_time": "2019-05-20T22:11:48.309784Z"
    }
   },
   "outputs": [
    {
     "data": {
      "text/html": [
       "<div>\n",
       "<style scoped>\n",
       "    .dataframe tbody tr th:only-of-type {\n",
       "        vertical-align: middle;\n",
       "    }\n",
       "\n",
       "    .dataframe tbody tr th {\n",
       "        vertical-align: top;\n",
       "    }\n",
       "\n",
       "    .dataframe thead th {\n",
       "        text-align: right;\n",
       "    }\n",
       "</style>\n",
       "<table border=\"1\" class=\"dataframe\">\n",
       "  <thead>\n",
       "    <tr style=\"text-align: right;\">\n",
       "      <th></th>\n",
       "      <th>Open</th>\n",
       "      <th>High</th>\n",
       "      <th>Low</th>\n",
       "      <th>Close</th>\n",
       "      <th>Adj Close</th>\n",
       "      <th>Volume</th>\n",
       "      <th>sma2</th>\n",
       "      <th>sma2_1</th>\n",
       "      <th>sma2_increment</th>\n",
       "      <th>sma2_1_increment</th>\n",
       "      <th>...</th>\n",
       "      <th>disgust_y</th>\n",
       "      <th>anticipation_y</th>\n",
       "      <th>fear_y</th>\n",
       "      <th>trust_y</th>\n",
       "      <th>tb_polarity_y</th>\n",
       "      <th>tb_subjectivity_y</th>\n",
       "      <th>hiv4_positive_y</th>\n",
       "      <th>hiv4_negative_y</th>\n",
       "      <th>hiv4_polarity_y</th>\n",
       "      <th>hiv4_subjectivity_y</th>\n",
       "    </tr>\n",
       "  </thead>\n",
       "  <tbody>\n",
       "    <tr>\n",
       "      <th>1092</th>\n",
       "      <td>119.500000</td>\n",
       "      <td>119.589996</td>\n",
       "      <td>117.040001</td>\n",
       "      <td>117.050003</td>\n",
       "      <td>117.050003</td>\n",
       "      <td>33624500.0</td>\n",
       "      <td>118.319999</td>\n",
       "      <td>117.264999</td>\n",
       "      <td>1.055001</td>\n",
       "      <td>-0.474998</td>\n",
       "      <td>...</td>\n",
       "      <td>12.0</td>\n",
       "      <td>0.001662</td>\n",
       "      <td>0.000345</td>\n",
       "      <td>0.001552</td>\n",
       "      <td>54.011847</td>\n",
       "      <td>133.276238</td>\n",
       "      <td>565.0</td>\n",
       "      <td>273.0</td>\n",
       "      <td>99.701533</td>\n",
       "      <td>75.265758</td>\n",
       "    </tr>\n",
       "    <tr>\n",
       "      <th>979</th>\n",
       "      <td>116.559998</td>\n",
       "      <td>118.010002</td>\n",
       "      <td>116.320000</td>\n",
       "      <td>117.660004</td>\n",
       "      <td>117.660004</td>\n",
       "      <td>27067100.0</td>\n",
       "      <td>118.029999</td>\n",
       "      <td>118.319999</td>\n",
       "      <td>-0.290000</td>\n",
       "      <td>1.055001</td>\n",
       "      <td>...</td>\n",
       "      <td>4.0</td>\n",
       "      <td>0.001268</td>\n",
       "      <td>0.000215</td>\n",
       "      <td>0.000933</td>\n",
       "      <td>21.654621</td>\n",
       "      <td>77.138890</td>\n",
       "      <td>361.0</td>\n",
       "      <td>156.0</td>\n",
       "      <td>62.624211</td>\n",
       "      <td>41.045214</td>\n",
       "    </tr>\n",
       "    <tr>\n",
       "      <th>980</th>\n",
       "      <td>118.620003</td>\n",
       "      <td>118.709999</td>\n",
       "      <td>116.849998</td>\n",
       "      <td>117.910004</td>\n",
       "      <td>117.910004</td>\n",
       "      <td>26097700.0</td>\n",
       "      <td>117.590000</td>\n",
       "      <td>118.029999</td>\n",
       "      <td>-0.439999</td>\n",
       "      <td>-0.290000</td>\n",
       "      <td>...</td>\n",
       "      <td>19.0</td>\n",
       "      <td>0.001762</td>\n",
       "      <td>0.000370</td>\n",
       "      <td>0.001193</td>\n",
       "      <td>98.739210</td>\n",
       "      <td>286.580670</td>\n",
       "      <td>1363.0</td>\n",
       "      <td>625.0</td>\n",
       "      <td>248.350599</td>\n",
       "      <td>147.048014</td>\n",
       "    </tr>\n",
       "    <tr>\n",
       "      <th>981</th>\n",
       "      <td>117.879997</td>\n",
       "      <td>118.209999</td>\n",
       "      <td>115.519997</td>\n",
       "      <td>116.769997</td>\n",
       "      <td>116.769997</td>\n",
       "      <td>22733400.0</td>\n",
       "      <td>118.250000</td>\n",
       "      <td>117.590000</td>\n",
       "      <td>0.659999</td>\n",
       "      <td>-0.439999</td>\n",
       "      <td>...</td>\n",
       "      <td>17.0</td>\n",
       "      <td>0.001513</td>\n",
       "      <td>0.000332</td>\n",
       "      <td>0.001175</td>\n",
       "      <td>110.125758</td>\n",
       "      <td>283.081651</td>\n",
       "      <td>1428.0</td>\n",
       "      <td>565.0</td>\n",
       "      <td>244.546184</td>\n",
       "      <td>132.279292</td>\n",
       "    </tr>\n",
       "    <tr>\n",
       "      <th>982</th>\n",
       "      <td>117.440002</td>\n",
       "      <td>117.580002</td>\n",
       "      <td>116.129997</td>\n",
       "      <td>116.930000</td>\n",
       "      <td>116.930000</td>\n",
       "      <td>18334800.0</td>\n",
       "      <td>117.659999</td>\n",
       "      <td>118.250000</td>\n",
       "      <td>-0.590001</td>\n",
       "      <td>0.659999</td>\n",
       "      <td>...</td>\n",
       "      <td>27.0</td>\n",
       "      <td>0.001972</td>\n",
       "      <td>0.000315</td>\n",
       "      <td>0.001134</td>\n",
       "      <td>101.462943</td>\n",
       "      <td>299.296855</td>\n",
       "      <td>1406.0</td>\n",
       "      <td>590.0</td>\n",
       "      <td>267.852539</td>\n",
       "      <td>148.186288</td>\n",
       "    </tr>\n",
       "  </tbody>\n",
       "</table>\n",
       "<p>5 rows × 79 columns</p>\n",
       "</div>"
      ],
      "text/plain": [
       "            Open        High         Low       Close   Adj Close      Volume  \\\n",
       "1092  119.500000  119.589996  117.040001  117.050003  117.050003  33624500.0   \n",
       "979   116.559998  118.010002  116.320000  117.660004  117.660004  27067100.0   \n",
       "980   118.620003  118.709999  116.849998  117.910004  117.910004  26097700.0   \n",
       "981   117.879997  118.209999  115.519997  116.769997  116.769997  22733400.0   \n",
       "982   117.440002  117.580002  116.129997  116.930000  116.930000  18334800.0   \n",
       "\n",
       "            sma2      sma2_1  sma2_increment  sma2_1_increment  ...  \\\n",
       "1092  118.319999  117.264999        1.055001         -0.474998  ...   \n",
       "979   118.029999  118.319999       -0.290000          1.055001  ...   \n",
       "980   117.590000  118.029999       -0.439999         -0.290000  ...   \n",
       "981   118.250000  117.590000        0.659999         -0.439999  ...   \n",
       "982   117.659999  118.250000       -0.590001          0.659999  ...   \n",
       "\n",
       "      disgust_y  anticipation_y    fear_y   trust_y  tb_polarity_y  \\\n",
       "1092       12.0        0.001662  0.000345  0.001552      54.011847   \n",
       "979         4.0        0.001268  0.000215  0.000933      21.654621   \n",
       "980        19.0        0.001762  0.000370  0.001193      98.739210   \n",
       "981        17.0        0.001513  0.000332  0.001175     110.125758   \n",
       "982        27.0        0.001972  0.000315  0.001134     101.462943   \n",
       "\n",
       "      tb_subjectivity_y  hiv4_positive_y  hiv4_negative_y  hiv4_polarity_y  \\\n",
       "1092         133.276238            565.0            273.0        99.701533   \n",
       "979           77.138890            361.0            156.0        62.624211   \n",
       "980          286.580670           1363.0            625.0       248.350599   \n",
       "981          283.081651           1428.0            565.0       244.546184   \n",
       "982          299.296855           1406.0            590.0       267.852539   \n",
       "\n",
       "      hiv4_subjectivity_y  \n",
       "1092            75.265758  \n",
       "979             41.045214  \n",
       "980            147.048014  \n",
       "981            132.279292  \n",
       "982            148.186288  \n",
       "\n",
       "[5 rows x 79 columns]"
      ]
     },
     "execution_count": 156,
     "metadata": {},
     "output_type": "execute_result"
    }
   ],
   "source": [
    "result.tail(5)"
   ]
  },
  {
   "cell_type": "code",
   "execution_count": 157,
   "metadata": {
    "ExecuteTime": {
     "end_time": "2019-05-20T22:11:48.774813Z",
     "start_time": "2019-05-20T22:11:48.611252Z"
    }
   },
   "outputs": [],
   "source": [
    "# Save data with without scaling\n",
    "result.to_csv('OverAllDataset_wo_scaling.csv',index= False)"
   ]
  },
  {
   "cell_type": "code",
   "execution_count": 158,
   "metadata": {
    "ExecuteTime": {
     "end_time": "2019-05-20T22:11:48.953433Z",
     "start_time": "2019-05-20T22:11:48.943466Z"
    }
   },
   "outputs": [
    {
     "name": "stdout",
     "output_type": "stream",
     "text": [
      "startDate 2015-05-04 00:00:00\n",
      "endDate 2019-03-28 00:00:00\n",
      "shape (1423, 79)\n",
      "---------------------------\n"
     ]
    }
   ],
   "source": [
    "getStartEndDateShape(result)"
   ]
  },
  {
   "cell_type": "code",
   "execution_count": 159,
   "metadata": {
    "ExecuteTime": {
     "end_time": "2019-05-20T22:11:49.300852Z",
     "start_time": "2019-05-20T22:11:49.291850Z"
    }
   },
   "outputs": [],
   "source": [
    "date= result.date.tolist()\n",
    "target = result.target.tolist()\n",
    "result.drop(['date','target'],axis =1,inplace=True)"
   ]
  },
  {
   "cell_type": "code",
   "execution_count": 160,
   "metadata": {
    "ExecuteTime": {
     "end_time": "2019-05-20T22:11:49.628947Z",
     "start_time": "2019-05-20T22:11:49.619970Z"
    }
   },
   "outputs": [],
   "source": [
    "scale = StandardScaler()\n",
    "result = pd.DataFrame(scale.fit_transform(result.values), columns=result.columns, index=result.index)"
   ]
  },
  {
   "cell_type": "code",
   "execution_count": 161,
   "metadata": {
    "ExecuteTime": {
     "end_time": "2019-05-20T22:11:49.922195Z",
     "start_time": "2019-05-20T22:11:49.917176Z"
    }
   },
   "outputs": [],
   "source": [
    "result['date'] = date\n",
    "result['Target'] = target"
   ]
  },
  {
   "cell_type": "code",
   "execution_count": 162,
   "metadata": {
    "ExecuteTime": {
     "end_time": "2019-05-20T22:11:50.459633Z",
     "start_time": "2019-05-20T22:11:50.255108Z"
    }
   },
   "outputs": [],
   "source": [
    "# Save data with without scaling                   \n",
    "result.to_csv('OverAllDataset_with_scaling.csv',index= False)\n"
   ]
  },
  {
   "cell_type": "code",
   "execution_count": 163,
   "metadata": {
    "ExecuteTime": {
     "end_time": "2019-05-20T22:11:50.529200Z",
     "start_time": "2019-05-20T22:11:50.518229Z"
    }
   },
   "outputs": [
    {
     "name": "stdout",
     "output_type": "stream",
     "text": [
      "startDate 2015-05-04 00:00:00\n",
      "endDate 2019-03-28 00:00:00\n",
      "shape (1423, 79)\n",
      "---------------------------\n"
     ]
    }
   ],
   "source": [
    "getStartEndDateShape(result)"
   ]
  },
  {
   "cell_type": "markdown",
   "metadata": {},
   "source": [
    "# Training and Test Split"
   ]
  },
  {
   "cell_type": "code",
   "execution_count": 164,
   "metadata": {
    "ExecuteTime": {
     "end_time": "2019-05-20T22:11:51.077934Z",
     "start_time": "2019-05-20T22:11:51.069957Z"
    }
   },
   "outputs": [],
   "source": [
    "train,test = createTrainingAndTestingSet(result)"
   ]
  },
  {
   "cell_type": "code",
   "execution_count": 165,
   "metadata": {
    "ExecuteTime": {
     "end_time": "2019-05-20T22:11:51.412042Z",
     "start_time": "2019-05-20T22:11:51.401087Z"
    }
   },
   "outputs": [
    {
     "name": "stdout",
     "output_type": "stream",
     "text": [
      "startDate 2015-05-04 00:00:00\n",
      "endDate 2018-12-31 00:00:00\n",
      "shape (1336, 79)\n",
      "---------------------------\n",
      "startDate 2019-01-01 00:00:00\n",
      "endDate 2019-03-28 00:00:00\n",
      "shape (87, 79)\n",
      "---------------------------\n"
     ]
    }
   ],
   "source": [
    "getStartEndDateShape(train)\n",
    "getStartEndDateShape(test)"
   ]
  },
  {
   "cell_type": "code",
   "execution_count": 166,
   "metadata": {
    "ExecuteTime": {
     "end_time": "2019-05-20T22:11:51.952208Z",
     "start_time": "2019-05-20T22:11:51.739647Z"
    }
   },
   "outputs": [],
   "source": [
    "train.to_csv('train_tw_nw_fi.csv',index=False)\n",
    "test.to_csv('test_tw_nw_fi.csv',index=False)"
   ]
  },
  {
   "cell_type": "code",
   "execution_count": 167,
   "metadata": {
    "ExecuteTime": {
     "end_time": "2019-05-20T22:11:52.222954Z",
     "start_time": "2019-05-20T22:11:52.184022Z"
    }
   },
   "outputs": [],
   "source": [
    "nonScaledDataset = pd.read_csv('OverAllDataset_wo_scaling.csv')\n",
    "nonScaledDataset.date = pd.to_datetime(nonScaledDataset.date)"
   ]
  },
  {
   "cell_type": "code",
   "execution_count": 168,
   "metadata": {
    "ExecuteTime": {
     "end_time": "2019-05-20T22:11:53.593321Z",
     "start_time": "2019-05-20T22:11:53.586336Z"
    }
   },
   "outputs": [],
   "source": [
    "train_en, test_en = createTrainingAndTestingSet(nonScaledDataset)"
   ]
  },
  {
   "cell_type": "code",
   "execution_count": 169,
   "metadata": {
    "ExecuteTime": {
     "end_time": "2019-05-20T22:11:54.218221Z",
     "start_time": "2019-05-20T22:11:54.206250Z"
    }
   },
   "outputs": [
    {
     "name": "stdout",
     "output_type": "stream",
     "text": [
      "startDate 2015-05-04 00:00:00\n",
      "endDate 2018-12-31 00:00:00\n",
      "shape (1336, 79)\n",
      "---------------------------\n",
      "startDate 2019-01-01 00:00:00\n",
      "endDate 2019-03-28 00:00:00\n",
      "shape (87, 79)\n",
      "---------------------------\n"
     ]
    }
   ],
   "source": [
    "getStartEndDateShape(train_en)\n",
    "getStartEndDateShape(test_en)"
   ]
  },
  {
   "cell_type": "code",
   "execution_count": 170,
   "metadata": {
    "ExecuteTime": {
     "end_time": "2019-05-20T22:11:55.002772Z",
     "start_time": "2019-05-20T22:11:54.789190Z"
    }
   },
   "outputs": [],
   "source": [
    "train_en.to_csv('train_ns_tw_nw_fi.csv',index= False)\n",
    "test_en.to_csv('test_ns_tw_nw_fi.csv',index= False)"
   ]
  },
  {
   "cell_type": "markdown",
   "metadata": {
    "ExecuteTime": {
     "end_time": "2019-04-10T02:52:08.923857Z",
     "start_time": "2019-04-10T02:52:08.920847Z"
    }
   },
   "source": [
    "# NEWS RandomForest- NonScaled"
   ]
  },
  {
   "cell_type": "code",
   "execution_count": 200,
   "metadata": {
    "ExecuteTime": {
     "end_time": "2019-05-20T22:15:58.692492Z",
     "start_time": "2019-05-20T22:15:58.680472Z"
    }
   },
   "outputs": [],
   "source": [
    "featureDF_nw.date = pd.to_datetime(featureDF_nw.date)\n",
    "targtWithDateForJoin.date = pd.to_datetime(targtWithDateForJoin.date)\n",
    "result =pd.merge(featureDF_nw, targtWithDateForJoin, how='left', on='date')"
   ]
  },
  {
   "cell_type": "code",
   "execution_count": 201,
   "metadata": {
    "ExecuteTime": {
     "end_time": "2019-05-20T22:15:59.131410Z",
     "start_time": "2019-05-20T22:15:59.124430Z"
    }
   },
   "outputs": [],
   "source": [
    "result.sort_values(by='date',inplace=True) "
   ]
  },
  {
   "cell_type": "code",
   "execution_count": 202,
   "metadata": {
    "ExecuteTime": {
     "end_time": "2019-05-20T22:15:59.418815Z",
     "start_time": "2019-05-20T22:15:59.414799Z"
    }
   },
   "outputs": [],
   "source": [
    "result['target'] = result['target'].ffill()"
   ]
  },
  {
   "cell_type": "code",
   "execution_count": 203,
   "metadata": {
    "ExecuteTime": {
     "end_time": "2019-05-20T22:15:59.707930Z",
     "start_time": "2019-05-20T22:15:59.704939Z"
    }
   },
   "outputs": [],
   "source": [
    "_ens_News_NonScaled_FE = result"
   ]
  },
  {
   "cell_type": "code",
   "execution_count": 204,
   "metadata": {
    "ExecuteTime": {
     "end_time": "2019-05-20T22:15:59.983456Z",
     "start_time": "2019-05-20T22:15:59.973513Z"
    }
   },
   "outputs": [],
   "source": [
    "#train and test split\n",
    "train_nw, test_nw = createTrainingAndTestingSet(result)\n",
    "\n",
    "train_nw_y = train_nw['target']\n",
    "test_nw_y = test_nw['target']\n"
   ]
  },
  {
   "cell_type": "code",
   "execution_count": 205,
   "metadata": {
    "ExecuteTime": {
     "end_time": "2019-05-20T22:16:00.307777Z",
     "start_time": "2019-05-20T22:16:00.298802Z"
    }
   },
   "outputs": [
    {
     "name": "stdout",
     "output_type": "stream",
     "text": [
      "startDate 2015-05-04 00:00:00\n",
      "endDate 2018-12-30 00:00:00\n",
      "shape (961, 25)\n",
      "---------------------------\n",
      "startDate 2019-01-03 00:00:00\n",
      "endDate 2019-03-28 00:00:00\n",
      "shape (66, 25)\n",
      "---------------------------\n"
     ]
    }
   ],
   "source": [
    "getStartEndDateShape(train_nw)\n",
    "getStartEndDateShape(test_nw)"
   ]
  },
  {
   "cell_type": "code",
   "execution_count": 206,
   "metadata": {
    "ExecuteTime": {
     "end_time": "2019-05-20T22:16:02.101089Z",
     "start_time": "2019-05-20T22:16:01.602860Z"
    }
   },
   "outputs": [
    {
     "name": "stderr",
     "output_type": "stream",
     "text": [
      "C:\\Users\\praveen ji\\Anaconda3\\envs\\tf_gpu\\lib\\site-packages\\pandas\\core\\frame.py:3940: SettingWithCopyWarning: \n",
      "A value is trying to be set on a copy of a slice from a DataFrame\n",
      "\n",
      "See the caveats in the documentation: http://pandas.pydata.org/pandas-docs/stable/indexing.html#indexing-view-versus-copy\n",
      "  errors=errors)\n"
     ]
    }
   ],
   "source": [
    "\n",
    "train_nw.drop(['date','target'],axis=1,inplace=True)\n",
    "test_nw.drop(['date','target'],axis=1,inplace=True)"
   ]
  },
  {
   "cell_type": "code",
   "execution_count": 207,
   "metadata": {
    "ExecuteTime": {
     "end_time": "2019-05-20T22:16:02.364848Z",
     "start_time": "2019-05-20T22:16:02.358867Z"
    }
   },
   "outputs": [
    {
     "name": "stdout",
     "output_type": "stream",
     "text": [
      "train_nw (961, 23) test_nw (66, 23) len(train_nw_y) 961 len(test_nw_y) 66\n"
     ]
    }
   ],
   "source": [
    "print('train_nw',train_nw.shape,'test_nw',test_nw.shape,'len(train_nw_y)',len(train_nw_y),'len(test_nw_y)',len(test_nw_y))"
   ]
  },
  {
   "cell_type": "code",
   "execution_count": 208,
   "metadata": {
    "ExecuteTime": {
     "end_time": "2019-05-20T22:16:04.048460Z",
     "start_time": "2019-05-20T22:16:04.044490Z"
    }
   },
   "outputs": [],
   "source": [
    "# Naive Bayes for Baseline\n",
    "from sklearn.naive_bayes import GaussianNB\n",
    "def NaiveBayes(train_features , train_labels, test_features,test_labels):\n",
    "    gnb = GaussianNB()\n",
    "    y_pred = gnb.fit(train_features, train_labels).predict(test_features)\n",
    "    print('accuracy_score',accuracy_score(y_pred, test_labels))\n",
    "    print('classification_score\\n',classification_report(y_pred, test_labels))\n",
    "    return gnb\n",
    "    "
   ]
  },
  {
   "cell_type": "code",
   "execution_count": 209,
   "metadata": {
    "ExecuteTime": {
     "end_time": "2019-05-20T22:16:04.436087Z",
     "start_time": "2019-05-20T22:16:04.431101Z"
    }
   },
   "outputs": [],
   "source": [
    "def plotImportanceOfFeature(features,clf):\n",
    "    importances = clf.feature_importances_\n",
    "    indices = np.argsort(importances)\n",
    "\n",
    "    plt.title('Feature Importances')\n",
    "    plt.barh(range(len(indices)), importances[indices], color='b', align='center')\n",
    "    plt.yticks(range(len(indices)), [features[i] for i in indices])\n",
    "    plt.xlabel('Relative Importance')\n",
    "    plt.show()"
   ]
  },
  {
   "cell_type": "code",
   "execution_count": 210,
   "metadata": {
    "ExecuteTime": {
     "end_time": "2019-05-20T22:16:04.946177Z",
     "start_time": "2019-05-20T22:16:04.940210Z"
    }
   },
   "outputs": [],
   "source": [
    "def corelationPlot (df_):\n",
    "    corr = df_.corr()\n",
    "    fig = plt.figure()\n",
    "    ax = fig.add_subplot(111)\n",
    "    cax = ax.matshow(corr,cmap='coolwarm', vmin=-1, vmax=1)\n",
    "    fig.colorbar(cax)\n",
    "    ticks = np.arange(0,len(df_.columns),1)\n",
    "    ax.set_xticks(ticks)\n",
    "    plt.xticks(rotation=90)\n",
    "    ax.set_yticks(ticks)\n",
    "    ax.set_xticklabels(df_.columns)\n",
    "    ax.set_yticklabels(df_.columns)\n",
    "    plt.show()"
   ]
  },
  {
   "cell_type": "code",
   "execution_count": 211,
   "metadata": {
    "ExecuteTime": {
     "end_time": "2019-05-20T22:16:05.212322Z",
     "start_time": "2019-05-20T22:16:05.204371Z"
    }
   },
   "outputs": [],
   "source": [
    "def vif_RemoveHiglyCorelatedFeatures(_df,_dfTest,corPlot = False):\n",
    "    vif = pd.DataFrame()\n",
    "    vif[\"VIF Factor\"] = [variance_inflation_factor(_df.values, i) for i in range(_df.values.shape[1])]\n",
    "    vif.round(1)\n",
    "    while max(vif[\"VIF Factor\"])>10:\n",
    "        vif = pd.DataFrame()\n",
    "        vif[\"VIF Factor\"] = [variance_inflation_factor(_df.values, i) for i in range(_df.values.shape[1])]\n",
    "        vif.round(1)\n",
    "        dropCol = [_df.columns[np.argmax(vif[\"VIF Factor\"])]]\n",
    "        _df.drop(columns=dropCol, inplace=True)\n",
    "        _dfTest.drop(columns=dropCol, inplace=True)\n",
    "        if corPlot:\n",
    "            corelationPlot (_df)"
   ]
  },
  {
   "cell_type": "code",
   "execution_count": 212,
   "metadata": {
    "ExecuteTime": {
     "end_time": "2019-05-20T22:16:05.513259Z",
     "start_time": "2019-05-20T22:16:05.505282Z"
    }
   },
   "outputs": [],
   "source": [
    "def cCMatrixAccRF(train_features , train_labels, test_features,test_labels, features, dispImpOfFeature = False):\n",
    "#         train_features, test_features, train_labels, test_labels= model_selection.train_test_split( featureDF , targetValue, test_size=0.1, random_state=0)\n",
    "\n",
    "        rf_model =RandomForestClassifier(n_estimators=5000, max_depth=4,random_state=0)\n",
    "        rf_model.fit(train_features, train_labels)\n",
    "        y_predicted=rf_model.predict(test_features)\n",
    "        print('++++++++++++++++++++++++++++++++++++++++++++++++++++++++++++++++++++++++++++++++++++++++++++++++' )\n",
    "        \n",
    "        if dispImpOfFeature:\n",
    "            plotImportanceOfFeature(features, rf_model)\n",
    "        print('confusion_matrix',confusion_matrix(y_true=test_labels, y_pred=y_predicted))\n",
    "        print('number of datapoints in Up Class', test_labels.value_counts()[1])\n",
    "        print('number of datapoints in Down Class', test_labels.value_counts()[0])\n",
    "        print('accuracy_score',accuracy_score(y_predicted, test_labels))\n",
    "        print('classification_score\\n',classification_report(y_predicted, test_labels))\n",
    "        print('++++++++++++++++++++++++++++++++++++++++++++++++++++++++++++++++++++++++++++++++++++++++++++++++')\n",
    "        return rf_model\n",
    "#         return rf_model.predict(train_features),rf_model.predict(test_features)"
   ]
  },
  {
   "cell_type": "code",
   "execution_count": 213,
   "metadata": {
    "ExecuteTime": {
     "end_time": "2019-05-20T22:16:09.703712Z",
     "start_time": "2019-05-20T22:16:05.811825Z"
    },
    "scrolled": true
   },
   "outputs": [
    {
     "name": "stderr",
     "output_type": "stream",
     "text": [
      "C:\\Users\\praveen ji\\Anaconda3\\envs\\tf_gpu\\lib\\site-packages\\numpy\\core\\fromnumeric.py:56: FutureWarning: \n",
      "The current behaviour of 'Series.argmax' is deprecated, use 'idxmax'\n",
      "instead.\n",
      "The behavior of 'argmax' will be corrected to return the positional\n",
      "maximum in the future. For now, use 'series.values.argmax' or\n",
      "'np.argmax(np.array(values))' to get the position of the maximum\n",
      "row.\n",
      "  return getattr(obj, method)(*args, **kwds)\n"
     ]
    }
   ],
   "source": [
    "vif_RemoveHiglyCorelatedFeatures(train_nw,test_nw)"
   ]
  },
  {
   "cell_type": "code",
   "execution_count": 185,
   "metadata": {
    "ExecuteTime": {
     "end_time": "2019-05-20T22:12:21.771665Z",
     "start_time": "2019-05-20T22:12:21.766695Z"
    }
   },
   "outputs": [
    {
     "name": "stdout",
     "output_type": "stream",
     "text": [
      "train_nw (961, 16) test_nw (66, 16) len(train_nw_y) 961 len(test_nw_y) 66\n"
     ]
    }
   ],
   "source": [
    "print('train_nw',train_nw.shape,'test_nw',test_nw.shape,'len(train_nw_y)',len(train_nw_y),'len(test_nw_y)',len(test_nw_y))"
   ]
  },
  {
   "cell_type": "code",
   "execution_count": 186,
   "metadata": {
    "ExecuteTime": {
     "end_time": "2019-05-20T22:12:46.020790Z",
     "start_time": "2019-05-20T22:12:46.014806Z"
    }
   },
   "outputs": [
    {
     "data": {
      "text/plain": [
       "Index(['lm_positive', 'lm_negative', 'lm_polarity', 'passive', 'weak',\n",
       "       'strong', 'anger', 'joy', 'suprise', 'sadness', 'disgust',\n",
       "       'anticipation', 'fear', 'trust', 'tb_polarity', 'hiv4_polarity'],\n",
       "      dtype='object')"
      ]
     },
     "execution_count": 186,
     "metadata": {},
     "output_type": "execute_result"
    }
   ],
   "source": [
    "train_nw.columns"
   ]
  },
  {
   "cell_type": "code",
   "execution_count": 130,
   "metadata": {
    "ExecuteTime": {
     "end_time": "2019-05-20T22:01:26.739086Z",
     "start_time": "2019-05-20T22:01:26.728115Z"
    }
   },
   "outputs": [
    {
     "name": "stdout",
     "output_type": "stream",
     "text": [
      "accuracy_score 0.6212121212121212\n",
      "classification_score\n",
      "               precision    recall  f1-score   support\n",
      "\n",
      "         0.0       0.28      0.67      0.39        12\n",
      "         1.0       0.89      0.61      0.73        54\n",
      "\n",
      "   micro avg       0.62      0.62      0.62        66\n",
      "   macro avg       0.58      0.64      0.56        66\n",
      "weighted avg       0.78      0.62      0.66        66\n",
      "\n"
     ]
    }
   ],
   "source": [
    "news_model = NaiveBayes(train_nw , train_nw_y, test_nw,test_nw_y)"
   ]
  },
  {
   "cell_type": "code",
   "execution_count": 255,
   "metadata": {
    "ExecuteTime": {
     "end_time": "2019-05-20T22:31:15.960457Z",
     "start_time": "2019-05-20T22:31:15.946495Z"
    }
   },
   "outputs": [],
   "source": [
    "# save the model to disk\n",
    "filename = 'news_model.sav'\n",
    "pickle.dump(news_model, open(filename, 'wb'))"
   ]
  },
  {
   "cell_type": "markdown",
   "metadata": {},
   "source": [
    "# Financial Indicator RandomForest- Scaled"
   ]
  },
  {
   "cell_type": "code",
   "execution_count": 199,
   "metadata": {
    "ExecuteTime": {
     "end_time": "2019-05-20T22:15:28.967324Z",
     "start_time": "2019-05-20T22:15:28.962352Z"
    }
   },
   "outputs": [],
   "source": [
    "_ens_FI_Scaled_FE =fi_df_copy = targetDF_.copy()"
   ]
  },
  {
   "cell_type": "code",
   "execution_count": 188,
   "metadata": {
    "ExecuteTime": {
     "end_time": "2019-05-20T22:13:04.563944Z",
     "start_time": "2019-05-20T22:13:04.042350Z"
    }
   },
   "outputs": [
    {
     "name": "stdout",
     "output_type": "stream",
     "text": [
      "startDate 2015-05-04 00:00:00\n",
      "endDate 2018-12-31 00:00:00\n",
      "shape (923, 32)\n",
      "---------------------------\n",
      "startDate 2019-01-02 00:00:00\n",
      "endDate 2019-03-28 00:00:00\n",
      "shape (60, 32)\n",
      "---------------------------\n"
     ]
    },
    {
     "name": "stderr",
     "output_type": "stream",
     "text": [
      "C:\\Users\\praveen ji\\Anaconda3\\envs\\tf_gpu\\lib\\site-packages\\pandas\\core\\frame.py:3940: SettingWithCopyWarning: \n",
      "A value is trying to be set on a copy of a slice from a DataFrame\n",
      "\n",
      "See the caveats in the documentation: http://pandas.pydata.org/pandas-docs/stable/indexing.html#indexing-view-versus-copy\n",
      "  errors=errors)\n"
     ]
    }
   ],
   "source": [
    "train_fi, test_fi= createTrainingAndTestingSet(fi_df_copy)\n",
    "\n",
    "train_fi_y = train_fi['target']\n",
    "test_fi_y = test_fi['target']\n",
    "\n",
    "getStartEndDateShape(train_fi)\n",
    "getStartEndDateShape(test_fi)\n",
    "\n",
    "train_fi.drop(['date','target'],axis=1,inplace=True)\n",
    "test_fi.drop(['date','target'],axis=1,inplace=True)"
   ]
  },
  {
   "cell_type": "code",
   "execution_count": 189,
   "metadata": {
    "ExecuteTime": {
     "end_time": "2019-05-20T22:13:04.573930Z",
     "start_time": "2019-05-20T22:13:04.565937Z"
    }
   },
   "outputs": [
    {
     "name": "stdout",
     "output_type": "stream",
     "text": [
      "train_fi (923, 30) test_fi (60, 30) len(train_fi_y) 923 len(test_fi_y) 60\n"
     ]
    }
   ],
   "source": [
    "print('train_fi',train_fi.shape,'test_fi',test_fi.shape,'len(train_fi_y)',len(train_fi_y),'len(test_fi_y)',len(test_fi_y))"
   ]
  },
  {
   "cell_type": "code",
   "execution_count": 190,
   "metadata": {
    "ExecuteTime": {
     "end_time": "2019-05-20T22:13:16.029877Z",
     "start_time": "2019-05-20T22:13:05.175908Z"
    }
   },
   "outputs": [
    {
     "name": "stderr",
     "output_type": "stream",
     "text": [
      "C:\\Users\\praveen ji\\Anaconda3\\envs\\tf_gpu\\lib\\site-packages\\statsmodels\\stats\\outliers_influence.py:181: RuntimeWarning: divide by zero encountered in double_scalars\n",
      "  vif = 1. / (1. - r_squared_i)\n",
      "C:\\Users\\praveen ji\\Anaconda3\\envs\\tf_gpu\\lib\\site-packages\\numpy\\core\\fromnumeric.py:56: FutureWarning: \n",
      "The current behaviour of 'Series.argmax' is deprecated, use 'idxmax'\n",
      "instead.\n",
      "The behavior of 'argmax' will be corrected to return the positional\n",
      "maximum in the future. For now, use 'series.values.argmax' or\n",
      "'np.argmax(np.array(values))' to get the position of the maximum\n",
      "row.\n",
      "  return getattr(obj, method)(*args, **kwds)\n"
     ]
    }
   ],
   "source": [
    "vif_RemoveHiglyCorelatedFeatures(train_fi,test_fi)"
   ]
  },
  {
   "cell_type": "code",
   "execution_count": 191,
   "metadata": {
    "ExecuteTime": {
     "end_time": "2019-05-20T22:13:16.038865Z",
     "start_time": "2019-05-20T22:13:16.031888Z"
    }
   },
   "outputs": [],
   "source": [
    "scale = StandardScaler()\n",
    "train_fi = pd.DataFrame(scale.fit_transform(train_fi.values), columns=train_fi.columns, index=train_fi.index)\n",
    "scale = StandardScaler()\n",
    "test_fi = pd.DataFrame(scale.fit_transform(test_fi.values), columns=test_fi.columns, index=test_fi.index)"
   ]
  },
  {
   "cell_type": "code",
   "execution_count": 192,
   "metadata": {
    "ExecuteTime": {
     "end_time": "2019-05-20T22:13:16.048837Z",
     "start_time": "2019-05-20T22:13:16.040844Z"
    }
   },
   "outputs": [
    {
     "name": "stdout",
     "output_type": "stream",
     "text": [
      "train_fi (923, 9) test_fi (60, 9) len(train_fi_y) 923 len(test_fi_y) 60\n"
     ]
    }
   ],
   "source": [
    "print('train_fi',train_fi.shape,'test_fi',test_fi.shape,'len(train_fi_y)',len(train_fi_y),'len(test_fi_y)',len(test_fi_y))"
   ]
  },
  {
   "cell_type": "code",
   "execution_count": 193,
   "metadata": {
    "ExecuteTime": {
     "end_time": "2019-05-20T22:13:33.529759Z",
     "start_time": "2019-05-20T22:13:33.523802Z"
    }
   },
   "outputs": [
    {
     "data": {
      "text/plain": [
       "Index(['Volume', 'sma2_increment', 'sma2_1_increment', 'vol_increment',\n",
       "       'vol_rel_increment', 'open_incr', 'MACD', 'fft', 'absolute'],\n",
       "      dtype='object')"
      ]
     },
     "execution_count": 193,
     "metadata": {},
     "output_type": "execute_result"
    }
   ],
   "source": [
    "train_fi.columns"
   ]
  },
  {
   "cell_type": "code",
   "execution_count": 67,
   "metadata": {
    "ExecuteTime": {
     "end_time": "2019-05-20T21:33:16.155292Z",
     "start_time": "2019-05-20T21:33:16.136343Z"
    },
    "scrolled": true
   },
   "outputs": [
    {
     "name": "stdout",
     "output_type": "stream",
     "text": [
      "train_fi (923, 9) test_fi (60, 9) len(train_fi_y) 923 len(test_fi_y) 60\n"
     ]
    }
   ],
   "source": [
    "vif_RemoveHiglyCorelatedFeatures(train_fi,test_fi)\n",
    "print('train_fi',train_fi.shape,'test_fi',test_fi.shape,'len(train_fi_y)',len(train_fi_y),'len(test_fi_y)',len(test_fi_y))"
   ]
  },
  {
   "cell_type": "code",
   "execution_count": 259,
   "metadata": {
    "ExecuteTime": {
     "end_time": "2019-05-20T22:32:43.889286Z",
     "start_time": "2019-05-20T22:32:37.803556Z"
    }
   },
   "outputs": [
    {
     "name": "stdout",
     "output_type": "stream",
     "text": [
      "++++++++++++++++++++++++++++++++++++++++++++++++++++++++++++++++++++++++++++++++++++++++++++++++\n",
      "confusion_matrix [[22  3]\n",
      " [10 25]]\n",
      "number of datapoints in Up Class 35\n",
      "number of datapoints in Down Class 25\n",
      "accuracy_score 0.7833333333333333\n",
      "classification_score\n",
      "               precision    recall  f1-score   support\n",
      "\n",
      "           0       0.88      0.69      0.77        32\n",
      "           1       0.71      0.89      0.79        28\n",
      "\n",
      "   micro avg       0.78      0.78      0.78        60\n",
      "   macro avg       0.80      0.79      0.78        60\n",
      "weighted avg       0.80      0.78      0.78        60\n",
      "\n",
      "++++++++++++++++++++++++++++++++++++++++++++++++++++++++++++++++++++++++++++++++++++++++++++++++\n"
     ]
    }
   ],
   "source": [
    "features = list(train_fi.columns)\n",
    "fi_model = cCMatrixAccRF(train_fi , train_fi_y, test_fi,test_fi_y, features, False)"
   ]
  },
  {
   "cell_type": "code",
   "execution_count": 260,
   "metadata": {
    "ExecuteTime": {
     "end_time": "2019-05-20T22:32:54.412067Z",
     "start_time": "2019-05-20T22:32:54.222387Z"
    }
   },
   "outputs": [],
   "source": [
    "# save the model to disk\n",
    "filename = 'fi_model.sav'\n",
    "pickle.dump(fi_model, open(filename, 'wb'))"
   ]
  },
  {
   "cell_type": "markdown",
   "metadata": {},
   "source": [
    "# Twitter Model -BERT - Dense Neural Network"
   ]
  },
  {
   "cell_type": "code",
   "execution_count": 69,
   "metadata": {
    "ExecuteTime": {
     "end_time": "2019-05-20T21:33:23.544292Z",
     "start_time": "2019-05-20T21:33:22.278926Z"
    }
   },
   "outputs": [],
   "source": [
    "import tensorflow as tf\n",
    "import numpy as np\n",
    "import h5py\n",
    "import matplotlib.pyplot as plt\n",
    "from sklearn.metrics import confusion_matrix, accuracy_score, classification_report"
   ]
  },
  {
   "cell_type": "code",
   "execution_count": 70,
   "metadata": {
    "ExecuteTime": {
     "end_time": "2019-05-20T21:33:23.597918Z",
     "start_time": "2019-05-20T21:33:23.546051Z"
    }
   },
   "outputs": [
    {
     "name": "stderr",
     "output_type": "stream",
     "text": [
      "Using TensorFlow backend.\n"
     ]
    }
   ],
   "source": [
    "from sklearn.metrics import confusion_matrix, precision_score\n",
    "from sklearn.model_selection import train_test_split\n",
    "from keras.layers import Dense,Dropout\n",
    "from keras.models import Sequential\n",
    "from keras.regularizers import l2\n",
    "import matplotlib.pyplot as plt\n",
    "import pandas as pd\n",
    "import numpy as np\n",
    "import pandas as pd"
   ]
  },
  {
   "cell_type": "code",
   "execution_count": 71,
   "metadata": {
    "ExecuteTime": {
     "end_time": "2019-05-20T21:33:23.604882Z",
     "start_time": "2019-05-20T21:33:23.599870Z"
    }
   },
   "outputs": [],
   "source": [
    "import numpy\n",
    "from keras.models import Sequential\n",
    "from keras.layers import Dense\n",
    "from keras.layers import LSTM, Bidirectional , GRU , RepeatVector\n",
    "from keras.layers.convolutional import Conv1D\n",
    "from keras.layers.convolutional import MaxPooling1D\n",
    "from keras.layers.embeddings import Embedding\n",
    "from keras.preprocessing import sequence\n",
    "from keras.preprocessing.text import Tokenizer\n",
    "from keras.callbacks import ReduceLROnPlateau, ModelCheckpoint, EarlyStopping\n",
    "import pandas\n",
    "from keras.models import load_model\n",
    "from os.path import isfile\n",
    "import os\n",
    "from keras.optimizers import Adam\n",
    "import pickle"
   ]
  },
  {
   "cell_type": "code",
   "execution_count": 380,
   "metadata": {
    "ExecuteTime": {
     "end_time": "2019-05-20T23:22:51.067866Z",
     "start_time": "2019-05-20T23:22:51.061883Z"
    }
   },
   "outputs": [],
   "source": [
    "def DenseNetwork(featureLength):\n",
    "    #defifne a sequentail Model\n",
    "    model = Sequential()\n",
    "\n",
    "    #Hidden Layer-1\n",
    "    model.add(Dense(100,activation='relu',input_dim=featureLength,kernel_regularizer=l2(0.60)))\n",
    "    model.add(Dropout(0.3, noise_shape=None, seed=155))\n",
    "\n",
    "    #Hidden Layer-2\n",
    "    model.add(Dense(100,activation = 'relu',kernel_regularizer=l2(0.60)))\n",
    "    model.add(Dropout(0.3, noise_shape=None, seed=155))\n",
    "\n",
    "    #Output layer\n",
    "    model.add(Dense(1,activation='sigmoid'))\n",
    "    model.summary()\n",
    "    return model"
   ]
  },
  {
   "cell_type": "code",
   "execution_count": 250,
   "metadata": {
    "ExecuteTime": {
     "end_time": "2019-05-20T22:26:44.751887Z",
     "start_time": "2019-05-20T22:26:44.744907Z"
    }
   },
   "outputs": [],
   "source": [
    "def evaluateModelAndTestAccuracy(model,trainX, trainY, testX, testY,n_epoch):\n",
    "    \n",
    "    model.compile(optimizer='adam', loss='binary_crossentropy', metrics=['accuracy'])\n",
    "    history = model.fit(trainX, trainY, epochs=n_epoch, validation_split=0.1,batch_size=128, verbose=1,)\n",
    "    \n",
    "    results = model.evaluate(testX, testY)\n",
    "    \n",
    "    y_pred = model.predict_classes(testX)\n",
    "    print(\"Evaluation on test data: Loss - {0},  Acurracy - {1}\".format(results[0],str(results[1]*100)))\n",
    "    print('classification_score\\n',classification_report(y_pred, testY))\n",
    "    historyDict= {}\n",
    "    historyDict['history'] = history\n",
    "    historyDict['model'] = model\n",
    "    return historyDict"
   ]
  },
  {
   "cell_type": "code",
   "execution_count": 241,
   "metadata": {
    "ExecuteTime": {
     "end_time": "2019-05-20T22:24:11.589738Z",
     "start_time": "2019-05-20T22:24:11.583752Z"
    }
   },
   "outputs": [],
   "source": [
    "def vizModelMetric(historyDict,n_epoch):\n",
    "    history = historyDict['history']\n",
    "    plt.style.use(\"ggplot\")\n",
    "    plt.figure()\n",
    "    plt.plot(np.arange(0, n_epoch), history.history[\"loss\"], label=\"train_loss\")\n",
    "    plt.plot(np.arange(0, n_epoch), history.history[\"val_loss\"], label=\"val_loss\")\n",
    "    plt.plot(np.arange(0, n_epoch), history.history[\"acc\"], label=\"train_acc\")\n",
    "    plt.plot(np.arange(0, n_epoch), history.history[\"val_acc\"], label=\"val_acc\")\n",
    "    plt.title(\"Training Loss and Accuracy\")\n",
    "    plt.xlabel(\"Epoch #\")\n",
    "    plt.ylabel(\"Loss/Accuracy\")\n",
    "    plt.legend()\n",
    "    return historyDict['model']"
   ]
  },
  {
   "cell_type": "code",
   "execution_count": 242,
   "metadata": {
    "ExecuteTime": {
     "end_time": "2019-05-20T22:25:17.220349Z",
     "start_time": "2019-05-20T22:25:16.801334Z"
    }
   },
   "outputs": [],
   "source": [
    "bert_featureDF_tw = pd.read_csv('tw_BertVector_MSFT.csv')\n",
    "featureDF_tw = pd.read_csv('tw_feature_woText_MSFT.csv')\n",
    "featureFI = pd.read_csv('FIwithTargetwithFTT.csv')"
   ]
  },
  {
   "cell_type": "code",
   "execution_count": 243,
   "metadata": {
    "ExecuteTime": {
     "end_time": "2019-05-20T22:25:17.228191Z",
     "start_time": "2019-05-20T22:25:17.222209Z"
    }
   },
   "outputs": [],
   "source": [
    "tw_date = featureDF_tw.date.values.tolist()\n",
    "bert_featureDF_tw['date'] = tw_date"
   ]
  },
  {
   "cell_type": "code",
   "execution_count": 244,
   "metadata": {
    "ExecuteTime": {
     "end_time": "2019-05-20T22:25:17.469987Z",
     "start_time": "2019-05-20T22:25:17.439072Z"
    }
   },
   "outputs": [
    {
     "name": "stdout",
     "output_type": "stream",
     "text": [
      "startDate 2015/05/04\n",
      "endDate 2019/04/04\n",
      "shape (1426, 770)\n",
      "---------------------------\n"
     ]
    }
   ],
   "source": [
    "targetAndDateDF = featureFI[['date','Target']]\n",
    "result_tw =pd.merge( targetAndDateDF,bert_featureDF_tw, how='right', on='date')\n",
    "getStartEndDateShape(result_tw)"
   ]
  },
  {
   "cell_type": "code",
   "execution_count": 245,
   "metadata": {
    "ExecuteTime": {
     "end_time": "2019-05-20T22:25:17.835928Z",
     "start_time": "2019-05-20T22:25:17.785099Z"
    }
   },
   "outputs": [
    {
     "name": "stdout",
     "output_type": "stream",
     "text": [
      "startDate 2015/05/04\n",
      "endDate 2019/04/04\n",
      "shape (1426, 770)\n",
      "---------------------------\n"
     ]
    }
   ],
   "source": [
    "result_tw =pd.merge( targetAndDateDF,bert_featureDF_tw, how='right', on='date')\n",
    "getStartEndDateShape(result_tw)\n",
    "\n",
    "result_tw.sort_values(by='date',inplace=True) \n",
    "cols = ['Target']\n",
    "result_tw[cols] = result_tw[cols].ffill()\n",
    "result_tw.fillna(0,inplace=True)\n"
   ]
  },
  {
   "cell_type": "code",
   "execution_count": 246,
   "metadata": {
    "ExecuteTime": {
     "end_time": "2019-05-20T22:25:18.574545Z",
     "start_time": "2019-05-20T22:25:18.554563Z"
    }
   },
   "outputs": [
    {
     "name": "stdout",
     "output_type": "stream",
     "text": [
      "startDate 2015/05/04\n",
      "endDate 2019/04/04\n",
      "shape (1426, 770)\n",
      "---------------------------\n"
     ]
    }
   ],
   "source": [
    "getStartEndDateShape(result_tw)\n",
    "_ens_Twitter_BERT =result_tw = createComparableDataset(result_tw)"
   ]
  },
  {
   "cell_type": "code",
   "execution_count": 247,
   "metadata": {
    "ExecuteTime": {
     "end_time": "2019-05-20T22:25:19.690427Z",
     "start_time": "2019-05-20T22:25:19.399220Z"
    }
   },
   "outputs": [
    {
     "name": "stdout",
     "output_type": "stream",
     "text": [
      "startDate 2015-05-04 00:00:00\n",
      "endDate 2019-03-28 00:00:00\n",
      "shape (1419, 770)\n",
      "---------------------------\n",
      "train (1332, 768) test (87, 768) train_y 1332 test_y 87\n"
     ]
    }
   ],
   "source": [
    "getStartEndDateShape(result_tw)\n",
    "train, train_y,test, test_y = prepareDataSet(result_tw)\n",
    "print('train',train.shape,'test',test.shape,'train_y',len(train_y),'test_y',len(test_y))"
   ]
  },
  {
   "cell_type": "code",
   "execution_count": 248,
   "metadata": {
    "ExecuteTime": {
     "end_time": "2019-05-20T22:25:22.910370Z",
     "start_time": "2019-05-20T22:25:22.907379Z"
    }
   },
   "outputs": [],
   "source": [
    "featureLength = train.shape[1]"
   ]
  },
  {
   "cell_type": "code",
   "execution_count": 251,
   "metadata": {
    "ExecuteTime": {
     "end_time": "2019-05-20T22:27:27.194947Z",
     "start_time": "2019-05-20T22:26:53.186377Z"
    },
    "scrolled": true
   },
   "outputs": [
    {
     "name": "stdout",
     "output_type": "stream",
     "text": [
      "_________________________________________________________________\n",
      "Layer (type)                 Output Shape              Param #   \n",
      "=================================================================\n",
      "dense_25 (Dense)             (None, 100)               76900     \n",
      "_________________________________________________________________\n",
      "dropout_17 (Dropout)         (None, 100)               0         \n",
      "_________________________________________________________________\n",
      "dense_26 (Dense)             (None, 100)               10100     \n",
      "_________________________________________________________________\n",
      "dropout_18 (Dropout)         (None, 100)               0         \n",
      "_________________________________________________________________\n",
      "dense_27 (Dense)             (None, 1)                 101       \n",
      "=================================================================\n",
      "Total params: 87,101\n",
      "Trainable params: 87,101\n",
      "Non-trainable params: 0\n",
      "_________________________________________________________________\n",
      "Train on 1198 samples, validate on 134 samples\n",
      "Epoch 1/600\n",
      "1198/1198 [==============================] - 1s 844us/step - loss: 3.2813 - acc: 0.5217 - val_loss: 2.9778 - val_acc: 0.4552\n",
      "Epoch 2/600\n",
      "1198/1198 [==============================] - 0s 47us/step - loss: 2.7683 - acc: 0.5326 - val_loss: 2.5250 - val_acc: 0.4851\n",
      "Epoch 3/600\n",
      "1198/1198 [==============================] - 0s 47us/step - loss: 2.3528 - acc: 0.5534 - val_loss: 2.1451 - val_acc: 0.4925\n",
      "Epoch 4/600\n",
      "1198/1198 [==============================] - 0s 46us/step - loss: 1.9946 - acc: 0.5659 - val_loss: 1.8412 - val_acc: 0.4030\n",
      "Epoch 5/600\n",
      "1198/1198 [==============================] - 0s 44us/step - loss: 1.7248 - acc: 0.5518 - val_loss: 1.6070 - val_acc: 0.5000\n",
      "Epoch 6/600\n",
      "1198/1198 [==============================] - 0s 46us/step - loss: 1.5091 - acc: 0.5518 - val_loss: 1.4270 - val_acc: 0.4627\n",
      "Epoch 7/600\n",
      "1198/1198 [==============================] - 0s 43us/step - loss: 1.3430 - acc: 0.5551 - val_loss: 1.2914 - val_acc: 0.4925\n",
      "Epoch 8/600\n",
      "1198/1198 [==============================] - 0s 42us/step - loss: 1.2167 - acc: 0.5534 - val_loss: 1.1773 - val_acc: 0.4627\n",
      "Epoch 9/600\n",
      "1198/1198 [==============================] - 0s 42us/step - loss: 1.1232 - acc: 0.5518 - val_loss: 1.0869 - val_acc: 0.4851\n",
      "Epoch 10/600\n",
      "1198/1198 [==============================] - 0s 43us/step - loss: 1.0383 - acc: 0.5593 - val_loss: 1.0211 - val_acc: 0.4701\n",
      "Epoch 11/600\n",
      "1198/1198 [==============================] - 0s 45us/step - loss: 0.9767 - acc: 0.5676 - val_loss: 0.9715 - val_acc: 0.4328\n",
      "Epoch 12/600\n",
      "1198/1198 [==============================] - 0s 42us/step - loss: 0.9240 - acc: 0.5609 - val_loss: 0.9355 - val_acc: 0.4701\n",
      "Epoch 13/600\n",
      "1198/1198 [==============================] - 0s 42us/step - loss: 0.8875 - acc: 0.5593 - val_loss: 0.9079 - val_acc: 0.4552\n",
      "Epoch 14/600\n",
      "1198/1198 [==============================] - 0s 42us/step - loss: 0.8517 - acc: 0.5743 - val_loss: 0.8708 - val_acc: 0.4478\n",
      "Epoch 15/600\n",
      "1198/1198 [==============================] - 0s 42us/step - loss: 0.8291 - acc: 0.5960 - val_loss: 0.8552 - val_acc: 0.4403\n",
      "Epoch 16/600\n",
      "1198/1198 [==============================] - 0s 41us/step - loss: 0.8081 - acc: 0.5718 - val_loss: 0.8457 - val_acc: 0.4403\n",
      "Epoch 17/600\n",
      "1198/1198 [==============================] - 0s 42us/step - loss: 0.7878 - acc: 0.5868 - val_loss: 0.8196 - val_acc: 0.4627\n",
      "Epoch 18/600\n",
      "1198/1198 [==============================] - 0s 43us/step - loss: 0.7675 - acc: 0.5960 - val_loss: 0.8173 - val_acc: 0.4478\n",
      "Epoch 19/600\n",
      "1198/1198 [==============================] - 0s 45us/step - loss: 0.7554 - acc: 0.6018 - val_loss: 0.8104 - val_acc: 0.4403\n",
      "Epoch 20/600\n",
      "1198/1198 [==============================] - 0s 45us/step - loss: 0.7430 - acc: 0.6110 - val_loss: 0.7962 - val_acc: 0.5000\n",
      "Epoch 21/600\n",
      "1198/1198 [==============================] - 0s 42us/step - loss: 0.7484 - acc: 0.5768 - val_loss: 0.7899 - val_acc: 0.4701\n",
      "Epoch 22/600\n",
      "1198/1198 [==============================] - 0s 45us/step - loss: 0.7372 - acc: 0.5943 - val_loss: 0.7794 - val_acc: 0.4701\n",
      "Epoch 23/600\n",
      "1198/1198 [==============================] - 0s 43us/step - loss: 0.7248 - acc: 0.6119 - val_loss: 0.8007 - val_acc: 0.4701\n",
      "Epoch 24/600\n",
      "1198/1198 [==============================] - 0s 45us/step - loss: 0.7170 - acc: 0.6043 - val_loss: 0.7988 - val_acc: 0.4552\n",
      "Epoch 25/600\n",
      "1198/1198 [==============================] - 0s 43us/step - loss: 0.7126 - acc: 0.6227 - val_loss: 0.7814 - val_acc: 0.4627\n",
      "Epoch 26/600\n",
      "1198/1198 [==============================] - 0s 42us/step - loss: 0.7013 - acc: 0.6244 - val_loss: 0.7745 - val_acc: 0.5224\n",
      "Epoch 27/600\n",
      "1198/1198 [==============================] - 0s 46us/step - loss: 0.7029 - acc: 0.6269 - val_loss: 0.7886 - val_acc: 0.4179\n",
      "Epoch 28/600\n",
      "1198/1198 [==============================] - 0s 45us/step - loss: 0.6917 - acc: 0.6419 - val_loss: 0.7794 - val_acc: 0.4776\n",
      "Epoch 29/600\n",
      "1198/1198 [==============================] - 0s 46us/step - loss: 0.6884 - acc: 0.6519 - val_loss: 0.7797 - val_acc: 0.5000\n",
      "Epoch 30/600\n",
      "1198/1198 [==============================] - 0s 43us/step - loss: 0.6869 - acc: 0.6519 - val_loss: 0.8135 - val_acc: 0.4627\n",
      "Epoch 31/600\n",
      "1198/1198 [==============================] - 0s 47us/step - loss: 0.6882 - acc: 0.6411 - val_loss: 0.8060 - val_acc: 0.4328\n",
      "Epoch 32/600\n",
      "1198/1198 [==============================] - 0s 43us/step - loss: 0.6933 - acc: 0.6252 - val_loss: 0.7756 - val_acc: 0.4552\n",
      "Epoch 33/600\n",
      "1198/1198 [==============================] - 0s 47us/step - loss: 0.6968 - acc: 0.6144 - val_loss: 0.7851 - val_acc: 0.5075\n",
      "Epoch 34/600\n",
      "1198/1198 [==============================] - 0s 46us/step - loss: 0.6839 - acc: 0.6511 - val_loss: 0.7813 - val_acc: 0.4776\n",
      "Epoch 35/600\n",
      "1198/1198 [==============================] - 0s 44us/step - loss: 0.6874 - acc: 0.6294 - val_loss: 0.8136 - val_acc: 0.4552\n",
      "Epoch 36/600\n",
      "1198/1198 [==============================] - 0s 44us/step - loss: 0.6779 - acc: 0.6594 - val_loss: 0.7932 - val_acc: 0.4552\n",
      "Epoch 37/600\n",
      "1198/1198 [==============================] - 0s 52us/step - loss: 0.7002 - acc: 0.6185 - val_loss: 0.7899 - val_acc: 0.4925\n",
      "Epoch 38/600\n",
      "1198/1198 [==============================] - 0s 49us/step - loss: 0.6639 - acc: 0.6703 - val_loss: 0.8059 - val_acc: 0.4552\n",
      "Epoch 39/600\n",
      "1198/1198 [==============================] - 0s 47us/step - loss: 0.6745 - acc: 0.6377 - val_loss: 0.7964 - val_acc: 0.4851\n",
      "Epoch 40/600\n",
      "1198/1198 [==============================] - 0s 48us/step - loss: 0.6573 - acc: 0.7095 - val_loss: 0.8161 - val_acc: 0.4328\n",
      "Epoch 41/600\n",
      "1198/1198 [==============================] - 0s 43us/step - loss: 0.6654 - acc: 0.6578 - val_loss: 0.8129 - val_acc: 0.4925\n",
      "Epoch 42/600\n",
      "1198/1198 [==============================] - 0s 42us/step - loss: 0.6632 - acc: 0.6686 - val_loss: 0.7997 - val_acc: 0.5149\n",
      "Epoch 43/600\n",
      "1198/1198 [==============================] - 0s 42us/step - loss: 0.6627 - acc: 0.6678 - val_loss: 0.8318 - val_acc: 0.4478\n",
      "Epoch 44/600\n",
      "1198/1198 [==============================] - 0s 43us/step - loss: 0.6488 - acc: 0.7003 - val_loss: 0.8334 - val_acc: 0.4851\n",
      "Epoch 45/600\n",
      "1198/1198 [==============================] - 0s 42us/step - loss: 0.6542 - acc: 0.6745 - val_loss: 0.8150 - val_acc: 0.4776\n",
      "Epoch 46/600\n",
      "1198/1198 [==============================] - 0s 44us/step - loss: 0.6718 - acc: 0.6486 - val_loss: 0.7891 - val_acc: 0.4851\n",
      "Epoch 47/600\n",
      "1198/1198 [==============================] - 0s 42us/step - loss: 0.6511 - acc: 0.6987 - val_loss: 0.8104 - val_acc: 0.5075\n",
      "Epoch 48/600\n",
      "1198/1198 [==============================] - 0s 42us/step - loss: 0.6357 - acc: 0.6953 - val_loss: 0.8456 - val_acc: 0.4701\n",
      "Epoch 49/600\n",
      "1198/1198 [==============================] - 0s 44us/step - loss: 0.6291 - acc: 0.7020 - val_loss: 0.8464 - val_acc: 0.4776\n",
      "Epoch 50/600\n",
      "1198/1198 [==============================] - 0s 44us/step - loss: 0.6468 - acc: 0.6853 - val_loss: 0.8206 - val_acc: 0.4627\n",
      "Epoch 51/600\n",
      "1198/1198 [==============================] - 0s 43us/step - loss: 0.6686 - acc: 0.6661 - val_loss: 0.8203 - val_acc: 0.5075\n",
      "Epoch 52/600\n",
      "1198/1198 [==============================] - 0s 46us/step - loss: 0.6668 - acc: 0.6603 - val_loss: 0.8513 - val_acc: 0.5075\n",
      "Epoch 53/600\n"
     ]
    },
    {
     "name": "stdout",
     "output_type": "stream",
     "text": [
      "1198/1198 [==============================] - 0s 45us/step - loss: 0.6366 - acc: 0.7179 - val_loss: 0.8711 - val_acc: 0.5000\n",
      "Epoch 54/600\n",
      "1198/1198 [==============================] - 0s 46us/step - loss: 0.6440 - acc: 0.7095 - val_loss: 0.8702 - val_acc: 0.4776\n",
      "Epoch 55/600\n",
      "1198/1198 [==============================] - 0s 43us/step - loss: 0.6409 - acc: 0.7162 - val_loss: 0.8391 - val_acc: 0.5373\n",
      "Epoch 56/600\n",
      "1198/1198 [==============================] - 0s 45us/step - loss: 0.6360 - acc: 0.7120 - val_loss: 0.8619 - val_acc: 0.4925\n",
      "Epoch 57/600\n",
      "1198/1198 [==============================] - 0s 42us/step - loss: 0.6317 - acc: 0.7154 - val_loss: 0.8660 - val_acc: 0.5000\n",
      "Epoch 58/600\n",
      "1198/1198 [==============================] - 0s 42us/step - loss: 0.6239 - acc: 0.7229 - val_loss: 0.8915 - val_acc: 0.5000\n",
      "Epoch 59/600\n",
      "1198/1198 [==============================] - 0s 44us/step - loss: 0.6595 - acc: 0.6778 - val_loss: 0.8492 - val_acc: 0.5075\n",
      "Epoch 60/600\n",
      "1198/1198 [==============================] - 0s 42us/step - loss: 0.6479 - acc: 0.6962 - val_loss: 0.8819 - val_acc: 0.4478\n",
      "Epoch 61/600\n",
      "1198/1198 [==============================] - 0s 44us/step - loss: 0.6510 - acc: 0.6962 - val_loss: 0.8785 - val_acc: 0.4776\n",
      "Epoch 62/600\n",
      "1198/1198 [==============================] - 0s 43us/step - loss: 0.6327 - acc: 0.7070 - val_loss: 0.8733 - val_acc: 0.4925\n",
      "Epoch 63/600\n",
      "1198/1198 [==============================] - 0s 43us/step - loss: 0.6205 - acc: 0.7279 - val_loss: 0.8578 - val_acc: 0.5149\n",
      "Epoch 64/600\n",
      "1198/1198 [==============================] - 0s 42us/step - loss: 0.6226 - acc: 0.7471 - val_loss: 0.9017 - val_acc: 0.4776\n",
      "Epoch 65/600\n",
      "1198/1198 [==============================] - 0s 42us/step - loss: 0.6115 - acc: 0.7287 - val_loss: 0.8877 - val_acc: 0.5299\n",
      "Epoch 66/600\n",
      "1198/1198 [==============================] - 0s 46us/step - loss: 0.6031 - acc: 0.7471 - val_loss: 0.8832 - val_acc: 0.4851\n",
      "Epoch 67/600\n",
      "1198/1198 [==============================] - 0s 42us/step - loss: 0.5919 - acc: 0.7646 - val_loss: 0.9198 - val_acc: 0.4851\n",
      "Epoch 68/600\n",
      "1198/1198 [==============================] - 0s 43us/step - loss: 0.6317 - acc: 0.7087 - val_loss: 0.8745 - val_acc: 0.5000\n",
      "Epoch 69/600\n",
      "1198/1198 [==============================] - 0s 45us/step - loss: 0.6190 - acc: 0.7346 - val_loss: 0.8931 - val_acc: 0.5000\n",
      "Epoch 70/600\n",
      "1198/1198 [==============================] - 0s 42us/step - loss: 0.6203 - acc: 0.7254 - val_loss: 0.9321 - val_acc: 0.4851\n",
      "Epoch 71/600\n",
      "1198/1198 [==============================] - 0s 43us/step - loss: 0.6061 - acc: 0.7321 - val_loss: 0.8909 - val_acc: 0.4925\n",
      "Epoch 72/600\n",
      "1198/1198 [==============================] - 0s 42us/step - loss: 0.6056 - acc: 0.7487 - val_loss: 0.9220 - val_acc: 0.4851\n",
      "Epoch 73/600\n",
      "1198/1198 [==============================] - 0s 43us/step - loss: 0.6197 - acc: 0.7279 - val_loss: 0.9544 - val_acc: 0.5075\n",
      "Epoch 74/600\n",
      "1198/1198 [==============================] - 0s 42us/step - loss: 0.5907 - acc: 0.7579 - val_loss: 0.9039 - val_acc: 0.5149\n",
      "Epoch 75/600\n",
      "1198/1198 [==============================] - 0s 45us/step - loss: 0.5722 - acc: 0.7746 - val_loss: 0.9852 - val_acc: 0.5373\n",
      "Epoch 76/600\n",
      "1198/1198 [==============================] - 0s 42us/step - loss: 0.5916 - acc: 0.7730 - val_loss: 0.9231 - val_acc: 0.5000\n",
      "Epoch 77/600\n",
      "1198/1198 [==============================] - 0s 42us/step - loss: 0.5670 - acc: 0.7922 - val_loss: 0.9346 - val_acc: 0.4925\n",
      "Epoch 78/600\n",
      "1198/1198 [==============================] - 0s 45us/step - loss: 0.5698 - acc: 0.7830 - val_loss: 1.0438 - val_acc: 0.4851\n",
      "Epoch 79/600\n",
      "1198/1198 [==============================] - 0s 46us/step - loss: 0.6197 - acc: 0.7287 - val_loss: 0.9493 - val_acc: 0.5000\n",
      "Epoch 80/600\n",
      "1198/1198 [==============================] - 0s 44us/step - loss: 0.5978 - acc: 0.7496 - val_loss: 0.9641 - val_acc: 0.4627\n",
      "Epoch 81/600\n",
      "1198/1198 [==============================] - 0s 46us/step - loss: 0.5530 - acc: 0.7896 - val_loss: 0.9617 - val_acc: 0.5224\n",
      "Epoch 82/600\n",
      "1198/1198 [==============================] - 0s 43us/step - loss: 0.5533 - acc: 0.7938 - val_loss: 0.9818 - val_acc: 0.5224\n",
      "Epoch 83/600\n",
      "1198/1198 [==============================] - 0s 42us/step - loss: 0.5648 - acc: 0.7888 - val_loss: 0.9739 - val_acc: 0.5299\n",
      "Epoch 84/600\n",
      "1198/1198 [==============================] - 0s 44us/step - loss: 0.5443 - acc: 0.8072 - val_loss: 1.0204 - val_acc: 0.5149\n",
      "Epoch 85/600\n",
      "1198/1198 [==============================] - 0s 43us/step - loss: 0.5570 - acc: 0.7922 - val_loss: 0.9899 - val_acc: 0.5299\n",
      "Epoch 86/600\n",
      "1198/1198 [==============================] - 0s 44us/step - loss: 0.5519 - acc: 0.8063 - val_loss: 0.9904 - val_acc: 0.5149\n",
      "Epoch 87/600\n",
      "1198/1198 [==============================] - 0s 45us/step - loss: 0.5432 - acc: 0.8038 - val_loss: 1.0094 - val_acc: 0.4851\n",
      "Epoch 88/600\n",
      "1198/1198 [==============================] - 0s 45us/step - loss: 0.5412 - acc: 0.8122 - val_loss: 1.1020 - val_acc: 0.5522\n",
      "Epoch 89/600\n",
      "1198/1198 [==============================] - 0s 43us/step - loss: 0.5582 - acc: 0.8013 - val_loss: 1.0278 - val_acc: 0.4925\n",
      "Epoch 90/600\n",
      "1198/1198 [==============================] - 0s 45us/step - loss: 0.5751 - acc: 0.7705 - val_loss: 1.0590 - val_acc: 0.5299\n",
      "Epoch 91/600\n",
      "1198/1198 [==============================] - 0s 43us/step - loss: 0.5489 - acc: 0.8088 - val_loss: 1.0729 - val_acc: 0.5075\n",
      "Epoch 92/600\n",
      "1198/1198 [==============================] - 0s 44us/step - loss: 0.5323 - acc: 0.8180 - val_loss: 1.0359 - val_acc: 0.5000\n",
      "Epoch 93/600\n",
      "1198/1198 [==============================] - 0s 44us/step - loss: 0.5609 - acc: 0.7947 - val_loss: 1.0845 - val_acc: 0.5075\n",
      "Epoch 94/600\n",
      "1198/1198 [==============================] - 0s 45us/step - loss: 0.5531 - acc: 0.8097 - val_loss: 1.1470 - val_acc: 0.5224\n",
      "Epoch 95/600\n",
      "1198/1198 [==============================] - 0s 42us/step - loss: 0.5615 - acc: 0.7963 - val_loss: 1.0330 - val_acc: 0.5597\n",
      "Epoch 96/600\n",
      "1198/1198 [==============================] - 0s 45us/step - loss: 0.5380 - acc: 0.8047 - val_loss: 1.0801 - val_acc: 0.5373\n",
      "Epoch 97/600\n",
      "1198/1198 [==============================] - 0s 49us/step - loss: 0.5241 - acc: 0.8255 - val_loss: 1.0680 - val_acc: 0.5522\n",
      "Epoch 98/600\n",
      "1198/1198 [==============================] - 0s 52us/step - loss: 0.5286 - acc: 0.8122 - val_loss: 1.0503 - val_acc: 0.5448\n",
      "Epoch 99/600\n",
      "1198/1198 [==============================] - 0s 47us/step - loss: 0.5082 - acc: 0.8564 - val_loss: 1.1564 - val_acc: 0.5373\n",
      "Epoch 100/600\n",
      "1198/1198 [==============================] - 0s 45us/step - loss: 0.5314 - acc: 0.8122 - val_loss: 1.0592 - val_acc: 0.5075\n",
      "Epoch 101/600\n",
      "1198/1198 [==============================] - 0s 42us/step - loss: 0.5015 - acc: 0.8564 - val_loss: 1.1924 - val_acc: 0.5000\n",
      "Epoch 102/600\n",
      "1198/1198 [==============================] - 0s 39us/step - loss: 0.5136 - acc: 0.8314 - val_loss: 1.1203 - val_acc: 0.5000\n",
      "Epoch 103/600\n",
      "1198/1198 [==============================] - 0s 40us/step - loss: 0.5381 - acc: 0.8063 - val_loss: 1.0907 - val_acc: 0.5448\n",
      "Epoch 104/600\n",
      "1198/1198 [==============================] - 0s 41us/step - loss: 0.5307 - acc: 0.8364 - val_loss: 1.1316 - val_acc: 0.5075\n",
      "Epoch 105/600\n",
      "1198/1198 [==============================] - 0s 41us/step - loss: 0.5231 - acc: 0.8222 - val_loss: 1.1800 - val_acc: 0.5224\n",
      "Epoch 106/600\n",
      "1198/1198 [==============================] - 0s 42us/step - loss: 0.5157 - acc: 0.8422 - val_loss: 1.1758 - val_acc: 0.5299\n",
      "Epoch 107/600\n",
      "1198/1198 [==============================] - 0s 40us/step - loss: 0.5155 - acc: 0.8372 - val_loss: 1.1598 - val_acc: 0.4925\n",
      "Epoch 108/600\n",
      "1198/1198 [==============================] - 0s 42us/step - loss: 0.4769 - acc: 0.8598 - val_loss: 1.1200 - val_acc: 0.5373\n",
      "Epoch 109/600\n",
      "1198/1198 [==============================] - 0s 44us/step - loss: 0.4894 - acc: 0.8573 - val_loss: 1.1759 - val_acc: 0.5299\n",
      "Epoch 110/600\n",
      "1198/1198 [==============================] - 0s 43us/step - loss: 0.4886 - acc: 0.8623 - val_loss: 1.2003 - val_acc: 0.4851\n",
      "Epoch 111/600\n",
      "1198/1198 [==============================] - 0s 42us/step - loss: 0.4754 - acc: 0.8765 - val_loss: 1.1541 - val_acc: 0.5299\n",
      "Epoch 112/600\n",
      "1198/1198 [==============================] - 0s 42us/step - loss: 0.4617 - acc: 0.8748 - val_loss: 1.1431 - val_acc: 0.4925\n"
     ]
    },
    {
     "name": "stdout",
     "output_type": "stream",
     "text": [
      "Epoch 113/600\n",
      "1198/1198 [==============================] - 0s 42us/step - loss: 0.4801 - acc: 0.8773 - val_loss: 1.1581 - val_acc: 0.5597\n",
      "Epoch 114/600\n",
      "1198/1198 [==============================] - 0s 42us/step - loss: 0.4794 - acc: 0.8740 - val_loss: 1.1270 - val_acc: 0.5522\n",
      "Epoch 115/600\n",
      "1198/1198 [==============================] - 0s 43us/step - loss: 0.4756 - acc: 0.8765 - val_loss: 1.1766 - val_acc: 0.5224\n",
      "Epoch 116/600\n",
      "1198/1198 [==============================] - 0s 45us/step - loss: 0.4684 - acc: 0.8765 - val_loss: 1.1460 - val_acc: 0.5075\n",
      "Epoch 117/600\n",
      "1198/1198 [==============================] - 0s 49us/step - loss: 0.4496 - acc: 0.8957 - val_loss: 1.1943 - val_acc: 0.5224\n",
      "Epoch 118/600\n",
      "1198/1198 [==============================] - 0s 50us/step - loss: 0.4594 - acc: 0.8890 - val_loss: 1.2474 - val_acc: 0.5373\n",
      "Epoch 119/600\n",
      "1198/1198 [==============================] - 0s 47us/step - loss: 0.4564 - acc: 0.8806 - val_loss: 1.2495 - val_acc: 0.5224\n",
      "Epoch 120/600\n",
      "1198/1198 [==============================] - 0s 47us/step - loss: 0.4490 - acc: 0.8948 - val_loss: 1.2649 - val_acc: 0.5448\n",
      "Epoch 121/600\n",
      "1198/1198 [==============================] - 0s 44us/step - loss: 0.4682 - acc: 0.8715 - val_loss: 1.2206 - val_acc: 0.5224\n",
      "Epoch 122/600\n",
      "1198/1198 [==============================] - 0s 43us/step - loss: 0.4551 - acc: 0.8831 - val_loss: 1.2250 - val_acc: 0.5075\n",
      "Epoch 123/600\n",
      "1198/1198 [==============================] - 0s 43us/step - loss: 0.4512 - acc: 0.8965 - val_loss: 1.2400 - val_acc: 0.5224\n",
      "Epoch 124/600\n",
      "1198/1198 [==============================] - 0s 44us/step - loss: 0.4371 - acc: 0.8948 - val_loss: 1.2516 - val_acc: 0.5299\n",
      "Epoch 125/600\n",
      "1198/1198 [==============================] - 0s 43us/step - loss: 0.4406 - acc: 0.8982 - val_loss: 1.2117 - val_acc: 0.5299\n",
      "Epoch 126/600\n",
      "1198/1198 [==============================] - 0s 43us/step - loss: 0.4461 - acc: 0.8840 - val_loss: 1.2385 - val_acc: 0.5373\n",
      "Epoch 127/600\n",
      "1198/1198 [==============================] - 0s 42us/step - loss: 0.4622 - acc: 0.8740 - val_loss: 1.2153 - val_acc: 0.5299\n",
      "Epoch 128/600\n",
      "1198/1198 [==============================] - 0s 45us/step - loss: 0.4415 - acc: 0.9098 - val_loss: 1.2790 - val_acc: 0.5224\n",
      "Epoch 129/600\n",
      "1198/1198 [==============================] - 0s 45us/step - loss: 0.4334 - acc: 0.9065 - val_loss: 1.2081 - val_acc: 0.5597\n",
      "Epoch 130/600\n",
      "1198/1198 [==============================] - 0s 42us/step - loss: 0.4295 - acc: 0.9057 - val_loss: 1.3044 - val_acc: 0.5522\n",
      "Epoch 131/600\n",
      "1198/1198 [==============================] - 0s 43us/step - loss: 0.4177 - acc: 0.9115 - val_loss: 1.2619 - val_acc: 0.5149\n",
      "Epoch 132/600\n",
      "1198/1198 [==============================] - 0s 43us/step - loss: 0.4262 - acc: 0.8982 - val_loss: 1.2838 - val_acc: 0.5149\n",
      "Epoch 133/600\n",
      "1198/1198 [==============================] - 0s 42us/step - loss: 0.4347 - acc: 0.9040 - val_loss: 1.2732 - val_acc: 0.5075\n",
      "Epoch 134/600\n",
      "1198/1198 [==============================] - 0s 42us/step - loss: 0.4329 - acc: 0.8898 - val_loss: 1.2698 - val_acc: 0.5149\n",
      "Epoch 135/600\n",
      "1198/1198 [==============================] - 0s 42us/step - loss: 0.4341 - acc: 0.8940 - val_loss: 1.3746 - val_acc: 0.5149\n",
      "Epoch 136/600\n",
      "1198/1198 [==============================] - 0s 45us/step - loss: 0.4401 - acc: 0.8982 - val_loss: 1.2600 - val_acc: 0.5149\n",
      "Epoch 137/600\n",
      "1198/1198 [==============================] - 0s 45us/step - loss: 0.4488 - acc: 0.8881 - val_loss: 1.2775 - val_acc: 0.5224\n",
      "Epoch 138/600\n",
      "1198/1198 [==============================] - 0s 43us/step - loss: 0.4606 - acc: 0.8798 - val_loss: 1.3330 - val_acc: 0.5000\n",
      "Epoch 139/600\n",
      "1198/1198 [==============================] - 0s 44us/step - loss: 0.4633 - acc: 0.8623 - val_loss: 1.2705 - val_acc: 0.5000\n",
      "Epoch 140/600\n",
      "1198/1198 [==============================] - 0s 42us/step - loss: 0.4560 - acc: 0.8856 - val_loss: 1.3623 - val_acc: 0.4851\n",
      "Epoch 141/600\n",
      "1198/1198 [==============================] - 0s 44us/step - loss: 0.4241 - acc: 0.9023 - val_loss: 1.2971 - val_acc: 0.4925\n",
      "Epoch 142/600\n",
      "1198/1198 [==============================] - 0s 42us/step - loss: 0.4394 - acc: 0.8898 - val_loss: 1.3188 - val_acc: 0.5000\n",
      "Epoch 143/600\n",
      "1198/1198 [==============================] - 0s 44us/step - loss: 0.4616 - acc: 0.8756 - val_loss: 1.2348 - val_acc: 0.5299\n",
      "Epoch 144/600\n",
      "1198/1198 [==============================] - 0s 42us/step - loss: 0.4905 - acc: 0.8523 - val_loss: 1.2729 - val_acc: 0.5075\n",
      "Epoch 145/600\n",
      "1198/1198 [==============================] - 0s 43us/step - loss: 0.4614 - acc: 0.8731 - val_loss: 1.2949 - val_acc: 0.4925\n",
      "Epoch 146/600\n",
      "1198/1198 [==============================] - 0s 43us/step - loss: 0.4320 - acc: 0.8998 - val_loss: 1.3336 - val_acc: 0.5149\n",
      "Epoch 147/600\n",
      "1198/1198 [==============================] - 0s 43us/step - loss: 0.4264 - acc: 0.8965 - val_loss: 1.2722 - val_acc: 0.5299\n",
      "Epoch 148/600\n",
      "1198/1198 [==============================] - 0s 43us/step - loss: 0.4259 - acc: 0.9023 - val_loss: 1.3362 - val_acc: 0.5373\n",
      "Epoch 149/600\n",
      "1198/1198 [==============================] - 0s 44us/step - loss: 0.4241 - acc: 0.9057 - val_loss: 1.4043 - val_acc: 0.5224\n",
      "Epoch 150/600\n",
      "1198/1198 [==============================] - 0s 44us/step - loss: 0.4070 - acc: 0.9098 - val_loss: 1.2890 - val_acc: 0.4925\n",
      "Epoch 151/600\n",
      "1198/1198 [==============================] - 0s 47us/step - loss: 0.3901 - acc: 0.9232 - val_loss: 1.4831 - val_acc: 0.5000\n",
      "Epoch 152/600\n",
      "1198/1198 [==============================] - 0s 45us/step - loss: 0.4536 - acc: 0.8731 - val_loss: 1.2757 - val_acc: 0.4925\n",
      "Epoch 153/600\n",
      "1198/1198 [==============================] - 0s 42us/step - loss: 0.4214 - acc: 0.8998 - val_loss: 1.3402 - val_acc: 0.4776\n",
      "Epoch 154/600\n",
      "1198/1198 [==============================] - 0s 42us/step - loss: 0.4083 - acc: 0.9107 - val_loss: 1.3353 - val_acc: 0.5448\n",
      "Epoch 155/600\n",
      "1198/1198 [==============================] - 0s 45us/step - loss: 0.4035 - acc: 0.9124 - val_loss: 1.3312 - val_acc: 0.5224\n",
      "Epoch 156/600\n",
      "1198/1198 [==============================] - 0s 44us/step - loss: 0.4094 - acc: 0.9190 - val_loss: 1.3716 - val_acc: 0.5149\n",
      "Epoch 157/600\n",
      "1198/1198 [==============================] - 0s 46us/step - loss: 0.4064 - acc: 0.9182 - val_loss: 1.3662 - val_acc: 0.5299\n",
      "Epoch 158/600\n",
      "1198/1198 [==============================] - 0s 47us/step - loss: 0.4031 - acc: 0.9207 - val_loss: 1.3680 - val_acc: 0.5224\n",
      "Epoch 159/600\n",
      "1198/1198 [==============================] - 0s 44us/step - loss: 0.4056 - acc: 0.9023 - val_loss: 1.3264 - val_acc: 0.5448\n",
      "Epoch 160/600\n",
      "1198/1198 [==============================] - 0s 44us/step - loss: 0.4242 - acc: 0.9040 - val_loss: 1.4146 - val_acc: 0.5224\n",
      "Epoch 161/600\n",
      "1198/1198 [==============================] - 0s 42us/step - loss: 0.4016 - acc: 0.9290 - val_loss: 1.4028 - val_acc: 0.5000\n",
      "Epoch 162/600\n",
      "1198/1198 [==============================] - 0s 43us/step - loss: 0.3968 - acc: 0.9207 - val_loss: 1.3596 - val_acc: 0.5149\n",
      "Epoch 163/600\n",
      "1198/1198 [==============================] - 0s 43us/step - loss: 0.3841 - acc: 0.9207 - val_loss: 1.4018 - val_acc: 0.5149\n",
      "Epoch 164/600\n",
      "1198/1198 [==============================] - 0s 43us/step - loss: 0.3880 - acc: 0.9240 - val_loss: 1.4148 - val_acc: 0.4925\n",
      "Epoch 165/600\n",
      "1198/1198 [==============================] - 0s 45us/step - loss: 0.3984 - acc: 0.9165 - val_loss: 1.3206 - val_acc: 0.5373\n",
      "Epoch 166/600\n",
      "1198/1198 [==============================] - 0s 45us/step - loss: 0.3976 - acc: 0.9265 - val_loss: 1.3953 - val_acc: 0.5000\n",
      "Epoch 167/600\n",
      "1198/1198 [==============================] - 0s 44us/step - loss: 0.3901 - acc: 0.9257 - val_loss: 1.4729 - val_acc: 0.4925\n",
      "Epoch 168/600\n",
      "1198/1198 [==============================] - 0s 46us/step - loss: 0.3799 - acc: 0.9299 - val_loss: 1.3768 - val_acc: 0.5075\n",
      "Epoch 169/600\n",
      "1198/1198 [==============================] - 0s 47us/step - loss: 0.3711 - acc: 0.9257 - val_loss: 1.4700 - val_acc: 0.4925\n",
      "Epoch 170/600\n",
      "1198/1198 [==============================] - 0s 43us/step - loss: 0.3833 - acc: 0.9240 - val_loss: 1.3856 - val_acc: 0.5075\n",
      "Epoch 171/600\n",
      "1198/1198 [==============================] - 0s 43us/step - loss: 0.3758 - acc: 0.9332 - val_loss: 1.3900 - val_acc: 0.5448\n",
      "Epoch 172/600\n"
     ]
    },
    {
     "name": "stdout",
     "output_type": "stream",
     "text": [
      "1198/1198 [==============================] - 0s 43us/step - loss: 0.3857 - acc: 0.9132 - val_loss: 1.3684 - val_acc: 0.5373\n",
      "Epoch 173/600\n",
      "1198/1198 [==============================] - 0s 47us/step - loss: 0.3798 - acc: 0.9232 - val_loss: 1.4403 - val_acc: 0.5000\n",
      "Epoch 174/600\n",
      "1198/1198 [==============================] - 0s 44us/step - loss: 0.3772 - acc: 0.9257 - val_loss: 1.4303 - val_acc: 0.5224\n",
      "Epoch 175/600\n",
      "1198/1198 [==============================] - 0s 44us/step - loss: 0.3682 - acc: 0.9282 - val_loss: 1.4732 - val_acc: 0.4776\n",
      "Epoch 176/600\n",
      "1198/1198 [==============================] - 0s 43us/step - loss: 0.3752 - acc: 0.9332 - val_loss: 1.4356 - val_acc: 0.5000\n",
      "Epoch 177/600\n",
      "1198/1198 [==============================] - 0s 44us/step - loss: 0.3647 - acc: 0.9316 - val_loss: 1.4834 - val_acc: 0.5075\n",
      "Epoch 178/600\n",
      "1198/1198 [==============================] - 0s 42us/step - loss: 0.3746 - acc: 0.9299 - val_loss: 1.4768 - val_acc: 0.5149\n",
      "Epoch 179/600\n",
      "1198/1198 [==============================] - 0s 42us/step - loss: 0.3660 - acc: 0.9332 - val_loss: 1.4481 - val_acc: 0.4701\n",
      "Epoch 180/600\n",
      "1198/1198 [==============================] - 0s 41us/step - loss: 0.3747 - acc: 0.9307 - val_loss: 1.4627 - val_acc: 0.5000\n",
      "Epoch 181/600\n",
      "1198/1198 [==============================] - 0s 43us/step - loss: 0.3691 - acc: 0.9199 - val_loss: 1.4088 - val_acc: 0.5224\n",
      "Epoch 182/600\n",
      "1198/1198 [==============================] - 0s 43us/step - loss: 0.3636 - acc: 0.9357 - val_loss: 1.4664 - val_acc: 0.5075\n",
      "Epoch 183/600\n",
      "1198/1198 [==============================] - 0s 43us/step - loss: 0.3581 - acc: 0.9391 - val_loss: 1.5073 - val_acc: 0.5149\n",
      "Epoch 184/600\n",
      "1198/1198 [==============================] - 0s 42us/step - loss: 0.3899 - acc: 0.9065 - val_loss: 1.4821 - val_acc: 0.5000\n",
      "Epoch 185/600\n",
      "1198/1198 [==============================] - 0s 43us/step - loss: 0.3785 - acc: 0.9316 - val_loss: 1.4077 - val_acc: 0.4851\n",
      "Epoch 186/600\n",
      "1198/1198 [==============================] - 0s 42us/step - loss: 0.3747 - acc: 0.9274 - val_loss: 1.5137 - val_acc: 0.4851\n",
      "Epoch 187/600\n",
      "1198/1198 [==============================] - 0s 42us/step - loss: 0.3769 - acc: 0.9174 - val_loss: 1.3709 - val_acc: 0.4701\n",
      "Epoch 188/600\n",
      "1198/1198 [==============================] - 0s 44us/step - loss: 0.3869 - acc: 0.9165 - val_loss: 1.4215 - val_acc: 0.4627\n",
      "Epoch 189/600\n",
      "1198/1198 [==============================] - 0s 44us/step - loss: 0.3899 - acc: 0.9224 - val_loss: 1.4545 - val_acc: 0.5448\n",
      "Epoch 190/600\n",
      "1198/1198 [==============================] - 0s 43us/step - loss: 0.3871 - acc: 0.9207 - val_loss: 1.4923 - val_acc: 0.4925\n",
      "Epoch 191/600\n",
      "1198/1198 [==============================] - 0s 42us/step - loss: 0.3547 - acc: 0.9316 - val_loss: 1.4878 - val_acc: 0.5000\n",
      "Epoch 192/600\n",
      "1198/1198 [==============================] - 0s 43us/step - loss: 0.3541 - acc: 0.9432 - val_loss: 1.4427 - val_acc: 0.5149\n",
      "Epoch 193/600\n",
      "1198/1198 [==============================] - 0s 43us/step - loss: 0.3515 - acc: 0.9290 - val_loss: 1.5077 - val_acc: 0.4925\n",
      "Epoch 194/600\n",
      "1198/1198 [==============================] - 0s 42us/step - loss: 0.3665 - acc: 0.9332 - val_loss: 1.5103 - val_acc: 0.4851\n",
      "Epoch 195/600\n",
      "1198/1198 [==============================] - 0s 42us/step - loss: 0.3872 - acc: 0.9190 - val_loss: 1.4821 - val_acc: 0.5149\n",
      "Epoch 196/600\n",
      "1198/1198 [==============================] - 0s 45us/step - loss: 0.3863 - acc: 0.9065 - val_loss: 1.4737 - val_acc: 0.4701\n",
      "Epoch 197/600\n",
      "1198/1198 [==============================] - 0s 49us/step - loss: 0.3721 - acc: 0.9341 - val_loss: 1.4510 - val_acc: 0.4925\n",
      "Epoch 198/600\n",
      "1198/1198 [==============================] - 0s 52us/step - loss: 0.3765 - acc: 0.9316 - val_loss: 1.4760 - val_acc: 0.5149\n",
      "Epoch 199/600\n",
      "1198/1198 [==============================] - 0s 58us/step - loss: 0.3577 - acc: 0.9349 - val_loss: 1.4869 - val_acc: 0.5000\n",
      "Epoch 200/600\n",
      "1198/1198 [==============================] - 0s 49us/step - loss: 0.3770 - acc: 0.9232 - val_loss: 1.4679 - val_acc: 0.4925\n",
      "Epoch 201/600\n",
      "1198/1198 [==============================] - 0s 42us/step - loss: 0.3480 - acc: 0.9316 - val_loss: 1.4749 - val_acc: 0.5224\n",
      "Epoch 202/600\n",
      "1198/1198 [==============================] - 0s 47us/step - loss: 0.3610 - acc: 0.9299 - val_loss: 1.4564 - val_acc: 0.5149\n",
      "Epoch 203/600\n",
      "1198/1198 [==============================] - 0s 45us/step - loss: 0.3645 - acc: 0.9290 - val_loss: 1.5349 - val_acc: 0.5149\n",
      "Epoch 204/600\n",
      "1198/1198 [==============================] - 0s 46us/step - loss: 0.3495 - acc: 0.9282 - val_loss: 1.5052 - val_acc: 0.4552\n",
      "Epoch 205/600\n",
      "1198/1198 [==============================] - 0s 46us/step - loss: 0.3708 - acc: 0.9274 - val_loss: 1.5543 - val_acc: 0.5075\n",
      "Epoch 206/600\n",
      "1198/1198 [==============================] - 0s 48us/step - loss: 0.3577 - acc: 0.9349 - val_loss: 1.4445 - val_acc: 0.5000\n",
      "Epoch 207/600\n",
      "1198/1198 [==============================] - 0s 45us/step - loss: 0.3450 - acc: 0.9366 - val_loss: 1.4275 - val_acc: 0.4925\n",
      "Epoch 208/600\n",
      "1198/1198 [==============================] - 0s 47us/step - loss: 0.3486 - acc: 0.9382 - val_loss: 1.5013 - val_acc: 0.4776\n",
      "Epoch 209/600\n",
      "1198/1198 [==============================] - 0s 47us/step - loss: 0.3411 - acc: 0.9416 - val_loss: 1.4959 - val_acc: 0.5224\n",
      "Epoch 210/600\n",
      "1198/1198 [==============================] - 0s 44us/step - loss: 0.3403 - acc: 0.9416 - val_loss: 1.4450 - val_acc: 0.4701\n",
      "Epoch 211/600\n",
      "1198/1198 [==============================] - 0s 45us/step - loss: 0.3381 - acc: 0.9508 - val_loss: 1.4677 - val_acc: 0.5075\n",
      "Epoch 212/600\n",
      "1198/1198 [==============================] - 0s 47us/step - loss: 0.3335 - acc: 0.9449 - val_loss: 1.4917 - val_acc: 0.4701\n",
      "Epoch 213/600\n",
      "1198/1198 [==============================] - 0s 43us/step - loss: 0.3507 - acc: 0.9449 - val_loss: 1.5652 - val_acc: 0.5000\n",
      "Epoch 214/600\n",
      "1198/1198 [==============================] - 0s 44us/step - loss: 0.3492 - acc: 0.9407 - val_loss: 1.4601 - val_acc: 0.5075\n",
      "Epoch 215/600\n",
      "1198/1198 [==============================] - 0s 46us/step - loss: 0.3367 - acc: 0.9407 - val_loss: 1.4872 - val_acc: 0.5149\n",
      "Epoch 216/600\n",
      "1198/1198 [==============================] - 0s 46us/step - loss: 0.3344 - acc: 0.9432 - val_loss: 1.5102 - val_acc: 0.5075\n",
      "Epoch 217/600\n",
      "1198/1198 [==============================] - 0s 45us/step - loss: 0.3334 - acc: 0.9491 - val_loss: 1.5071 - val_acc: 0.5075\n",
      "Epoch 218/600\n",
      "1198/1198 [==============================] - 0s 46us/step - loss: 0.3504 - acc: 0.9282 - val_loss: 1.4586 - val_acc: 0.4776\n",
      "Epoch 219/600\n",
      "1198/1198 [==============================] - 0s 47us/step - loss: 0.3861 - acc: 0.9149 - val_loss: 1.4332 - val_acc: 0.4925\n",
      "Epoch 220/600\n",
      "1198/1198 [==============================] - 0s 44us/step - loss: 0.3736 - acc: 0.9199 - val_loss: 1.4775 - val_acc: 0.5000\n",
      "Epoch 221/600\n",
      "1198/1198 [==============================] - 0s 45us/step - loss: 0.3923 - acc: 0.9115 - val_loss: 1.4522 - val_acc: 0.4851\n",
      "Epoch 222/600\n",
      "1198/1198 [==============================] - 0s 49us/step - loss: 0.4125 - acc: 0.8940 - val_loss: 1.5238 - val_acc: 0.4851\n",
      "Epoch 223/600\n",
      "1198/1198 [==============================] - 0s 47us/step - loss: 0.3831 - acc: 0.9073 - val_loss: 1.4741 - val_acc: 0.4627\n",
      "Epoch 224/600\n",
      "1198/1198 [==============================] - 0s 46us/step - loss: 0.3788 - acc: 0.9174 - val_loss: 1.5225 - val_acc: 0.4478\n",
      "Epoch 225/600\n",
      "1198/1198 [==============================] - 0s 44us/step - loss: 0.3748 - acc: 0.9224 - val_loss: 1.4742 - val_acc: 0.4701\n",
      "Epoch 226/600\n",
      "1198/1198 [==============================] - 0s 46us/step - loss: 0.3736 - acc: 0.9132 - val_loss: 1.4407 - val_acc: 0.4478\n",
      "Epoch 227/600\n",
      "1198/1198 [==============================] - 0s 44us/step - loss: 0.3696 - acc: 0.9232 - val_loss: 1.4122 - val_acc: 0.4925\n",
      "Epoch 228/600\n",
      "1198/1198 [==============================] - 0s 43us/step - loss: 0.3527 - acc: 0.9349 - val_loss: 1.5247 - val_acc: 0.5000\n",
      "Epoch 229/600\n",
      "1198/1198 [==============================] - 0s 42us/step - loss: 0.3696 - acc: 0.9290 - val_loss: 1.5042 - val_acc: 0.5000\n",
      "Epoch 230/600\n",
      "1198/1198 [==============================] - 0s 44us/step - loss: 0.3769 - acc: 0.9282 - val_loss: 1.4301 - val_acc: 0.4925\n",
      "Epoch 231/600\n"
     ]
    },
    {
     "name": "stdout",
     "output_type": "stream",
     "text": [
      "1198/1198 [==============================] - 0s 46us/step - loss: 0.3776 - acc: 0.9149 - val_loss: 1.4180 - val_acc: 0.4851\n",
      "Epoch 232/600\n",
      "1198/1198 [==============================] - 0s 43us/step - loss: 0.3543 - acc: 0.9324 - val_loss: 1.5184 - val_acc: 0.5075\n",
      "Epoch 233/600\n",
      "1198/1198 [==============================] - 0s 46us/step - loss: 0.3649 - acc: 0.9316 - val_loss: 1.5463 - val_acc: 0.4776\n",
      "Epoch 234/600\n",
      "1198/1198 [==============================] - 0s 44us/step - loss: 0.3727 - acc: 0.9299 - val_loss: 1.5253 - val_acc: 0.5075\n",
      "Epoch 235/600\n",
      "1198/1198 [==============================] - 0s 45us/step - loss: 0.3553 - acc: 0.9249 - val_loss: 1.5398 - val_acc: 0.5373\n",
      "Epoch 236/600\n",
      "1198/1198 [==============================] - 0s 45us/step - loss: 0.3599 - acc: 0.9240 - val_loss: 1.4770 - val_acc: 0.5224\n",
      "Epoch 237/600\n",
      "1198/1198 [==============================] - 0s 45us/step - loss: 0.3548 - acc: 0.9257 - val_loss: 1.3499 - val_acc: 0.5149\n",
      "Epoch 238/600\n",
      "1198/1198 [==============================] - 0s 44us/step - loss: 0.3526 - acc: 0.9341 - val_loss: 1.5620 - val_acc: 0.5000\n",
      "Epoch 239/600\n",
      "1198/1198 [==============================] - 0s 44us/step - loss: 0.3551 - acc: 0.9240 - val_loss: 1.5039 - val_acc: 0.4627\n",
      "Epoch 240/600\n",
      "1198/1198 [==============================] - 0s 44us/step - loss: 0.3423 - acc: 0.9274 - val_loss: 1.4716 - val_acc: 0.4776\n",
      "Epoch 241/600\n",
      "1198/1198 [==============================] - 0s 45us/step - loss: 0.3309 - acc: 0.9474 - val_loss: 1.5267 - val_acc: 0.5149\n",
      "Epoch 242/600\n",
      "1198/1198 [==============================] - 0s 44us/step - loss: 0.3198 - acc: 0.9541 - val_loss: 1.5007 - val_acc: 0.4851\n",
      "Epoch 243/600\n",
      "1198/1198 [==============================] - 0s 44us/step - loss: 0.3319 - acc: 0.9449 - val_loss: 1.5162 - val_acc: 0.4776\n",
      "Epoch 244/600\n",
      "1198/1198 [==============================] - 0s 43us/step - loss: 0.3274 - acc: 0.9449 - val_loss: 1.5708 - val_acc: 0.5373\n",
      "Epoch 245/600\n",
      "1198/1198 [==============================] - 0s 42us/step - loss: 0.3393 - acc: 0.9391 - val_loss: 1.4461 - val_acc: 0.4851\n",
      "Epoch 246/600\n",
      "1198/1198 [==============================] - 0s 45us/step - loss: 0.3476 - acc: 0.9316 - val_loss: 1.5971 - val_acc: 0.5224\n",
      "Epoch 247/600\n",
      "1198/1198 [==============================] - 0s 46us/step - loss: 0.3400 - acc: 0.9332 - val_loss: 1.5696 - val_acc: 0.5075\n",
      "Epoch 248/600\n",
      "1198/1198 [==============================] - 0s 44us/step - loss: 0.3569 - acc: 0.9240 - val_loss: 1.4841 - val_acc: 0.5000\n",
      "Epoch 249/600\n",
      "1198/1198 [==============================] - 0s 44us/step - loss: 0.3400 - acc: 0.9399 - val_loss: 1.4988 - val_acc: 0.4925\n",
      "Epoch 250/600\n",
      "1198/1198 [==============================] - 0s 45us/step - loss: 0.3325 - acc: 0.9374 - val_loss: 1.5380 - val_acc: 0.4851\n",
      "Epoch 251/600\n",
      "1198/1198 [==============================] - 0s 46us/step - loss: 0.3345 - acc: 0.9391 - val_loss: 1.5306 - val_acc: 0.5149\n",
      "Epoch 252/600\n",
      "1198/1198 [==============================] - 0s 46us/step - loss: 0.3428 - acc: 0.9349 - val_loss: 1.5157 - val_acc: 0.4925\n",
      "Epoch 253/600\n",
      "1198/1198 [==============================] - 0s 44us/step - loss: 0.3532 - acc: 0.9215 - val_loss: 1.5448 - val_acc: 0.5149\n",
      "Epoch 254/600\n",
      "1198/1198 [==============================] - 0s 46us/step - loss: 0.3626 - acc: 0.9257 - val_loss: 1.5408 - val_acc: 0.5373\n",
      "Epoch 255/600\n",
      "1198/1198 [==============================] - 0s 44us/step - loss: 0.3513 - acc: 0.9232 - val_loss: 1.4550 - val_acc: 0.4851\n",
      "Epoch 256/600\n",
      "1198/1198 [==============================] - 0s 43us/step - loss: 0.3344 - acc: 0.9374 - val_loss: 1.5397 - val_acc: 0.4627\n",
      "Epoch 257/600\n",
      "1198/1198 [==============================] - 0s 43us/step - loss: 0.3271 - acc: 0.9399 - val_loss: 1.4596 - val_acc: 0.5149\n",
      "Epoch 258/600\n",
      "1198/1198 [==============================] - 0s 42us/step - loss: 0.3416 - acc: 0.9282 - val_loss: 1.5169 - val_acc: 0.4701\n",
      "Epoch 259/600\n",
      "1198/1198 [==============================] - 0s 44us/step - loss: 0.3443 - acc: 0.9324 - val_loss: 1.6111 - val_acc: 0.4851\n",
      "Epoch 260/600\n",
      "1198/1198 [==============================] - 0s 44us/step - loss: 0.3637 - acc: 0.9107 - val_loss: 1.4639 - val_acc: 0.4478\n",
      "Epoch 261/600\n",
      "1198/1198 [==============================] - 0s 43us/step - loss: 0.3209 - acc: 0.9424 - val_loss: 1.5451 - val_acc: 0.5075\n",
      "Epoch 262/600\n",
      "1198/1198 [==============================] - 0s 45us/step - loss: 0.3315 - acc: 0.9366 - val_loss: 1.5149 - val_acc: 0.4776\n",
      "Epoch 263/600\n",
      "1198/1198 [==============================] - 0s 46us/step - loss: 0.3360 - acc: 0.9324 - val_loss: 1.5591 - val_acc: 0.5075\n",
      "Epoch 264/600\n",
      "1198/1198 [==============================] - 0s 44us/step - loss: 0.3109 - acc: 0.9508 - val_loss: 1.5045 - val_acc: 0.4851\n",
      "Epoch 265/600\n",
      "1198/1198 [==============================] - 0s 47us/step - loss: 0.3065 - acc: 0.9524 - val_loss: 1.5278 - val_acc: 0.5224\n",
      "Epoch 266/600\n",
      "1198/1198 [==============================] - 0s 46us/step - loss: 0.3025 - acc: 0.9499 - val_loss: 1.5890 - val_acc: 0.5373\n",
      "Epoch 267/600\n",
      "1198/1198 [==============================] - 0s 45us/step - loss: 0.3190 - acc: 0.9499 - val_loss: 1.5317 - val_acc: 0.4851\n",
      "Epoch 268/600\n",
      "1198/1198 [==============================] - 0s 45us/step - loss: 0.3092 - acc: 0.9524 - val_loss: 1.4934 - val_acc: 0.5224\n",
      "Epoch 269/600\n",
      "1198/1198 [==============================] - 0s 42us/step - loss: 0.3374 - acc: 0.9349 - val_loss: 1.5950 - val_acc: 0.5149\n",
      "Epoch 270/600\n",
      "1198/1198 [==============================] - 0s 44us/step - loss: 0.3650 - acc: 0.9174 - val_loss: 1.5142 - val_acc: 0.5149\n",
      "Epoch 271/600\n",
      "1198/1198 [==============================] - 0s 42us/step - loss: 0.3520 - acc: 0.9299 - val_loss: 1.4752 - val_acc: 0.5000\n",
      "Epoch 272/600\n",
      "1198/1198 [==============================] - 0s 42us/step - loss: 0.3439 - acc: 0.9199 - val_loss: 1.4494 - val_acc: 0.4925\n",
      "Epoch 273/600\n",
      "1198/1198 [==============================] - 0s 43us/step - loss: 0.3188 - acc: 0.9466 - val_loss: 1.6475 - val_acc: 0.5000\n",
      "Epoch 274/600\n",
      "1198/1198 [==============================] - 0s 45us/step - loss: 0.3304 - acc: 0.9374 - val_loss: 1.8092 - val_acc: 0.4851\n",
      "Epoch 275/600\n",
      "1198/1198 [==============================] - 0s 48us/step - loss: 0.3683 - acc: 0.9115 - val_loss: 1.5534 - val_acc: 0.5075\n",
      "Epoch 276/600\n",
      "1198/1198 [==============================] - 0s 46us/step - loss: 0.3248 - acc: 0.9482 - val_loss: 1.4785 - val_acc: 0.4925\n",
      "Epoch 277/600\n",
      "1198/1198 [==============================] - 0s 50us/step - loss: 0.3366 - acc: 0.9374 - val_loss: 1.7232 - val_acc: 0.5149\n",
      "Epoch 278/600\n",
      "1198/1198 [==============================] - 0s 41us/step - loss: 0.3164 - acc: 0.9466 - val_loss: 1.5334 - val_acc: 0.5224\n",
      "Epoch 279/600\n",
      "1198/1198 [==============================] - 0s 43us/step - loss: 0.3222 - acc: 0.9341 - val_loss: 1.5450 - val_acc: 0.4925\n",
      "Epoch 280/600\n",
      "1198/1198 [==============================] - 0s 43us/step - loss: 0.3108 - acc: 0.9541 - val_loss: 1.6033 - val_acc: 0.5000\n",
      "Epoch 281/600\n",
      "1198/1198 [==============================] - 0s 44us/step - loss: 0.3135 - acc: 0.9432 - val_loss: 1.5035 - val_acc: 0.4627\n",
      "Epoch 282/600\n",
      "1198/1198 [==============================] - 0s 45us/step - loss: 0.3275 - acc: 0.9382 - val_loss: 1.6443 - val_acc: 0.5299\n",
      "Epoch 283/600\n",
      "1198/1198 [==============================] - 0s 46us/step - loss: 0.3198 - acc: 0.9474 - val_loss: 1.6445 - val_acc: 0.5373\n",
      "Epoch 284/600\n",
      "1198/1198 [==============================] - 0s 42us/step - loss: 0.3125 - acc: 0.9432 - val_loss: 1.5268 - val_acc: 0.4925\n",
      "Epoch 285/600\n",
      "1198/1198 [==============================] - 0s 43us/step - loss: 0.3248 - acc: 0.9316 - val_loss: 1.5445 - val_acc: 0.4851\n",
      "Epoch 286/600\n",
      "1198/1198 [==============================] - 0s 42us/step - loss: 0.3362 - acc: 0.9332 - val_loss: 1.6051 - val_acc: 0.4776\n",
      "Epoch 287/600\n",
      "1198/1198 [==============================] - 0s 42us/step - loss: 0.3211 - acc: 0.9449 - val_loss: 1.6325 - val_acc: 0.5000\n",
      "Epoch 288/600\n",
      "1198/1198 [==============================] - 0s 43us/step - loss: 0.3170 - acc: 0.9349 - val_loss: 1.5309 - val_acc: 0.5000\n",
      "Epoch 289/600\n",
      "1198/1198 [==============================] - 0s 44us/step - loss: 0.3227 - acc: 0.9424 - val_loss: 1.5530 - val_acc: 0.5000\n",
      "Epoch 290/600\n"
     ]
    },
    {
     "name": "stdout",
     "output_type": "stream",
     "text": [
      "1198/1198 [==============================] - 0s 43us/step - loss: 0.3094 - acc: 0.9566 - val_loss: 1.5838 - val_acc: 0.4925\n",
      "Epoch 291/600\n",
      "1198/1198 [==============================] - 0s 43us/step - loss: 0.3174 - acc: 0.9474 - val_loss: 1.6344 - val_acc: 0.4925\n",
      "Epoch 292/600\n",
      "1198/1198 [==============================] - 0s 42us/step - loss: 0.3212 - acc: 0.9424 - val_loss: 1.6294 - val_acc: 0.4701\n",
      "Epoch 293/600\n",
      "1198/1198 [==============================] - 0s 42us/step - loss: 0.3206 - acc: 0.9432 - val_loss: 1.6858 - val_acc: 0.5299\n",
      "Epoch 294/600\n",
      "1198/1198 [==============================] - 0s 40us/step - loss: 0.3110 - acc: 0.9474 - val_loss: 1.4836 - val_acc: 0.5149\n",
      "Epoch 295/600\n",
      "1198/1198 [==============================] - 0s 40us/step - loss: 0.2973 - acc: 0.9533 - val_loss: 1.6513 - val_acc: 0.4478\n",
      "Epoch 296/600\n",
      "1198/1198 [==============================] - 0s 42us/step - loss: 0.3152 - acc: 0.9407 - val_loss: 1.5877 - val_acc: 0.5075\n",
      "Epoch 297/600\n",
      "1198/1198 [==============================] - 0s 43us/step - loss: 0.2999 - acc: 0.9549 - val_loss: 1.5130 - val_acc: 0.5373\n",
      "Epoch 298/600\n",
      "1198/1198 [==============================] - 0s 41us/step - loss: 0.3142 - acc: 0.9457 - val_loss: 1.5595 - val_acc: 0.4851\n",
      "Epoch 299/600\n",
      "1198/1198 [==============================] - 0s 39us/step - loss: 0.3013 - acc: 0.9508 - val_loss: 1.6123 - val_acc: 0.5224\n",
      "Epoch 300/600\n",
      "1198/1198 [==============================] - 0s 40us/step - loss: 0.3067 - acc: 0.9482 - val_loss: 1.6519 - val_acc: 0.5224\n",
      "Epoch 301/600\n",
      "1198/1198 [==============================] - 0s 40us/step - loss: 0.2945 - acc: 0.9583 - val_loss: 1.5696 - val_acc: 0.5000\n",
      "Epoch 302/600\n",
      "1198/1198 [==============================] - 0s 42us/step - loss: 0.2923 - acc: 0.9583 - val_loss: 1.5695 - val_acc: 0.5000\n",
      "Epoch 303/600\n",
      "1198/1198 [==============================] - 0s 40us/step - loss: 0.2812 - acc: 0.9574 - val_loss: 1.6913 - val_acc: 0.5448\n",
      "Epoch 304/600\n",
      "1198/1198 [==============================] - 0s 40us/step - loss: 0.3070 - acc: 0.9424 - val_loss: 1.5815 - val_acc: 0.4776\n",
      "Epoch 305/600\n",
      "1198/1198 [==============================] - 0s 44us/step - loss: 0.2905 - acc: 0.9524 - val_loss: 1.7078 - val_acc: 0.5075\n",
      "Epoch 306/600\n",
      "1198/1198 [==============================] - 0s 42us/step - loss: 0.3083 - acc: 0.9466 - val_loss: 1.5732 - val_acc: 0.4925\n",
      "Epoch 307/600\n",
      "1198/1198 [==============================] - 0s 43us/step - loss: 0.2989 - acc: 0.9524 - val_loss: 1.6608 - val_acc: 0.5224\n",
      "Epoch 308/600\n",
      "1198/1198 [==============================] - 0s 42us/step - loss: 0.3031 - acc: 0.9549 - val_loss: 1.5629 - val_acc: 0.5000\n",
      "Epoch 309/600\n",
      "1198/1198 [==============================] - 0s 42us/step - loss: 0.3051 - acc: 0.9524 - val_loss: 1.5847 - val_acc: 0.5000\n",
      "Epoch 310/600\n",
      "1198/1198 [==============================] - 0s 43us/step - loss: 0.3061 - acc: 0.9508 - val_loss: 1.6341 - val_acc: 0.5149\n",
      "Epoch 311/600\n",
      "1198/1198 [==============================] - 0s 44us/step - loss: 0.3057 - acc: 0.9441 - val_loss: 1.5244 - val_acc: 0.5149\n",
      "Epoch 312/600\n",
      "1198/1198 [==============================] - 0s 46us/step - loss: 0.3068 - acc: 0.9508 - val_loss: 1.6860 - val_acc: 0.5075\n",
      "Epoch 313/600\n",
      "1198/1198 [==============================] - 0s 45us/step - loss: 0.3222 - acc: 0.9366 - val_loss: 1.6852 - val_acc: 0.4925\n",
      "Epoch 314/600\n",
      "1198/1198 [==============================] - 0s 44us/step - loss: 0.3062 - acc: 0.9482 - val_loss: 1.6990 - val_acc: 0.4851\n",
      "Epoch 315/600\n",
      "1198/1198 [==============================] - 0s 45us/step - loss: 0.3066 - acc: 0.9457 - val_loss: 1.6295 - val_acc: 0.4925\n",
      "Epoch 316/600\n",
      "1198/1198 [==============================] - 0s 42us/step - loss: 0.3044 - acc: 0.9524 - val_loss: 1.6795 - val_acc: 0.5149\n",
      "Epoch 317/600\n",
      "1198/1198 [==============================] - 0s 43us/step - loss: 0.3061 - acc: 0.9482 - val_loss: 1.6491 - val_acc: 0.4925\n",
      "Epoch 318/600\n",
      "1198/1198 [==============================] - 0s 43us/step - loss: 0.3107 - acc: 0.9449 - val_loss: 1.6175 - val_acc: 0.5075\n",
      "Epoch 319/600\n",
      "1198/1198 [==============================] - 0s 42us/step - loss: 0.3083 - acc: 0.9474 - val_loss: 1.7267 - val_acc: 0.5224\n",
      "Epoch 320/600\n",
      "1198/1198 [==============================] - 0s 42us/step - loss: 0.2931 - acc: 0.9541 - val_loss: 1.6743 - val_acc: 0.4552\n",
      "Epoch 321/600\n",
      "1198/1198 [==============================] - 0s 43us/step - loss: 0.3207 - acc: 0.9382 - val_loss: 1.7255 - val_acc: 0.5075\n",
      "Epoch 322/600\n",
      "1198/1198 [==============================] - 0s 43us/step - loss: 0.3297 - acc: 0.9349 - val_loss: 1.6267 - val_acc: 0.5224\n",
      "Epoch 323/600\n",
      "1198/1198 [==============================] - 0s 43us/step - loss: 0.3196 - acc: 0.9382 - val_loss: 1.6237 - val_acc: 0.5000\n",
      "Epoch 324/600\n",
      "1198/1198 [==============================] - 0s 46us/step - loss: 0.3048 - acc: 0.9457 - val_loss: 1.6611 - val_acc: 0.4851\n",
      "Epoch 325/600\n",
      "1198/1198 [==============================] - 0s 42us/step - loss: 0.2964 - acc: 0.9516 - val_loss: 1.6998 - val_acc: 0.4776\n",
      "Epoch 326/600\n",
      "1198/1198 [==============================] - 0s 43us/step - loss: 0.2901 - acc: 0.9591 - val_loss: 1.6707 - val_acc: 0.5373\n",
      "Epoch 327/600\n",
      "1198/1198 [==============================] - 0s 44us/step - loss: 0.3071 - acc: 0.9457 - val_loss: 1.5262 - val_acc: 0.4851\n",
      "Epoch 328/600\n",
      "1198/1198 [==============================] - 0s 40us/step - loss: 0.3135 - acc: 0.9374 - val_loss: 1.5856 - val_acc: 0.5373\n",
      "Epoch 329/600\n",
      "1198/1198 [==============================] - 0s 40us/step - loss: 0.3148 - acc: 0.9424 - val_loss: 1.6230 - val_acc: 0.5224\n",
      "Epoch 330/600\n",
      "1198/1198 [==============================] - 0s 41us/step - loss: 0.3217 - acc: 0.9416 - val_loss: 1.7058 - val_acc: 0.5000\n",
      "Epoch 331/600\n",
      "1198/1198 [==============================] - 0s 41us/step - loss: 0.3180 - acc: 0.9307 - val_loss: 1.5958 - val_acc: 0.4925\n",
      "Epoch 332/600\n",
      "1198/1198 [==============================] - 0s 41us/step - loss: 0.3124 - acc: 0.9341 - val_loss: 1.4967 - val_acc: 0.4701\n",
      "Epoch 333/600\n",
      "1198/1198 [==============================] - 0s 42us/step - loss: 0.3290 - acc: 0.9274 - val_loss: 1.6915 - val_acc: 0.5224\n",
      "Epoch 334/600\n",
      "1198/1198 [==============================] - 0s 42us/step - loss: 0.3326 - acc: 0.9274 - val_loss: 1.6311 - val_acc: 0.4925\n",
      "Epoch 335/600\n",
      "1198/1198 [==============================] - 0s 46us/step - loss: 0.2888 - acc: 0.9508 - val_loss: 1.7042 - val_acc: 0.5373\n",
      "Epoch 336/600\n",
      "1198/1198 [==============================] - 0s 44us/step - loss: 0.2998 - acc: 0.9491 - val_loss: 1.5843 - val_acc: 0.5075\n",
      "Epoch 337/600\n",
      "1198/1198 [==============================] - 0s 43us/step - loss: 0.2884 - acc: 0.9474 - val_loss: 1.5684 - val_acc: 0.5075\n",
      "Epoch 338/600\n",
      "1198/1198 [==============================] - 0s 46us/step - loss: 0.2924 - acc: 0.9549 - val_loss: 1.6401 - val_acc: 0.4925\n",
      "Epoch 339/600\n",
      "1198/1198 [==============================] - 0s 42us/step - loss: 0.3021 - acc: 0.9449 - val_loss: 1.6866 - val_acc: 0.5224\n",
      "Epoch 340/600\n",
      "1198/1198 [==============================] - 0s 42us/step - loss: 0.2975 - acc: 0.9516 - val_loss: 1.6119 - val_acc: 0.5149\n",
      "Epoch 341/600\n",
      "1198/1198 [==============================] - 0s 42us/step - loss: 0.3081 - acc: 0.9474 - val_loss: 1.6169 - val_acc: 0.5373\n",
      "Epoch 342/600\n",
      "1198/1198 [==============================] - 0s 43us/step - loss: 0.2993 - acc: 0.9499 - val_loss: 1.6763 - val_acc: 0.5448\n",
      "Epoch 343/600\n",
      "1198/1198 [==============================] - 0s 43us/step - loss: 0.2843 - acc: 0.9566 - val_loss: 1.6191 - val_acc: 0.5299\n",
      "Epoch 344/600\n",
      "1198/1198 [==============================] - 0s 42us/step - loss: 0.3009 - acc: 0.9533 - val_loss: 1.7420 - val_acc: 0.5373\n",
      "Epoch 345/600\n",
      "1198/1198 [==============================] - 0s 44us/step - loss: 0.2775 - acc: 0.9574 - val_loss: 1.5782 - val_acc: 0.4851\n",
      "Epoch 346/600\n",
      "1198/1198 [==============================] - 0s 42us/step - loss: 0.3051 - acc: 0.9432 - val_loss: 1.5957 - val_acc: 0.4627\n",
      "Epoch 347/600\n",
      "1198/1198 [==============================] - 0s 45us/step - loss: 0.2881 - acc: 0.9516 - val_loss: 1.7320 - val_acc: 0.5448\n",
      "Epoch 348/600\n",
      "1198/1198 [==============================] - 0s 44us/step - loss: 0.2806 - acc: 0.9533 - val_loss: 1.6423 - val_acc: 0.4925\n",
      "Epoch 349/600\n"
     ]
    },
    {
     "name": "stdout",
     "output_type": "stream",
     "text": [
      "1198/1198 [==============================] - 0s 46us/step - loss: 0.2849 - acc: 0.9499 - val_loss: 1.6634 - val_acc: 0.5149\n",
      "Epoch 350/600\n",
      "1198/1198 [==============================] - 0s 45us/step - loss: 0.2889 - acc: 0.9474 - val_loss: 1.6413 - val_acc: 0.5075\n",
      "Epoch 351/600\n",
      "1198/1198 [==============================] - 0s 44us/step - loss: 0.2728 - acc: 0.9566 - val_loss: 1.6845 - val_acc: 0.4851\n",
      "Epoch 352/600\n",
      "1198/1198 [==============================] - 0s 43us/step - loss: 0.2801 - acc: 0.9574 - val_loss: 1.7360 - val_acc: 0.5149\n",
      "Epoch 353/600\n",
      "1198/1198 [==============================] - 0s 42us/step - loss: 0.2820 - acc: 0.9491 - val_loss: 1.7356 - val_acc: 0.5299\n",
      "Epoch 354/600\n",
      "1198/1198 [==============================] - 0s 43us/step - loss: 0.2893 - acc: 0.9466 - val_loss: 1.6959 - val_acc: 0.5224\n",
      "Epoch 355/600\n",
      "1198/1198 [==============================] - 0s 47us/step - loss: 0.2981 - acc: 0.9407 - val_loss: 1.6191 - val_acc: 0.5373\n",
      "Epoch 356/600\n",
      "1198/1198 [==============================] - 0s 49us/step - loss: 0.3001 - acc: 0.9382 - val_loss: 1.6884 - val_acc: 0.5000\n",
      "Epoch 357/600\n",
      "1198/1198 [==============================] - 0s 47us/step - loss: 0.2861 - acc: 0.9533 - val_loss: 1.6806 - val_acc: 0.5299\n",
      "Epoch 358/600\n",
      "1198/1198 [==============================] - 0s 46us/step - loss: 0.2952 - acc: 0.9482 - val_loss: 1.6434 - val_acc: 0.5299\n",
      "Epoch 359/600\n",
      "1198/1198 [==============================] - 0s 39us/step - loss: 0.2897 - acc: 0.9499 - val_loss: 1.6541 - val_acc: 0.5373\n",
      "Epoch 360/600\n",
      "1198/1198 [==============================] - 0s 42us/step - loss: 0.3052 - acc: 0.9366 - val_loss: 1.4324 - val_acc: 0.4627\n",
      "Epoch 361/600\n",
      "1198/1198 [==============================] - 0s 43us/step - loss: 0.3191 - acc: 0.9382 - val_loss: 1.6450 - val_acc: 0.4851\n",
      "Epoch 362/600\n",
      "1198/1198 [==============================] - 0s 42us/step - loss: 0.3019 - acc: 0.9491 - val_loss: 1.6922 - val_acc: 0.5075\n",
      "Epoch 363/600\n",
      "1198/1198 [==============================] - 0s 42us/step - loss: 0.2887 - acc: 0.9499 - val_loss: 1.6433 - val_acc: 0.4925\n",
      "Epoch 364/600\n",
      "1198/1198 [==============================] - 0s 42us/step - loss: 0.2897 - acc: 0.9474 - val_loss: 1.5959 - val_acc: 0.5000\n",
      "Epoch 365/600\n",
      "1198/1198 [==============================] - 0s 42us/step - loss: 0.2921 - acc: 0.9541 - val_loss: 1.6336 - val_acc: 0.5000\n",
      "Epoch 366/600\n",
      "1198/1198 [==============================] - 0s 45us/step - loss: 0.2971 - acc: 0.9432 - val_loss: 1.6596 - val_acc: 0.5149\n",
      "Epoch 367/600\n",
      "1198/1198 [==============================] - 0s 43us/step - loss: 0.2955 - acc: 0.9432 - val_loss: 1.6505 - val_acc: 0.5149\n",
      "Epoch 368/600\n",
      "1198/1198 [==============================] - 0s 42us/step - loss: 0.2842 - acc: 0.9541 - val_loss: 1.6479 - val_acc: 0.4478\n",
      "Epoch 369/600\n",
      "1198/1198 [==============================] - 0s 42us/step - loss: 0.2989 - acc: 0.9449 - val_loss: 1.8171 - val_acc: 0.5000\n",
      "Epoch 370/600\n",
      "1198/1198 [==============================] - 0s 43us/step - loss: 0.3019 - acc: 0.9441 - val_loss: 1.5762 - val_acc: 0.5597\n",
      "Epoch 371/600\n",
      "1198/1198 [==============================] - 0s 42us/step - loss: 0.3039 - acc: 0.9416 - val_loss: 1.6198 - val_acc: 0.5149\n",
      "Epoch 372/600\n",
      "1198/1198 [==============================] - 0s 43us/step - loss: 0.3008 - acc: 0.9457 - val_loss: 1.6921 - val_acc: 0.5075\n",
      "Epoch 373/600\n",
      "1198/1198 [==============================] - 0s 45us/step - loss: 0.2875 - acc: 0.9491 - val_loss: 1.5886 - val_acc: 0.4627\n",
      "Epoch 374/600\n",
      "1198/1198 [==============================] - 0s 46us/step - loss: 0.2815 - acc: 0.9558 - val_loss: 1.6620 - val_acc: 0.4925\n",
      "Epoch 375/600\n",
      "1198/1198 [==============================] - 0s 44us/step - loss: 0.3078 - acc: 0.9357 - val_loss: 1.6334 - val_acc: 0.5075\n",
      "Epoch 376/600\n",
      "1198/1198 [==============================] - 0s 43us/step - loss: 0.2949 - acc: 0.9516 - val_loss: 1.7642 - val_acc: 0.5522\n",
      "Epoch 377/600\n",
      "1198/1198 [==============================] - 0s 45us/step - loss: 0.2824 - acc: 0.9541 - val_loss: 1.6956 - val_acc: 0.5075\n",
      "Epoch 378/600\n",
      "1198/1198 [==============================] - 0s 46us/step - loss: 0.2819 - acc: 0.9549 - val_loss: 1.7331 - val_acc: 0.5149\n",
      "Epoch 379/600\n",
      "1198/1198 [==============================] - 0s 42us/step - loss: 0.2822 - acc: 0.9524 - val_loss: 1.7314 - val_acc: 0.4776\n",
      "Epoch 380/600\n",
      "1198/1198 [==============================] - 0s 42us/step - loss: 0.2949 - acc: 0.9499 - val_loss: 1.6367 - val_acc: 0.5075\n",
      "Epoch 381/600\n",
      "1198/1198 [==============================] - 0s 42us/step - loss: 0.2693 - acc: 0.9574 - val_loss: 1.7414 - val_acc: 0.5224\n",
      "Epoch 382/600\n",
      "1198/1198 [==============================] - 0s 44us/step - loss: 0.2877 - acc: 0.9508 - val_loss: 1.6981 - val_acc: 0.5299\n",
      "Epoch 383/600\n",
      "1198/1198 [==============================] - 0s 43us/step - loss: 0.2829 - acc: 0.9574 - val_loss: 1.6275 - val_acc: 0.5373\n",
      "Epoch 384/600\n",
      "1198/1198 [==============================] - 0s 43us/step - loss: 0.2742 - acc: 0.9608 - val_loss: 1.7193 - val_acc: 0.5000\n",
      "Epoch 385/600\n",
      "1198/1198 [==============================] - 0s 44us/step - loss: 0.3404 - acc: 0.9249 - val_loss: 1.7797 - val_acc: 0.4925\n",
      "Epoch 386/600\n",
      "1198/1198 [==============================] - 0s 46us/step - loss: 0.3114 - acc: 0.9324 - val_loss: 1.6309 - val_acc: 0.4627\n",
      "Epoch 387/600\n",
      "1198/1198 [==============================] - 0s 42us/step - loss: 0.3075 - acc: 0.9466 - val_loss: 1.6132 - val_acc: 0.5075\n",
      "Epoch 388/600\n",
      "1198/1198 [==============================] - 0s 44us/step - loss: 0.2917 - acc: 0.9533 - val_loss: 1.6841 - val_acc: 0.4851\n",
      "Epoch 389/600\n",
      "1198/1198 [==============================] - 0s 44us/step - loss: 0.3039 - acc: 0.9424 - val_loss: 1.6797 - val_acc: 0.4851\n",
      "Epoch 390/600\n",
      "1198/1198 [==============================] - 0s 43us/step - loss: 0.3052 - acc: 0.9399 - val_loss: 1.8553 - val_acc: 0.4925\n",
      "Epoch 391/600\n",
      "1198/1198 [==============================] - 0s 44us/step - loss: 0.2876 - acc: 0.9424 - val_loss: 1.7270 - val_acc: 0.5075\n",
      "Epoch 392/600\n",
      "1198/1198 [==============================] - 0s 45us/step - loss: 0.2710 - acc: 0.9549 - val_loss: 1.7717 - val_acc: 0.5299\n",
      "Epoch 393/600\n",
      "1198/1198 [==============================] - 0s 44us/step - loss: 0.2608 - acc: 0.9666 - val_loss: 1.8514 - val_acc: 0.5224\n",
      "Epoch 394/600\n",
      "1198/1198 [==============================] - 0s 42us/step - loss: 0.2925 - acc: 0.9407 - val_loss: 1.6659 - val_acc: 0.5299\n",
      "Epoch 395/600\n",
      "1198/1198 [==============================] - 0s 44us/step - loss: 0.2770 - acc: 0.9541 - val_loss: 1.7142 - val_acc: 0.4851\n",
      "Epoch 396/600\n",
      "1198/1198 [==============================] - 0s 44us/step - loss: 0.2930 - acc: 0.9508 - val_loss: 1.7894 - val_acc: 0.5149\n",
      "Epoch 397/600\n",
      "1198/1198 [==============================] - 0s 44us/step - loss: 0.2900 - acc: 0.9424 - val_loss: 1.7332 - val_acc: 0.5000\n",
      "Epoch 398/600\n",
      "1198/1198 [==============================] - 0s 43us/step - loss: 0.2937 - acc: 0.9482 - val_loss: 1.7129 - val_acc: 0.5075\n",
      "Epoch 399/600\n",
      "1198/1198 [==============================] - 0s 44us/step - loss: 0.2922 - acc: 0.9499 - val_loss: 1.6866 - val_acc: 0.5149\n",
      "Epoch 400/600\n",
      "1198/1198 [==============================] - 0s 44us/step - loss: 0.3070 - acc: 0.9341 - val_loss: 1.6339 - val_acc: 0.5075\n",
      "Epoch 401/600\n",
      "1198/1198 [==============================] - 0s 45us/step - loss: 0.3051 - acc: 0.9366 - val_loss: 1.7226 - val_acc: 0.5149\n",
      "Epoch 402/600\n",
      "1198/1198 [==============================] - 0s 45us/step - loss: 0.2848 - acc: 0.9524 - val_loss: 1.7301 - val_acc: 0.5448\n",
      "Epoch 403/600\n",
      "1198/1198 [==============================] - 0s 46us/step - loss: 0.2680 - acc: 0.9591 - val_loss: 1.7966 - val_acc: 0.5149\n",
      "Epoch 404/600\n",
      "1198/1198 [==============================] - 0s 43us/step - loss: 0.2868 - acc: 0.9499 - val_loss: 1.7447 - val_acc: 0.4851\n",
      "Epoch 405/600\n",
      "1198/1198 [==============================] - 0s 42us/step - loss: 0.2826 - acc: 0.9491 - val_loss: 1.8142 - val_acc: 0.5149\n",
      "Epoch 406/600\n",
      "1198/1198 [==============================] - 0s 44us/step - loss: 0.2856 - acc: 0.9524 - val_loss: 1.6601 - val_acc: 0.5448\n",
      "Epoch 407/600\n",
      "1198/1198 [==============================] - 0s 45us/step - loss: 0.2917 - acc: 0.9457 - val_loss: 1.7385 - val_acc: 0.4851\n",
      "Epoch 408/600\n"
     ]
    },
    {
     "name": "stdout",
     "output_type": "stream",
     "text": [
      "1198/1198 [==============================] - 0s 43us/step - loss: 0.2843 - acc: 0.9491 - val_loss: 1.6997 - val_acc: 0.5149\n",
      "Epoch 409/600\n",
      "1198/1198 [==============================] - 0s 42us/step - loss: 0.2771 - acc: 0.9533 - val_loss: 1.7431 - val_acc: 0.5299\n",
      "Epoch 410/600\n",
      "1198/1198 [==============================] - 0s 42us/step - loss: 0.2794 - acc: 0.9533 - val_loss: 1.7170 - val_acc: 0.4776\n",
      "Epoch 411/600\n",
      "1198/1198 [==============================] - 0s 41us/step - loss: 0.2791 - acc: 0.9449 - val_loss: 1.7114 - val_acc: 0.4925\n",
      "Epoch 412/600\n",
      "1198/1198 [==============================] - 0s 44us/step - loss: 0.2822 - acc: 0.9533 - val_loss: 1.8281 - val_acc: 0.5597\n",
      "Epoch 413/600\n",
      "1198/1198 [==============================] - 0s 42us/step - loss: 0.2796 - acc: 0.9616 - val_loss: 1.7651 - val_acc: 0.5000\n",
      "Epoch 414/600\n",
      "1198/1198 [==============================] - 0s 42us/step - loss: 0.2897 - acc: 0.9508 - val_loss: 1.8416 - val_acc: 0.4925\n",
      "Epoch 415/600\n",
      "1198/1198 [==============================] - 0s 42us/step - loss: 0.2912 - acc: 0.9424 - val_loss: 1.7611 - val_acc: 0.5149\n",
      "Epoch 416/600\n",
      "1198/1198 [==============================] - 0s 45us/step - loss: 0.2731 - acc: 0.9566 - val_loss: 1.7524 - val_acc: 0.5299\n",
      "Epoch 417/600\n",
      "1198/1198 [==============================] - 0s 42us/step - loss: 0.2766 - acc: 0.9508 - val_loss: 1.7655 - val_acc: 0.5075\n",
      "Epoch 418/600\n",
      "1198/1198 [==============================] - 0s 42us/step - loss: 0.2784 - acc: 0.9516 - val_loss: 1.7103 - val_acc: 0.4627\n",
      "Epoch 419/600\n",
      "1198/1198 [==============================] - 0s 41us/step - loss: 0.2882 - acc: 0.9466 - val_loss: 1.8202 - val_acc: 0.4851\n",
      "Epoch 420/600\n",
      "1198/1198 [==============================] - 0s 42us/step - loss: 0.2796 - acc: 0.9508 - val_loss: 1.7631 - val_acc: 0.4925\n",
      "Epoch 421/600\n",
      "1198/1198 [==============================] - 0s 42us/step - loss: 0.3132 - acc: 0.9282 - val_loss: 1.6499 - val_acc: 0.4925\n",
      "Epoch 422/600\n",
      "1198/1198 [==============================] - 0s 41us/step - loss: 0.2980 - acc: 0.9449 - val_loss: 1.6517 - val_acc: 0.4925\n",
      "Epoch 423/600\n",
      "1198/1198 [==============================] - 0s 42us/step - loss: 0.2884 - acc: 0.9499 - val_loss: 1.8209 - val_acc: 0.4851\n",
      "Epoch 424/600\n",
      "1198/1198 [==============================] - 0s 43us/step - loss: 0.3287 - acc: 0.9224 - val_loss: 1.8490 - val_acc: 0.5075\n",
      "Epoch 425/600\n",
      "1198/1198 [==============================] - 0s 44us/step - loss: 0.3217 - acc: 0.9265 - val_loss: 1.7091 - val_acc: 0.4776\n",
      "Epoch 426/600\n",
      "1198/1198 [==============================] - 0s 42us/step - loss: 0.3388 - acc: 0.9224 - val_loss: 1.5950 - val_acc: 0.5149\n",
      "Epoch 427/600\n",
      "1198/1198 [==============================] - 0s 44us/step - loss: 0.3161 - acc: 0.9215 - val_loss: 1.5341 - val_acc: 0.5299\n",
      "Epoch 428/600\n",
      "1198/1198 [==============================] - 0s 44us/step - loss: 0.3140 - acc: 0.9332 - val_loss: 1.5996 - val_acc: 0.4925\n",
      "Epoch 429/600\n",
      "1198/1198 [==============================] - 0s 42us/step - loss: 0.3123 - acc: 0.9407 - val_loss: 1.6838 - val_acc: 0.4776\n",
      "Epoch 430/600\n",
      "1198/1198 [==============================] - 0s 42us/step - loss: 0.3064 - acc: 0.9357 - val_loss: 1.7490 - val_acc: 0.5149\n",
      "Epoch 431/600\n",
      "1198/1198 [==============================] - 0s 43us/step - loss: 0.2969 - acc: 0.9441 - val_loss: 1.6396 - val_acc: 0.5373\n",
      "Epoch 432/600\n",
      "1198/1198 [==============================] - 0s 43us/step - loss: 0.2907 - acc: 0.9441 - val_loss: 1.7580 - val_acc: 0.5075\n",
      "Epoch 433/600\n",
      "1198/1198 [==============================] - 0s 42us/step - loss: 0.2923 - acc: 0.9391 - val_loss: 1.6749 - val_acc: 0.5000\n",
      "Epoch 434/600\n",
      "1198/1198 [==============================] - 0s 43us/step - loss: 0.3117 - acc: 0.9382 - val_loss: 1.8024 - val_acc: 0.4776\n",
      "Epoch 435/600\n",
      "1198/1198 [==============================] - 0s 44us/step - loss: 0.2814 - acc: 0.9566 - val_loss: 1.6421 - val_acc: 0.4925\n",
      "Epoch 436/600\n",
      "1198/1198 [==============================] - 0s 50us/step - loss: 0.2993 - acc: 0.9416 - val_loss: 1.7308 - val_acc: 0.4851\n",
      "Epoch 437/600\n",
      "1198/1198 [==============================] - 0s 51us/step - loss: 0.3212 - acc: 0.9224 - val_loss: 1.7185 - val_acc: 0.4851\n",
      "Epoch 438/600\n",
      "1198/1198 [==============================] - 0s 51us/step - loss: 0.3171 - acc: 0.9274 - val_loss: 1.6919 - val_acc: 0.5075\n",
      "Epoch 439/600\n",
      "1198/1198 [==============================] - 0s 48us/step - loss: 0.2833 - acc: 0.9474 - val_loss: 1.6918 - val_acc: 0.5149\n",
      "Epoch 440/600\n",
      "1198/1198 [==============================] - 0s 43us/step - loss: 0.2941 - acc: 0.9533 - val_loss: 1.7737 - val_acc: 0.5000\n",
      "Epoch 441/600\n",
      "1198/1198 [==============================] - 0s 43us/step - loss: 0.2983 - acc: 0.9424 - val_loss: 1.6937 - val_acc: 0.4552\n",
      "Epoch 442/600\n",
      "1198/1198 [==============================] - 0s 43us/step - loss: 0.2925 - acc: 0.9482 - val_loss: 1.6851 - val_acc: 0.5149\n",
      "Epoch 443/600\n",
      "1198/1198 [==============================] - 0s 44us/step - loss: 0.2881 - acc: 0.9449 - val_loss: 1.6672 - val_acc: 0.4627\n",
      "Epoch 444/600\n",
      "1198/1198 [==============================] - 0s 41us/step - loss: 0.2804 - acc: 0.9466 - val_loss: 1.6887 - val_acc: 0.4627\n",
      "Epoch 445/600\n",
      "1198/1198 [==============================] - 0s 45us/step - loss: 0.2917 - acc: 0.9416 - val_loss: 1.6690 - val_acc: 0.5000\n",
      "Epoch 446/600\n",
      "1198/1198 [==============================] - 0s 46us/step - loss: 0.2758 - acc: 0.9533 - val_loss: 1.7469 - val_acc: 0.5000\n",
      "Epoch 447/600\n",
      "1198/1198 [==============================] - 0s 46us/step - loss: 0.2845 - acc: 0.9516 - val_loss: 1.8907 - val_acc: 0.5149\n",
      "Epoch 448/600\n",
      "1198/1198 [==============================] - 0s 46us/step - loss: 0.2928 - acc: 0.9432 - val_loss: 1.7251 - val_acc: 0.5299\n",
      "Epoch 449/600\n",
      "1198/1198 [==============================] - 0s 44us/step - loss: 0.2906 - acc: 0.9416 - val_loss: 1.6818 - val_acc: 0.5299\n",
      "Epoch 450/600\n",
      "1198/1198 [==============================] - 0s 46us/step - loss: 0.2827 - acc: 0.9474 - val_loss: 1.8055 - val_acc: 0.5224\n",
      "Epoch 451/600\n",
      "1198/1198 [==============================] - 0s 43us/step - loss: 0.2854 - acc: 0.9441 - val_loss: 1.8185 - val_acc: 0.4627\n",
      "Epoch 452/600\n",
      "1198/1198 [==============================] - 0s 44us/step - loss: 0.2863 - acc: 0.9549 - val_loss: 1.8038 - val_acc: 0.4925\n",
      "Epoch 453/600\n",
      "1198/1198 [==============================] - 0s 44us/step - loss: 0.2774 - acc: 0.9566 - val_loss: 1.8073 - val_acc: 0.4478\n",
      "Epoch 454/600\n",
      "1198/1198 [==============================] - 0s 43us/step - loss: 0.2764 - acc: 0.9549 - val_loss: 1.7424 - val_acc: 0.4776\n",
      "Epoch 455/600\n",
      "1198/1198 [==============================] - 0s 44us/step - loss: 0.2571 - acc: 0.9641 - val_loss: 1.7831 - val_acc: 0.5224\n",
      "Epoch 456/600\n",
      "1198/1198 [==============================] - 0s 43us/step - loss: 0.2718 - acc: 0.9549 - val_loss: 1.7119 - val_acc: 0.5000\n",
      "Epoch 457/600\n",
      "1198/1198 [==============================] - 0s 46us/step - loss: 0.2590 - acc: 0.9558 - val_loss: 1.7291 - val_acc: 0.5075\n",
      "Epoch 458/600\n",
      "1198/1198 [==============================] - 0s 44us/step - loss: 0.2616 - acc: 0.9549 - val_loss: 1.8190 - val_acc: 0.5000\n",
      "Epoch 459/600\n",
      "1198/1198 [==============================] - 0s 44us/step - loss: 0.2655 - acc: 0.9516 - val_loss: 1.7530 - val_acc: 0.4925\n",
      "Epoch 460/600\n",
      "1198/1198 [==============================] - 0s 44us/step - loss: 0.2568 - acc: 0.9574 - val_loss: 1.7873 - val_acc: 0.5224\n",
      "Epoch 461/600\n",
      "1198/1198 [==============================] - 0s 45us/step - loss: 0.2638 - acc: 0.9574 - val_loss: 1.7543 - val_acc: 0.5000\n",
      "Epoch 462/600\n",
      "1198/1198 [==============================] - 0s 44us/step - loss: 0.2781 - acc: 0.9466 - val_loss: 1.7418 - val_acc: 0.4552\n",
      "Epoch 463/600\n",
      "1198/1198 [==============================] - 0s 44us/step - loss: 0.2850 - acc: 0.9391 - val_loss: 1.7274 - val_acc: 0.5224\n",
      "Epoch 464/600\n",
      "1198/1198 [==============================] - 0s 45us/step - loss: 0.3019 - acc: 0.9349 - val_loss: 1.8133 - val_acc: 0.5000\n",
      "Epoch 465/600\n",
      "1198/1198 [==============================] - 0s 45us/step - loss: 0.3020 - acc: 0.9349 - val_loss: 1.7970 - val_acc: 0.5075\n",
      "Epoch 466/600\n",
      "1198/1198 [==============================] - 0s 43us/step - loss: 0.2864 - acc: 0.9416 - val_loss: 1.7908 - val_acc: 0.5149\n",
      "Epoch 467/600\n"
     ]
    },
    {
     "name": "stdout",
     "output_type": "stream",
     "text": [
      "1198/1198 [==============================] - 0s 44us/step - loss: 0.2639 - acc: 0.9574 - val_loss: 1.7088 - val_acc: 0.5075\n",
      "Epoch 468/600\n",
      "1198/1198 [==============================] - 0s 42us/step - loss: 0.3159 - acc: 0.9316 - val_loss: 1.7587 - val_acc: 0.5224\n",
      "Epoch 469/600\n",
      "1198/1198 [==============================] - 0s 43us/step - loss: 0.2968 - acc: 0.9316 - val_loss: 1.7567 - val_acc: 0.4925\n",
      "Epoch 470/600\n",
      "1198/1198 [==============================] - 0s 44us/step - loss: 0.2730 - acc: 0.9533 - val_loss: 1.7928 - val_acc: 0.4776\n",
      "Epoch 471/600\n",
      "1198/1198 [==============================] - 0s 43us/step - loss: 0.2678 - acc: 0.9508 - val_loss: 1.7929 - val_acc: 0.5000\n",
      "Epoch 472/600\n",
      "1198/1198 [==============================] - 0s 43us/step - loss: 0.2628 - acc: 0.9583 - val_loss: 1.7514 - val_acc: 0.4925\n",
      "Epoch 473/600\n",
      "1198/1198 [==============================] - 0s 44us/step - loss: 0.2631 - acc: 0.9549 - val_loss: 1.7718 - val_acc: 0.4925\n",
      "Epoch 474/600\n",
      "1198/1198 [==============================] - 0s 43us/step - loss: 0.2665 - acc: 0.9499 - val_loss: 1.9137 - val_acc: 0.5299\n",
      "Epoch 475/600\n",
      "1198/1198 [==============================] - 0s 43us/step - loss: 0.2596 - acc: 0.9533 - val_loss: 1.8456 - val_acc: 0.4851\n",
      "Epoch 476/600\n",
      "1198/1198 [==============================] - 0s 43us/step - loss: 0.2535 - acc: 0.9616 - val_loss: 1.8268 - val_acc: 0.5224\n",
      "Epoch 477/600\n",
      "1198/1198 [==============================] - 0s 44us/step - loss: 0.2593 - acc: 0.9566 - val_loss: 1.7340 - val_acc: 0.4925\n",
      "Epoch 478/600\n",
      "1198/1198 [==============================] - 0s 46us/step - loss: 0.2486 - acc: 0.9574 - val_loss: 1.8308 - val_acc: 0.5000\n",
      "Epoch 479/600\n",
      "1198/1198 [==============================] - 0s 42us/step - loss: 0.2492 - acc: 0.9633 - val_loss: 1.8867 - val_acc: 0.5000\n",
      "Epoch 480/600\n",
      "1198/1198 [==============================] - 0s 42us/step - loss: 0.2544 - acc: 0.9558 - val_loss: 1.8193 - val_acc: 0.4851\n",
      "Epoch 481/600\n",
      "1198/1198 [==============================] - 0s 42us/step - loss: 0.2707 - acc: 0.9541 - val_loss: 1.8197 - val_acc: 0.5149\n",
      "Epoch 482/600\n",
      "1198/1198 [==============================] - 0s 43us/step - loss: 0.2706 - acc: 0.9491 - val_loss: 1.8029 - val_acc: 0.4478\n",
      "Epoch 483/600\n",
      "1198/1198 [==============================] - 0s 46us/step - loss: 0.2675 - acc: 0.9499 - val_loss: 1.7355 - val_acc: 0.5299\n",
      "Epoch 484/600\n",
      "1198/1198 [==============================] - 0s 45us/step - loss: 0.2781 - acc: 0.9474 - val_loss: 1.7659 - val_acc: 0.5000\n",
      "Epoch 485/600\n",
      "1198/1198 [==============================] - 0s 43us/step - loss: 0.2691 - acc: 0.9499 - val_loss: 1.7878 - val_acc: 0.5000\n",
      "Epoch 486/600\n",
      "1198/1198 [==============================] - 0s 42us/step - loss: 0.2869 - acc: 0.9399 - val_loss: 1.7390 - val_acc: 0.5075\n",
      "Epoch 487/600\n",
      "1198/1198 [==============================] - 0s 42us/step - loss: 0.2931 - acc: 0.9366 - val_loss: 1.7975 - val_acc: 0.5075\n",
      "Epoch 488/600\n",
      "1198/1198 [==============================] - 0s 44us/step - loss: 0.2657 - acc: 0.9599 - val_loss: 1.8473 - val_acc: 0.5075\n",
      "Epoch 489/600\n",
      "1198/1198 [==============================] - 0s 43us/step - loss: 0.2649 - acc: 0.9482 - val_loss: 1.8152 - val_acc: 0.5075\n",
      "Epoch 490/600\n",
      "1198/1198 [==============================] - 0s 46us/step - loss: 0.2669 - acc: 0.9533 - val_loss: 1.9173 - val_acc: 0.5299\n",
      "Epoch 491/600\n",
      "1198/1198 [==============================] - 0s 42us/step - loss: 0.2673 - acc: 0.9516 - val_loss: 1.6960 - val_acc: 0.5149\n",
      "Epoch 492/600\n",
      "1198/1198 [==============================] - 0s 43us/step - loss: 0.2690 - acc: 0.9533 - val_loss: 1.7684 - val_acc: 0.5448\n",
      "Epoch 493/600\n",
      "1198/1198 [==============================] - 0s 42us/step - loss: 0.2773 - acc: 0.9482 - val_loss: 1.8516 - val_acc: 0.5149\n",
      "Epoch 494/600\n",
      "1198/1198 [==============================] - 0s 42us/step - loss: 0.2892 - acc: 0.9441 - val_loss: 1.7844 - val_acc: 0.4701\n",
      "Epoch 495/600\n",
      "1198/1198 [==============================] - 0s 45us/step - loss: 0.2809 - acc: 0.9466 - val_loss: 1.8006 - val_acc: 0.5224\n",
      "Epoch 496/600\n",
      "1198/1198 [==============================] - 0s 44us/step - loss: 0.2829 - acc: 0.9449 - val_loss: 1.7198 - val_acc: 0.4701\n",
      "Epoch 497/600\n",
      "1198/1198 [==============================] - 0s 42us/step - loss: 0.2803 - acc: 0.9424 - val_loss: 1.8305 - val_acc: 0.5000\n",
      "Epoch 498/600\n",
      "1198/1198 [==============================] - 0s 42us/step - loss: 0.2558 - acc: 0.9591 - val_loss: 1.7400 - val_acc: 0.5224\n",
      "Epoch 499/600\n",
      "1198/1198 [==============================] - 0s 42us/step - loss: 0.2631 - acc: 0.9591 - val_loss: 1.7196 - val_acc: 0.4776\n",
      "Epoch 500/600\n",
      "1198/1198 [==============================] - 0s 43us/step - loss: 0.2820 - acc: 0.9374 - val_loss: 1.7711 - val_acc: 0.5075\n",
      "Epoch 501/600\n",
      "1198/1198 [==============================] - 0s 42us/step - loss: 0.2645 - acc: 0.9499 - val_loss: 1.8660 - val_acc: 0.5522\n",
      "Epoch 502/600\n",
      "1198/1198 [==============================] - 0s 44us/step - loss: 0.2601 - acc: 0.9591 - val_loss: 1.8491 - val_acc: 0.5075\n",
      "Epoch 503/600\n",
      "1198/1198 [==============================] - 0s 45us/step - loss: 0.2643 - acc: 0.9549 - val_loss: 1.8240 - val_acc: 0.4776\n",
      "Epoch 504/600\n",
      "1198/1198 [==============================] - 0s 44us/step - loss: 0.2750 - acc: 0.9499 - val_loss: 1.8678 - val_acc: 0.4851\n",
      "Epoch 505/600\n",
      "1198/1198 [==============================] - 0s 43us/step - loss: 0.2480 - acc: 0.9624 - val_loss: 1.9236 - val_acc: 0.4851\n",
      "Epoch 506/600\n",
      "1198/1198 [==============================] - 0s 45us/step - loss: 0.2603 - acc: 0.9558 - val_loss: 1.8432 - val_acc: 0.4627\n",
      "Epoch 507/600\n",
      "1198/1198 [==============================] - 0s 43us/step - loss: 0.2710 - acc: 0.9457 - val_loss: 1.7374 - val_acc: 0.4851\n",
      "Epoch 508/600\n",
      "1198/1198 [==============================] - 0s 44us/step - loss: 0.2714 - acc: 0.9524 - val_loss: 1.8691 - val_acc: 0.5000\n",
      "Epoch 509/600\n",
      "1198/1198 [==============================] - 0s 45us/step - loss: 0.2657 - acc: 0.9482 - val_loss: 1.8087 - val_acc: 0.4776\n",
      "Epoch 510/600\n",
      "1198/1198 [==============================] - 0s 43us/step - loss: 0.3035 - acc: 0.9290 - val_loss: 1.6992 - val_acc: 0.4552\n",
      "Epoch 511/600\n",
      "1198/1198 [==============================] - 0s 45us/step - loss: 0.2956 - acc: 0.9341 - val_loss: 1.7224 - val_acc: 0.5299\n",
      "Epoch 512/600\n",
      "1198/1198 [==============================] - 0s 44us/step - loss: 0.2888 - acc: 0.9407 - val_loss: 1.7302 - val_acc: 0.4776\n",
      "Epoch 513/600\n",
      "1198/1198 [==============================] - 0s 44us/step - loss: 0.2970 - acc: 0.9374 - val_loss: 1.6980 - val_acc: 0.5000\n",
      "Epoch 514/600\n",
      "1198/1198 [==============================] - 0s 42us/step - loss: 0.2662 - acc: 0.9549 - val_loss: 1.7545 - val_acc: 0.4925\n",
      "Epoch 515/600\n",
      "1198/1198 [==============================] - 0s 42us/step - loss: 0.2684 - acc: 0.9457 - val_loss: 1.9126 - val_acc: 0.5000\n",
      "Epoch 516/600\n",
      "1198/1198 [==============================] - 0s 47us/step - loss: 0.2721 - acc: 0.9508 - val_loss: 1.7736 - val_acc: 0.5224\n",
      "Epoch 517/600\n",
      "1198/1198 [==============================] - 0s 47us/step - loss: 0.2565 - acc: 0.9549 - val_loss: 1.7866 - val_acc: 0.4627\n",
      "Epoch 518/600\n",
      "1198/1198 [==============================] - 0s 47us/step - loss: 0.2695 - acc: 0.9449 - val_loss: 1.9027 - val_acc: 0.5373\n",
      "Epoch 519/600\n",
      "1198/1198 [==============================] - 0s 45us/step - loss: 0.2697 - acc: 0.9508 - val_loss: 1.8133 - val_acc: 0.4776\n",
      "Epoch 520/600\n",
      "1198/1198 [==============================] - 0s 41us/step - loss: 0.2538 - acc: 0.9583 - val_loss: 1.7929 - val_acc: 0.4627\n",
      "Epoch 521/600\n",
      "1198/1198 [==============================] - 0s 43us/step - loss: 0.2513 - acc: 0.9633 - val_loss: 2.0075 - val_acc: 0.5149\n",
      "Epoch 522/600\n",
      "1198/1198 [==============================] - 0s 42us/step - loss: 0.2498 - acc: 0.9616 - val_loss: 1.7372 - val_acc: 0.5000\n",
      "Epoch 523/600\n",
      "1198/1198 [==============================] - 0s 42us/step - loss: 0.2626 - acc: 0.9482 - val_loss: 1.8446 - val_acc: 0.5000\n",
      "Epoch 524/600\n",
      "1198/1198 [==============================] - 0s 42us/step - loss: 0.2584 - acc: 0.9566 - val_loss: 1.9026 - val_acc: 0.5299\n",
      "Epoch 525/600\n",
      "1198/1198 [==============================] - 0s 42us/step - loss: 0.2808 - acc: 0.9424 - val_loss: 1.7693 - val_acc: 0.4776\n",
      "Epoch 526/600\n"
     ]
    },
    {
     "name": "stdout",
     "output_type": "stream",
     "text": [
      "1198/1198 [==============================] - 0s 42us/step - loss: 0.2890 - acc: 0.9332 - val_loss: 1.7111 - val_acc: 0.5373\n",
      "Epoch 527/600\n",
      "1198/1198 [==============================] - 0s 40us/step - loss: 0.3164 - acc: 0.9207 - val_loss: 1.7848 - val_acc: 0.5075\n",
      "Epoch 528/600\n",
      "1198/1198 [==============================] - 0s 44us/step - loss: 0.3004 - acc: 0.9316 - val_loss: 1.6401 - val_acc: 0.4627\n",
      "Epoch 529/600\n",
      "1198/1198 [==============================] - 0s 39us/step - loss: 0.3061 - acc: 0.9240 - val_loss: 1.7074 - val_acc: 0.5149\n",
      "Epoch 530/600\n",
      "1198/1198 [==============================] - 0s 41us/step - loss: 0.2935 - acc: 0.9299 - val_loss: 1.7213 - val_acc: 0.5075\n",
      "Epoch 531/600\n",
      "1198/1198 [==============================] - 0s 41us/step - loss: 0.2932 - acc: 0.9341 - val_loss: 1.7066 - val_acc: 0.4851\n",
      "Epoch 532/600\n",
      "1198/1198 [==============================] - 0s 41us/step - loss: 0.2558 - acc: 0.9591 - val_loss: 1.7560 - val_acc: 0.4627\n",
      "Epoch 533/600\n",
      "1198/1198 [==============================] - 0s 43us/step - loss: 0.2739 - acc: 0.9466 - val_loss: 1.7539 - val_acc: 0.5075\n",
      "Epoch 534/600\n",
      "1198/1198 [==============================] - 0s 42us/step - loss: 0.2630 - acc: 0.9516 - val_loss: 1.6739 - val_acc: 0.5000\n",
      "Epoch 535/600\n",
      "1198/1198 [==============================] - 0s 43us/step - loss: 0.2957 - acc: 0.9399 - val_loss: 1.7743 - val_acc: 0.4627\n",
      "Epoch 536/600\n",
      "1198/1198 [==============================] - 0s 42us/step - loss: 0.2735 - acc: 0.9432 - val_loss: 1.8021 - val_acc: 0.5373\n",
      "Epoch 537/600\n",
      "1198/1198 [==============================] - 0s 44us/step - loss: 0.2757 - acc: 0.9482 - val_loss: 1.6826 - val_acc: 0.4851\n",
      "Epoch 538/600\n",
      "1198/1198 [==============================] - 0s 51us/step - loss: 0.2681 - acc: 0.9474 - val_loss: 1.7391 - val_acc: 0.4851\n",
      "Epoch 539/600\n",
      "1198/1198 [==============================] - 0s 44us/step - loss: 0.2793 - acc: 0.9449 - val_loss: 1.7108 - val_acc: 0.4776\n",
      "Epoch 540/600\n",
      "1198/1198 [==============================] - 0s 44us/step - loss: 0.2578 - acc: 0.9508 - val_loss: 1.6731 - val_acc: 0.5000\n",
      "Epoch 541/600\n",
      "1198/1198 [==============================] - 0s 43us/step - loss: 0.2699 - acc: 0.9432 - val_loss: 1.7344 - val_acc: 0.4925\n",
      "Epoch 542/600\n",
      "1198/1198 [==============================] - 0s 44us/step - loss: 0.2793 - acc: 0.9474 - val_loss: 1.5977 - val_acc: 0.4851\n",
      "Epoch 543/600\n",
      "1198/1198 [==============================] - 0s 42us/step - loss: 0.2829 - acc: 0.9482 - val_loss: 1.8096 - val_acc: 0.5075\n",
      "Epoch 544/600\n",
      "1198/1198 [==============================] - 0s 42us/step - loss: 0.3020 - acc: 0.9324 - val_loss: 1.7741 - val_acc: 0.4627\n",
      "Epoch 545/600\n",
      "1198/1198 [==============================] - 0s 42us/step - loss: 0.2843 - acc: 0.9316 - val_loss: 1.6643 - val_acc: 0.4925\n",
      "Epoch 546/600\n",
      "1198/1198 [==============================] - 0s 42us/step - loss: 0.2832 - acc: 0.9466 - val_loss: 1.7399 - val_acc: 0.5000\n",
      "Epoch 547/600\n",
      "1198/1198 [==============================] - 0s 43us/step - loss: 0.2778 - acc: 0.9391 - val_loss: 1.7189 - val_acc: 0.5000\n",
      "Epoch 548/600\n",
      "1198/1198 [==============================] - 0s 45us/step - loss: 0.2749 - acc: 0.9416 - val_loss: 1.6600 - val_acc: 0.4627\n",
      "Epoch 549/600\n",
      "1198/1198 [==============================] - 0s 42us/step - loss: 0.2537 - acc: 0.9549 - val_loss: 1.7956 - val_acc: 0.5149\n",
      "Epoch 550/600\n",
      "1198/1198 [==============================] - 0s 43us/step - loss: 0.2464 - acc: 0.9599 - val_loss: 1.8550 - val_acc: 0.4851\n",
      "Epoch 551/600\n",
      "1198/1198 [==============================] - 0s 42us/step - loss: 0.2756 - acc: 0.9449 - val_loss: 1.7611 - val_acc: 0.4851\n",
      "Epoch 552/600\n",
      "1198/1198 [==============================] - 0s 43us/step - loss: 0.2532 - acc: 0.9566 - val_loss: 1.7413 - val_acc: 0.4478\n",
      "Epoch 553/600\n",
      "1198/1198 [==============================] - 0s 44us/step - loss: 0.2548 - acc: 0.9566 - val_loss: 1.7667 - val_acc: 0.5000\n",
      "Epoch 554/600\n",
      "1198/1198 [==============================] - 0s 43us/step - loss: 0.2731 - acc: 0.9457 - val_loss: 1.9062 - val_acc: 0.4776\n",
      "Epoch 555/600\n",
      "1198/1198 [==============================] - 0s 42us/step - loss: 0.2539 - acc: 0.9482 - val_loss: 1.8042 - val_acc: 0.4701\n",
      "Epoch 556/600\n",
      "1198/1198 [==============================] - 0s 43us/step - loss: 0.2711 - acc: 0.9432 - val_loss: 1.8446 - val_acc: 0.4925\n",
      "Epoch 557/600\n",
      "1198/1198 [==============================] - 0s 42us/step - loss: 0.2511 - acc: 0.9633 - val_loss: 1.8596 - val_acc: 0.4478\n",
      "Epoch 558/600\n",
      "1198/1198 [==============================] - 0s 45us/step - loss: 0.2526 - acc: 0.9566 - val_loss: 1.8359 - val_acc: 0.4851\n",
      "Epoch 559/600\n",
      "1198/1198 [==============================] - 0s 42us/step - loss: 0.2395 - acc: 0.9574 - val_loss: 1.8118 - val_acc: 0.4701\n",
      "Epoch 560/600\n",
      "1198/1198 [==============================] - 0s 41us/step - loss: 0.2415 - acc: 0.9608 - val_loss: 1.9029 - val_acc: 0.4701\n",
      "Epoch 561/600\n",
      "1198/1198 [==============================] - 0s 42us/step - loss: 0.2615 - acc: 0.9558 - val_loss: 1.9457 - val_acc: 0.4701\n",
      "Epoch 562/600\n",
      "1198/1198 [==============================] - 0s 44us/step - loss: 0.2706 - acc: 0.9466 - val_loss: 1.8557 - val_acc: 0.4552\n",
      "Epoch 563/600\n",
      "1198/1198 [==============================] - 0s 42us/step - loss: 0.2991 - acc: 0.9290 - val_loss: 1.8402 - val_acc: 0.4627\n",
      "Epoch 564/600\n",
      "1198/1198 [==============================] - 0s 44us/step - loss: 0.2769 - acc: 0.9482 - val_loss: 1.8295 - val_acc: 0.4701\n",
      "Epoch 565/600\n",
      "1198/1198 [==============================] - 0s 42us/step - loss: 0.2693 - acc: 0.9432 - val_loss: 1.7432 - val_acc: 0.5000\n",
      "Epoch 566/600\n",
      "1198/1198 [==============================] - 0s 45us/step - loss: 0.2783 - acc: 0.9432 - val_loss: 1.8034 - val_acc: 0.5224\n",
      "Epoch 567/600\n",
      "1198/1198 [==============================] - 0s 46us/step - loss: 0.2663 - acc: 0.9407 - val_loss: 1.7744 - val_acc: 0.4627\n",
      "Epoch 568/600\n",
      "1198/1198 [==============================] - 0s 44us/step - loss: 0.2630 - acc: 0.9399 - val_loss: 1.6322 - val_acc: 0.4403\n",
      "Epoch 569/600\n",
      "1198/1198 [==============================] - 0s 46us/step - loss: 0.2659 - acc: 0.9441 - val_loss: 1.6809 - val_acc: 0.5000\n",
      "Epoch 570/600\n",
      "1198/1198 [==============================] - 0s 42us/step - loss: 0.2573 - acc: 0.9549 - val_loss: 1.7399 - val_acc: 0.4925\n",
      "Epoch 571/600\n",
      "1198/1198 [==============================] - 0s 44us/step - loss: 0.2625 - acc: 0.9508 - val_loss: 1.6358 - val_acc: 0.5000\n",
      "Epoch 572/600\n",
      "1198/1198 [==============================] - 0s 45us/step - loss: 0.2722 - acc: 0.9391 - val_loss: 1.6397 - val_acc: 0.5075\n",
      "Epoch 573/600\n",
      "1198/1198 [==============================] - 0s 44us/step - loss: 0.2594 - acc: 0.9516 - val_loss: 1.6589 - val_acc: 0.5075\n",
      "Epoch 574/600\n",
      "1198/1198 [==============================] - 0s 42us/step - loss: 0.2774 - acc: 0.9491 - val_loss: 1.7635 - val_acc: 0.4776\n",
      "Epoch 575/600\n",
      "1198/1198 [==============================] - 0s 42us/step - loss: 0.2691 - acc: 0.9491 - val_loss: 1.7525 - val_acc: 0.5373\n",
      "Epoch 576/600\n",
      "1198/1198 [==============================] - 0s 44us/step - loss: 0.2740 - acc: 0.9449 - val_loss: 1.7556 - val_acc: 0.4701\n",
      "Epoch 577/600\n",
      "1198/1198 [==============================] - 0s 46us/step - loss: 0.2605 - acc: 0.9491 - val_loss: 1.7619 - val_acc: 0.5149\n",
      "Epoch 578/600\n",
      "1198/1198 [==============================] - 0s 44us/step - loss: 0.2623 - acc: 0.9441 - val_loss: 1.8174 - val_acc: 0.4925\n",
      "Epoch 579/600\n",
      "1198/1198 [==============================] - 0s 45us/step - loss: 0.2712 - acc: 0.9449 - val_loss: 2.0177 - val_acc: 0.5075\n",
      "Epoch 580/600\n",
      "1198/1198 [==============================] - 0s 46us/step - loss: 0.2850 - acc: 0.9382 - val_loss: 1.8345 - val_acc: 0.4701\n",
      "Epoch 581/600\n",
      "1198/1198 [==============================] - 0s 46us/step - loss: 0.2743 - acc: 0.9432 - val_loss: 1.8957 - val_acc: 0.4552\n",
      "Epoch 582/600\n",
      "1198/1198 [==============================] - 0s 44us/step - loss: 0.2602 - acc: 0.9416 - val_loss: 1.7549 - val_acc: 0.4776\n",
      "Epoch 583/600\n",
      "1198/1198 [==============================] - 0s 45us/step - loss: 0.2891 - acc: 0.9382 - val_loss: 1.7098 - val_acc: 0.4776\n",
      "Epoch 584/600\n",
      "1198/1198 [==============================] - 0s 45us/step - loss: 0.2646 - acc: 0.9516 - val_loss: 1.8791 - val_acc: 0.4552\n",
      "Epoch 585/600\n"
     ]
    },
    {
     "name": "stdout",
     "output_type": "stream",
     "text": [
      "1198/1198 [==============================] - 0s 45us/step - loss: 0.2923 - acc: 0.9290 - val_loss: 1.8210 - val_acc: 0.5000\n",
      "Epoch 586/600\n",
      "1198/1198 [==============================] - 0s 46us/step - loss: 0.2941 - acc: 0.9374 - val_loss: 1.7358 - val_acc: 0.4925\n",
      "Epoch 587/600\n",
      "1198/1198 [==============================] - 0s 46us/step - loss: 0.2729 - acc: 0.9391 - val_loss: 1.8292 - val_acc: 0.5299\n",
      "Epoch 588/600\n",
      "1198/1198 [==============================] - 0s 42us/step - loss: 0.2735 - acc: 0.9441 - val_loss: 1.7325 - val_acc: 0.5000\n",
      "Epoch 589/600\n",
      "1198/1198 [==============================] - 0s 42us/step - loss: 0.2732 - acc: 0.9357 - val_loss: 1.7171 - val_acc: 0.4925\n",
      "Epoch 590/600\n",
      "1198/1198 [==============================] - 0s 42us/step - loss: 0.2619 - acc: 0.9399 - val_loss: 1.7182 - val_acc: 0.4701\n",
      "Epoch 591/600\n",
      "1198/1198 [==============================] - 0s 43us/step - loss: 0.2787 - acc: 0.9432 - val_loss: 1.8337 - val_acc: 0.5000\n",
      "Epoch 592/600\n",
      "1198/1198 [==============================] - 0s 46us/step - loss: 0.2359 - acc: 0.9599 - val_loss: 1.7895 - val_acc: 0.5149\n",
      "Epoch 593/600\n",
      "1198/1198 [==============================] - 0s 42us/step - loss: 0.2484 - acc: 0.9499 - val_loss: 1.6130 - val_acc: 0.4627\n",
      "Epoch 594/600\n",
      "1198/1198 [==============================] - 0s 42us/step - loss: 0.2498 - acc: 0.9599 - val_loss: 1.6898 - val_acc: 0.5075\n",
      "Epoch 595/600\n",
      "1198/1198 [==============================] - 0s 42us/step - loss: 0.2411 - acc: 0.9566 - val_loss: 1.8293 - val_acc: 0.4552\n",
      "Epoch 596/600\n",
      "1198/1198 [==============================] - 0s 45us/step - loss: 0.2543 - acc: 0.9549 - val_loss: 1.7498 - val_acc: 0.4627\n",
      "Epoch 597/600\n",
      "1198/1198 [==============================] - 0s 52us/step - loss: 0.2492 - acc: 0.9524 - val_loss: 1.7708 - val_acc: 0.4925\n",
      "Epoch 598/600\n",
      "1198/1198 [==============================] - ETA: 0s - loss: 0.2805 - acc: 0.929 - 0s 49us/step - loss: 0.2514 - acc: 0.9533 - val_loss: 1.8118 - val_acc: 0.4776\n",
      "Epoch 599/600\n",
      "1198/1198 [==============================] - 0s 48us/step - loss: 0.2661 - acc: 0.9508 - val_loss: 1.6516 - val_acc: 0.5149\n",
      "Epoch 600/600\n",
      "1198/1198 [==============================] - 0s 44us/step - loss: 0.2864 - acc: 0.9307 - val_loss: 1.8566 - val_acc: 0.4851\n",
      "87/87 [==============================] - 0s 80us/step\n",
      "Evaluation on test data: Loss - 1.752764145533244,  Acurracy - 59.770114805506566\n",
      "classification_score\n",
      "               precision    recall  f1-score   support\n",
      "\n",
      "           0       0.33      0.52      0.41        23\n",
      "           1       0.78      0.62      0.70        64\n",
      "\n",
      "   micro avg       0.60      0.60      0.60        87\n",
      "   macro avg       0.56      0.57      0.55        87\n",
      "weighted avg       0.67      0.60      0.62        87\n",
      "\n"
     ]
    },
    {
     "data": {
      "image/png": "[encoded data removed]",
      "text/plain": [
       "<Figure size 432x288 with 1 Axes>"
      ]
     },
     "metadata": {},
     "output_type": "display_data"
    }
   ],
   "source": [
    "n_epoch=600\n",
    "twitter_model = vizModelMetric(evaluateModelAndTestAccuracy(DenseNetwork(featureLength),train, train_y, test, test_y ,n_epoch),n_epoch)"
   ]
  },
  {
   "cell_type": "code",
   "execution_count": 254,
   "metadata": {
    "ExecuteTime": {
     "end_time": "2019-05-20T22:29:35.967055Z",
     "start_time": "2019-05-20T22:29:35.199585Z"
    }
   },
   "outputs": [],
   "source": [
    "filename = 'twitter_model.h5'\n",
    "twitter_model.save(filename)"
   ]
  },
  {
   "cell_type": "markdown",
   "metadata": {},
   "source": [
    "# Ensemble Tw, News and FI "
   ]
  },
  {
   "cell_type": "code",
   "execution_count": 83,
   "metadata": {
    "ExecuteTime": {
     "end_time": "2019-05-20T21:33:34.695082Z",
     "start_time": "2019-05-20T21:33:34.692111Z"
    }
   },
   "outputs": [],
   "source": [
    "import pandas as pd"
   ]
  },
  {
   "cell_type": "code",
   "execution_count": 223,
   "metadata": {
    "ExecuteTime": {
     "end_time": "2019-05-20T22:17:24.181291Z",
     "start_time": "2019-05-20T22:17:24.161372Z"
    }
   },
   "outputs": [
    {
     "name": "stdout",
     "output_type": "stream",
     "text": [
      "startDate 2015-05-04 00:00:00\n",
      "endDate 2019-03-28 00:00:00\n",
      "shape (983, 31)\n",
      "---------------------------\n",
      "startDate 2015-05-04 00:00:00\n",
      "endDate 2019-03-28 00:00:00\n",
      "shape (1027, 24)\n",
      "---------------------------\n",
      "startDate 2015-05-04 00:00:00\n",
      "endDate 2019-03-28 00:00:00\n",
      "shape (1419, 770)\n",
      "---------------------------\n"
     ]
    }
   ],
   "source": [
    "getStartEndDateShape(_ens_FI_Scaled_FE)\n",
    "getStartEndDateShape(_ens_News_NonScaled_FE)\n",
    "getStartEndDateShape(_ens_Twitter_BERT)"
   ]
  },
  {
   "cell_type": "code",
   "execution_count": 216,
   "metadata": {
    "ExecuteTime": {
     "end_time": "2019-05-20T22:16:32.369157Z",
     "start_time": "2019-05-20T22:16:32.361189Z"
    }
   },
   "outputs": [],
   "source": [
    "targtWithDateForJoin =pd.DataFrame()\n",
    "targtWithDateForJoin['date'] = _ens_FI_Scaled_FE.date.tolist()\n",
    "targtWithDateForJoin['target'] = _ens_FI_Scaled_FE.target.tolist()"
   ]
  },
  {
   "cell_type": "code",
   "execution_count": 224,
   "metadata": {
    "ExecuteTime": {
     "end_time": "2019-05-20T22:17:34.215656Z",
     "start_time": "2019-05-20T22:17:33.945405Z"
    }
   },
   "outputs": [],
   "source": [
    "_ens_FI_Scaled_FE.drop(['target'],axis=1,inplace= True)\n",
    "_ens_News_NonScaled_FE.drop(['target'],axis=1,inplace= True)\n",
    "_ens_Twitter_BERT.drop(['Target'],axis=1,inplace= True)"
   ]
  },
  {
   "cell_type": "code",
   "execution_count": 225,
   "metadata": {
    "ExecuteTime": {
     "end_time": "2019-05-20T22:17:48.643833Z",
     "start_time": "2019-05-20T22:17:48.613931Z"
    }
   },
   "outputs": [],
   "source": [
    "result =pd.merge( targtWithDateForJoin,_ens_FI_Scaled_FE, how='inner', on='date')\n",
    "result =pd.merge( result,_ens_News_NonScaled_FE, how='inner', on='date')\n",
    "result =pd.merge( result,_ens_Twitter_BERT, how='inner', on='date')"
   ]
  },
  {
   "cell_type": "code",
   "execution_count": 226,
   "metadata": {
    "ExecuteTime": {
     "end_time": "2019-05-20T22:17:49.449229Z",
     "start_time": "2019-05-20T22:17:49.419311Z"
    }
   },
   "outputs": [],
   "source": [
    "result.sort_values(by='date',inplace=True) \n",
    "result['target'] = result['target'].ffill()\n",
    "result.fillna(0,inplace=True)\n",
    "result.drop(['open'],axis=1,inplace =True)"
   ]
  },
  {
   "cell_type": "code",
   "execution_count": 276,
   "metadata": {
    "ExecuteTime": {
     "end_time": "2019-05-20T22:45:30.410789Z",
     "start_time": "2019-05-20T22:45:30.376867Z"
    }
   },
   "outputs": [
    {
     "name": "stdout",
     "output_type": "stream",
     "text": [
      "startDate 2015-05-04 00:00:00\n",
      "endDate 2019-03-28 00:00:00\n",
      "shape (838, 822)\n",
      "---------------------------\n",
      "train (782, 820) test (56, 820) train_y 782 test_y 56\n"
     ]
    }
   ],
   "source": [
    "result= createComparableDataset(result)\n",
    "\n",
    "getStartEndDateShape(result)\n",
    "train, train_y,test, test_y = prepareDataSet(result)\n",
    "print('train',train.shape,'test',test.shape,'train_y',len(train_y),'test_y',len(test_y))"
   ]
  },
  {
   "cell_type": "code",
   "execution_count": 228,
   "metadata": {
    "ExecuteTime": {
     "end_time": "2019-05-20T22:17:54.317880Z",
     "start_time": "2019-05-20T22:17:54.301921Z"
    }
   },
   "outputs": [],
   "source": [
    "col_names =  ['news', 'tweeter', 'financialIndicator','target']\n",
    "YHat_train  = pd.DataFrame(columns = col_names)\n",
    "YHat_test = pd.DataFrame(columns = col_names)\n",
    "YHat_test['target'] = test_y\n",
    "YHat_train['target'] = train_y"
   ]
  },
  {
   "cell_type": "code",
   "execution_count": 231,
   "metadata": {
    "ExecuteTime": {
     "end_time": "2019-05-20T22:18:39.532757Z",
     "start_time": "2019-05-20T22:18:39.525763Z"
    }
   },
   "outputs": [],
   "source": [
    "train_nwDf= train[[ 'lm_positive', 'lm_negative', 'lm_polarity', 'passive', 'weak',\n",
    "       'strong', 'anger', 'joy', 'suprise', 'sadness', 'disgust',\n",
    "       'anticipation', 'fear', 'trust', 'tb_polarity', 'hiv4_polarity']]\n",
    "test_nwDf= test[['lm_positive', 'lm_negative', 'lm_polarity', 'passive', 'weak',\n",
    "       'strong', 'anger', 'joy', 'suprise', 'sadness', 'disgust',\n",
    "       'anticipation', 'fear', 'trust', 'tb_polarity', 'hiv4_polarity']]"
   ]
  },
  {
   "cell_type": "code",
   "execution_count": 232,
   "metadata": {
    "ExecuteTime": {
     "end_time": "2019-05-20T22:18:44.192709Z",
     "start_time": "2019-05-20T22:18:44.185753Z"
    }
   },
   "outputs": [],
   "source": [
    "train_fiDf= train[[ 'Volume', 'sma2_increment', 'sma2_1_increment', 'vol_increment',\n",
    "       'vol_rel_increment', 'open_incr', 'MACD', 'fft', 'absolute' ]]\n",
    "test_fiDf= test[[ 'Volume', 'sma2_increment', 'sma2_1_increment', 'vol_increment',\n",
    "       'vol_rel_increment', 'open_incr', 'MACD', 'fft', 'absolute']]"
   ]
  },
  {
   "cell_type": "code",
   "execution_count": 233,
   "metadata": {
    "ExecuteTime": {
     "end_time": "2019-05-20T22:18:45.273180Z",
     "start_time": "2019-05-20T22:18:45.215337Z"
    }
   },
   "outputs": [],
   "source": [
    "train_twDf= train[[ '0', '1', '2', '3', '4', '5', '6', '7', '8', '9', '10', '11', '12', '13', '14', '15', '16', '17', '18', '19', '20', '21', '22', '23', '24', '25', '26', '27', '28', '29', '30', '31', '32', '33', '34', '35', '36', '37', '38', '39', '40', '41', '42', '43', '44', '45', '46', '47', '48', '49', '50', '51', '52', '53', '54', '55', '56', '57', '58', '59', '60', '61', '62', '63', '64', '65', '66', '67', '68', '69', '70', '71', '72', '73', '74', '75', '76', '77', '78', '79', '80', '81', '82', '83', '84', '85', '86', '87', '88', '89', '90', '91', '92', '93', '94', '95', '96', '97', '98', '99', '100', '101', '102', '103', '104', '105', '106', '107', '108', '109', '110', '111', '112', '113', '114', '115', '116', '117', '118', '119', '120', '121', '122', '123', '124', '125', '126', '127', '128', '129', '130', '131', '132', '133', '134', '135', '136', '137', '138', '139', '140', '141', '142', '143', '144', '145', '146', '147', '148', '149', '150', '151', '152', '153', '154', '155', '156', '157', '158', '159', '160', '161', '162', '163', '164', '165', '166', '167', '168', '169', '170', '171', '172', '173', '174', '175', '176', '177', '178', '179', '180', '181', '182', '183', '184', '185', '186', '187', '188', '189', '190', '191', '192', '193', '194', '195', '196', '197', '198', '199', '200', '201', '202', '203', '204', '205', '206', '207', '208', '209', '210', '211', '212', '213', '214', '215', '216', '217', '218', '219', '220', '221', '222', '223', '224', '225', '226', '227', '228', '229', '230', '231', '232', '233', '234', '235', '236', '237', '238', '239', '240', '241', '242', '243', '244', '245', '246', '247', '248', '249', '250', '251', '252', '253', '254', '255', '256', '257', '258', '259', '260', '261', '262', '263', '264', '265', '266', '267', '268', '269', '270', '271', '272', '273', '274', '275', '276', '277', '278', '279', '280', '281', '282', '283', '284', '285', '286', '287', '288', '289', '290', '291', '292', '293', '294', '295', '296', '297', '298', '299', '300', '301', '302', '303', '304', '305', '306', '307', '308', '309', '310', '311', '312', '313', '314', '315', '316', '317', '318', '319', '320', '321', '322', '323', '324', '325', '326', '327', '328', '329', '330', '331', '332', '333', '334', '335', '336', '337', '338', '339', '340', '341', '342', '343', '344', '345', '346', '347', '348', '349', '350', '351', '352', '353', '354', '355', '356', '357', '358', '359', '360', '361', '362', '363', '364', '365', '366', '367', '368', '369', '370', '371', '372', '373', '374', '375', '376', '377', '378', '379', '380', '381', '382', '383', '384', '385', '386', '387', '388', '389', '390', '391', '392', '393', '394', '395', '396', '397', '398', '399', '400', '401', '402', '403', '404', '405', '406', '407', '408', '409', '410', '411', '412', '413', '414', '415', '416', '417', '418', '419', '420', '421', '422', '423', '424', '425', '426', '427', '428', '429', '430', '431', '432', '433', '434', '435', '436', '437', '438', '439', '440', '441', '442', '443', '444', '445', '446', '447', '448', '449', '450', '451', '452', '453', '454', '455', '456', '457', '458', '459', '460', '461', '462', '463', '464', '465', '466', '467', '468', '469', '470', '471', '472', '473', '474', '475', '476', '477', '478', '479', '480', '481', '482', '483', '484', '485', '486', '487', '488', '489', '490', '491', '492', '493', '494', '495', '496', '497', '498', '499', '500', '501', '502', '503', '504', '505', '506', '507', '508', '509', '510', '511', '512', '513', '514', '515', '516', '517', '518', '519', '520', '521', '522', '523', '524', '525', '526', '527', '528', '529', '530', '531', '532', '533', '534', '535', '536', '537', '538', '539', '540', '541', '542', '543', '544', '545', '546', '547', '548', '549', '550', '551', '552', '553', '554', '555', '556', '557', '558', '559', '560', '561', '562', '563', '564', '565', '566', '567', '568', '569', '570', '571', '572', '573', '574', '575', '576', '577', '578', '579', '580', '581', '582', '583', '584', '585', '586', '587', '588', '589', '590', '591', '592', '593', '594', '595', '596', '597', '598', '599', '600', '601', '602', '603', '604', '605', '606', '607', '608', '609', '610', '611', '612', '613', '614', '615', '616', '617', '618', '619', '620', '621', '622', '623', '624', '625', '626', '627', '628', '629', '630', '631', '632', '633', '634', '635', '636', '637', '638', '639', '640', '641', '642', '643', '644', '645', '646', '647', '648', '649', '650', '651', '652', '653', '654', '655', '656', '657', '658', '659', '660', '661', '662', '663', '664', '665', '666', '667', '668', '669', '670', '671', '672', '673', '674', '675', '676', '677', '678', '679', '680', '681', '682', '683', '684', '685', '686', '687', '688', '689', '690', '691', '692', '693', '694', '695', '696', '697', '698', '699', '700', '701', '702', '703', '704', '705', '706', '707', '708', '709', '710', '711', '712', '713', '714', '715', '716', '717', '718', '719', '720', '721', '722', '723', '724', '725', '726', '727', '728', '729', '730', '731', '732', '733', '734', '735', '736', '737', '738', '739', '740', '741', '742', '743', '744', '745', '746', '747', '748', '749', '750', '751', '752', '753', '754', '755', '756', '757', '758', '759', '760', '761', '762', '763', '764', '765', '766', '767']]\n",
    "test_twDf= test[['0', '1', '2', '3', '4', '5', '6', '7', '8', '9', '10', '11', '12', '13', '14', '15', '16', '17', '18', '19', '20', '21', '22', '23', '24', '25', '26', '27', '28', '29', '30', '31', '32', '33', '34', '35', '36', '37', '38', '39', '40', '41', '42', '43', '44', '45', '46', '47', '48', '49', '50', '51', '52', '53', '54', '55', '56', '57', '58', '59', '60', '61', '62', '63', '64', '65', '66', '67', '68', '69', '70', '71', '72', '73', '74', '75', '76', '77', '78', '79', '80', '81', '82', '83', '84', '85', '86', '87', '88', '89', '90', '91', '92', '93', '94', '95', '96', '97', '98', '99', '100', '101', '102', '103', '104', '105', '106', '107', '108', '109', '110', '111', '112', '113', '114', '115', '116', '117', '118', '119', '120', '121', '122', '123', '124', '125', '126', '127', '128', '129', '130', '131', '132', '133', '134', '135', '136', '137', '138', '139', '140', '141', '142', '143', '144', '145', '146', '147', '148', '149', '150', '151', '152', '153', '154', '155', '156', '157', '158', '159', '160', '161', '162', '163', '164', '165', '166', '167', '168', '169', '170', '171', '172', '173', '174', '175', '176', '177', '178', '179', '180', '181', '182', '183', '184', '185', '186', '187', '188', '189', '190', '191', '192', '193', '194', '195', '196', '197', '198', '199', '200', '201', '202', '203', '204', '205', '206', '207', '208', '209', '210', '211', '212', '213', '214', '215', '216', '217', '218', '219', '220', '221', '222', '223', '224', '225', '226', '227', '228', '229', '230', '231', '232', '233', '234', '235', '236', '237', '238', '239', '240', '241', '242', '243', '244', '245', '246', '247', '248', '249', '250', '251', '252', '253', '254', '255', '256', '257', '258', '259', '260', '261', '262', '263', '264', '265', '266', '267', '268', '269', '270', '271', '272', '273', '274', '275', '276', '277', '278', '279', '280', '281', '282', '283', '284', '285', '286', '287', '288', '289', '290', '291', '292', '293', '294', '295', '296', '297', '298', '299', '300', '301', '302', '303', '304', '305', '306', '307', '308', '309', '310', '311', '312', '313', '314', '315', '316', '317', '318', '319', '320', '321', '322', '323', '324', '325', '326', '327', '328', '329', '330', '331', '332', '333', '334', '335', '336', '337', '338', '339', '340', '341', '342', '343', '344', '345', '346', '347', '348', '349', '350', '351', '352', '353', '354', '355', '356', '357', '358', '359', '360', '361', '362', '363', '364', '365', '366', '367', '368', '369', '370', '371', '372', '373', '374', '375', '376', '377', '378', '379', '380', '381', '382', '383', '384', '385', '386', '387', '388', '389', '390', '391', '392', '393', '394', '395', '396', '397', '398', '399', '400', '401', '402', '403', '404', '405', '406', '407', '408', '409', '410', '411', '412', '413', '414', '415', '416', '417', '418', '419', '420', '421', '422', '423', '424', '425', '426', '427', '428', '429', '430', '431', '432', '433', '434', '435', '436', '437', '438', '439', '440', '441', '442', '443', '444', '445', '446', '447', '448', '449', '450', '451', '452', '453', '454', '455', '456', '457', '458', '459', '460', '461', '462', '463', '464', '465', '466', '467', '468', '469', '470', '471', '472', '473', '474', '475', '476', '477', '478', '479', '480', '481', '482', '483', '484', '485', '486', '487', '488', '489', '490', '491', '492', '493', '494', '495', '496', '497', '498', '499', '500', '501', '502', '503', '504', '505', '506', '507', '508', '509', '510', '511', '512', '513', '514', '515', '516', '517', '518', '519', '520', '521', '522', '523', '524', '525', '526', '527', '528', '529', '530', '531', '532', '533', '534', '535', '536', '537', '538', '539', '540', '541', '542', '543', '544', '545', '546', '547', '548', '549', '550', '551', '552', '553', '554', '555', '556', '557', '558', '559', '560', '561', '562', '563', '564', '565', '566', '567', '568', '569', '570', '571', '572', '573', '574', '575', '576', '577', '578', '579', '580', '581', '582', '583', '584', '585', '586', '587', '588', '589', '590', '591', '592', '593', '594', '595', '596', '597', '598', '599', '600', '601', '602', '603', '604', '605', '606', '607', '608', '609', '610', '611', '612', '613', '614', '615', '616', '617', '618', '619', '620', '621', '622', '623', '624', '625', '626', '627', '628', '629', '630', '631', '632', '633', '634', '635', '636', '637', '638', '639', '640', '641', '642', '643', '644', '645', '646', '647', '648', '649', '650', '651', '652', '653', '654', '655', '656', '657', '658', '659', '660', '661', '662', '663', '664', '665', '666', '667', '668', '669', '670', '671', '672', '673', '674', '675', '676', '677', '678', '679', '680', '681', '682', '683', '684', '685', '686', '687', '688', '689', '690', '691', '692', '693', '694', '695', '696', '697', '698', '699', '700', '701', '702', '703', '704', '705', '706', '707', '708', '709', '710', '711', '712', '713', '714', '715', '716', '717', '718', '719', '720', '721', '722', '723', '724', '725', '726', '727', '728', '729', '730', '731', '732', '733', '734', '735', '736', '737', '738', '739', '740', '741', '742', '743', '744', '745', '746', '747', '748', '749', '750', '751', '752', '753', '754', '755', '756', '757', '758', '759', '760', '761', '762', '763', '764', '765', '766', '767']]"
   ]
  },
  {
   "cell_type": "code",
   "execution_count": 362,
   "metadata": {
    "ExecuteTime": {
     "end_time": "2019-05-20T23:17:24.370739Z",
     "start_time": "2019-05-20T23:17:24.363775Z"
    }
   },
   "outputs": [],
   "source": [
    "YHat_test['news'] = news_model.predict(test_nwDf)  \n",
    "YHat_train['news'] = news_model.predict(train_nwDf)"
   ]
  },
  {
   "cell_type": "code",
   "execution_count": 363,
   "metadata": {
    "ExecuteTime": {
     "end_time": "2019-05-20T23:17:24.662286Z",
     "start_time": "2019-05-20T23:17:24.656321Z"
    }
   },
   "outputs": [
    {
     "data": {
      "text/plain": [
       "0.6428571428571429"
      ]
     },
     "execution_count": 363,
     "metadata": {},
     "output_type": "execute_result"
    }
   ],
   "source": [
    "accuracy_score(news_model.predict(test_nwDf) ,test_y)"
   ]
  },
  {
   "cell_type": "code",
   "execution_count": 364,
   "metadata": {
    "ExecuteTime": {
     "end_time": "2019-05-20T23:17:25.113071Z",
     "start_time": "2019-05-20T23:17:24.878471Z"
    }
   },
   "outputs": [],
   "source": [
    "YHat_test['tweeter'] = twitter_model.predict(test_twDf) \n",
    "YHat_train['tweeter'] = twitter_model.predict(train_twDf).round() "
   ]
  },
  {
   "cell_type": "code",
   "execution_count": 365,
   "metadata": {
    "ExecuteTime": {
     "end_time": "2019-05-20T23:17:25.151961Z",
     "start_time": "2019-05-20T23:17:25.142948Z"
    }
   },
   "outputs": [
    {
     "data": {
      "text/plain": [
       "0.5714285714285714"
      ]
     },
     "execution_count": 365,
     "metadata": {},
     "output_type": "execute_result"
    }
   ],
   "source": [
    "accuracy_score(twitter_model.predict(test_twDf).round() ,test_y)"
   ]
  },
  {
   "cell_type": "code",
   "execution_count": 366,
   "metadata": {
    "ExecuteTime": {
     "end_time": "2019-05-20T23:17:26.017099Z",
     "start_time": "2019-05-20T23:17:26.010133Z"
    }
   },
   "outputs": [],
   "source": [
    "# train_fiDf.head(2)\n",
    "scale = StandardScaler()\n",
    "train_fiDf = pd.DataFrame(scale.fit_transform(train_fiDf.values), columns=train_fi.columns)\n",
    "scale = StandardScaler()\n",
    "test_fiDf = pd.DataFrame(scale.fit_transform(test_fiDf.values), columns=test_fi.columns)"
   ]
  },
  {
   "cell_type": "code",
   "execution_count": 367,
   "metadata": {
    "ExecuteTime": {
     "end_time": "2019-05-20T23:17:27.343340Z",
     "start_time": "2019-05-20T23:17:26.552449Z"
    }
   },
   "outputs": [],
   "source": [
    "YHat_test['financialIndicator'] = fi_model.predict(test_fiDf)\n",
    "YHat_train['financialIndicator'] = fi_model.predict(train_fiDf)"
   ]
  },
  {
   "cell_type": "code",
   "execution_count": 368,
   "metadata": {
    "ExecuteTime": {
     "end_time": "2019-05-20T23:17:27.646525Z",
     "start_time": "2019-05-20T23:17:27.345329Z"
    }
   },
   "outputs": [
    {
     "data": {
      "text/plain": [
       "0.7678571428571429"
      ]
     },
     "execution_count": 368,
     "metadata": {},
     "output_type": "execute_result"
    }
   ],
   "source": [
    "accuracy_score(fi_model.predict(test_fiDf),test_y)"
   ]
  },
  {
   "cell_type": "code",
   "execution_count": 369,
   "metadata": {
    "ExecuteTime": {
     "end_time": "2019-05-20T23:17:28.588806Z",
     "start_time": "2019-05-20T23:17:28.584809Z"
    }
   },
   "outputs": [],
   "source": [
    "from sklearn.ensemble import VotingClassifier\n",
    "from sklearn.linear_model import SGDClassifier\n",
    "from sklearn.linear_model import LogisticRegression\n",
    "from sklearn.naive_bayes import MultinomialNB\n",
    "from sklearn.ensemble import RandomForestClassifier \n",
    "from sklearn.svm import SVC"
   ]
  },
  {
   "cell_type": "code",
   "execution_count": 387,
   "metadata": {
    "ExecuteTime": {
     "end_time": "2019-05-21T00:33:36.217778Z",
     "start_time": "2019-05-21T00:33:36.212792Z"
    }
   },
   "outputs": [],
   "source": [
    "classifiers = [\n",
    "    ('logisticregression', LogisticRegression()),\n",
    "    ('randomForest', RandomForestClassifier(n_estimators=5000, max_depth=4,random_state=0)),\n",
    "    ('svc', SVC(gamma='auto')),\n",
    "]\n",
    "clf = VotingClassifier(classifiers, n_jobs=-1)"
   ]
  },
  {
   "cell_type": "code",
   "execution_count": 388,
   "metadata": {
    "ExecuteTime": {
     "end_time": "2019-05-21T00:33:42.477705Z",
     "start_time": "2019-05-21T00:33:36.578211Z"
    }
   },
   "outputs": [
    {
     "data": {
      "text/plain": [
       "VotingClassifier(estimators=[('sgd', SGDClassifier(alpha=0.0001, average=False, class_weight=None,\n",
       "       early_stopping=False, epsilon=0.1, eta0=0.0, fit_intercept=True,\n",
       "       l1_ratio=0.15, learning_rate='optimal', loss='hinge', max_iter=6000,\n",
       "       n_iter=None, n_iter_no_change=5, n_jobs=None, penalty='l2',\n",
       "   ...,\n",
       "  max_iter=-1, probability=False, random_state=None, shrinking=True,\n",
       "  tol=0.001, verbose=False))],\n",
       "         flatten_transform=None, n_jobs=-1, voting='hard', weights=None)"
      ]
     },
     "execution_count": 388,
     "metadata": {},
     "output_type": "execute_result"
    }
   ],
   "source": [
    "clf.fit(YHat_train.drop(['target'],axis=1),train_y)"
   ]
  },
  {
   "cell_type": "code",
   "execution_count": 389,
   "metadata": {
    "ExecuteTime": {
     "end_time": "2019-05-21T00:33:42.792865Z",
     "start_time": "2019-05-21T00:33:42.479673Z"
    }
   },
   "outputs": [
    {
     "name": "stdout",
     "output_type": "stream",
     "text": [
      "accuracy_score 0.5714285714285714\n",
      "classification_score\n",
      "               precision    recall  f1-score   support\n",
      "\n",
      "           0       0.33      0.50      0.40        16\n",
      "           1       0.75      0.60      0.67        40\n",
      "\n",
      "   micro avg       0.57      0.57      0.57        56\n",
      "   macro avg       0.54      0.55      0.53        56\n",
      "weighted avg       0.63      0.57      0.59        56\n",
      "\n"
     ]
    }
   ],
   "source": [
    "y_pred = clf.predict(YHat_test.drop(['target'],axis=1))\n",
    "print('accuracy_score',accuracy_score(y_pred, test_y))\n",
    "print('classification_score\\n',classification_report(y_pred, test_y))"
   ]
  },
  {
   "cell_type": "code",
   "execution_count": null,
   "metadata": {},
   "outputs": [],
   "source": []
  },
  {
   "cell_type": "code",
   "execution_count": null,
   "metadata": {},
   "outputs": [],
   "source": []
  }
 ],
 "metadata": {
  "hide_input": false,
  "kernelspec": {
   "display_name": "Python 3",
   "language": "python",
   "name": "python3"
  },
  "language_info": {
   "codemirror_mode": {
    "name": "ipython",
    "version": 3
   },
   "file_extension": ".py",
   "mimetype": "text/x-python",
   "name": "python",
   "nbconvert_exporter": "python",
   "pygments_lexer": "ipython3",
   "version": "3.6.8"
  },
  "toc": {
   "base_numbering": 1,
   "nav_menu": {},
   "number_sections": true,
   "sideBar": true,
   "skip_h1_title": false,
   "title_cell": "Table of Contents",
   "title_sidebar": "Contents",
   "toc_cell": false,
   "toc_position": {
    "height": "calc(100% - 180px)",
    "left": "10px",
    "top": "150px",
    "width": "330.4px"
   },
   "toc_section_display": true,
   "toc_window_display": true
  }
 },
 "nbformat": 4,
 "nbformat_minor": 2
}
