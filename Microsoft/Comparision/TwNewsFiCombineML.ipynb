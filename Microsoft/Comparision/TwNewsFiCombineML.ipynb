{
 "cells": [
  {
   "cell_type": "code",
   "execution_count": 1,
   "metadata": {
    "ExecuteTime": {
     "end_time": "2019-05-01T01:22:10.037983Z",
     "start_time": "2019-05-01T01:22:08.213993Z"
    }
   },
   "outputs": [],
   "source": [
    "import pandas as pd\n",
    "import numpy as np\n",
    "import missingno as mn\n",
    "\n",
    "import matplotlib.pyplot as plt\n",
    "import seaborn as sns\n",
    "from textblob import TextBlob\n",
    "\n",
    "import glob\n",
    "import os\n",
    "from sklearn.model_selection import cross_val_score\n",
    "\n",
    "import abc\n",
    "import numpy as np\n",
    "\n",
    "import pandas as pd\n",
    "import abc\n",
    "import re\n",
    "import nltk\n",
    "from sklearn import model_selection \n",
    "from sklearn.preprocessing import StandardScaler\n",
    "%matplotlib inline"
   ]
  },
  {
   "cell_type": "code",
   "execution_count": 18,
   "metadata": {
    "ExecuteTime": {
     "end_time": "2019-05-03T14:41:42.243101Z",
     "start_time": "2019-05-03T14:41:41.456205Z"
    }
   },
   "outputs": [],
   "source": [
    "\n",
    "import time\n",
    "import numpy as np\n",
    "\n",
    "import datetime\n",
    "import seaborn as sns\n",
    "\n",
    "import matplotlib.pyplot as plt\n",
    "%matplotlib inline\n",
    "from sklearn.decomposition import PCA\n",
    "\n",
    "import math\n",
    "\n",
    "from sklearn.preprocessing import MinMaxScaler\n",
    "from sklearn.metrics import mean_squared_error\n",
    "from sklearn.preprocessing import StandardScaler\n",
    "\n",
    "import xgboost as xgb\n",
    "from sklearn.metrics import accuracy_score"
   ]
  },
  {
   "cell_type": "code",
   "execution_count": 3,
   "metadata": {
    "ExecuteTime": {
     "end_time": "2019-05-01T01:22:10.088970Z",
     "start_time": "2019-05-01T01:22:10.084008Z"
    }
   },
   "outputs": [],
   "source": [
    "from sklearn.model_selection import learning_curve\n",
    "from sklearn.model_selection import ShuffleSplit\n",
    "import matplotlib.pyplot as plt\n",
    "from sklearn.model_selection import cross_validate\n",
    "from sklearn.model_selection import GridSearchCV\n",
    "from sklearn.metrics import confusion_matrix\n",
    "from sklearn.metrics import accuracy_score"
   ]
  },
  {
   "cell_type": "code",
   "execution_count": 20,
   "metadata": {
    "ExecuteTime": {
     "end_time": "2019-05-03T14:42:00.197093Z",
     "start_time": "2019-05-03T14:41:59.649557Z"
    }
   },
   "outputs": [],
   "source": [
    "import pandas as pd\n",
    "import numpy as np\n",
    "from dateutil.parser import parse\n",
    "import datetime\n",
    "import missingno as mn\n",
    "import pylab as plt\n",
    "from sklearn import model_selection\n",
    "from sklearn.ensemble import RandomForestClassifier\n",
    "from sklearn.metrics import confusion_matrix, accuracy_score, classification_report\n",
    "from sklearn.feature_selection import VarianceThreshold\n",
    "from statsmodels.stats.outliers_influence import variance_inflation_factor"
   ]
  },
  {
   "cell_type": "code",
   "execution_count": 5,
   "metadata": {
    "ExecuteTime": {
     "end_time": "2019-05-01T01:22:10.166746Z",
     "start_time": "2019-05-01T01:22:10.160763Z"
    }
   },
   "outputs": [],
   "source": [
    "from sklearn.ensemble import AdaBoostClassifier\n",
    "from sklearn.ensemble import GradientBoostingClassifier\n",
    "from sklearn.linear_model import LogisticRegression\n",
    "from sklearn.naive_bayes import GaussianNB\n",
    "from sklearn.ensemble import RandomForestClassifier\n",
    "from sklearn.ensemble import VotingClassifier"
   ]
  },
  {
   "cell_type": "code",
   "execution_count": 4,
   "metadata": {
    "ExecuteTime": {
     "end_time": "2019-05-03T12:09:16.973816Z",
     "start_time": "2019-05-03T12:09:14.260870Z"
    }
   },
   "outputs": [],
   "source": [
    "import pandas as pd\n",
    "import numpy as np\n",
    "import missingno as mn"
   ]
  },
  {
   "cell_type": "code",
   "execution_count": 5,
   "metadata": {
    "ExecuteTime": {
     "end_time": "2019-05-03T12:09:17.123826Z",
     "start_time": "2019-05-03T12:09:16.973816Z"
    }
   },
   "outputs": [],
   "source": [
    "featureDF_nw = pd.read_csv('nw_feature_woText_MSFT.csv')\n",
    "featureDF_tw = pd.read_csv('tw_feature_woText_MSFT.csv')\n",
    "targetDF_ = pd.read_csv('FIwithTargetwithFTT.csv')"
   ]
  },
  {
   "cell_type": "code",
   "execution_count": 6,
   "metadata": {
    "ExecuteTime": {
     "end_time": "2019-05-03T12:09:17.130808Z",
     "start_time": "2019-05-03T12:09:17.125821Z"
    }
   },
   "outputs": [],
   "source": [
    "def createComparableDataset(_df):\n",
    "    _df.date = pd.to_datetime(_df.date)\n",
    "    _df = _df[_df['date'] >= pd.to_datetime('2015/05/04')]\n",
    "    _df = _df[_df['date'] <= pd.to_datetime('2019/03/28')]\n",
    "    return _df"
   ]
  },
  {
   "cell_type": "code",
   "execution_count": 7,
   "metadata": {
    "ExecuteTime": {
     "end_time": "2019-05-03T12:09:17.146765Z",
     "start_time": "2019-05-03T12:09:17.132803Z"
    }
   },
   "outputs": [],
   "source": [
    "def createTrainingAndTestingSet(_df):\n",
    "    train = _df[_df['date'] < pd.to_datetime('2019/01/01')]\n",
    "    test = _df[_df['date'] >= pd.to_datetime('2019/01/01')]\n",
    "    return train ,test"
   ]
  },
  {
   "cell_type": "code",
   "execution_count": 8,
   "metadata": {
    "ExecuteTime": {
     "end_time": "2019-05-03T12:09:17.154744Z",
     "start_time": "2019-05-03T12:09:17.148760Z"
    }
   },
   "outputs": [],
   "source": [
    "def getStartEndDateShape(dfz):\n",
    "    startDate = str(min(dfz['date']))\n",
    "    endDate = str(max(dfz['date']))\n",
    "    print('startDate', startDate)\n",
    "    print('endDate', endDate)\n",
    "    print('shape', dfz.shape)\n",
    "    print('---------------------------')"
   ]
  },
  {
   "cell_type": "code",
   "execution_count": 9,
   "metadata": {
    "ExecuteTime": {
     "end_time": "2019-05-03T12:09:17.168706Z",
     "start_time": "2019-05-03T12:09:17.156739Z"
    }
   },
   "outputs": [],
   "source": [
    "def getFeaturesAndTargetRemoveDate(_df):\n",
    "    try:\n",
    "        train_y = _df['target']\n",
    "        train = _df.drop(['date','target'],axis =1)\n",
    "    except:\n",
    "        train_y = _df['Target']\n",
    "        train = _df.drop(['date','Target'],axis =1)        \n",
    "    return train, train_y"
   ]
  },
  {
   "cell_type": "code",
   "execution_count": 12,
   "metadata": {
    "ExecuteTime": {
     "end_time": "2019-05-01T01:22:10.334313Z",
     "start_time": "2019-05-01T01:22:10.304379Z"
    }
   },
   "outputs": [
    {
     "name": "stdout",
     "output_type": "stream",
     "text": [
      "startDate 2004/07/21\n",
      "endDate 2019/03/28\n",
      "shape (4020, 24)\n",
      "---------------------------\n",
      "startDate 2015/05/04\n",
      "endDate 2019/04/04\n",
      "shape (1426, 25)\n",
      "---------------------------\n",
      "startDate 2003/04/30\n",
      "endDate 2019/04/03\n",
      "shape (4010, 32)\n",
      "---------------------------\n"
     ]
    }
   ],
   "source": [
    "getStartEndDateShape(featureDF_nw)\n",
    "getStartEndDateShape(featureDF_tw)\n",
    "getStartEndDateShape(targetDF_)"
   ]
  },
  {
   "cell_type": "code",
   "execution_count": 13,
   "metadata": {
    "ExecuteTime": {
     "end_time": "2019-05-01T01:22:10.348264Z",
     "start_time": "2019-05-01T01:22:10.340283Z"
    }
   },
   "outputs": [],
   "source": [
    "targtWithDateForJoin =pd.DataFrame()\n",
    "targtWithDateForJoin['date'] = targetDF_.date.tolist()\n",
    "targtWithDateForJoin['target'] = targetDF_.Target.tolist()"
   ]
  },
  {
   "cell_type": "markdown",
   "metadata": {
    "ExecuteTime": {
     "end_time": "2019-04-11T05:59:14.290447Z",
     "start_time": "2019-04-11T05:59:14.286449Z"
    }
   },
   "source": [
    "# Formulation of overall data"
   ]
  },
  {
   "cell_type": "code",
   "execution_count": 14,
   "metadata": {
    "ExecuteTime": {
     "end_time": "2019-05-01T01:22:10.364219Z",
     "start_time": "2019-05-01T01:22:10.351254Z"
    }
   },
   "outputs": [],
   "source": [
    "featureDF_nw.date = pd.to_datetime(featureDF_nw.date)\n",
    "targtWithDateForJoin.date = pd.to_datetime(targtWithDateForJoin.date)\n",
    "featureDF_tw.date = pd.to_datetime(featureDF_tw.date)\n",
    "targetDF_.date = pd.to_datetime(targetDF_.date)"
   ]
  },
  {
   "cell_type": "code",
   "execution_count": 15,
   "metadata": {
    "ExecuteTime": {
     "end_time": "2019-05-01T01:22:10.436035Z",
     "start_time": "2019-05-01T01:22:10.365216Z"
    }
   },
   "outputs": [],
   "source": [
    "featureDF_nw= createComparableDataset(featureDF_nw)\n",
    "targtWithDateForJoin=createComparableDataset(targtWithDateForJoin)\n",
    "featureDF_tw=createComparableDataset(featureDF_tw)\n",
    "targetDF_=createComparableDataset(targetDF_)\n",
    "targetDF_.rename(columns={'Target':'target'}, inplace=True)"
   ]
  },
  {
   "cell_type": "code",
   "execution_count": 16,
   "metadata": {
    "ExecuteTime": {
     "end_time": "2019-05-01T01:22:10.454976Z",
     "start_time": "2019-05-01T01:22:10.437024Z"
    }
   },
   "outputs": [
    {
     "name": "stdout",
     "output_type": "stream",
     "text": [
      "startDate 2015-05-04 00:00:00\n",
      "endDate 2019-03-28 00:00:00\n",
      "shape (1027, 24)\n",
      "---------------------------\n",
      "startDate 2015-05-04 00:00:00\n",
      "endDate 2019-03-28 00:00:00\n",
      "shape (1419, 25)\n",
      "---------------------------\n",
      "startDate 2015-05-04 00:00:00\n",
      "endDate 2019-03-28 00:00:00\n",
      "shape (983, 32)\n",
      "---------------------------\n"
     ]
    }
   ],
   "source": [
    "getStartEndDateShape(featureDF_nw)\n",
    "getStartEndDateShape(featureDF_tw)\n",
    "getStartEndDateShape(targetDF_)"
   ]
  },
  {
   "cell_type": "code",
   "execution_count": 17,
   "metadata": {
    "ExecuteTime": {
     "end_time": "2019-05-01T01:22:10.493872Z",
     "start_time": "2019-05-01T01:22:10.456970Z"
    }
   },
   "outputs": [],
   "source": [
    "result =pd.merge( targetDF_,featureDF_nw, how='outer', on='date')"
   ]
  },
  {
   "cell_type": "code",
   "execution_count": 18,
   "metadata": {
    "ExecuteTime": {
     "end_time": "2019-05-01T01:22:10.505839Z",
     "start_time": "2019-05-01T01:22:10.494870Z"
    }
   },
   "outputs": [
    {
     "name": "stdout",
     "output_type": "stream",
     "text": [
      "startDate 2015-05-04 00:00:00\n",
      "endDate 2019-03-28 00:00:00\n",
      "shape (1171, 55)\n",
      "---------------------------\n"
     ]
    }
   ],
   "source": [
    "getStartEndDateShape(result)"
   ]
  },
  {
   "cell_type": "code",
   "execution_count": 19,
   "metadata": {
    "ExecuteTime": {
     "end_time": "2019-05-01T01:22:10.526783Z",
     "start_time": "2019-05-01T01:22:10.507835Z"
    }
   },
   "outputs": [],
   "source": [
    "result =pd.merge( result,featureDF_tw, how='outer', on='date')"
   ]
  },
  {
   "cell_type": "code",
   "execution_count": 20,
   "metadata": {
    "ExecuteTime": {
     "end_time": "2019-05-01T01:22:10.544735Z",
     "start_time": "2019-05-01T01:22:10.527781Z"
    }
   },
   "outputs": [
    {
     "name": "stdout",
     "output_type": "stream",
     "text": [
      "startDate 2015-05-04 00:00:00\n",
      "endDate 2019-03-28 00:00:00\n",
      "shape (1423, 79)\n",
      "---------------------------\n"
     ]
    }
   ],
   "source": [
    "getStartEndDateShape(result)"
   ]
  },
  {
   "cell_type": "code",
   "execution_count": 21,
   "metadata": {
    "ExecuteTime": {
     "end_time": "2019-05-01T01:22:10.551730Z",
     "start_time": "2019-05-01T01:22:10.545733Z"
    }
   },
   "outputs": [],
   "source": [
    "result.sort_values(by='date',inplace=True) "
   ]
  },
  {
   "cell_type": "code",
   "execution_count": 22,
   "metadata": {
    "ExecuteTime": {
     "end_time": "2019-05-01T01:22:10.560692Z",
     "start_time": "2019-05-01T01:22:10.553719Z"
    }
   },
   "outputs": [],
   "source": [
    "result = result.ffill()\n",
    "result.fillna(0,inplace=True)"
   ]
  },
  {
   "cell_type": "code",
   "execution_count": 23,
   "metadata": {
    "ExecuteTime": {
     "end_time": "2019-05-01T01:22:10.601610Z",
     "start_time": "2019-05-01T01:22:10.561690Z"
    }
   },
   "outputs": [
    {
     "data": {
      "text/html": [
       "<div>\n",
       "<style scoped>\n",
       "    .dataframe tbody tr th:only-of-type {\n",
       "        vertical-align: middle;\n",
       "    }\n",
       "\n",
       "    .dataframe tbody tr th {\n",
       "        vertical-align: top;\n",
       "    }\n",
       "\n",
       "    .dataframe thead th {\n",
       "        text-align: right;\n",
       "    }\n",
       "</style>\n",
       "<table border=\"1\" class=\"dataframe\">\n",
       "  <thead>\n",
       "    <tr style=\"text-align: right;\">\n",
       "      <th></th>\n",
       "      <th>Open</th>\n",
       "      <th>High</th>\n",
       "      <th>Low</th>\n",
       "      <th>Close</th>\n",
       "      <th>Adj Close</th>\n",
       "      <th>Volume</th>\n",
       "      <th>sma2</th>\n",
       "      <th>sma2_1</th>\n",
       "      <th>sma2_increment</th>\n",
       "      <th>sma2_1_increment</th>\n",
       "      <th>...</th>\n",
       "      <th>disgust_y</th>\n",
       "      <th>anticipation_y</th>\n",
       "      <th>fear_y</th>\n",
       "      <th>trust_y</th>\n",
       "      <th>tb_polarity_y</th>\n",
       "      <th>tb_subjectivity_y</th>\n",
       "      <th>hiv4_positive_y</th>\n",
       "      <th>hiv4_negative_y</th>\n",
       "      <th>hiv4_polarity_y</th>\n",
       "      <th>hiv4_subjectivity_y</th>\n",
       "    </tr>\n",
       "  </thead>\n",
       "  <tbody>\n",
       "    <tr>\n",
       "      <th>0</th>\n",
       "      <td>48.369999</td>\n",
       "      <td>48.869999</td>\n",
       "      <td>48.180000</td>\n",
       "      <td>48.240002</td>\n",
       "      <td>44.072769</td>\n",
       "      <td>34039500.0</td>\n",
       "      <td>48.475001</td>\n",
       "      <td>48.640002</td>\n",
       "      <td>-0.165001</td>\n",
       "      <td>-0.069999</td>\n",
       "      <td>...</td>\n",
       "      <td>0.0</td>\n",
       "      <td>0.002845</td>\n",
       "      <td>0.0</td>\n",
       "      <td>0.000000</td>\n",
       "      <td>2.400000</td>\n",
       "      <td>2.383333</td>\n",
       "      <td>5.0</td>\n",
       "      <td>2.0</td>\n",
       "      <td>2.333331</td>\n",
       "      <td>0.589387</td>\n",
       "    </tr>\n",
       "    <tr>\n",
       "      <th>1</th>\n",
       "      <td>47.820000</td>\n",
       "      <td>48.160000</td>\n",
       "      <td>47.310001</td>\n",
       "      <td>47.599998</td>\n",
       "      <td>43.488049</td>\n",
       "      <td>50369200.0</td>\n",
       "      <td>48.095000</td>\n",
       "      <td>48.475001</td>\n",
       "      <td>-0.380001</td>\n",
       "      <td>-0.165001</td>\n",
       "      <td>...</td>\n",
       "      <td>0.0</td>\n",
       "      <td>0.003759</td>\n",
       "      <td>0.0</td>\n",
       "      <td>0.000000</td>\n",
       "      <td>0.000000</td>\n",
       "      <td>0.300000</td>\n",
       "      <td>3.0</td>\n",
       "      <td>2.0</td>\n",
       "      <td>0.666666</td>\n",
       "      <td>0.326007</td>\n",
       "    </tr>\n",
       "    <tr>\n",
       "      <th>2</th>\n",
       "      <td>47.570000</td>\n",
       "      <td>47.770000</td>\n",
       "      <td>46.020000</td>\n",
       "      <td>46.279999</td>\n",
       "      <td>42.282074</td>\n",
       "      <td>52433000.0</td>\n",
       "      <td>47.695000</td>\n",
       "      <td>48.095000</td>\n",
       "      <td>-0.400000</td>\n",
       "      <td>-0.380001</td>\n",
       "      <td>...</td>\n",
       "      <td>0.0</td>\n",
       "      <td>0.000522</td>\n",
       "      <td>0.0</td>\n",
       "      <td>0.000000</td>\n",
       "      <td>1.250947</td>\n",
       "      <td>7.171212</td>\n",
       "      <td>19.0</td>\n",
       "      <td>5.0</td>\n",
       "      <td>7.999995</td>\n",
       "      <td>3.123412</td>\n",
       "    </tr>\n",
       "    <tr>\n",
       "      <th>3</th>\n",
       "      <td>46.270000</td>\n",
       "      <td>47.090000</td>\n",
       "      <td>46.160000</td>\n",
       "      <td>46.700001</td>\n",
       "      <td>42.665791</td>\n",
       "      <td>32971700.0</td>\n",
       "      <td>46.920000</td>\n",
       "      <td>47.695000</td>\n",
       "      <td>-0.775000</td>\n",
       "      <td>-0.400000</td>\n",
       "      <td>...</td>\n",
       "      <td>0.0</td>\n",
       "      <td>0.000573</td>\n",
       "      <td>0.0</td>\n",
       "      <td>0.000573</td>\n",
       "      <td>0.322159</td>\n",
       "      <td>3.534091</td>\n",
       "      <td>2.0</td>\n",
       "      <td>7.0</td>\n",
       "      <td>-3.999997</td>\n",
       "      <td>1.258474</td>\n",
       "    </tr>\n",
       "    <tr>\n",
       "      <th>4</th>\n",
       "      <td>47.549999</td>\n",
       "      <td>47.980000</td>\n",
       "      <td>47.520000</td>\n",
       "      <td>47.750000</td>\n",
       "      <td>43.625092</td>\n",
       "      <td>35364900.0</td>\n",
       "      <td>46.909999</td>\n",
       "      <td>46.920000</td>\n",
       "      <td>-0.010001</td>\n",
       "      <td>-0.775000</td>\n",
       "      <td>...</td>\n",
       "      <td>0.0</td>\n",
       "      <td>0.000548</td>\n",
       "      <td>0.0</td>\n",
       "      <td>0.000000</td>\n",
       "      <td>0.325000</td>\n",
       "      <td>0.962500</td>\n",
       "      <td>11.0</td>\n",
       "      <td>6.0</td>\n",
       "      <td>2.333332</td>\n",
       "      <td>1.455759</td>\n",
       "    </tr>\n",
       "  </tbody>\n",
       "</table>\n",
       "<p>5 rows × 79 columns</p>\n",
       "</div>"
      ],
      "text/plain": [
       "        Open       High        Low      Close  Adj Close      Volume  \\\n",
       "0  48.369999  48.869999  48.180000  48.240002  44.072769  34039500.0   \n",
       "1  47.820000  48.160000  47.310001  47.599998  43.488049  50369200.0   \n",
       "2  47.570000  47.770000  46.020000  46.279999  42.282074  52433000.0   \n",
       "3  46.270000  47.090000  46.160000  46.700001  42.665791  32971700.0   \n",
       "4  47.549999  47.980000  47.520000  47.750000  43.625092  35364900.0   \n",
       "\n",
       "        sma2     sma2_1  sma2_increment  sma2_1_increment  ...  disgust_y  \\\n",
       "0  48.475001  48.640002       -0.165001         -0.069999  ...        0.0   \n",
       "1  48.095000  48.475001       -0.380001         -0.165001  ...        0.0   \n",
       "2  47.695000  48.095000       -0.400000         -0.380001  ...        0.0   \n",
       "3  46.920000  47.695000       -0.775000         -0.400000  ...        0.0   \n",
       "4  46.909999  46.920000       -0.010001         -0.775000  ...        0.0   \n",
       "\n",
       "   anticipation_y  fear_y   trust_y  tb_polarity_y  tb_subjectivity_y  \\\n",
       "0        0.002845     0.0  0.000000       2.400000           2.383333   \n",
       "1        0.003759     0.0  0.000000       0.000000           0.300000   \n",
       "2        0.000522     0.0  0.000000       1.250947           7.171212   \n",
       "3        0.000573     0.0  0.000573       0.322159           3.534091   \n",
       "4        0.000548     0.0  0.000000       0.325000           0.962500   \n",
       "\n",
       "   hiv4_positive_y  hiv4_negative_y  hiv4_polarity_y  hiv4_subjectivity_y  \n",
       "0              5.0              2.0         2.333331             0.589387  \n",
       "1              3.0              2.0         0.666666             0.326007  \n",
       "2             19.0              5.0         7.999995             3.123412  \n",
       "3              2.0              7.0        -3.999997             1.258474  \n",
       "4             11.0              6.0         2.333332             1.455759  \n",
       "\n",
       "[5 rows x 79 columns]"
      ]
     },
     "execution_count": 23,
     "metadata": {},
     "output_type": "execute_result"
    }
   ],
   "source": [
    "result.head(5)"
   ]
  },
  {
   "cell_type": "code",
   "execution_count": 24,
   "metadata": {
    "ExecuteTime": {
     "end_time": "2019-05-01T01:22:10.630510Z",
     "start_time": "2019-05-01T01:22:10.603578Z"
    }
   },
   "outputs": [
    {
     "data": {
      "text/html": [
       "<div>\n",
       "<style scoped>\n",
       "    .dataframe tbody tr th:only-of-type {\n",
       "        vertical-align: middle;\n",
       "    }\n",
       "\n",
       "    .dataframe tbody tr th {\n",
       "        vertical-align: top;\n",
       "    }\n",
       "\n",
       "    .dataframe thead th {\n",
       "        text-align: right;\n",
       "    }\n",
       "</style>\n",
       "<table border=\"1\" class=\"dataframe\">\n",
       "  <thead>\n",
       "    <tr style=\"text-align: right;\">\n",
       "      <th></th>\n",
       "      <th>Open</th>\n",
       "      <th>High</th>\n",
       "      <th>Low</th>\n",
       "      <th>Close</th>\n",
       "      <th>Adj Close</th>\n",
       "      <th>Volume</th>\n",
       "      <th>sma2</th>\n",
       "      <th>sma2_1</th>\n",
       "      <th>sma2_increment</th>\n",
       "      <th>sma2_1_increment</th>\n",
       "      <th>...</th>\n",
       "      <th>disgust_y</th>\n",
       "      <th>anticipation_y</th>\n",
       "      <th>fear_y</th>\n",
       "      <th>trust_y</th>\n",
       "      <th>tb_polarity_y</th>\n",
       "      <th>tb_subjectivity_y</th>\n",
       "      <th>hiv4_positive_y</th>\n",
       "      <th>hiv4_negative_y</th>\n",
       "      <th>hiv4_polarity_y</th>\n",
       "      <th>hiv4_subjectivity_y</th>\n",
       "    </tr>\n",
       "  </thead>\n",
       "  <tbody>\n",
       "    <tr>\n",
       "      <th>1092</th>\n",
       "      <td>119.500000</td>\n",
       "      <td>119.589996</td>\n",
       "      <td>117.040001</td>\n",
       "      <td>117.050003</td>\n",
       "      <td>117.050003</td>\n",
       "      <td>33624500.0</td>\n",
       "      <td>118.319999</td>\n",
       "      <td>117.264999</td>\n",
       "      <td>1.055001</td>\n",
       "      <td>-0.474998</td>\n",
       "      <td>...</td>\n",
       "      <td>12.0</td>\n",
       "      <td>0.001662</td>\n",
       "      <td>0.000345</td>\n",
       "      <td>0.001552</td>\n",
       "      <td>54.011847</td>\n",
       "      <td>133.276238</td>\n",
       "      <td>565.0</td>\n",
       "      <td>273.0</td>\n",
       "      <td>99.701533</td>\n",
       "      <td>75.265758</td>\n",
       "    </tr>\n",
       "    <tr>\n",
       "      <th>979</th>\n",
       "      <td>116.559998</td>\n",
       "      <td>118.010002</td>\n",
       "      <td>116.320000</td>\n",
       "      <td>117.660004</td>\n",
       "      <td>117.660004</td>\n",
       "      <td>27067100.0</td>\n",
       "      <td>118.029999</td>\n",
       "      <td>118.319999</td>\n",
       "      <td>-0.290000</td>\n",
       "      <td>1.055001</td>\n",
       "      <td>...</td>\n",
       "      <td>4.0</td>\n",
       "      <td>0.001268</td>\n",
       "      <td>0.000215</td>\n",
       "      <td>0.000933</td>\n",
       "      <td>21.654621</td>\n",
       "      <td>77.138890</td>\n",
       "      <td>361.0</td>\n",
       "      <td>156.0</td>\n",
       "      <td>62.624211</td>\n",
       "      <td>41.045214</td>\n",
       "    </tr>\n",
       "    <tr>\n",
       "      <th>980</th>\n",
       "      <td>118.620003</td>\n",
       "      <td>118.709999</td>\n",
       "      <td>116.849998</td>\n",
       "      <td>117.910004</td>\n",
       "      <td>117.910004</td>\n",
       "      <td>26097700.0</td>\n",
       "      <td>117.590000</td>\n",
       "      <td>118.029999</td>\n",
       "      <td>-0.439999</td>\n",
       "      <td>-0.290000</td>\n",
       "      <td>...</td>\n",
       "      <td>19.0</td>\n",
       "      <td>0.001762</td>\n",
       "      <td>0.000370</td>\n",
       "      <td>0.001193</td>\n",
       "      <td>98.739210</td>\n",
       "      <td>286.580670</td>\n",
       "      <td>1363.0</td>\n",
       "      <td>625.0</td>\n",
       "      <td>248.350599</td>\n",
       "      <td>147.048014</td>\n",
       "    </tr>\n",
       "    <tr>\n",
       "      <th>981</th>\n",
       "      <td>117.879997</td>\n",
       "      <td>118.209999</td>\n",
       "      <td>115.519997</td>\n",
       "      <td>116.769997</td>\n",
       "      <td>116.769997</td>\n",
       "      <td>22733400.0</td>\n",
       "      <td>118.250000</td>\n",
       "      <td>117.590000</td>\n",
       "      <td>0.659999</td>\n",
       "      <td>-0.439999</td>\n",
       "      <td>...</td>\n",
       "      <td>17.0</td>\n",
       "      <td>0.001513</td>\n",
       "      <td>0.000332</td>\n",
       "      <td>0.001175</td>\n",
       "      <td>110.125758</td>\n",
       "      <td>283.081651</td>\n",
       "      <td>1428.0</td>\n",
       "      <td>565.0</td>\n",
       "      <td>244.546184</td>\n",
       "      <td>132.279292</td>\n",
       "    </tr>\n",
       "    <tr>\n",
       "      <th>982</th>\n",
       "      <td>117.440002</td>\n",
       "      <td>117.580002</td>\n",
       "      <td>116.129997</td>\n",
       "      <td>116.930000</td>\n",
       "      <td>116.930000</td>\n",
       "      <td>18334800.0</td>\n",
       "      <td>117.659999</td>\n",
       "      <td>118.250000</td>\n",
       "      <td>-0.590001</td>\n",
       "      <td>0.659999</td>\n",
       "      <td>...</td>\n",
       "      <td>27.0</td>\n",
       "      <td>0.001972</td>\n",
       "      <td>0.000315</td>\n",
       "      <td>0.001134</td>\n",
       "      <td>101.462943</td>\n",
       "      <td>299.296855</td>\n",
       "      <td>1406.0</td>\n",
       "      <td>590.0</td>\n",
       "      <td>267.852539</td>\n",
       "      <td>148.186288</td>\n",
       "    </tr>\n",
       "  </tbody>\n",
       "</table>\n",
       "<p>5 rows × 79 columns</p>\n",
       "</div>"
      ],
      "text/plain": [
       "            Open        High         Low       Close   Adj Close      Volume  \\\n",
       "1092  119.500000  119.589996  117.040001  117.050003  117.050003  33624500.0   \n",
       "979   116.559998  118.010002  116.320000  117.660004  117.660004  27067100.0   \n",
       "980   118.620003  118.709999  116.849998  117.910004  117.910004  26097700.0   \n",
       "981   117.879997  118.209999  115.519997  116.769997  116.769997  22733400.0   \n",
       "982   117.440002  117.580002  116.129997  116.930000  116.930000  18334800.0   \n",
       "\n",
       "            sma2      sma2_1  sma2_increment  sma2_1_increment  ...  \\\n",
       "1092  118.319999  117.264999        1.055001         -0.474998  ...   \n",
       "979   118.029999  118.319999       -0.290000          1.055001  ...   \n",
       "980   117.590000  118.029999       -0.439999         -0.290000  ...   \n",
       "981   118.250000  117.590000        0.659999         -0.439999  ...   \n",
       "982   117.659999  118.250000       -0.590001          0.659999  ...   \n",
       "\n",
       "      disgust_y  anticipation_y    fear_y   trust_y  tb_polarity_y  \\\n",
       "1092       12.0        0.001662  0.000345  0.001552      54.011847   \n",
       "979         4.0        0.001268  0.000215  0.000933      21.654621   \n",
       "980        19.0        0.001762  0.000370  0.001193      98.739210   \n",
       "981        17.0        0.001513  0.000332  0.001175     110.125758   \n",
       "982        27.0        0.001972  0.000315  0.001134     101.462943   \n",
       "\n",
       "      tb_subjectivity_y  hiv4_positive_y  hiv4_negative_y  hiv4_polarity_y  \\\n",
       "1092         133.276238            565.0            273.0        99.701533   \n",
       "979           77.138890            361.0            156.0        62.624211   \n",
       "980          286.580670           1363.0            625.0       248.350599   \n",
       "981          283.081651           1428.0            565.0       244.546184   \n",
       "982          299.296855           1406.0            590.0       267.852539   \n",
       "\n",
       "      hiv4_subjectivity_y  \n",
       "1092            75.265758  \n",
       "979             41.045214  \n",
       "980            147.048014  \n",
       "981            132.279292  \n",
       "982            148.186288  \n",
       "\n",
       "[5 rows x 79 columns]"
      ]
     },
     "execution_count": 24,
     "metadata": {},
     "output_type": "execute_result"
    }
   ],
   "source": [
    "result.tail(5)"
   ]
  },
  {
   "cell_type": "code",
   "execution_count": 25,
   "metadata": {
    "ExecuteTime": {
     "end_time": "2019-05-01T01:22:10.796064Z",
     "start_time": "2019-05-01T01:22:10.631504Z"
    }
   },
   "outputs": [],
   "source": [
    "# Save data with without scaling\n",
    "result.to_csv('OverAllDataset_wo_scaling.csv',index= False)"
   ]
  },
  {
   "cell_type": "code",
   "execution_count": 26,
   "metadata": {
    "ExecuteTime": {
     "end_time": "2019-05-01T01:22:10.808039Z",
     "start_time": "2019-05-01T01:22:10.798059Z"
    }
   },
   "outputs": [
    {
     "name": "stdout",
     "output_type": "stream",
     "text": [
      "startDate 2015-05-04 00:00:00\n",
      "endDate 2019-03-28 00:00:00\n",
      "shape (1423, 79)\n",
      "---------------------------\n"
     ]
    }
   ],
   "source": [
    "getStartEndDateShape(result)"
   ]
  },
  {
   "cell_type": "code",
   "execution_count": 27,
   "metadata": {
    "ExecuteTime": {
     "end_time": "2019-05-01T01:22:10.821995Z",
     "start_time": "2019-05-01T01:22:10.810026Z"
    }
   },
   "outputs": [],
   "source": [
    "date= result.date.tolist()\n",
    "target = result.target.tolist()\n",
    "result.drop(['date','target'],axis =1,inplace=True)"
   ]
  },
  {
   "cell_type": "code",
   "execution_count": 28,
   "metadata": {
    "ExecuteTime": {
     "end_time": "2019-05-01T01:22:10.833963Z",
     "start_time": "2019-05-01T01:22:10.823991Z"
    }
   },
   "outputs": [],
   "source": [
    "scale = StandardScaler()\n",
    "result = pd.DataFrame(scale.fit_transform(result.values), columns=result.columns, index=result.index)"
   ]
  },
  {
   "cell_type": "code",
   "execution_count": 29,
   "metadata": {
    "ExecuteTime": {
     "end_time": "2019-05-01T01:22:10.848923Z",
     "start_time": "2019-05-01T01:22:10.835958Z"
    }
   },
   "outputs": [],
   "source": [
    "result['date'] = date\n",
    "result['Target'] = target"
   ]
  },
  {
   "cell_type": "code",
   "execution_count": 30,
   "metadata": {
    "ExecuteTime": {
     "end_time": "2019-05-01T01:22:11.062378Z",
     "start_time": "2019-05-01T01:22:10.849920Z"
    }
   },
   "outputs": [],
   "source": [
    "# Save data with without scaling                   \n",
    "result.to_csv('OverAllDataset_with_scaling.csv',index= False)\n"
   ]
  },
  {
   "cell_type": "code",
   "execution_count": 31,
   "metadata": {
    "ExecuteTime": {
     "end_time": "2019-05-01T01:22:11.075318Z",
     "start_time": "2019-05-01T01:22:11.064347Z"
    }
   },
   "outputs": [
    {
     "name": "stdout",
     "output_type": "stream",
     "text": [
      "startDate 2015-05-04 00:00:00\n",
      "endDate 2019-03-28 00:00:00\n",
      "shape (1423, 79)\n",
      "---------------------------\n"
     ]
    }
   ],
   "source": [
    "getStartEndDateShape(result)"
   ]
  },
  {
   "cell_type": "markdown",
   "metadata": {},
   "source": [
    "# Training and Test Split"
   ]
  },
  {
   "cell_type": "code",
   "execution_count": 32,
   "metadata": {
    "ExecuteTime": {
     "end_time": "2019-05-01T01:22:11.094266Z",
     "start_time": "2019-05-01T01:22:11.078310Z"
    }
   },
   "outputs": [],
   "source": [
    "train,test = createTrainingAndTestingSet(result)"
   ]
  },
  {
   "cell_type": "code",
   "execution_count": 33,
   "metadata": {
    "ExecuteTime": {
     "end_time": "2019-05-01T01:22:11.108228Z",
     "start_time": "2019-05-01T01:22:11.096270Z"
    }
   },
   "outputs": [
    {
     "name": "stdout",
     "output_type": "stream",
     "text": [
      "startDate 2015-05-04 00:00:00\n",
      "endDate 2018-12-31 00:00:00\n",
      "shape (1336, 79)\n",
      "---------------------------\n",
      "startDate 2019-01-01 00:00:00\n",
      "endDate 2019-03-28 00:00:00\n",
      "shape (87, 79)\n",
      "---------------------------\n"
     ]
    }
   ],
   "source": [
    "getStartEndDateShape(train)\n",
    "getStartEndDateShape(test)"
   ]
  },
  {
   "cell_type": "code",
   "execution_count": 34,
   "metadata": {
    "ExecuteTime": {
     "end_time": "2019-05-01T01:22:11.353466Z",
     "start_time": "2019-05-01T01:22:11.110223Z"
    }
   },
   "outputs": [],
   "source": [
    "train.to_csv('train_tw_nw_fi.csv',index=False)\n",
    "test.to_csv('test_tw_nw_fi.csv',index=False)"
   ]
  },
  {
   "cell_type": "code",
   "execution_count": 35,
   "metadata": {
    "ExecuteTime": {
     "end_time": "2019-05-01T01:22:11.400329Z",
     "start_time": "2019-05-01T01:22:11.353466Z"
    }
   },
   "outputs": [],
   "source": [
    "nonScaledDataset = pd.read_csv('OverAllDataset_wo_scaling.csv')\n",
    "nonScaledDataset.date = pd.to_datetime(nonScaledDataset.date)"
   ]
  },
  {
   "cell_type": "code",
   "execution_count": 36,
   "metadata": {
    "ExecuteTime": {
     "end_time": "2019-05-01T01:22:11.415952Z",
     "start_time": "2019-05-01T01:22:11.400329Z"
    }
   },
   "outputs": [],
   "source": [
    "train_en, test_en = createTrainingAndTestingSet(nonScaledDataset)"
   ]
  },
  {
   "cell_type": "code",
   "execution_count": 37,
   "metadata": {
    "ExecuteTime": {
     "end_time": "2019-05-01T01:22:11.428632Z",
     "start_time": "2019-05-01T01:22:11.417663Z"
    }
   },
   "outputs": [
    {
     "name": "stdout",
     "output_type": "stream",
     "text": [
      "startDate 2015-05-04 00:00:00\n",
      "endDate 2018-12-31 00:00:00\n",
      "shape (1336, 79)\n",
      "---------------------------\n",
      "startDate 2019-01-01 00:00:00\n",
      "endDate 2019-03-28 00:00:00\n",
      "shape (87, 79)\n",
      "---------------------------\n"
     ]
    }
   ],
   "source": [
    "getStartEndDateShape(train_en)\n",
    "getStartEndDateShape(test_en)"
   ]
  },
  {
   "cell_type": "code",
   "execution_count": 38,
   "metadata": {
    "ExecuteTime": {
     "end_time": "2019-05-01T01:22:11.688453Z",
     "start_time": "2019-05-01T01:22:11.429629Z"
    }
   },
   "outputs": [],
   "source": [
    "train_en.to_csv('train_ns_tw_nw_fi.csv',index= False)\n",
    "test_en.to_csv('test_ns_tw_nw_fi.csv',index= False)"
   ]
  },
  {
   "cell_type": "markdown",
   "metadata": {
    "ExecuteTime": {
     "end_time": "2019-04-10T02:52:08.923857Z",
     "start_time": "2019-04-10T02:52:08.920847Z"
    }
   },
   "source": [
    "# NEWS RandomForest- NonScaled"
   ]
  },
  {
   "cell_type": "code",
   "execution_count": 39,
   "metadata": {
    "ExecuteTime": {
     "end_time": "2019-05-01T01:22:11.751283Z",
     "start_time": "2019-05-01T01:22:11.690446Z"
    }
   },
   "outputs": [],
   "source": [
    "featureDF_nw.date = pd.to_datetime(featureDF_nw.date)\n",
    "targtWithDateForJoin.date = pd.to_datetime(targtWithDateForJoin.date)\n",
    "result =pd.merge(featureDF_nw, targtWithDateForJoin, how='left', on='date')"
   ]
  },
  {
   "cell_type": "code",
   "execution_count": 40,
   "metadata": {
    "ExecuteTime": {
     "end_time": "2019-05-01T01:22:11.766245Z",
     "start_time": "2019-05-01T01:22:11.760260Z"
    }
   },
   "outputs": [],
   "source": [
    "result.sort_values(by='date',inplace=True) "
   ]
  },
  {
   "cell_type": "code",
   "execution_count": 41,
   "metadata": {
    "ExecuteTime": {
     "end_time": "2019-05-01T01:22:11.777214Z",
     "start_time": "2019-05-01T01:22:11.771230Z"
    }
   },
   "outputs": [],
   "source": [
    "result['target'] = result['target'].ffill()"
   ]
  },
  {
   "cell_type": "code",
   "execution_count": 42,
   "metadata": {
    "ExecuteTime": {
     "end_time": "2019-05-01T01:22:11.784196Z",
     "start_time": "2019-05-01T01:22:11.779209Z"
    }
   },
   "outputs": [],
   "source": [
    "#mn.matrix(result)"
   ]
  },
  {
   "cell_type": "code",
   "execution_count": 43,
   "metadata": {
    "ExecuteTime": {
     "end_time": "2019-05-01T01:22:11.812121Z",
     "start_time": "2019-05-01T01:22:11.786190Z"
    }
   },
   "outputs": [],
   "source": [
    "#train and test split\n",
    "train_nw, test_nw = createTrainingAndTestingSet(result)\n",
    "\n",
    "train_nw_y = train_nw['target']\n",
    "test_nw_y = test_nw['target']\n"
   ]
  },
  {
   "cell_type": "code",
   "execution_count": 44,
   "metadata": {
    "ExecuteTime": {
     "end_time": "2019-05-01T01:22:11.830073Z",
     "start_time": "2019-05-01T01:22:11.814118Z"
    }
   },
   "outputs": [
    {
     "name": "stdout",
     "output_type": "stream",
     "text": [
      "startDate 2015-05-04 00:00:00\n",
      "endDate 2018-12-30 00:00:00\n",
      "shape (961, 25)\n",
      "---------------------------\n",
      "startDate 2019-01-03 00:00:00\n",
      "endDate 2019-03-28 00:00:00\n",
      "shape (66, 25)\n",
      "---------------------------\n"
     ]
    }
   ],
   "source": [
    "getStartEndDateShape(train_nw)\n",
    "getStartEndDateShape(test_nw)"
   ]
  },
  {
   "cell_type": "code",
   "execution_count": 45,
   "metadata": {
    "ExecuteTime": {
     "end_time": "2019-05-01T01:22:11.922825Z",
     "start_time": "2019-05-01T01:22:11.832067Z"
    }
   },
   "outputs": [
    {
     "name": "stderr",
     "output_type": "stream",
     "text": [
      "C:\\Users\\praveen ji\\Anaconda3\\envs\\tf_gpu\\lib\\site-packages\\pandas\\core\\frame.py:3940: SettingWithCopyWarning: \n",
      "A value is trying to be set on a copy of a slice from a DataFrame\n",
      "\n",
      "See the caveats in the documentation: http://pandas.pydata.org/pandas-docs/stable/indexing.html#indexing-view-versus-copy\n",
      "  errors=errors)\n"
     ]
    }
   ],
   "source": [
    "\n",
    "train_nw.drop(['date','target'],axis=1,inplace=True)\n",
    "test_nw.drop(['date','target'],axis=1,inplace=True)"
   ]
  },
  {
   "cell_type": "code",
   "execution_count": 46,
   "metadata": {
    "ExecuteTime": {
     "end_time": "2019-05-01T01:22:11.929805Z",
     "start_time": "2019-05-01T01:22:11.924820Z"
    }
   },
   "outputs": [
    {
     "name": "stdout",
     "output_type": "stream",
     "text": [
      "train_nw (961, 23) test_nw (66, 23) len(train_nw_y) 961 len(test_nw_y) 66\n"
     ]
    }
   ],
   "source": [
    "print('train_nw',train_nw.shape,'test_nw',test_nw.shape,'len(train_nw_y)',len(train_nw_y),'len(test_nw_y)',len(test_nw_y))"
   ]
  },
  {
   "cell_type": "code",
   "execution_count": 47,
   "metadata": {
    "ExecuteTime": {
     "end_time": "2019-05-01T01:22:11.936790Z",
     "start_time": "2019-05-01T01:22:11.931801Z"
    }
   },
   "outputs": [],
   "source": [
    "def NaivePredition(y_test):\n",
    "    \n",
    "    y_testCheck = y_test.copy()\n",
    "    y_pred = list()\n",
    "    \n",
    "    for counter in range(len(y_testCheck)-1):\n",
    "        y_pred.append(y_testCheck[counter])\n",
    "    \n",
    "    y_testCheck = y_testCheck[1:]\n",
    "    print ('Model accuracy = %.3f' % accuracy_score(y_pred,y_testCheck))\n",
    "\n",
    "    print('classification_score\\n',classification_report(y_pred, y_testCheck))"
   ]
  },
  {
   "cell_type": "code",
   "execution_count": 48,
   "metadata": {
    "ExecuteTime": {
     "end_time": "2019-05-01T01:22:11.961720Z",
     "start_time": "2019-05-01T01:22:11.937785Z"
    }
   },
   "outputs": [
    {
     "name": "stdout",
     "output_type": "stream",
     "text": [
      "Model accuracy = 0.692\n",
      "classification_score\n",
      "               precision    recall  f1-score   support\n",
      "\n",
      "         0.0       0.66      0.66      0.66        29\n",
      "         1.0       0.72      0.72      0.72        36\n",
      "\n",
      "   micro avg       0.69      0.69      0.69        65\n",
      "   macro avg       0.69      0.69      0.69        65\n",
      "weighted avg       0.69      0.69      0.69        65\n",
      "\n"
     ]
    }
   ],
   "source": [
    "NaivePredition(list(test_nw_y))"
   ]
  },
  {
   "cell_type": "code",
   "execution_count": 16,
   "metadata": {
    "ExecuteTime": {
     "end_time": "2019-05-03T14:41:28.473920Z",
     "start_time": "2019-05-03T14:41:26.362566Z"
    }
   },
   "outputs": [],
   "source": [
    "# Naive Bayes for Baseline\n",
    "from sklearn.naive_bayes import GaussianNB\n",
    "def NaiveBayes(train_features , train_labels, test_features,test_labels):\n",
    "    gnb = GaussianNB()\n",
    "    y_pred = gnb.fit(train_features, train_labels).predict(test_features)\n",
    "    print('accuracy_score',accuracy_score(y_pred, test_labels))\n",
    "    print('classification_score\\n',classification_report(y_pred, test_labels))\n",
    "    "
   ]
  },
  {
   "cell_type": "code",
   "execution_count": 50,
   "metadata": {
    "ExecuteTime": {
     "end_time": "2019-05-01T01:22:11.983663Z",
     "start_time": "2019-05-01T01:22:11.971695Z"
    }
   },
   "outputs": [],
   "source": [
    "def plotImportanceOfFeature(features,clf):\n",
    "    importances = clf.feature_importances_\n",
    "    indices = np.argsort(importances)\n",
    "\n",
    "    plt.title('Feature Importances')\n",
    "    plt.barh(range(len(indices)), importances[indices], color='b', align='center')\n",
    "    plt.yticks(range(len(indices)), [features[i] for i in indices])\n",
    "    plt.xlabel('Relative Importance')\n",
    "    plt.show()"
   ]
  },
  {
   "cell_type": "code",
   "execution_count": 51,
   "metadata": {
    "ExecuteTime": {
     "end_time": "2019-05-01T01:22:12.004607Z",
     "start_time": "2019-05-01T01:22:11.985658Z"
    }
   },
   "outputs": [],
   "source": [
    "def corelationPlot (df_):\n",
    "    corr = df_.corr()\n",
    "    fig = plt.figure()\n",
    "    ax = fig.add_subplot(111)\n",
    "    cax = ax.matshow(corr,cmap='coolwarm', vmin=-1, vmax=1)\n",
    "    fig.colorbar(cax)\n",
    "    ticks = np.arange(0,len(df_.columns),1)\n",
    "    ax.set_xticks(ticks)\n",
    "    plt.xticks(rotation=90)\n",
    "    ax.set_yticks(ticks)\n",
    "    ax.set_xticklabels(df_.columns)\n",
    "    ax.set_yticklabels(df_.columns)\n",
    "    plt.show()"
   ]
  },
  {
   "cell_type": "code",
   "execution_count": 52,
   "metadata": {
    "ExecuteTime": {
     "end_time": "2019-05-01T01:22:12.013583Z",
     "start_time": "2019-05-01T01:22:12.006603Z"
    }
   },
   "outputs": [],
   "source": [
    "def vif_RemoveHiglyCorelatedFeatures(_df,_dfTest,corPlot = False):\n",
    "    vif = pd.DataFrame()\n",
    "    vif[\"VIF Factor\"] = [variance_inflation_factor(_df.values, i) for i in range(_df.values.shape[1])]\n",
    "    vif.round(1)\n",
    "    while max(vif[\"VIF Factor\"])>10:\n",
    "        vif = pd.DataFrame()\n",
    "        vif[\"VIF Factor\"] = [variance_inflation_factor(_df.values, i) for i in range(_df.values.shape[1])]\n",
    "        vif.round(1)\n",
    "        dropCol = [_df.columns[np.argmax(vif[\"VIF Factor\"])]]\n",
    "        _df.drop(columns=dropCol, inplace=True)\n",
    "        _dfTest.drop(columns=dropCol, inplace=True)\n",
    "        if corPlot:\n",
    "            corelationPlot (_df)"
   ]
  },
  {
   "cell_type": "code",
   "execution_count": 53,
   "metadata": {
    "ExecuteTime": {
     "end_time": "2019-05-01T01:22:13.006926Z",
     "start_time": "2019-05-01T01:22:12.014580Z"
    },
    "scrolled": true
   },
   "outputs": [
    {
     "name": "stderr",
     "output_type": "stream",
     "text": [
      "C:\\Users\\praveen ji\\Anaconda3\\envs\\tf_gpu\\lib\\site-packages\\numpy\\core\\fromnumeric.py:56: FutureWarning: \n",
      "The current behaviour of 'Series.argmax' is deprecated, use 'idxmax'\n",
      "instead.\n",
      "The behavior of 'argmax' will be corrected to return the positional\n",
      "maximum in the future. For now, use 'series.values.argmax' or\n",
      "'np.argmax(np.array(values))' to get the position of the maximum\n",
      "row.\n",
      "  return getattr(obj, method)(*args, **kwds)\n"
     ]
    }
   ],
   "source": [
    "vif_RemoveHiglyCorelatedFeatures(train_nw,test_nw)"
   ]
  },
  {
   "cell_type": "code",
   "execution_count": 54,
   "metadata": {
    "ExecuteTime": {
     "end_time": "2019-05-01T01:22:13.013907Z",
     "start_time": "2019-05-01T01:22:13.008920Z"
    }
   },
   "outputs": [
    {
     "name": "stdout",
     "output_type": "stream",
     "text": [
      "train_nw (961, 16) test_nw (66, 16) len(train_nw_y) 961 len(test_nw_y) 66\n"
     ]
    }
   ],
   "source": [
    "print('train_nw',train_nw.shape,'test_nw',test_nw.shape,'len(train_nw_y)',len(train_nw_y),'len(test_nw_y)',len(test_nw_y))"
   ]
  },
  {
   "cell_type": "code",
   "execution_count": 55,
   "metadata": {
    "ExecuteTime": {
     "end_time": "2019-05-01T01:22:13.031858Z",
     "start_time": "2019-05-01T01:22:13.015902Z"
    }
   },
   "outputs": [],
   "source": [
    "def cCMatrixAccRF(train_features , train_labels, test_features,test_labels, features, dispImpOfFeature = False):\n",
    "#         train_features, test_features, train_labels, test_labels= model_selection.train_test_split( featureDF , targetValue, test_size=0.1, random_state=0)\n",
    "\n",
    "        rf_model =RandomForestClassifier(n_estimators=5000, max_depth=4,random_state=0)\n",
    "        rf_model.fit(train_features, train_labels)\n",
    "        y_predicted=rf_model.predict(test_features)\n",
    "        print('++++++++++++++++++++++++++++++++++++++++++++++++++++++++++++++++++++++++++++++++++++++++++++++++' )\n",
    "        \n",
    "        if dispImpOfFeature:\n",
    "            plotImportanceOfFeature(features, rf_model)\n",
    "        print('confusion_matrix',confusion_matrix(y_true=test_labels, y_pred=y_predicted))\n",
    "        print('number of datapoints in Up Class', test_labels.value_counts()[1])\n",
    "        print('number of datapoints in Down Class', test_labels.value_counts()[0])\n",
    "        print('accuracy_score',accuracy_score(y_predicted, test_labels))\n",
    "        print('classification_score\\n',classification_report(y_predicted, test_labels))\n",
    "        print('++++++++++++++++++++++++++++++++++++++++++++++++++++++++++++++++++++++++++++++++++++++++++++++++')\n",
    "#         return rf_model.predict(train_features),rf_model.predict(test_features)"
   ]
  },
  {
   "cell_type": "code",
   "execution_count": 56,
   "metadata": {
    "ExecuteTime": {
     "end_time": "2019-05-01T01:22:13.040835Z",
     "start_time": "2019-05-01T01:22:13.033854Z"
    }
   },
   "outputs": [],
   "source": [
    "def cCMatrixAccAdaboost(train_features , train_labels, test_features,test_labels):\n",
    "#         train_features, test_features, train_labels, test_labels= model_selection.train_test_split( featureDF , targetValue, test_size=0.1, random_state=0)\n",
    "\n",
    "        abc_model =AdaBoostClassifier(n_estimators=5000, random_state=0)\n",
    "        abc_model.fit(train_features, train_labels)\n",
    "        y_predicted=abc_model.predict(test_features)\n",
    "        print('++++++++++++++++++++++++++++++++++++++++++++++++++++++++++++++++++++++++++++++++++++++++++++++++' )\n",
    "        \n",
    "        print('confusion_matrix',confusion_matrix(y_true=test_labels, y_pred=y_predicted))\n",
    "        print('number of datapoints in Up Class', test_labels.value_counts()[1])\n",
    "        print('number of datapoints in Down Class', test_labels.value_counts()[0])\n",
    "        print('accuracy_score',accuracy_score(y_predicted, test_labels))\n",
    "        print('classification_score\\n',classification_report(y_predicted, test_labels))\n",
    "        print('++++++++++++++++++++++++++++++++++++++++++++++++++++++++++++++++++++++++++++++++++++++++++++++++')"
   ]
  },
  {
   "cell_type": "code",
   "execution_count": 57,
   "metadata": {
    "ExecuteTime": {
     "end_time": "2019-05-01T01:22:13.049810Z",
     "start_time": "2019-05-01T01:22:13.042830Z"
    }
   },
   "outputs": [],
   "source": [
    "def cCMatrixAccGradientTreeBosting(train_features , train_labels, test_features,test_labels):\n",
    "#         train_features, test_features, train_labels, test_labels= model_selection.train_test_split( featureDF , targetValue, test_size=0.1, random_state=0)\n",
    "\n",
    "        gbc_model =GradientBoostingClassifier(n_estimators=5000, learning_rate=1.0, max_depth=4,random_state=0)\n",
    "        gbc_model.fit(train_features, train_labels)\n",
    "        y_predicted=gbc_model.predict(test_features)\n",
    "        print('++++++++++++++++++++++++++++++++++++++++++++++++++++++++++++++++++++++++++++++++++++++++++++++++' )\n",
    "        \n",
    "        print('confusion_matrix',confusion_matrix(y_true=test_labels, y_pred=y_predicted))\n",
    "        print('number of datapoints in Up Class', test_labels.value_counts()[1])\n",
    "        print('number of datapoints in Down Class', test_labels.value_counts()[0])\n",
    "        print('accuracy_score',accuracy_score(y_predicted, test_labels))\n",
    "        print('classification_score\\n',classification_report(y_predicted, test_labels))\n",
    "        print('++++++++++++++++++++++++++++++++++++++++++++++++++++++++++++++++++++++++++++++++++++++++++++++++')"
   ]
  },
  {
   "cell_type": "code",
   "execution_count": 58,
   "metadata": {
    "ExecuteTime": {
     "end_time": "2019-05-01T01:22:13.066766Z",
     "start_time": "2019-05-01T01:22:13.051806Z"
    }
   },
   "outputs": [],
   "source": [
    "def cCMatrixAccXGB(X_train , y_train, X_test,y_test):\n",
    "    \n",
    "    regressor = xgb.XGBRegressor(gamma=0.0,n_estimators=150,base_score=0.7,colsample_bytree=1,learning_rate=0.01)\n",
    "\n",
    "    xgbModel = regressor.fit(X_train,y_train)\n",
    "\n",
    "    y_predicted = xgbModel.predict(X_test)\n",
    "    y_predicted_binary = [1 if yp >=0.5 else 0 for yp in y_predicted] # (y_predicted > 0.5)\n",
    "\n",
    "    print ('Model accuracy = %.3f' % accuracy_score(y_test,y_predicted_binary))\n",
    "\n",
    "    print('classification_score\\n',classification_report(y_test, y_predicted_binary))\n",
    "#     return y_predicted_binary"
   ]
  },
  {
   "cell_type": "code",
   "execution_count": 59,
   "metadata": {
    "ExecuteTime": {
     "end_time": "2019-05-01T01:22:13.084718Z",
     "start_time": "2019-05-01T01:22:13.067764Z"
    }
   },
   "outputs": [],
   "source": [
    "def cCMatrixAccVotingClasifier(train_features , train_labels, test_features,test_labels):\n",
    "\n",
    "        rf_model =RandomForestClassifier(n_estimators=5000, max_depth=4,random_state=0)\n",
    "        abc_model =AdaBoostClassifier(n_estimators=5000, random_state=0)\n",
    "        gbc_model =GradientBoostingClassifier(n_estimators=5000, learning_rate=1.0, max_depth=4,random_state=0)\n",
    "        lr_model = LogisticRegression(solver='lbfgs', multi_class='ovr',random_state=1)\n",
    "        gnb_model = GaussianNB()\n",
    "        \n",
    "        eclf = VotingClassifier(estimators=[('lr', lr_model), ('rf', rf_model), ('gnb', gnb_model), ('abc', abc_model), ('gbc', gbc_model)], voting='soft')\n",
    "        \n",
    "        for clf, label in zip([lr_model, rf_model, gnb_model,abc_model,gbc_model, eclf], ['Logistic Regression', 'Random Forest', 'naive Bayes', 'AdaBoostClassifier','GradientBoostingClassifier','Ensemble']):\n",
    "            scores = cross_val_score(clf, train_features, train_labels, cv=5, scoring='accuracy')\n",
    "            print(\"Accuracy: %0.2f (+/- %0.2f) [%s]\" % (scores.mean(), scores.std(), label))"
   ]
  },
  {
   "cell_type": "code",
   "execution_count": 60,
   "metadata": {
    "ExecuteTime": {
     "end_time": "2019-05-01T01:22:13.092696Z",
     "start_time": "2019-05-01T01:22:13.086713Z"
    }
   },
   "outputs": [
    {
     "name": "stdout",
     "output_type": "stream",
     "text": [
      "train_nw (961, 16) test_nw (66, 16) len(train_nw_y) 961 len(test_nw_y) 66\n"
     ]
    }
   ],
   "source": [
    "print('train_nw',train_nw.shape,'test_nw',test_nw.shape,'len(train_nw_y)',len(train_nw_y),'len(test_nw_y)',len(test_nw_y))"
   ]
  },
  {
   "cell_type": "code",
   "execution_count": 61,
   "metadata": {
    "ExecuteTime": {
     "end_time": "2019-05-01T01:22:13.106659Z",
     "start_time": "2019-05-01T01:22:13.094691Z"
    }
   },
   "outputs": [
    {
     "name": "stdout",
     "output_type": "stream",
     "text": [
      "accuracy_score 0.6212121212121212\n",
      "classification_score\n",
      "               precision    recall  f1-score   support\n",
      "\n",
      "         0.0       0.28      0.67      0.39        12\n",
      "         1.0       0.89      0.61      0.73        54\n",
      "\n",
      "   micro avg       0.62      0.62      0.62        66\n",
      "   macro avg       0.58      0.64      0.56        66\n",
      "weighted avg       0.78      0.62      0.66        66\n",
      "\n"
     ]
    }
   ],
   "source": [
    "NaiveBayes(train_nw , train_nw_y, test_nw,test_nw_y)"
   ]
  },
  {
   "cell_type": "code",
   "execution_count": 62,
   "metadata": {
    "ExecuteTime": {
     "end_time": "2019-05-01T01:22:18.824378Z",
     "start_time": "2019-05-01T01:22:13.108653Z"
    },
    "scrolled": true
   },
   "outputs": [
    {
     "name": "stdout",
     "output_type": "stream",
     "text": [
      "++++++++++++++++++++++++++++++++++++++++++++++++++++++++++++++++++++++++++++++++++++++++++++++++\n",
      "confusion_matrix [[ 1 28]\n",
      " [ 0 37]]\n",
      "number of datapoints in Up Class 37\n",
      "number of datapoints in Down Class 29\n",
      "accuracy_score 0.5757575757575758\n",
      "classification_score\n",
      "               precision    recall  f1-score   support\n",
      "\n",
      "         0.0       0.03      1.00      0.07         1\n",
      "         1.0       1.00      0.57      0.73        65\n",
      "\n",
      "   micro avg       0.58      0.58      0.58        66\n",
      "   macro avg       0.52      0.78      0.40        66\n",
      "weighted avg       0.99      0.58      0.72        66\n",
      "\n",
      "++++++++++++++++++++++++++++++++++++++++++++++++++++++++++++++++++++++++++++++++++++++++++++++++\n"
     ]
    }
   ],
   "source": [
    "features = list(train_nw.columns)\n",
    "cCMatrixAccRF(train_nw , train_nw_y, test_nw,test_nw_y, features)"
   ]
  },
  {
   "cell_type": "code",
   "execution_count": 63,
   "metadata": {
    "ExecuteTime": {
     "end_time": "2019-05-01T01:22:26.673179Z",
     "start_time": "2019-05-01T01:22:18.826366Z"
    }
   },
   "outputs": [
    {
     "name": "stdout",
     "output_type": "stream",
     "text": [
      "++++++++++++++++++++++++++++++++++++++++++++++++++++++++++++++++++++++++++++++++++++++++++++++++\n",
      "confusion_matrix [[11 18]\n",
      " [16 21]]\n",
      "number of datapoints in Up Class 37\n",
      "number of datapoints in Down Class 29\n",
      "accuracy_score 0.48484848484848486\n",
      "classification_score\n",
      "               precision    recall  f1-score   support\n",
      "\n",
      "         0.0       0.38      0.41      0.39        27\n",
      "         1.0       0.57      0.54      0.55        39\n",
      "\n",
      "   micro avg       0.48      0.48      0.48        66\n",
      "   macro avg       0.47      0.47      0.47        66\n",
      "weighted avg       0.49      0.48      0.49        66\n",
      "\n",
      "++++++++++++++++++++++++++++++++++++++++++++++++++++++++++++++++++++++++++++++++++++++++++++++++\n"
     ]
    }
   ],
   "source": [
    "cCMatrixAccAdaboost(train_nw , train_nw_y, test_nw,test_nw_y)"
   ]
  },
  {
   "cell_type": "code",
   "execution_count": 64,
   "metadata": {
    "ExecuteTime": {
     "end_time": "2019-05-01T01:22:28.034864Z",
     "start_time": "2019-05-01T01:22:26.674744Z"
    }
   },
   "outputs": [
    {
     "name": "stdout",
     "output_type": "stream",
     "text": [
      "++++++++++++++++++++++++++++++++++++++++++++++++++++++++++++++++++++++++++++++++++++++++++++++++\n",
      "confusion_matrix [[13 16]\n",
      " [16 21]]\n",
      "number of datapoints in Up Class 37\n",
      "number of datapoints in Down Class 29\n",
      "accuracy_score 0.5151515151515151\n",
      "classification_score\n",
      "               precision    recall  f1-score   support\n",
      "\n",
      "         0.0       0.45      0.45      0.45        29\n",
      "         1.0       0.57      0.57      0.57        37\n",
      "\n",
      "   micro avg       0.52      0.52      0.52        66\n",
      "   macro avg       0.51      0.51      0.51        66\n",
      "weighted avg       0.52      0.52      0.52        66\n",
      "\n",
      "++++++++++++++++++++++++++++++++++++++++++++++++++++++++++++++++++++++++++++++++++++++++++++++++\n"
     ]
    }
   ],
   "source": [
    "cCMatrixAccGradientTreeBosting(train_nw , train_nw_y, test_nw,test_nw_y)"
   ]
  },
  {
   "cell_type": "code",
   "execution_count": 65,
   "metadata": {
    "ExecuteTime": {
     "end_time": "2019-05-01T01:24:38.108855Z",
     "start_time": "2019-05-01T01:22:28.036820Z"
    }
   },
   "outputs": [
    {
     "name": "stdout",
     "output_type": "stream",
     "text": [
      "Accuracy: 0.53 (+/- 0.01) [Logistic Regression]\n",
      "Accuracy: 0.53 (+/- 0.01) [Random Forest]\n",
      "Accuracy: 0.49 (+/- 0.05) [naive Bayes]\n",
      "Accuracy: 0.52 (+/- 0.03) [AdaBoostClassifier]\n",
      "Accuracy: 0.52 (+/- 0.03) [GradientBoostingClassifier]\n",
      "Accuracy: 0.51 (+/- 0.03) [Ensemble]\n"
     ]
    }
   ],
   "source": [
    "cCMatrixAccVotingClasifier(train_nw , train_nw_y, test_nw,test_nw_y)"
   ]
  },
  {
   "cell_type": "code",
   "execution_count": 66,
   "metadata": {
    "ExecuteTime": {
     "end_time": "2019-05-01T01:24:39.372860Z",
     "start_time": "2019-05-01T01:24:38.109860Z"
    }
   },
   "outputs": [
    {
     "name": "stderr",
     "output_type": "stream",
     "text": [
      "C:\\Users\\praveen ji\\Anaconda3\\envs\\tf_gpu\\lib\\site-packages\\xgboost\\core.py:587: FutureWarning: Series.base is deprecated and will be removed in a future version\n",
      "  if getattr(data, 'base', None) is not None and \\\n",
      "C:\\Users\\praveen ji\\Anaconda3\\envs\\tf_gpu\\lib\\site-packages\\xgboost\\core.py:588: FutureWarning: Series.base is deprecated and will be removed in a future version\n",
      "  data.base is not None and isinstance(data, np.ndarray) \\\n"
     ]
    },
    {
     "name": "stdout",
     "output_type": "stream",
     "text": [
      "Model accuracy = 0.591\n",
      "classification_score\n",
      "               precision    recall  f1-score   support\n",
      "\n",
      "         0.0       1.00      0.07      0.13        29\n",
      "         1.0       0.58      1.00      0.73        37\n",
      "\n",
      "   micro avg       0.59      0.59      0.59        66\n",
      "   macro avg       0.79      0.53      0.43        66\n",
      "weighted avg       0.76      0.59      0.47        66\n",
      "\n"
     ]
    }
   ],
   "source": [
    "cCMatrixAccXGB(train_nw , train_nw_y, test_nw,test_nw_y)"
   ]
  },
  {
   "cell_type": "markdown",
   "metadata": {},
   "source": [
    "# NEWS RandomForest- Scaled"
   ]
  },
  {
   "cell_type": "code",
   "execution_count": 67,
   "metadata": {
    "ExecuteTime": {
     "end_time": "2019-05-01T01:24:39.380848Z",
     "start_time": "2019-05-01T01:24:39.375854Z"
    }
   },
   "outputs": [
    {
     "name": "stdout",
     "output_type": "stream",
     "text": [
      "train_nw (961, 16) test_nw (66, 16) len(train_nw_y) 961 len(test_nw_y) 66\n"
     ]
    }
   ],
   "source": [
    "print('train_nw',train_nw.shape,'test_nw',test_nw.shape,'len(train_nw_y)',len(train_nw_y),'len(test_nw_y)',len(test_nw_y))"
   ]
  },
  {
   "cell_type": "code",
   "execution_count": 68,
   "metadata": {
    "ExecuteTime": {
     "end_time": "2019-05-01T01:24:39.392845Z",
     "start_time": "2019-05-01T01:24:39.382835Z"
    }
   },
   "outputs": [],
   "source": [
    "scale = StandardScaler()\n",
    "train_nw = pd.DataFrame(scale.fit_transform(train_nw.values), columns=train_nw.columns, index=train_nw.index)\n",
    "scale = StandardScaler()\n",
    "test_nw = pd.DataFrame(scale.fit_transform(test_nw.values), columns=test_nw.columns, index=test_nw.index)"
   ]
  },
  {
   "cell_type": "code",
   "execution_count": 69,
   "metadata": {
    "ExecuteTime": {
     "end_time": "2019-05-01T01:24:39.431703Z",
     "start_time": "2019-05-01T01:24:39.394812Z"
    },
    "scrolled": true
   },
   "outputs": [
    {
     "name": "stdout",
     "output_type": "stream",
     "text": [
      "train_nw (961, 16) test_nw (66, 16) len(train_nw_y) 961 len(test_nw_y) 66\n"
     ]
    }
   ],
   "source": [
    "vif_RemoveHiglyCorelatedFeatures(train_nw,test_nw)\n",
    "print('train_nw',train_nw.shape,'test_nw',test_nw.shape,'len(train_nw_y)',len(train_nw_y),'len(test_nw_y)',len(test_nw_y))"
   ]
  },
  {
   "cell_type": "code",
   "execution_count": 70,
   "metadata": {
    "ExecuteTime": {
     "end_time": "2019-05-01T01:24:39.447660Z",
     "start_time": "2019-05-01T01:24:39.433697Z"
    }
   },
   "outputs": [
    {
     "name": "stdout",
     "output_type": "stream",
     "text": [
      "accuracy_score 0.5757575757575758\n",
      "classification_score\n",
      "               precision    recall  f1-score   support\n",
      "\n",
      "         0.0       0.72      0.51      0.60        41\n",
      "         1.0       0.46      0.68      0.55        25\n",
      "\n",
      "   micro avg       0.58      0.58      0.58        66\n",
      "   macro avg       0.59      0.60      0.57        66\n",
      "weighted avg       0.62      0.58      0.58        66\n",
      "\n"
     ]
    }
   ],
   "source": [
    "NaiveBayes(train_nw , train_nw_y, test_nw,test_nw_y)"
   ]
  },
  {
   "cell_type": "code",
   "execution_count": 71,
   "metadata": {
    "ExecuteTime": {
     "end_time": "2019-05-01T01:24:44.738548Z",
     "start_time": "2019-05-01T01:24:39.449655Z"
    }
   },
   "outputs": [
    {
     "name": "stdout",
     "output_type": "stream",
     "text": [
      "++++++++++++++++++++++++++++++++++++++++++++++++++++++++++++++++++++++++++++++++++++++++++++++++\n",
      "confusion_matrix [[ 2 27]\n",
      " [ 2 35]]\n",
      "number of datapoints in Up Class 37\n",
      "number of datapoints in Down Class 29\n",
      "accuracy_score 0.5606060606060606\n",
      "classification_score\n",
      "               precision    recall  f1-score   support\n",
      "\n",
      "         0.0       0.07      0.50      0.12         4\n",
      "         1.0       0.95      0.56      0.71        62\n",
      "\n",
      "   micro avg       0.56      0.56      0.56        66\n",
      "   macro avg       0.51      0.53      0.41        66\n",
      "weighted avg       0.89      0.56      0.67        66\n",
      "\n",
      "++++++++++++++++++++++++++++++++++++++++++++++++++++++++++++++++++++++++++++++++++++++++++++++++\n"
     ]
    }
   ],
   "source": [
    "features = list(train_nw.columns)\n",
    "temp=cCMatrixAccRF(train_nw , train_nw_y, test_nw,test_nw_y, features)"
   ]
  },
  {
   "cell_type": "code",
   "execution_count": 72,
   "metadata": {
    "ExecuteTime": {
     "end_time": "2019-05-01T01:24:52.850856Z",
     "start_time": "2019-05-01T01:24:44.739510Z"
    }
   },
   "outputs": [
    {
     "name": "stdout",
     "output_type": "stream",
     "text": [
      "++++++++++++++++++++++++++++++++++++++++++++++++++++++++++++++++++++++++++++++++++++++++++++++++\n",
      "confusion_matrix [[ 8 21]\n",
      " [11 26]]\n",
      "number of datapoints in Up Class 37\n",
      "number of datapoints in Down Class 29\n",
      "accuracy_score 0.5151515151515151\n",
      "classification_score\n",
      "               precision    recall  f1-score   support\n",
      "\n",
      "         0.0       0.28      0.42      0.33        19\n",
      "         1.0       0.70      0.55      0.62        47\n",
      "\n",
      "   micro avg       0.52      0.52      0.52        66\n",
      "   macro avg       0.49      0.49      0.48        66\n",
      "weighted avg       0.58      0.52      0.54        66\n",
      "\n",
      "++++++++++++++++++++++++++++++++++++++++++++++++++++++++++++++++++++++++++++++++++++++++++++++++\n"
     ]
    }
   ],
   "source": [
    "cCMatrixAccAdaboost(train_nw , train_nw_y, test_nw,test_nw_y)"
   ]
  },
  {
   "cell_type": "code",
   "execution_count": 73,
   "metadata": {
    "ExecuteTime": {
     "end_time": "2019-05-01T01:24:54.221157Z",
     "start_time": "2019-05-01T01:24:52.852815Z"
    }
   },
   "outputs": [
    {
     "name": "stdout",
     "output_type": "stream",
     "text": [
      "++++++++++++++++++++++++++++++++++++++++++++++++++++++++++++++++++++++++++++++++++++++++++++++++\n",
      "confusion_matrix [[10 19]\n",
      " [13 24]]\n",
      "number of datapoints in Up Class 37\n",
      "number of datapoints in Down Class 29\n",
      "accuracy_score 0.5151515151515151\n",
      "classification_score\n",
      "               precision    recall  f1-score   support\n",
      "\n",
      "         0.0       0.34      0.43      0.38        23\n",
      "         1.0       0.65      0.56      0.60        43\n",
      "\n",
      "   micro avg       0.52      0.52      0.52        66\n",
      "   macro avg       0.50      0.50      0.49        66\n",
      "weighted avg       0.54      0.52      0.52        66\n",
      "\n",
      "++++++++++++++++++++++++++++++++++++++++++++++++++++++++++++++++++++++++++++++++++++++++++++++++\n"
     ]
    }
   ],
   "source": [
    "cCMatrixAccGradientTreeBosting(train_nw , train_nw_y, test_nw,test_nw_y)"
   ]
  },
  {
   "cell_type": "code",
   "execution_count": 74,
   "metadata": {
    "ExecuteTime": {
     "end_time": "2019-05-01T01:27:33.042012Z",
     "start_time": "2019-05-01T01:24:54.223177Z"
    }
   },
   "outputs": [
    {
     "name": "stdout",
     "output_type": "stream",
     "text": [
      "Accuracy: 0.52 (+/- 0.02) [Logistic Regression]\n",
      "Accuracy: 0.53 (+/- 0.01) [Random Forest]\n",
      "Accuracy: 0.48 (+/- 0.04) [naive Bayes]\n",
      "Accuracy: 0.51 (+/- 0.02) [AdaBoostClassifier]\n",
      "Accuracy: 0.51 (+/- 0.01) [GradientBoostingClassifier]\n",
      "Accuracy: 0.50 (+/- 0.01) [Ensemble]\n"
     ]
    }
   ],
   "source": [
    "cCMatrixAccVotingClasifier(train_nw , train_nw_y, test_nw,test_nw_y)"
   ]
  },
  {
   "cell_type": "code",
   "execution_count": 75,
   "metadata": {
    "ExecuteTime": {
     "end_time": "2019-05-01T01:27:33.298342Z",
     "start_time": "2019-05-01T01:27:33.044006Z"
    }
   },
   "outputs": [
    {
     "name": "stderr",
     "output_type": "stream",
     "text": [
      "C:\\Users\\praveen ji\\Anaconda3\\envs\\tf_gpu\\lib\\site-packages\\xgboost\\core.py:587: FutureWarning: Series.base is deprecated and will be removed in a future version\n",
      "  if getattr(data, 'base', None) is not None and \\\n",
      "C:\\Users\\praveen ji\\Anaconda3\\envs\\tf_gpu\\lib\\site-packages\\xgboost\\core.py:588: FutureWarning: Series.base is deprecated and will be removed in a future version\n",
      "  data.base is not None and isinstance(data, np.ndarray) \\\n"
     ]
    },
    {
     "name": "stdout",
     "output_type": "stream",
     "text": [
      "Model accuracy = 0.561\n",
      "classification_score\n",
      "               precision    recall  f1-score   support\n",
      "\n",
      "         0.0       0.50      0.07      0.12        29\n",
      "         1.0       0.56      0.95      0.71        37\n",
      "\n",
      "   micro avg       0.56      0.56      0.56        66\n",
      "   macro avg       0.53      0.51      0.41        66\n",
      "weighted avg       0.54      0.56      0.45        66\n",
      "\n"
     ]
    }
   ],
   "source": [
    "cCMatrixAccXGB(train_nw , train_nw_y, test_nw,test_nw_y)"
   ]
  },
  {
   "cell_type": "markdown",
   "metadata": {},
   "source": [
    "# Twitter RandomForest- NonScaled"
   ]
  },
  {
   "cell_type": "code",
   "execution_count": 76,
   "metadata": {
    "ExecuteTime": {
     "end_time": "2019-05-01T01:27:33.359177Z",
     "start_time": "2019-05-01T01:27:33.300334Z"
    }
   },
   "outputs": [],
   "source": [
    "featureDF_tw.date = pd.to_datetime(featureDF_tw.date)\n",
    "targtWithDateForJoin.date = pd.to_datetime(targtWithDateForJoin.date)\n",
    "result =pd.merge(featureDF_tw, targtWithDateForJoin, how='left', on='date')\n",
    "\n",
    "result.sort_values(by='date',inplace=True) \n",
    "\n",
    "result['target'] = result['target'].ffill()"
   ]
  },
  {
   "cell_type": "code",
   "execution_count": 77,
   "metadata": {
    "ExecuteTime": {
     "end_time": "2019-05-01T01:27:33.366159Z",
     "start_time": "2019-05-01T01:27:33.360174Z"
    }
   },
   "outputs": [],
   "source": [
    "train_tw, test_tw = createTrainingAndTestingSet(result)"
   ]
  },
  {
   "cell_type": "code",
   "execution_count": 78,
   "metadata": {
    "ExecuteTime": {
     "end_time": "2019-05-01T01:27:33.374136Z",
     "start_time": "2019-05-01T01:27:33.368153Z"
    }
   },
   "outputs": [],
   "source": [
    "train_tw_y = train_tw['target']\n",
    "test_tw_y = test_tw['target']"
   ]
  },
  {
   "cell_type": "code",
   "execution_count": 79,
   "metadata": {
    "ExecuteTime": {
     "end_time": "2019-05-01T01:27:33.392089Z",
     "start_time": "2019-05-01T01:27:33.376131Z"
    }
   },
   "outputs": [
    {
     "name": "stdout",
     "output_type": "stream",
     "text": [
      "startDate 2015-05-04 00:00:00\n",
      "endDate 2018-12-31 00:00:00\n",
      "shape (1332, 26)\n",
      "---------------------------\n",
      "startDate 2019-01-01 00:00:00\n",
      "endDate 2019-03-28 00:00:00\n",
      "shape (87, 26)\n",
      "---------------------------\n"
     ]
    }
   ],
   "source": [
    "getStartEndDateShape(train_tw)\n",
    "getStartEndDateShape(test_tw)"
   ]
  },
  {
   "cell_type": "code",
   "execution_count": 80,
   "metadata": {
    "ExecuteTime": {
     "end_time": "2019-05-01T01:27:33.487785Z",
     "start_time": "2019-05-01T01:27:33.394083Z"
    }
   },
   "outputs": [
    {
     "name": "stderr",
     "output_type": "stream",
     "text": [
      "C:\\Users\\praveen ji\\Anaconda3\\envs\\tf_gpu\\lib\\site-packages\\pandas\\core\\frame.py:3940: SettingWithCopyWarning: \n",
      "A value is trying to be set on a copy of a slice from a DataFrame\n",
      "\n",
      "See the caveats in the documentation: http://pandas.pydata.org/pandas-docs/stable/indexing.html#indexing-view-versus-copy\n",
      "  errors=errors)\n"
     ]
    }
   ],
   "source": [
    "train_tw.drop(['date','target'],axis=1,inplace=True)\n",
    "test_tw.drop(['date','target'],axis=1,inplace=True)"
   ]
  },
  {
   "cell_type": "code",
   "execution_count": 81,
   "metadata": {
    "ExecuteTime": {
     "end_time": "2019-05-01T01:27:33.497757Z",
     "start_time": "2019-05-01T01:27:33.489778Z"
    }
   },
   "outputs": [
    {
     "name": "stdout",
     "output_type": "stream",
     "text": [
      "Model accuracy = 0.756\n",
      "classification_score\n",
      "               precision    recall  f1-score   support\n",
      "\n",
      "         0.0       0.71      0.69      0.70        36\n",
      "         1.0       0.78      0.80      0.79        50\n",
      "\n",
      "   micro avg       0.76      0.76      0.76        86\n",
      "   macro avg       0.75      0.75      0.75        86\n",
      "weighted avg       0.75      0.76      0.76        86\n",
      "\n"
     ]
    }
   ],
   "source": [
    "NaivePredition(list(test_tw_y))"
   ]
  },
  {
   "cell_type": "code",
   "execution_count": 82,
   "metadata": {
    "ExecuteTime": {
     "end_time": "2019-05-01T01:27:33.513714Z",
     "start_time": "2019-05-01T01:27:33.499752Z"
    },
    "scrolled": true
   },
   "outputs": [
    {
     "name": "stdout",
     "output_type": "stream",
     "text": [
      "accuracy_score 0.5862068965517241\n",
      "classification_score\n",
      "               precision    recall  f1-score   support\n",
      "\n",
      "         0.0       0.06      0.50      0.10         4\n",
      "         1.0       0.96      0.59      0.73        83\n",
      "\n",
      "   micro avg       0.59      0.59      0.59        87\n",
      "   macro avg       0.51      0.55      0.42        87\n",
      "weighted avg       0.92      0.59      0.70        87\n",
      "\n"
     ]
    }
   ],
   "source": [
    "NaiveBayes(train_tw , train_tw_y, test_tw,test_tw_y)"
   ]
  },
  {
   "cell_type": "code",
   "execution_count": 83,
   "metadata": {
    "ExecuteTime": {
     "end_time": "2019-05-01T01:27:33.522691Z",
     "start_time": "2019-05-01T01:27:33.515709Z"
    }
   },
   "outputs": [
    {
     "name": "stdout",
     "output_type": "stream",
     "text": [
      "train_nw (961, 16) test_nw (66, 16) len(train_nw_y) 961 len(test_nw_y) 66\n"
     ]
    }
   ],
   "source": [
    "print('train_nw',train_nw.shape,'test_nw',test_nw.shape,'len(train_nw_y)',len(train_nw_y),'len(test_nw_y)',len(test_nw_y))"
   ]
  },
  {
   "cell_type": "code",
   "execution_count": 84,
   "metadata": {
    "ExecuteTime": {
     "end_time": "2019-05-01T01:27:33.566573Z",
     "start_time": "2019-05-01T01:27:33.524686Z"
    }
   },
   "outputs": [],
   "source": [
    "vif_RemoveHiglyCorelatedFeatures(train_nw,test_nw)"
   ]
  },
  {
   "cell_type": "code",
   "execution_count": 85,
   "metadata": {
    "ExecuteTime": {
     "end_time": "2019-05-01T01:27:33.573556Z",
     "start_time": "2019-05-01T01:27:33.568567Z"
    }
   },
   "outputs": [
    {
     "name": "stdout",
     "output_type": "stream",
     "text": [
      "train_nw (961, 16) test_nw (66, 16) len(train_nw_y) 961 len(test_nw_y) 66\n"
     ]
    }
   ],
   "source": [
    "print('train_nw',train_nw.shape,'test_nw',test_nw.shape,'len(train_nw_y)',len(train_nw_y),'len(test_nw_y)',len(test_nw_y))"
   ]
  },
  {
   "cell_type": "code",
   "execution_count": 86,
   "metadata": {
    "ExecuteTime": {
     "end_time": "2019-05-01T01:27:40.074052Z",
     "start_time": "2019-05-01T01:27:33.576546Z"
    }
   },
   "outputs": [
    {
     "name": "stdout",
     "output_type": "stream",
     "text": [
      "++++++++++++++++++++++++++++++++++++++++++++++++++++++++++++++++++++++++++++++++++++++++++++++++\n",
      "confusion_matrix [[ 2 27]\n",
      " [ 2 35]]\n",
      "number of datapoints in Up Class 37\n",
      "number of datapoints in Down Class 29\n",
      "accuracy_score 0.5606060606060606\n",
      "classification_score\n",
      "               precision    recall  f1-score   support\n",
      "\n",
      "         0.0       0.07      0.50      0.12         4\n",
      "         1.0       0.95      0.56      0.71        62\n",
      "\n",
      "   micro avg       0.56      0.56      0.56        66\n",
      "   macro avg       0.51      0.53      0.41        66\n",
      "weighted avg       0.89      0.56      0.67        66\n",
      "\n",
      "++++++++++++++++++++++++++++++++++++++++++++++++++++++++++++++++++++++++++++++++++++++++++++++++\n"
     ]
    }
   ],
   "source": [
    "features = list(train_nw.columns)\n",
    "cCMatrixAccRF(train_nw , train_nw_y, test_nw,test_nw_y, features)"
   ]
  },
  {
   "cell_type": "code",
   "execution_count": 87,
   "metadata": {
    "ExecuteTime": {
     "end_time": "2019-05-01T01:27:47.526890Z",
     "start_time": "2019-05-01T01:27:40.076045Z"
    }
   },
   "outputs": [
    {
     "name": "stdout",
     "output_type": "stream",
     "text": [
      "++++++++++++++++++++++++++++++++++++++++++++++++++++++++++++++++++++++++++++++++++++++++++++++++\n",
      "confusion_matrix [[ 8 21]\n",
      " [11 26]]\n",
      "number of datapoints in Up Class 37\n",
      "number of datapoints in Down Class 29\n",
      "accuracy_score 0.5151515151515151\n",
      "classification_score\n",
      "               precision    recall  f1-score   support\n",
      "\n",
      "         0.0       0.28      0.42      0.33        19\n",
      "         1.0       0.70      0.55      0.62        47\n",
      "\n",
      "   micro avg       0.52      0.52      0.52        66\n",
      "   macro avg       0.49      0.49      0.48        66\n",
      "weighted avg       0.58      0.52      0.54        66\n",
      "\n",
      "++++++++++++++++++++++++++++++++++++++++++++++++++++++++++++++++++++++++++++++++++++++++++++++++\n"
     ]
    }
   ],
   "source": [
    "cCMatrixAccAdaboost(train_nw , train_nw_y, test_nw,test_nw_y)"
   ]
  },
  {
   "cell_type": "code",
   "execution_count": 88,
   "metadata": {
    "ExecuteTime": {
     "end_time": "2019-05-01T01:27:48.836736Z",
     "start_time": "2019-05-01T01:27:47.527929Z"
    }
   },
   "outputs": [
    {
     "name": "stdout",
     "output_type": "stream",
     "text": [
      "++++++++++++++++++++++++++++++++++++++++++++++++++++++++++++++++++++++++++++++++++++++++++++++++\n",
      "confusion_matrix [[10 19]\n",
      " [13 24]]\n",
      "number of datapoints in Up Class 37\n",
      "number of datapoints in Down Class 29\n",
      "accuracy_score 0.5151515151515151\n",
      "classification_score\n",
      "               precision    recall  f1-score   support\n",
      "\n",
      "         0.0       0.34      0.43      0.38        23\n",
      "         1.0       0.65      0.56      0.60        43\n",
      "\n",
      "   micro avg       0.52      0.52      0.52        66\n",
      "   macro avg       0.50      0.50      0.49        66\n",
      "weighted avg       0.54      0.52      0.52        66\n",
      "\n",
      "++++++++++++++++++++++++++++++++++++++++++++++++++++++++++++++++++++++++++++++++++++++++++++++++\n"
     ]
    }
   ],
   "source": [
    "cCMatrixAccGradientTreeBosting(train_nw , train_nw_y, test_nw,test_nw_y)"
   ]
  },
  {
   "cell_type": "code",
   "execution_count": 89,
   "metadata": {
    "ExecuteTime": {
     "end_time": "2019-05-01T01:29:53.977770Z",
     "start_time": "2019-05-01T01:27:48.837759Z"
    }
   },
   "outputs": [
    {
     "name": "stdout",
     "output_type": "stream",
     "text": [
      "Accuracy: 0.52 (+/- 0.02) [Logistic Regression]\n",
      "Accuracy: 0.53 (+/- 0.01) [Random Forest]\n",
      "Accuracy: 0.48 (+/- 0.04) [naive Bayes]\n",
      "Accuracy: 0.51 (+/- 0.02) [AdaBoostClassifier]\n",
      "Accuracy: 0.51 (+/- 0.01) [GradientBoostingClassifier]\n",
      "Accuracy: 0.50 (+/- 0.01) [Ensemble]\n"
     ]
    }
   ],
   "source": [
    "cCMatrixAccVotingClasifier(train_nw , train_nw_y, test_nw,test_nw_y)"
   ]
  },
  {
   "cell_type": "code",
   "execution_count": 90,
   "metadata": {
    "ExecuteTime": {
     "end_time": "2019-05-01T01:29:54.413883Z",
     "start_time": "2019-05-01T01:29:53.979768Z"
    }
   },
   "outputs": [
    {
     "name": "stderr",
     "output_type": "stream",
     "text": [
      "C:\\Users\\praveen ji\\Anaconda3\\envs\\tf_gpu\\lib\\site-packages\\xgboost\\core.py:587: FutureWarning: Series.base is deprecated and will be removed in a future version\n",
      "  if getattr(data, 'base', None) is not None and \\\n",
      "C:\\Users\\praveen ji\\Anaconda3\\envs\\tf_gpu\\lib\\site-packages\\xgboost\\core.py:588: FutureWarning: Series.base is deprecated and will be removed in a future version\n",
      "  data.base is not None and isinstance(data, np.ndarray) \\\n"
     ]
    },
    {
     "name": "stdout",
     "output_type": "stream",
     "text": [
      "Model accuracy = 0.561\n",
      "classification_score\n",
      "               precision    recall  f1-score   support\n",
      "\n",
      "         0.0       0.50      0.07      0.12        29\n",
      "         1.0       0.56      0.95      0.71        37\n",
      "\n",
      "   micro avg       0.56      0.56      0.56        66\n",
      "   macro avg       0.53      0.51      0.41        66\n",
      "weighted avg       0.54      0.56      0.45        66\n",
      "\n"
     ]
    }
   ],
   "source": [
    "cCMatrixAccXGB(train_nw , train_nw_y, test_nw,test_nw_y)"
   ]
  },
  {
   "cell_type": "markdown",
   "metadata": {},
   "source": [
    "# Twitter RandomForest- Scaled"
   ]
  },
  {
   "cell_type": "code",
   "execution_count": 91,
   "metadata": {
    "ExecuteTime": {
     "end_time": "2019-05-01T01:29:54.423855Z",
     "start_time": "2019-05-01T01:29:54.415879Z"
    }
   },
   "outputs": [],
   "source": [
    "scale = StandardScaler()\n",
    "train_tw = pd.DataFrame(scale.fit_transform(train_tw.values), columns=train_tw.columns, index=train_tw.index)\n",
    "scale = StandardScaler()\n",
    "test_tw = pd.DataFrame(scale.fit_transform(test_tw.values), columns=test_tw.columns, index=test_tw.index)"
   ]
  },
  {
   "cell_type": "code",
   "execution_count": 92,
   "metadata": {
    "ExecuteTime": {
     "end_time": "2019-05-01T01:29:54.430837Z",
     "start_time": "2019-05-01T01:29:54.425851Z"
    }
   },
   "outputs": [
    {
     "name": "stdout",
     "output_type": "stream",
     "text": [
      "train_tw (1332, 24) test_tw (87, 24) len(train_tw_y) 1332 len(test_tw_y) 87\n"
     ]
    }
   ],
   "source": [
    "print('train_tw',train_tw.shape,'test_tw',test_tw.shape,'len(train_tw_y)',len(train_tw_y),'len(test_tw_y)',len(test_tw_y))"
   ]
  },
  {
   "cell_type": "code",
   "execution_count": 93,
   "metadata": {
    "ExecuteTime": {
     "end_time": "2019-05-01T01:29:54.913172Z",
     "start_time": "2019-05-01T01:29:54.432834Z"
    },
    "scrolled": true
   },
   "outputs": [
    {
     "name": "stderr",
     "output_type": "stream",
     "text": [
      "C:\\Users\\praveen ji\\Anaconda3\\envs\\tf_gpu\\lib\\site-packages\\numpy\\core\\fromnumeric.py:56: FutureWarning: \n",
      "The current behaviour of 'Series.argmax' is deprecated, use 'idxmax'\n",
      "instead.\n",
      "The behavior of 'argmax' will be corrected to return the positional\n",
      "maximum in the future. For now, use 'series.values.argmax' or\n",
      "'np.argmax(np.array(values))' to get the position of the maximum\n",
      "row.\n",
      "  return getattr(obj, method)(*args, **kwds)\n"
     ]
    },
    {
     "name": "stdout",
     "output_type": "stream",
     "text": [
      "train_tw (1332, 12) test_tw (87, 12) len(train_tw_y) 1332 len(test_tw_y) 87\n"
     ]
    }
   ],
   "source": [
    "vif_RemoveHiglyCorelatedFeatures(train_tw,test_tw)\n",
    "print('train_tw',train_tw.shape,'test_tw',test_tw.shape,'len(train_tw_y)',len(train_tw_y),'len(test_tw_y)',len(test_tw_y))"
   ]
  },
  {
   "cell_type": "code",
   "execution_count": 94,
   "metadata": {
    "ExecuteTime": {
     "end_time": "2019-05-01T01:29:54.929127Z",
     "start_time": "2019-05-01T01:29:54.915165Z"
    }
   },
   "outputs": [
    {
     "name": "stdout",
     "output_type": "stream",
     "text": [
      "accuracy_score 0.4482758620689655\n",
      "classification_score\n",
      "               precision    recall  f1-score   support\n",
      "\n",
      "         0.0       0.36      0.34      0.35        38\n",
      "         1.0       0.51      0.53      0.52        49\n",
      "\n",
      "   micro avg       0.45      0.45      0.45        87\n",
      "   macro avg       0.44      0.44      0.44        87\n",
      "weighted avg       0.44      0.45      0.45        87\n",
      "\n"
     ]
    }
   ],
   "source": [
    "NaiveBayes(train_tw , train_tw_y, test_tw,test_tw_y)"
   ]
  },
  {
   "cell_type": "code",
   "execution_count": 95,
   "metadata": {
    "ExecuteTime": {
     "end_time": "2019-05-01T01:30:03.010387Z",
     "start_time": "2019-05-01T01:29:54.931123Z"
    },
    "scrolled": true
   },
   "outputs": [
    {
     "name": "stdout",
     "output_type": "stream",
     "text": [
      "++++++++++++++++++++++++++++++++++++++++++++++++++++++++++++++++++++++++++++++++++++++++++++++++\n",
      "confusion_matrix [[ 9 27]\n",
      " [12 39]]\n",
      "number of datapoints in Up Class 51\n",
      "number of datapoints in Down Class 36\n",
      "accuracy_score 0.5517241379310345\n",
      "classification_score\n",
      "               precision    recall  f1-score   support\n",
      "\n",
      "         0.0       0.25      0.43      0.32        21\n",
      "         1.0       0.76      0.59      0.67        66\n",
      "\n",
      "   micro avg       0.55      0.55      0.55        87\n",
      "   macro avg       0.51      0.51      0.49        87\n",
      "weighted avg       0.64      0.55      0.58        87\n",
      "\n",
      "++++++++++++++++++++++++++++++++++++++++++++++++++++++++++++++++++++++++++++++++++++++++++++++++\n"
     ]
    }
   ],
   "source": [
    "features = list(train_tw.columns)\n",
    "temp = cCMatrixAccRF(train_tw , train_tw_y, test_tw,test_tw_y, features)"
   ]
  },
  {
   "cell_type": "code",
   "execution_count": 96,
   "metadata": {
    "ExecuteTime": {
     "end_time": "2019-05-01T01:30:16.008581Z",
     "start_time": "2019-05-01T01:30:03.012383Z"
    }
   },
   "outputs": [
    {
     "name": "stdout",
     "output_type": "stream",
     "text": [
      "++++++++++++++++++++++++++++++++++++++++++++++++++++++++++++++++++++++++++++++++++++++++++++++++\n",
      "confusion_matrix [[10 26]\n",
      " [21 30]]\n",
      "number of datapoints in Up Class 51\n",
      "number of datapoints in Down Class 36\n",
      "accuracy_score 0.45977011494252873\n",
      "classification_score\n",
      "               precision    recall  f1-score   support\n",
      "\n",
      "         0.0       0.28      0.32      0.30        31\n",
      "         1.0       0.59      0.54      0.56        56\n",
      "\n",
      "   micro avg       0.46      0.46      0.46        87\n",
      "   macro avg       0.43      0.43      0.43        87\n",
      "weighted avg       0.48      0.46      0.47        87\n",
      "\n",
      "++++++++++++++++++++++++++++++++++++++++++++++++++++++++++++++++++++++++++++++++++++++++++++++++\n"
     ]
    }
   ],
   "source": [
    "cCMatrixAccAdaboost(train_tw , train_tw_y, test_tw,test_tw_y)"
   ]
  },
  {
   "cell_type": "code",
   "execution_count": 97,
   "metadata": {
    "ExecuteTime": {
     "end_time": "2019-05-01T01:30:21.215551Z",
     "start_time": "2019-05-01T01:30:16.009540Z"
    }
   },
   "outputs": [
    {
     "name": "stdout",
     "output_type": "stream",
     "text": [
      "++++++++++++++++++++++++++++++++++++++++++++++++++++++++++++++++++++++++++++++++++++++++++++++++\n",
      "confusion_matrix [[11 25]\n",
      " [18 33]]\n",
      "number of datapoints in Up Class 51\n",
      "number of datapoints in Down Class 36\n",
      "accuracy_score 0.5057471264367817\n",
      "classification_score\n",
      "               precision    recall  f1-score   support\n",
      "\n",
      "         0.0       0.31      0.38      0.34        29\n",
      "         1.0       0.65      0.57      0.61        58\n",
      "\n",
      "   micro avg       0.51      0.51      0.51        87\n",
      "   macro avg       0.48      0.47      0.47        87\n",
      "weighted avg       0.53      0.51      0.52        87\n",
      "\n",
      "++++++++++++++++++++++++++++++++++++++++++++++++++++++++++++++++++++++++++++++++++++++++++++++++\n"
     ]
    }
   ],
   "source": [
    "cCMatrixAccGradientTreeBosting(train_tw , train_tw_y, test_tw,test_tw_y)"
   ]
  },
  {
   "cell_type": "code",
   "execution_count": 98,
   "metadata": {
    "ExecuteTime": {
     "end_time": "2019-05-01T01:34:26.301018Z",
     "start_time": "2019-05-01T01:30:21.216717Z"
    }
   },
   "outputs": [
    {
     "name": "stdout",
     "output_type": "stream",
     "text": [
      "Accuracy: 0.54 (+/- 0.05) [Logistic Regression]\n",
      "Accuracy: 0.52 (+/- 0.04) [Random Forest]\n",
      "Accuracy: 0.53 (+/- 0.04) [naive Bayes]\n",
      "Accuracy: 0.51 (+/- 0.04) [AdaBoostClassifier]\n",
      "Accuracy: 0.52 (+/- 0.04) [GradientBoostingClassifier]\n",
      "Accuracy: 0.53 (+/- 0.03) [Ensemble]\n"
     ]
    }
   ],
   "source": [
    "cCMatrixAccVotingClasifier(train_tw , train_tw_y, test_tw,test_tw_y)"
   ]
  },
  {
   "cell_type": "code",
   "execution_count": 99,
   "metadata": {
    "ExecuteTime": {
     "end_time": "2019-05-01T01:34:26.788001Z",
     "start_time": "2019-05-01T01:34:26.301018Z"
    }
   },
   "outputs": [
    {
     "name": "stderr",
     "output_type": "stream",
     "text": [
      "C:\\Users\\praveen ji\\Anaconda3\\envs\\tf_gpu\\lib\\site-packages\\xgboost\\core.py:587: FutureWarning: Series.base is deprecated and will be removed in a future version\n",
      "  if getattr(data, 'base', None) is not None and \\\n",
      "C:\\Users\\praveen ji\\Anaconda3\\envs\\tf_gpu\\lib\\site-packages\\xgboost\\core.py:588: FutureWarning: Series.base is deprecated and will be removed in a future version\n",
      "  data.base is not None and isinstance(data, np.ndarray) \\\n"
     ]
    },
    {
     "name": "stdout",
     "output_type": "stream",
     "text": [
      "Model accuracy = 0.563\n",
      "classification_score\n",
      "               precision    recall  f1-score   support\n",
      "\n",
      "         0.0       0.44      0.22      0.30        36\n",
      "         1.0       0.59      0.80      0.68        51\n",
      "\n",
      "   micro avg       0.56      0.56      0.56        87\n",
      "   macro avg       0.52      0.51      0.49        87\n",
      "weighted avg       0.53      0.56      0.52        87\n",
      "\n"
     ]
    }
   ],
   "source": [
    "cCMatrixAccXGB(train_tw , train_tw_y, test_tw,test_tw_y)"
   ]
  },
  {
   "cell_type": "markdown",
   "metadata": {},
   "source": [
    "# Financial Indicator RandomForest- NonScaled"
   ]
  },
  {
   "cell_type": "code",
   "execution_count": 100,
   "metadata": {
    "ExecuteTime": {
     "end_time": "2019-05-01T01:34:26.803223Z",
     "start_time": "2019-05-01T01:34:26.788001Z"
    }
   },
   "outputs": [],
   "source": [
    "fi_df_copy = targetDF_.copy()"
   ]
  },
  {
   "cell_type": "code",
   "execution_count": 101,
   "metadata": {
    "ExecuteTime": {
     "end_time": "2019-05-01T01:34:26.901769Z",
     "start_time": "2019-05-01T01:34:26.803223Z"
    }
   },
   "outputs": [
    {
     "name": "stdout",
     "output_type": "stream",
     "text": [
      "startDate 2015-05-04 00:00:00\n",
      "endDate 2018-12-31 00:00:00\n",
      "shape (923, 32)\n",
      "---------------------------\n",
      "startDate 2019-01-02 00:00:00\n",
      "endDate 2019-03-28 00:00:00\n",
      "shape (60, 32)\n",
      "---------------------------\n"
     ]
    },
    {
     "name": "stderr",
     "output_type": "stream",
     "text": [
      "C:\\Users\\praveen ji\\Anaconda3\\envs\\tf_gpu\\lib\\site-packages\\pandas\\core\\frame.py:3940: SettingWithCopyWarning: \n",
      "A value is trying to be set on a copy of a slice from a DataFrame\n",
      "\n",
      "See the caveats in the documentation: http://pandas.pydata.org/pandas-docs/stable/indexing.html#indexing-view-versus-copy\n",
      "  errors=errors)\n"
     ]
    }
   ],
   "source": [
    "train_fi, test_fi= createTrainingAndTestingSet(fi_df_copy)\n",
    "\n",
    "train_fi_y = train_fi['target']\n",
    "test_fi_y = test_fi['target']\n",
    "\n",
    "getStartEndDateShape(train_fi)\n",
    "getStartEndDateShape(test_fi)\n",
    "\n",
    "train_fi.drop(['date','target'],axis=1,inplace=True)\n",
    "test_fi.drop(['date','target'],axis=1,inplace=True)"
   ]
  },
  {
   "cell_type": "code",
   "execution_count": 102,
   "metadata": {
    "ExecuteTime": {
     "end_time": "2019-05-01T01:34:26.907770Z",
     "start_time": "2019-05-01T01:34:26.902799Z"
    }
   },
   "outputs": [
    {
     "name": "stdout",
     "output_type": "stream",
     "text": [
      "train_fi (923, 30) test_fi (60, 30) len(train_fi_y) 923 len(test_fi_y) 60\n"
     ]
    }
   ],
   "source": [
    "print('train_fi',train_fi.shape,'test_fi',test_fi.shape,'len(train_fi_y)',len(train_fi_y),'len(test_fi_y)',len(test_fi_y))"
   ]
  },
  {
   "cell_type": "code",
   "execution_count": 103,
   "metadata": {
    "ExecuteTime": {
     "end_time": "2019-05-01T01:34:29.454106Z",
     "start_time": "2019-05-01T01:34:26.909751Z"
    },
    "scrolled": true
   },
   "outputs": [
    {
     "name": "stderr",
     "output_type": "stream",
     "text": [
      "C:\\Users\\praveen ji\\Anaconda3\\envs\\tf_gpu\\lib\\site-packages\\statsmodels\\stats\\outliers_influence.py:181: RuntimeWarning: divide by zero encountered in double_scalars\n",
      "  vif = 1. / (1. - r_squared_i)\n",
      "C:\\Users\\praveen ji\\Anaconda3\\envs\\tf_gpu\\lib\\site-packages\\numpy\\core\\fromnumeric.py:56: FutureWarning: \n",
      "The current behaviour of 'Series.argmax' is deprecated, use 'idxmax'\n",
      "instead.\n",
      "The behavior of 'argmax' will be corrected to return the positional\n",
      "maximum in the future. For now, use 'series.values.argmax' or\n",
      "'np.argmax(np.array(values))' to get the position of the maximum\n",
      "row.\n",
      "  return getattr(obj, method)(*args, **kwds)\n"
     ]
    }
   ],
   "source": [
    "vif_RemoveHiglyCorelatedFeatures(train_fi,test_fi)"
   ]
  },
  {
   "cell_type": "code",
   "execution_count": 104,
   "metadata": {
    "ExecuteTime": {
     "end_time": "2019-05-01T01:34:29.469728Z",
     "start_time": "2019-05-01T01:34:29.454106Z"
    }
   },
   "outputs": [
    {
     "name": "stdout",
     "output_type": "stream",
     "text": [
      "Model accuracy = 0.644\n",
      "classification_score\n",
      "               precision    recall  f1-score   support\n",
      "\n",
      "           0       0.58      0.56      0.57        25\n",
      "           1       0.69      0.71      0.70        34\n",
      "\n",
      "   micro avg       0.64      0.64      0.64        59\n",
      "   macro avg       0.63      0.63      0.63        59\n",
      "weighted avg       0.64      0.64      0.64        59\n",
      "\n"
     ]
    }
   ],
   "source": [
    "NaivePredition(list(test_fi_y))"
   ]
  },
  {
   "cell_type": "code",
   "execution_count": 105,
   "metadata": {
    "ExecuteTime": {
     "end_time": "2019-05-01T01:34:29.485361Z",
     "start_time": "2019-05-01T01:34:29.469728Z"
    },
    "scrolled": true
   },
   "outputs": [
    {
     "name": "stdout",
     "output_type": "stream",
     "text": [
      "accuracy_score 0.5\n",
      "classification_score\n",
      "               precision    recall  f1-score   support\n",
      "\n",
      "           0       0.40      0.40      0.40        25\n",
      "           1       0.57      0.57      0.57        35\n",
      "\n",
      "   micro avg       0.50      0.50      0.50        60\n",
      "   macro avg       0.49      0.49      0.49        60\n",
      "weighted avg       0.50      0.50      0.50        60\n",
      "\n"
     ]
    }
   ],
   "source": [
    "NaiveBayes(train_fi , train_fi_y, test_fi,test_fi_y)"
   ]
  },
  {
   "cell_type": "code",
   "execution_count": 106,
   "metadata": {
    "ExecuteTime": {
     "end_time": "2019-05-01T01:34:29.500945Z",
     "start_time": "2019-05-01T01:34:29.485361Z"
    }
   },
   "outputs": [
    {
     "name": "stdout",
     "output_type": "stream",
     "text": [
      "train_fi (923, 9) test_fi (60, 9) len(train_fi_y) 923 len(test_fi_y) 60\n"
     ]
    }
   ],
   "source": [
    "print('train_fi',train_fi.shape,'test_fi',test_fi.shape,'len(train_fi_y)',len(train_fi_y),'len(test_fi_y)',len(test_fi_y))"
   ]
  },
  {
   "cell_type": "code",
   "execution_count": 107,
   "metadata": {
    "ExecuteTime": {
     "end_time": "2019-05-01T01:34:35.151082Z",
     "start_time": "2019-05-01T01:34:29.500945Z"
    }
   },
   "outputs": [
    {
     "name": "stdout",
     "output_type": "stream",
     "text": [
      "++++++++++++++++++++++++++++++++++++++++++++++++++++++++++++++++++++++++++++++++++++++++++++++++\n",
      "confusion_matrix [[ 2 27]\n",
      " [ 2 35]]\n",
      "number of datapoints in Up Class 37\n",
      "number of datapoints in Down Class 29\n",
      "accuracy_score 0.5606060606060606\n",
      "classification_score\n",
      "               precision    recall  f1-score   support\n",
      "\n",
      "         0.0       0.07      0.50      0.12         4\n",
      "         1.0       0.95      0.56      0.71        62\n",
      "\n",
      "   micro avg       0.56      0.56      0.56        66\n",
      "   macro avg       0.51      0.53      0.41        66\n",
      "weighted avg       0.89      0.56      0.67        66\n",
      "\n",
      "++++++++++++++++++++++++++++++++++++++++++++++++++++++++++++++++++++++++++++++++++++++++++++++++\n"
     ]
    }
   ],
   "source": [
    "features = list(train_nw.columns)\n",
    "cCMatrixAccRF(train_nw , train_nw_y, test_nw,test_nw_y, features)"
   ]
  },
  {
   "cell_type": "code",
   "execution_count": 108,
   "metadata": {
    "ExecuteTime": {
     "end_time": "2019-05-01T01:34:43.960998Z",
     "start_time": "2019-05-01T01:34:35.151082Z"
    },
    "scrolled": true
   },
   "outputs": [
    {
     "name": "stdout",
     "output_type": "stream",
     "text": [
      "++++++++++++++++++++++++++++++++++++++++++++++++++++++++++++++++++++++++++++++++++++++++++++++++\n",
      "confusion_matrix [[ 8 21]\n",
      " [11 26]]\n",
      "number of datapoints in Up Class 37\n",
      "number of datapoints in Down Class 29\n",
      "accuracy_score 0.5151515151515151\n",
      "classification_score\n",
      "               precision    recall  f1-score   support\n",
      "\n",
      "         0.0       0.28      0.42      0.33        19\n",
      "         1.0       0.70      0.55      0.62        47\n",
      "\n",
      "   micro avg       0.52      0.52      0.52        66\n",
      "   macro avg       0.49      0.49      0.48        66\n",
      "weighted avg       0.58      0.52      0.54        66\n",
      "\n",
      "++++++++++++++++++++++++++++++++++++++++++++++++++++++++++++++++++++++++++++++++++++++++++++++++\n"
     ]
    }
   ],
   "source": [
    "cCMatrixAccAdaboost(train_nw , train_nw_y, test_nw,test_nw_y)"
   ]
  },
  {
   "cell_type": "code",
   "execution_count": 109,
   "metadata": {
    "ExecuteTime": {
     "end_time": "2019-05-01T01:34:45.431151Z",
     "start_time": "2019-05-01T01:34:43.960998Z"
    }
   },
   "outputs": [
    {
     "name": "stdout",
     "output_type": "stream",
     "text": [
      "++++++++++++++++++++++++++++++++++++++++++++++++++++++++++++++++++++++++++++++++++++++++++++++++\n",
      "confusion_matrix [[10 19]\n",
      " [13 24]]\n",
      "number of datapoints in Up Class 37\n",
      "number of datapoints in Down Class 29\n",
      "accuracy_score 0.5151515151515151\n",
      "classification_score\n",
      "               precision    recall  f1-score   support\n",
      "\n",
      "         0.0       0.34      0.43      0.38        23\n",
      "         1.0       0.65      0.56      0.60        43\n",
      "\n",
      "   micro avg       0.52      0.52      0.52        66\n",
      "   macro avg       0.50      0.50      0.49        66\n",
      "weighted avg       0.54      0.52      0.52        66\n",
      "\n",
      "++++++++++++++++++++++++++++++++++++++++++++++++++++++++++++++++++++++++++++++++++++++++++++++++\n"
     ]
    }
   ],
   "source": [
    "cCMatrixAccGradientTreeBosting(train_nw , train_nw_y, test_nw,test_nw_y)"
   ]
  },
  {
   "cell_type": "code",
   "execution_count": 110,
   "metadata": {
    "ExecuteTime": {
     "end_time": "2019-05-01T01:36:55.608106Z",
     "start_time": "2019-05-01T01:34:45.431151Z"
    }
   },
   "outputs": [
    {
     "name": "stdout",
     "output_type": "stream",
     "text": [
      "Accuracy: 0.52 (+/- 0.02) [Logistic Regression]\n",
      "Accuracy: 0.53 (+/- 0.01) [Random Forest]\n",
      "Accuracy: 0.48 (+/- 0.04) [naive Bayes]\n",
      "Accuracy: 0.51 (+/- 0.02) [AdaBoostClassifier]\n",
      "Accuracy: 0.51 (+/- 0.01) [GradientBoostingClassifier]\n",
      "Accuracy: 0.50 (+/- 0.01) [Ensemble]\n"
     ]
    }
   ],
   "source": [
    "cCMatrixAccVotingClasifier(train_nw , train_nw_y, test_nw,test_nw_y)"
   ]
  },
  {
   "cell_type": "code",
   "execution_count": 111,
   "metadata": {
    "ExecuteTime": {
     "end_time": "2019-05-01T01:36:56.031094Z",
     "start_time": "2019-05-01T01:36:55.610102Z"
    }
   },
   "outputs": [
    {
     "name": "stderr",
     "output_type": "stream",
     "text": [
      "C:\\Users\\praveen ji\\Anaconda3\\envs\\tf_gpu\\lib\\site-packages\\xgboost\\core.py:587: FutureWarning: Series.base is deprecated and will be removed in a future version\n",
      "  if getattr(data, 'base', None) is not None and \\\n",
      "C:\\Users\\praveen ji\\Anaconda3\\envs\\tf_gpu\\lib\\site-packages\\xgboost\\core.py:588: FutureWarning: Series.base is deprecated and will be removed in a future version\n",
      "  data.base is not None and isinstance(data, np.ndarray) \\\n"
     ]
    },
    {
     "name": "stdout",
     "output_type": "stream",
     "text": [
      "Model accuracy = 0.561\n",
      "classification_score\n",
      "               precision    recall  f1-score   support\n",
      "\n",
      "         0.0       0.50      0.07      0.12        29\n",
      "         1.0       0.56      0.95      0.71        37\n",
      "\n",
      "   micro avg       0.56      0.56      0.56        66\n",
      "   macro avg       0.53      0.51      0.41        66\n",
      "weighted avg       0.54      0.56      0.45        66\n",
      "\n"
     ]
    }
   ],
   "source": [
    "cCMatrixAccXGB(train_nw , train_nw_y, test_nw,test_nw_y)"
   ]
  },
  {
   "cell_type": "markdown",
   "metadata": {},
   "source": [
    "# Financial Indicator RandomForest- Scaled"
   ]
  },
  {
   "cell_type": "code",
   "execution_count": 112,
   "metadata": {
    "ExecuteTime": {
     "end_time": "2019-05-01T01:36:56.046921Z",
     "start_time": "2019-05-01T01:36:56.031094Z"
    }
   },
   "outputs": [],
   "source": [
    "scale = StandardScaler()\n",
    "train_fi = pd.DataFrame(scale.fit_transform(train_fi.values), columns=train_fi.columns, index=train_fi.index)\n",
    "scale = StandardScaler()\n",
    "test_fi = pd.DataFrame(scale.fit_transform(test_fi.values), columns=test_fi.columns, index=test_fi.index)"
   ]
  },
  {
   "cell_type": "code",
   "execution_count": 113,
   "metadata": {
    "ExecuteTime": {
     "end_time": "2019-05-01T01:36:56.062540Z",
     "start_time": "2019-05-01T01:36:56.046921Z"
    }
   },
   "outputs": [
    {
     "name": "stdout",
     "output_type": "stream",
     "text": [
      "train_fi (923, 9) test_fi (60, 9) len(train_fi_y) 923 len(test_fi_y) 60\n"
     ]
    }
   ],
   "source": [
    "print('train_fi',train_fi.shape,'test_fi',test_fi.shape,'len(train_fi_y)',len(train_fi_y),'len(test_fi_y)',len(test_fi_y))"
   ]
  },
  {
   "cell_type": "code",
   "execution_count": 114,
   "metadata": {
    "ExecuteTime": {
     "end_time": "2019-05-01T01:36:56.080474Z",
     "start_time": "2019-05-01T01:36:56.062540Z"
    },
    "scrolled": true
   },
   "outputs": [
    {
     "name": "stdout",
     "output_type": "stream",
     "text": [
      "train_fi (923, 9) test_fi (60, 9) len(train_fi_y) 923 len(test_fi_y) 60\n"
     ]
    }
   ],
   "source": [
    "vif_RemoveHiglyCorelatedFeatures(train_fi,test_fi)\n",
    "print('train_fi',train_fi.shape,'test_fi',test_fi.shape,'len(train_fi_y)',len(train_fi_y),'len(test_fi_y)',len(test_fi_y))"
   ]
  },
  {
   "cell_type": "code",
   "execution_count": 115,
   "metadata": {
    "ExecuteTime": {
     "end_time": "2019-05-01T01:36:56.092469Z",
     "start_time": "2019-05-01T01:36:56.082469Z"
    }
   },
   "outputs": [
    {
     "name": "stdout",
     "output_type": "stream",
     "text": [
      "accuracy_score 0.6333333333333333\n",
      "classification_score\n",
      "               precision    recall  f1-score   support\n",
      "\n",
      "           0       0.60      0.56      0.58        27\n",
      "           1       0.66      0.70      0.68        33\n",
      "\n",
      "   micro avg       0.63      0.63      0.63        60\n",
      "   macro avg       0.63      0.63      0.63        60\n",
      "weighted avg       0.63      0.63      0.63        60\n",
      "\n"
     ]
    }
   ],
   "source": [
    "NaiveBayes(train_fi , train_fi_y, test_fi,test_fi_y)"
   ]
  },
  {
   "cell_type": "code",
   "execution_count": 116,
   "metadata": {
    "ExecuteTime": {
     "end_time": "2019-05-01T01:37:02.359395Z",
     "start_time": "2019-05-01T01:36:56.094437Z"
    }
   },
   "outputs": [
    {
     "name": "stdout",
     "output_type": "stream",
     "text": [
      "++++++++++++++++++++++++++++++++++++++++++++++++++++++++++++++++++++++++++++++++++++++++++++++++\n",
      "confusion_matrix [[22  3]\n",
      " [10 25]]\n",
      "number of datapoints in Up Class 35\n",
      "number of datapoints in Down Class 25\n",
      "accuracy_score 0.7833333333333333\n",
      "classification_score\n",
      "               precision    recall  f1-score   support\n",
      "\n",
      "           0       0.88      0.69      0.77        32\n",
      "           1       0.71      0.89      0.79        28\n",
      "\n",
      "   micro avg       0.78      0.78      0.78        60\n",
      "   macro avg       0.80      0.79      0.78        60\n",
      "weighted avg       0.80      0.78      0.78        60\n",
      "\n",
      "++++++++++++++++++++++++++++++++++++++++++++++++++++++++++++++++++++++++++++++++++++++++++++++++\n"
     ]
    }
   ],
   "source": [
    "features = list(train_fi.columns)\n",
    "temp = cCMatrixAccRF(train_fi , train_fi_y, test_fi,test_fi_y, features, False)"
   ]
  },
  {
   "cell_type": "code",
   "execution_count": 117,
   "metadata": {
    "ExecuteTime": {
     "end_time": "2019-05-01T01:37:10.834741Z",
     "start_time": "2019-05-01T01:37:02.359395Z"
    }
   },
   "outputs": [
    {
     "name": "stdout",
     "output_type": "stream",
     "text": [
      "++++++++++++++++++++++++++++++++++++++++++++++++++++++++++++++++++++++++++++++++++++++++++++++++\n",
      "confusion_matrix [[15 10]\n",
      " [ 9 26]]\n",
      "number of datapoints in Up Class 35\n",
      "number of datapoints in Down Class 25\n",
      "accuracy_score 0.6833333333333333\n",
      "classification_score\n",
      "               precision    recall  f1-score   support\n",
      "\n",
      "           0       0.60      0.62      0.61        24\n",
      "           1       0.74      0.72      0.73        36\n",
      "\n",
      "   micro avg       0.68      0.68      0.68        60\n",
      "   macro avg       0.67      0.67      0.67        60\n",
      "weighted avg       0.69      0.68      0.68        60\n",
      "\n",
      "++++++++++++++++++++++++++++++++++++++++++++++++++++++++++++++++++++++++++++++++++++++++++++++++\n"
     ]
    }
   ],
   "source": [
    "cCMatrixAccAdaboost(train_fi , train_fi_y, test_fi,test_fi_y)"
   ]
  },
  {
   "cell_type": "code",
   "execution_count": 118,
   "metadata": {
    "ExecuteTime": {
     "end_time": "2019-05-01T01:37:12.199497Z",
     "start_time": "2019-05-01T01:37:10.834741Z"
    },
    "scrolled": false
   },
   "outputs": [
    {
     "name": "stdout",
     "output_type": "stream",
     "text": [
      "++++++++++++++++++++++++++++++++++++++++++++++++++++++++++++++++++++++++++++++++++++++++++++++++\n",
      "confusion_matrix [[18  7]\n",
      " [ 8 27]]\n",
      "number of datapoints in Up Class 35\n",
      "number of datapoints in Down Class 25\n",
      "accuracy_score 0.75\n",
      "classification_score\n",
      "               precision    recall  f1-score   support\n",
      "\n",
      "           0       0.72      0.69      0.71        26\n",
      "           1       0.77      0.79      0.78        34\n",
      "\n",
      "   micro avg       0.75      0.75      0.75        60\n",
      "   macro avg       0.75      0.74      0.74        60\n",
      "weighted avg       0.75      0.75      0.75        60\n",
      "\n",
      "++++++++++++++++++++++++++++++++++++++++++++++++++++++++++++++++++++++++++++++++++++++++++++++++\n"
     ]
    }
   ],
   "source": [
    "cCMatrixAccGradientTreeBosting(train_fi , train_fi_y, test_fi,test_fi_y)"
   ]
  },
  {
   "cell_type": "code",
   "execution_count": 119,
   "metadata": {
    "ExecuteTime": {
     "end_time": "2019-05-01T01:39:34.197032Z",
     "start_time": "2019-05-01T01:37:12.200532Z"
    }
   },
   "outputs": [
    {
     "name": "stdout",
     "output_type": "stream",
     "text": [
      "Accuracy: 0.75 (+/- 0.02) [Logistic Regression]\n",
      "Accuracy: 0.75 (+/- 0.02) [Random Forest]\n",
      "Accuracy: 0.63 (+/- 0.04) [naive Bayes]\n",
      "Accuracy: 0.66 (+/- 0.01) [AdaBoostClassifier]\n",
      "Accuracy: 0.70 (+/- 0.02) [GradientBoostingClassifier]\n",
      "Accuracy: 0.73 (+/- 0.02) [Ensemble]\n"
     ]
    }
   ],
   "source": [
    "cCMatrixAccVotingClasifier(train_fi , train_fi_y, test_fi,test_fi_y)"
   ]
  },
  {
   "cell_type": "code",
   "execution_count": 120,
   "metadata": {
    "ExecuteTime": {
     "end_time": "2019-05-01T01:39:34.600103Z",
     "start_time": "2019-05-01T01:39:34.198029Z"
    }
   },
   "outputs": [
    {
     "name": "stderr",
     "output_type": "stream",
     "text": [
      "C:\\Users\\praveen ji\\Anaconda3\\envs\\tf_gpu\\lib\\site-packages\\xgboost\\core.py:587: FutureWarning: Series.base is deprecated and will be removed in a future version\n",
      "  if getattr(data, 'base', None) is not None and \\\n",
      "C:\\Users\\praveen ji\\Anaconda3\\envs\\tf_gpu\\lib\\site-packages\\xgboost\\core.py:588: FutureWarning: Series.base is deprecated and will be removed in a future version\n",
      "  data.base is not None and isinstance(data, np.ndarray) \\\n"
     ]
    },
    {
     "name": "stdout",
     "output_type": "stream",
     "text": [
      "Model accuracy = 0.750\n",
      "classification_score\n",
      "               precision    recall  f1-score   support\n",
      "\n",
      "           0       0.66      0.84      0.74        25\n",
      "           1       0.86      0.69      0.76        35\n",
      "\n",
      "   micro avg       0.75      0.75      0.75        60\n",
      "   macro avg       0.76      0.76      0.75        60\n",
      "weighted avg       0.77      0.75      0.75        60\n",
      "\n"
     ]
    }
   ],
   "source": [
    "cCMatrixAccXGB(train_fi , train_fi_y, test_fi,test_fi_y)"
   ]
  },
  {
   "cell_type": "markdown",
   "metadata": {
    "ExecuteTime": {
     "end_time": "2019-04-25T22:33:36.891004Z",
     "start_time": "2019-04-25T22:33:36.887013Z"
    }
   },
   "source": [
    "# Ensemble Tw, News and FI -NonScaled"
   ]
  },
  {
   "cell_type": "code",
   "execution_count": 121,
   "metadata": {
    "ExecuteTime": {
     "end_time": "2019-05-01T01:39:34.671918Z",
     "start_time": "2019-05-01T01:39:34.611037Z"
    }
   },
   "outputs": [],
   "source": [
    "trainingData = pd.read_csv('train_ns_tw_nw_fi.csv')\n",
    "testingData =  pd.read_csv('test_ns_tw_nw_fi.csv')"
   ]
  },
  {
   "cell_type": "code",
   "execution_count": 122,
   "metadata": {
    "ExecuteTime": {
     "end_time": "2019-05-01T01:39:34.681851Z",
     "start_time": "2019-05-01T01:39:34.675864Z"
    }
   },
   "outputs": [],
   "source": [
    "train , train_y = getFeaturesAndTargetRemoveDate(trainingData)\n",
    "test,test_y = getFeaturesAndTargetRemoveDate(testingData)"
   ]
  },
  {
   "cell_type": "code",
   "execution_count": 123,
   "metadata": {
    "ExecuteTime": {
     "end_time": "2019-05-01T01:39:34.725733Z",
     "start_time": "2019-05-01T01:39:34.682846Z"
    }
   },
   "outputs": [
    {
     "data": {
      "text/html": [
       "<div>\n",
       "<style scoped>\n",
       "    .dataframe tbody tr th:only-of-type {\n",
       "        vertical-align: middle;\n",
       "    }\n",
       "\n",
       "    .dataframe tbody tr th {\n",
       "        vertical-align: top;\n",
       "    }\n",
       "\n",
       "    .dataframe thead th {\n",
       "        text-align: right;\n",
       "    }\n",
       "</style>\n",
       "<table border=\"1\" class=\"dataframe\">\n",
       "  <thead>\n",
       "    <tr style=\"text-align: right;\">\n",
       "      <th></th>\n",
       "      <th>Open</th>\n",
       "      <th>High</th>\n",
       "      <th>Low</th>\n",
       "      <th>Close</th>\n",
       "      <th>Adj Close</th>\n",
       "      <th>Volume</th>\n",
       "      <th>sma2</th>\n",
       "      <th>sma2_1</th>\n",
       "      <th>sma2_increment</th>\n",
       "      <th>sma2_1_increment</th>\n",
       "      <th>...</th>\n",
       "      <th>disgust_y</th>\n",
       "      <th>anticipation_y</th>\n",
       "      <th>fear_y</th>\n",
       "      <th>trust_y</th>\n",
       "      <th>tb_polarity_y</th>\n",
       "      <th>tb_subjectivity_y</th>\n",
       "      <th>hiv4_positive_y</th>\n",
       "      <th>hiv4_negative_y</th>\n",
       "      <th>hiv4_polarity_y</th>\n",
       "      <th>hiv4_subjectivity_y</th>\n",
       "    </tr>\n",
       "  </thead>\n",
       "  <tbody>\n",
       "    <tr>\n",
       "      <th>0</th>\n",
       "      <td>48.369999</td>\n",
       "      <td>48.869999</td>\n",
       "      <td>48.180000</td>\n",
       "      <td>48.240002</td>\n",
       "      <td>44.072769</td>\n",
       "      <td>34039500.0</td>\n",
       "      <td>48.475001</td>\n",
       "      <td>48.640002</td>\n",
       "      <td>-0.165001</td>\n",
       "      <td>-0.069999</td>\n",
       "      <td>...</td>\n",
       "      <td>0.0</td>\n",
       "      <td>0.002845</td>\n",
       "      <td>0.0</td>\n",
       "      <td>0.0</td>\n",
       "      <td>2.4</td>\n",
       "      <td>2.383333</td>\n",
       "      <td>5.0</td>\n",
       "      <td>2.0</td>\n",
       "      <td>2.333331</td>\n",
       "      <td>0.589387</td>\n",
       "    </tr>\n",
       "    <tr>\n",
       "      <th>1</th>\n",
       "      <td>47.820000</td>\n",
       "      <td>48.160000</td>\n",
       "      <td>47.310001</td>\n",
       "      <td>47.599998</td>\n",
       "      <td>43.488049</td>\n",
       "      <td>50369200.0</td>\n",
       "      <td>48.095000</td>\n",
       "      <td>48.475001</td>\n",
       "      <td>-0.380001</td>\n",
       "      <td>-0.165001</td>\n",
       "      <td>...</td>\n",
       "      <td>0.0</td>\n",
       "      <td>0.003759</td>\n",
       "      <td>0.0</td>\n",
       "      <td>0.0</td>\n",
       "      <td>0.0</td>\n",
       "      <td>0.300000</td>\n",
       "      <td>3.0</td>\n",
       "      <td>2.0</td>\n",
       "      <td>0.666666</td>\n",
       "      <td>0.326007</td>\n",
       "    </tr>\n",
       "  </tbody>\n",
       "</table>\n",
       "<p>2 rows × 77 columns</p>\n",
       "</div>"
      ],
      "text/plain": [
       "        Open       High        Low      Close  Adj Close      Volume  \\\n",
       "0  48.369999  48.869999  48.180000  48.240002  44.072769  34039500.0   \n",
       "1  47.820000  48.160000  47.310001  47.599998  43.488049  50369200.0   \n",
       "\n",
       "        sma2     sma2_1  sma2_increment  sma2_1_increment  ...  disgust_y  \\\n",
       "0  48.475001  48.640002       -0.165001         -0.069999  ...        0.0   \n",
       "1  48.095000  48.475001       -0.380001         -0.165001  ...        0.0   \n",
       "\n",
       "   anticipation_y  fear_y  trust_y  tb_polarity_y  tb_subjectivity_y  \\\n",
       "0        0.002845     0.0      0.0            2.4           2.383333   \n",
       "1        0.003759     0.0      0.0            0.0           0.300000   \n",
       "\n",
       "   hiv4_positive_y  hiv4_negative_y  hiv4_polarity_y  hiv4_subjectivity_y  \n",
       "0              5.0              2.0         2.333331             0.589387  \n",
       "1              3.0              2.0         0.666666             0.326007  \n",
       "\n",
       "[2 rows x 77 columns]"
      ]
     },
     "execution_count": 123,
     "metadata": {},
     "output_type": "execute_result"
    }
   ],
   "source": [
    "train.head(2)"
   ]
  },
  {
   "cell_type": "code",
   "execution_count": 124,
   "metadata": {
    "ExecuteTime": {
     "end_time": "2019-05-01T01:39:34.735743Z",
     "start_time": "2019-05-01T01:39:34.727726Z"
    }
   },
   "outputs": [
    {
     "name": "stdout",
     "output_type": "stream",
     "text": [
      "Model accuracy = 0.756\n",
      "classification_score\n",
      "               precision    recall  f1-score   support\n",
      "\n",
      "         0.0       0.71      0.69      0.70        36\n",
      "         1.0       0.78      0.80      0.79        50\n",
      "\n",
      "   micro avg       0.76      0.76      0.76        86\n",
      "   macro avg       0.75      0.75      0.75        86\n",
      "weighted avg       0.75      0.76      0.76        86\n",
      "\n"
     ]
    }
   ],
   "source": [
    "NaivePredition(list(test_y))"
   ]
  },
  {
   "cell_type": "code",
   "execution_count": 125,
   "metadata": {
    "ExecuteTime": {
     "end_time": "2019-05-01T01:39:34.764627Z",
     "start_time": "2019-05-01T01:39:34.736701Z"
    }
   },
   "outputs": [
    {
     "name": "stdout",
     "output_type": "stream",
     "text": [
      "accuracy_score 0.5862068965517241\n",
      "classification_score\n",
      "               precision    recall  f1-score   support\n",
      "\n",
      "         0.0       0.22      0.50      0.31        16\n",
      "         1.0       0.84      0.61      0.70        71\n",
      "\n",
      "   micro avg       0.59      0.59      0.59        87\n",
      "   macro avg       0.53      0.55      0.51        87\n",
      "weighted avg       0.73      0.59      0.63        87\n",
      "\n"
     ]
    }
   ],
   "source": [
    "NaiveBayes(train , train_y, test,test_y)"
   ]
  },
  {
   "cell_type": "code",
   "execution_count": 126,
   "metadata": {
    "ExecuteTime": {
     "end_time": "2019-05-01T01:39:35.953448Z",
     "start_time": "2019-05-01T01:39:34.765637Z"
    }
   },
   "outputs": [
    {
     "name": "stderr",
     "output_type": "stream",
     "text": [
      "C:\\Users\\praveen ji\\Anaconda3\\envs\\tf_gpu\\lib\\site-packages\\xgboost\\core.py:587: FutureWarning: Series.base is deprecated and will be removed in a future version\n",
      "  if getattr(data, 'base', None) is not None and \\\n",
      "C:\\Users\\praveen ji\\Anaconda3\\envs\\tf_gpu\\lib\\site-packages\\xgboost\\core.py:588: FutureWarning: Series.base is deprecated and will be removed in a future version\n",
      "  data.base is not None and isinstance(data, np.ndarray) \\\n"
     ]
    },
    {
     "name": "stdout",
     "output_type": "stream",
     "text": [
      "Model accuracy = 0.690\n",
      "classification_score\n",
      "               precision    recall  f1-score   support\n",
      "\n",
      "         0.0       0.62      0.64      0.63        36\n",
      "         1.0       0.74      0.73      0.73        51\n",
      "\n",
      "   micro avg       0.69      0.69      0.69        87\n",
      "   macro avg       0.68      0.68      0.68        87\n",
      "weighted avg       0.69      0.69      0.69        87\n",
      "\n"
     ]
    }
   ],
   "source": [
    "z = cCMatrixAccXGB(train , train_y, test,test_y)"
   ]
  },
  {
   "cell_type": "code",
   "execution_count": 127,
   "metadata": {
    "ExecuteTime": {
     "end_time": "2019-05-01T01:39:49.268868Z",
     "start_time": "2019-05-01T01:39:35.954445Z"
    }
   },
   "outputs": [
    {
     "name": "stdout",
     "output_type": "stream",
     "text": [
      "++++++++++++++++++++++++++++++++++++++++++++++++++++++++++++++++++++++++++++++++++++++++++++++++\n",
      "confusion_matrix [[24 12]\n",
      " [12 39]]\n",
      "number of datapoints in Up Class 51\n",
      "number of datapoints in Down Class 36\n",
      "accuracy_score 0.7241379310344828\n",
      "classification_score\n",
      "               precision    recall  f1-score   support\n",
      "\n",
      "         0.0       0.67      0.67      0.67        36\n",
      "         1.0       0.76      0.76      0.76        51\n",
      "\n",
      "   micro avg       0.72      0.72      0.72        87\n",
      "   macro avg       0.72      0.72      0.72        87\n",
      "weighted avg       0.72      0.72      0.72        87\n",
      "\n",
      "++++++++++++++++++++++++++++++++++++++++++++++++++++++++++++++++++++++++++++++++++++++++++++++++\n"
     ]
    }
   ],
   "source": [
    "features = list(train.columns)\n",
    "k=cCMatrixAccRF(train , train_y, test,test_y, features,False)"
   ]
  },
  {
   "cell_type": "markdown",
   "metadata": {},
   "source": [
    "# Ensemble Tw, News and FI -Scaled"
   ]
  },
  {
   "cell_type": "code",
   "execution_count": 12,
   "metadata": {
    "ExecuteTime": {
     "end_time": "2019-05-03T14:40:57.263556Z",
     "start_time": "2019-05-03T14:40:57.245603Z"
    }
   },
   "outputs": [],
   "source": [
    "import pandas as pd"
   ]
  },
  {
   "cell_type": "code",
   "execution_count": 13,
   "metadata": {
    "ExecuteTime": {
     "end_time": "2019-05-03T14:40:58.998945Z",
     "start_time": "2019-05-03T14:40:58.882230Z"
    }
   },
   "outputs": [],
   "source": [
    "trainingData = pd.read_csv('train_tw_nw_fi.csv')\n",
    "testingData =  pd.read_csv('test_tw_nw_fi.csv')"
   ]
  },
  {
   "cell_type": "code",
   "execution_count": 14,
   "metadata": {
    "ExecuteTime": {
     "end_time": "2019-05-03T14:41:00.475967Z",
     "start_time": "2019-05-03T14:41:00.465993Z"
    }
   },
   "outputs": [
    {
     "name": "stdout",
     "output_type": "stream",
     "text": [
      "startDate 2015-05-04\n",
      "endDate 2018-12-31\n",
      "shape (1336, 79)\n",
      "---------------------------\n",
      "startDate 2019-01-01\n",
      "endDate 2019-03-28\n",
      "shape (87, 79)\n",
      "---------------------------\n"
     ]
    }
   ],
   "source": [
    "getStartEndDateShape(trainingData)\n",
    "getStartEndDateShape(testingData)"
   ]
  },
  {
   "cell_type": "code",
   "execution_count": 10,
   "metadata": {
    "ExecuteTime": {
     "end_time": "2019-05-03T12:09:25.345269Z",
     "start_time": "2019-05-03T12:09:25.337289Z"
    }
   },
   "outputs": [],
   "source": [
    "train, train_y = getFeaturesAndTargetRemoveDate(trainingData)\n",
    "test, test_y = getFeaturesAndTargetRemoveDate(testingData)"
   ]
  },
  {
   "cell_type": "code",
   "execution_count": 21,
   "metadata": {
    "ExecuteTime": {
     "end_time": "2019-05-03T14:42:04.239285Z",
     "start_time": "2019-05-03T14:42:04.224327Z"
    }
   },
   "outputs": [
    {
     "name": "stdout",
     "output_type": "stream",
     "text": [
      "accuracy_score 0.4367816091954023\n",
      "classification_score\n",
      "               precision    recall  f1-score   support\n",
      "\n",
      "         0.0       0.92      0.42      0.57        79\n",
      "         1.0       0.10      0.62      0.17         8\n",
      "\n",
      "   micro avg       0.44      0.44      0.44        87\n",
      "   macro avg       0.51      0.52      0.37        87\n",
      "weighted avg       0.84      0.44      0.54        87\n",
      "\n"
     ]
    }
   ],
   "source": [
    "NaiveBayes(train , train_y, test,test_y)"
   ]
  },
  {
   "cell_type": "code",
   "execution_count": 130,
   "metadata": {
    "ExecuteTime": {
     "end_time": "2019-05-01T01:39:49.353643Z",
     "start_time": "2019-05-01T01:39:49.332673Z"
    },
    "scrolled": true
   },
   "outputs": [
    {
     "data": {
      "text/html": [
       "<div>\n",
       "<style scoped>\n",
       "    .dataframe tbody tr th:only-of-type {\n",
       "        vertical-align: middle;\n",
       "    }\n",
       "\n",
       "    .dataframe tbody tr th {\n",
       "        vertical-align: top;\n",
       "    }\n",
       "\n",
       "    .dataframe thead th {\n",
       "        text-align: right;\n",
       "    }\n",
       "</style>\n",
       "<table border=\"1\" class=\"dataframe\">\n",
       "  <thead>\n",
       "    <tr style=\"text-align: right;\">\n",
       "      <th></th>\n",
       "      <th>Open</th>\n",
       "      <th>High</th>\n",
       "      <th>Low</th>\n",
       "      <th>Close</th>\n",
       "      <th>Adj Close</th>\n",
       "      <th>Volume</th>\n",
       "      <th>sma2</th>\n",
       "      <th>sma2_1</th>\n",
       "      <th>sma2_increment</th>\n",
       "      <th>sma2_1_increment</th>\n",
       "      <th>...</th>\n",
       "      <th>disgust_y</th>\n",
       "      <th>anticipation_y</th>\n",
       "      <th>fear_y</th>\n",
       "      <th>trust_y</th>\n",
       "      <th>tb_polarity_y</th>\n",
       "      <th>tb_subjectivity_y</th>\n",
       "      <th>hiv4_positive_y</th>\n",
       "      <th>hiv4_negative_y</th>\n",
       "      <th>hiv4_polarity_y</th>\n",
       "      <th>hiv4_subjectivity_y</th>\n",
       "    </tr>\n",
       "  </thead>\n",
       "  <tbody>\n",
       "    <tr>\n",
       "      <th>0</th>\n",
       "      <td>-1.114678</td>\n",
       "      <td>-1.109405</td>\n",
       "      <td>-1.107374</td>\n",
       "      <td>-1.121569</td>\n",
       "      <td>-1.153836</td>\n",
       "      <td>0.233553</td>\n",
       "      <td>-1.109740</td>\n",
       "      <td>-1.100390</td>\n",
       "      <td>-0.308662</td>\n",
       "      <td>-0.196784</td>\n",
       "      <td>...</td>\n",
       "      <td>-0.965674</td>\n",
       "      <td>1.521927</td>\n",
       "      <td>-0.575468</td>\n",
       "      <td>-0.994978</td>\n",
       "      <td>-1.060730</td>\n",
       "      <td>-1.197176</td>\n",
       "      <td>-1.319448</td>\n",
       "      <td>-1.28863</td>\n",
       "      <td>-1.147992</td>\n",
       "      <td>-1.255845</td>\n",
       "    </tr>\n",
       "    <tr>\n",
       "      <th>1</th>\n",
       "      <td>-1.139229</td>\n",
       "      <td>-1.140805</td>\n",
       "      <td>-1.146727</td>\n",
       "      <td>-1.150169</td>\n",
       "      <td>-1.178850</td>\n",
       "      <td>1.278356</td>\n",
       "      <td>-1.126732</td>\n",
       "      <td>-1.107775</td>\n",
       "      <td>-0.592548</td>\n",
       "      <td>-0.328013</td>\n",
       "      <td>...</td>\n",
       "      <td>-0.965674</td>\n",
       "      <td>2.458020</td>\n",
       "      <td>-0.575468</td>\n",
       "      <td>-0.994978</td>\n",
       "      <td>-1.092967</td>\n",
       "      <td>-1.211317</td>\n",
       "      <td>-1.323400</td>\n",
       "      <td>-1.28863</td>\n",
       "      <td>-1.161587</td>\n",
       "      <td>-1.260280</td>\n",
       "    </tr>\n",
       "  </tbody>\n",
       "</table>\n",
       "<p>2 rows × 77 columns</p>\n",
       "</div>"
      ],
      "text/plain": [
       "       Open      High       Low     Close  Adj Close    Volume      sma2  \\\n",
       "0 -1.114678 -1.109405 -1.107374 -1.121569  -1.153836  0.233553 -1.109740   \n",
       "1 -1.139229 -1.140805 -1.146727 -1.150169  -1.178850  1.278356 -1.126732   \n",
       "\n",
       "     sma2_1  sma2_increment  sma2_1_increment  ...  disgust_y  anticipation_y  \\\n",
       "0 -1.100390       -0.308662         -0.196784  ...  -0.965674        1.521927   \n",
       "1 -1.107775       -0.592548         -0.328013  ...  -0.965674        2.458020   \n",
       "\n",
       "     fear_y   trust_y  tb_polarity_y  tb_subjectivity_y  hiv4_positive_y  \\\n",
       "0 -0.575468 -0.994978      -1.060730          -1.197176        -1.319448   \n",
       "1 -0.575468 -0.994978      -1.092967          -1.211317        -1.323400   \n",
       "\n",
       "   hiv4_negative_y  hiv4_polarity_y  hiv4_subjectivity_y  \n",
       "0         -1.28863        -1.147992            -1.255845  \n",
       "1         -1.28863        -1.161587            -1.260280  \n",
       "\n",
       "[2 rows x 77 columns]"
      ]
     },
     "execution_count": 130,
     "metadata": {},
     "output_type": "execute_result"
    }
   ],
   "source": [
    "train.head(2)"
   ]
  },
  {
   "cell_type": "code",
   "execution_count": 131,
   "metadata": {
    "ExecuteTime": {
     "end_time": "2019-05-01T01:39:50.459684Z",
     "start_time": "2019-05-01T01:39:49.355631Z"
    }
   },
   "outputs": [
    {
     "name": "stderr",
     "output_type": "stream",
     "text": [
      "C:\\Users\\praveen ji\\Anaconda3\\envs\\tf_gpu\\lib\\site-packages\\xgboost\\core.py:587: FutureWarning: Series.base is deprecated and will be removed in a future version\n",
      "  if getattr(data, 'base', None) is not None and \\\n",
      "C:\\Users\\praveen ji\\Anaconda3\\envs\\tf_gpu\\lib\\site-packages\\xgboost\\core.py:588: FutureWarning: Series.base is deprecated and will be removed in a future version\n",
      "  data.base is not None and isinstance(data, np.ndarray) \\\n"
     ]
    },
    {
     "name": "stdout",
     "output_type": "stream",
     "text": [
      "Model accuracy = 0.690\n",
      "classification_score\n",
      "               precision    recall  f1-score   support\n",
      "\n",
      "         0.0       0.62      0.64      0.63        36\n",
      "         1.0       0.74      0.73      0.73        51\n",
      "\n",
      "   micro avg       0.69      0.69      0.69        87\n",
      "   macro avg       0.68      0.68      0.68        87\n",
      "weighted avg       0.69      0.69      0.69        87\n",
      "\n"
     ]
    }
   ],
   "source": [
    "z = cCMatrixAccXGB(train , train_y, test,test_y)"
   ]
  },
  {
   "cell_type": "code",
   "execution_count": 132,
   "metadata": {
    "ExecuteTime": {
     "end_time": "2019-05-01T01:40:02.812654Z",
     "start_time": "2019-05-01T01:39:50.461654Z"
    }
   },
   "outputs": [
    {
     "name": "stdout",
     "output_type": "stream",
     "text": [
      "++++++++++++++++++++++++++++++++++++++++++++++++++++++++++++++++++++++++++++++++++++++++++++++++\n",
      "confusion_matrix [[24 12]\n",
      " [12 39]]\n",
      "number of datapoints in Up Class 51\n",
      "number of datapoints in Down Class 36\n",
      "accuracy_score 0.7241379310344828\n",
      "classification_score\n",
      "               precision    recall  f1-score   support\n",
      "\n",
      "         0.0       0.67      0.67      0.67        36\n",
      "         1.0       0.76      0.76      0.76        51\n",
      "\n",
      "   micro avg       0.72      0.72      0.72        87\n",
      "   macro avg       0.72      0.72      0.72        87\n",
      "weighted avg       0.72      0.72      0.72        87\n",
      "\n",
      "++++++++++++++++++++++++++++++++++++++++++++++++++++++++++++++++++++++++++++++++++++++++++++++++\n"
     ]
    }
   ],
   "source": [
    "features = list(train.columns)\n",
    "k=cCMatrixAccRF(train , train_y, test,test_y, features,False)"
   ]
  },
  {
   "cell_type": "code",
   "execution_count": 133,
   "metadata": {
    "ExecuteTime": {
     "end_time": "2019-05-01T01:40:02.817613Z",
     "start_time": "2019-05-01T01:40:02.813625Z"
    }
   },
   "outputs": [],
   "source": [
    "## Future Work"
   ]
  },
  {
   "cell_type": "code",
   "execution_count": 134,
   "metadata": {
    "ExecuteTime": {
     "end_time": "2019-05-01T01:40:02.826606Z",
     "start_time": "2019-05-01T01:40:02.820605Z"
    }
   },
   "outputs": [],
   "source": [
    "# train_fiDf = train[['Open', 'High', 'Low', 'Close', 'Adj Close', 'Volume', 'sma2', 'sma2_1',\n",
    "#        'sma2_increment', 'sma2_1_increment', 'vol_increment',\n",
    "#        'vol_rel_increment',  'open_incr', 'ma7', 'ma21',\n",
    "#        '26ema', '12ema', 'MACD', '30 Day MA', '30 Day STD', 'upper_band',\n",
    "#        'lower_band', 'ema', 'momentum', 'log_momentum', 'fft', 'absolute',\n",
    "#        'angle']]\n",
    "# test_fiDf = test[['Open', 'High', 'Low', 'Close', 'Adj Close', 'Volume', 'sma2', 'sma2_1',\n",
    "#        'sma2_increment', 'sma2_1_increment', 'vol_increment',\n",
    "#        'vol_rel_increment',  'open_incr', 'ma7', 'ma21',\n",
    "#        '26ema', '12ema', 'MACD', '30 Day MA', '30 Day STD', 'upper_band',\n",
    "#        'lower_band', 'ema', 'momentum', 'log_momentum', 'fft', 'absolute',\n",
    "#        'angle']]"
   ]
  },
  {
   "cell_type": "code",
   "execution_count": 135,
   "metadata": {
    "ExecuteTime": {
     "end_time": "2019-05-01T01:40:02.835588Z",
     "start_time": "2019-05-01T01:40:02.830579Z"
    }
   },
   "outputs": [],
   "source": [
    "# train_nwDf= train[[ 'lm_positive_x', 'lm_negative_x', 'lm_polarity_x',\n",
    "#        'lm_subjectivity_x', 'actvie_x', 'passive_x', 'weak_x', 'strong_x',\n",
    "#        'anger_x', 'joy_x', 'suprise_x', 'sadness_x', 'disgust_x',\n",
    "#        'anticipation_x', 'fear_x', 'trust_x', 'tb_polarity_x',\n",
    "#        'tb_subjectivity_x', 'hiv4_positive_x', 'hiv4_negative_x',\n",
    "#        'hiv4_polarity_x', 'hiv4_subjectivity_x', 'lm_positive_y']]\n",
    "# test_nwDf= test[[ 'lm_positive_x', 'lm_negative_x', 'lm_polarity_x',\n",
    "#        'lm_subjectivity_x', 'actvie_x', 'passive_x', 'weak_x', 'strong_x',\n",
    "#        'anger_x', 'joy_x', 'suprise_x', 'sadness_x', 'disgust_x',\n",
    "#        'anticipation_x', 'fear_x', 'trust_x', 'tb_polarity_x',\n",
    "#        'tb_subjectivity_x', 'hiv4_positive_x', 'hiv4_negative_x',\n",
    "#        'hiv4_polarity_x', 'hiv4_subjectivity_x', 'lm_positive_y']]"
   ]
  },
  {
   "cell_type": "code",
   "execution_count": 136,
   "metadata": {
    "ExecuteTime": {
     "end_time": "2019-05-01T01:40:02.848576Z",
     "start_time": "2019-05-01T01:40:02.837560Z"
    }
   },
   "outputs": [],
   "source": [
    "# train_twDf= train[[ 'lm_negative_y', 'lm_polarity_y',\n",
    "#        'lm_subjectivity_y', 'actvie_y', 'passive_y', 'weak_y', 'strong_y',\n",
    "#        'anger_y', 'joy_y', 'suprise_y', 'sadness_y', 'disgust_y',\n",
    "#        'anticipation_y', 'fear_y', 'trust_y', 'tb_polarity_y',\n",
    "#        'tb_subjectivity_y', 'hiv4_positive_y', 'hiv4_negative_y', \n",
    "#        'retweet_count', 'hiv4_polarity_y', 'hiv4_subjectivity_y']]\n",
    "# test_twDf= test[[ 'lm_negative_y', 'lm_polarity_y',\n",
    "#        'lm_subjectivity_y', 'actvie_y', 'passive_y', 'weak_y', 'strong_y',\n",
    "#        'anger_y', 'joy_y', 'suprise_y', 'sadness_y', 'disgust_y',\n",
    "#        'anticipation_y', 'fear_y', 'trust_y', 'tb_polarity_y',\n",
    "#        'tb_subjectivity_y', 'hiv4_positive_y', 'hiv4_negative_y', \n",
    "#        'retweet_count', 'hiv4_polarity_y', 'hiv4_subjectivity_y']]"
   ]
  },
  {
   "cell_type": "code",
   "execution_count": 137,
   "metadata": {
    "ExecuteTime": {
     "end_time": "2019-05-01T01:40:02.872607Z",
     "start_time": "2019-05-01T01:40:02.850525Z"
    }
   },
   "outputs": [],
   "source": [
    "# col_names =  ['news', 'tweeter', 'financialIndicator','target']\n",
    "# YHat_test  = pd.DataFrame(columns = col_names)\n",
    "# YHat_train = pd.DataFrame(columns = col_names)\n",
    "# YHat_test['target'] = test_y\n",
    "# YHat_train['target'] = train_y"
   ]
  },
  {
   "cell_type": "code",
   "execution_count": 138,
   "metadata": {
    "ExecuteTime": {
     "end_time": "2019-05-01T01:40:02.881576Z",
     "start_time": "2019-05-01T01:40:02.874597Z"
    }
   },
   "outputs": [],
   "source": [
    "# col_names =  ['news', 'tweeter', 'financialIndicator','target']\n",
    "# YHat_rf_test  = pd.DataFrame(columns = col_names)\n",
    "# YHat_rf_train = pd.DataFrame(columns = col_names)\n",
    "# YHat_rf_test['target'] = test_y\n",
    "# YHat_rf_train['target'] = train_y"
   ]
  },
  {
   "cell_type": "code",
   "execution_count": 139,
   "metadata": {
    "ExecuteTime": {
     "end_time": "2019-05-01T01:40:02.889554Z",
     "start_time": "2019-05-01T01:40:02.883573Z"
    }
   },
   "outputs": [],
   "source": [
    "# YHat_test['news'] = cCMatrixAccXGB(train_nwDf , train_y, test_nwDf,test_y)\n",
    "# YHat_train['news'] = cCMatrixAccXGB(train_nwDf , train_y, train_nwDf,train_y)"
   ]
  },
  {
   "cell_type": "code",
   "execution_count": 140,
   "metadata": {
    "ExecuteTime": {
     "end_time": "2019-05-01T01:40:02.915015Z",
     "start_time": "2019-05-01T01:40:02.891549Z"
    }
   },
   "outputs": [],
   "source": [
    "# YHat_rf_train['news'], YHat_rf_test['news'] = cCMatrixAccRF(train_nwDf , train_y, test_nwDf,test_y, list(train.columns))"
   ]
  },
  {
   "cell_type": "code",
   "execution_count": 141,
   "metadata": {
    "ExecuteTime": {
     "end_time": "2019-05-01T01:40:02.928744Z",
     "start_time": "2019-05-01T01:40:02.915779Z"
    }
   },
   "outputs": [],
   "source": [
    "# YHat_test['tweeter'] = cCMatrixAccXGB(train_twDf , train_y, test_twDf,test_y)\n",
    "# YHat_train['tweeter'] = cCMatrixAccXGB(train_twDf , train_y, train_twDf,train_y)"
   ]
  },
  {
   "cell_type": "code",
   "execution_count": 142,
   "metadata": {
    "ExecuteTime": {
     "end_time": "2019-05-01T01:40:02.935726Z",
     "start_time": "2019-05-01T01:40:02.929742Z"
    }
   },
   "outputs": [],
   "source": [
    "# YHat_test['tweeter'] = cCMatrixAccXGB(train_twDf , train_y, test_twDf,test_y)\n",
    "# YHat_train['tweeter'] = cCMatrixAccXGB(train_twDf , train_y, train_twDf,train_y)"
   ]
  },
  {
   "cell_type": "code",
   "execution_count": 143,
   "metadata": {
    "ExecuteTime": {
     "end_time": "2019-05-01T01:40:02.943705Z",
     "start_time": "2019-05-01T01:40:02.937730Z"
    }
   },
   "outputs": [],
   "source": [
    "# YHat_test['financialIndicator'] = cCMatrixAccXGB(train_fiDf , train_y, test_fiDf,test_y)\n",
    "# YHat_train['financialIndicator'] = cCMatrixAccXGB(train_fiDf , train_y, train_fiDf,train_y)"
   ]
  },
  {
   "cell_type": "code",
   "execution_count": 144,
   "metadata": {
    "ExecuteTime": {
     "end_time": "2019-05-01T01:40:02.967863Z",
     "start_time": "2019-05-01T01:40:02.945700Z"
    }
   },
   "outputs": [],
   "source": [
    "# YHat_test['financialIndicator'] = cCMatrixAccXGB(train_fiDf , train_y, test_fiDf,test_y)\n",
    "# YHat_train['financialIndicator'] = cCMatrixAccXGB(train_fiDf , train_y, train_fiDf,train_y)"
   ]
  },
  {
   "cell_type": "code",
   "execution_count": 145,
   "metadata": {
    "ExecuteTime": {
     "end_time": "2019-05-01T01:40:02.980840Z",
     "start_time": "2019-05-01T01:40:02.970612Z"
    }
   },
   "outputs": [],
   "source": [
    "# YHat_train.shape"
   ]
  },
  {
   "cell_type": "code",
   "execution_count": 146,
   "metadata": {
    "ExecuteTime": {
     "end_time": "2019-05-01T01:40:02.987867Z",
     "start_time": "2019-05-01T01:40:02.981877Z"
    }
   },
   "outputs": [],
   "source": [
    "# YHat_test.shape"
   ]
  },
  {
   "cell_type": "code",
   "execution_count": 147,
   "metadata": {
    "ExecuteTime": {
     "end_time": "2019-05-01T01:40:03.007741Z",
     "start_time": "2019-05-01T01:40:02.988820Z"
    }
   },
   "outputs": [],
   "source": [
    "# temp = cCMatrixAccXGB(YHat_train.drop('target',axis =1) , YHat_train['target'],YHat_test.drop('target',axis =1) , YHat_test['target'])"
   ]
  },
  {
   "cell_type": "code",
   "execution_count": null,
   "metadata": {},
   "outputs": [],
   "source": []
  }
 ],
 "metadata": {
  "hide_input": false,
  "kernelspec": {
   "display_name": "Python 3",
   "language": "python",
   "name": "python3"
  },
  "language_info": {
   "codemirror_mode": {
    "name": "ipython",
    "version": 3
   },
   "file_extension": ".py",
   "mimetype": "text/x-python",
   "name": "python",
   "nbconvert_exporter": "python",
   "pygments_lexer": "ipython3",
   "version": "3.6.8"
  },
  "toc": {
   "base_numbering": 1,
   "nav_menu": {},
   "number_sections": true,
   "sideBar": true,
   "skip_h1_title": false,
   "title_cell": "Table of Contents",
   "title_sidebar": "Contents",
   "toc_cell": false,
   "toc_position": {
    "height": "calc(100% - 180px)",
    "left": "10px",
    "top": "150px",
    "width": "330.4px"
   },
   "toc_section_display": true,
   "toc_window_display": true
  }
 },
 "nbformat": 4,
 "nbformat_minor": 2
}
