{
 "cells": [
  {
   "cell_type": "markdown",
   "metadata": {},
   "source": [
    "# Formulation of News Dataset"
   ]
  },
  {
   "cell_type": "code",
   "execution_count": 1,
   "metadata": {
    "ExecuteTime": {
     "end_time": "2019-05-03T10:33:10.687178Z",
     "start_time": "2019-05-03T10:33:05.987391Z"
    }
   },
   "outputs": [],
   "source": [
    "import pandas as pd\n",
    "import numpy as np\n",
    "import missingno as mn\n",
    "\n",
    "import matplotlib.pyplot as plt\n",
    "import seaborn as sns\n",
    "from textblob import TextBlob\n",
    "\n",
    "import glob\n",
    "import os\n",
    "\n",
    "import abc\n",
    "import numpy as np\n",
    "\n",
    "import pandas as pd\n",
    "import abc\n",
    "import re\n",
    "import nltk\n",
    "from sklearn import model_selection \n",
    "from dateutil.parser import parse\n",
    "from matplotlib import pyplot\n",
    "import datetime\n",
    "\n",
    "%matplotlib inline"
   ]
  },
  {
   "cell_type": "code",
   "execution_count": 2,
   "metadata": {
    "ExecuteTime": {
     "end_time": "2019-05-03T10:33:10.701103Z",
     "start_time": "2019-05-03T10:33:10.689132Z"
    }
   },
   "outputs": [],
   "source": [
    "def createComparableDataset(_df):\n",
    "    _df.date = pd.to_datetime(_df.date)\n",
    "    _df = _df[_df['date'] >= pd.to_datetime('2015/05/04')]\n",
    "    _df = _df[_df['date'] <= pd.to_datetime('2019/03/28')]\n",
    "    return _df"
   ]
  },
  {
   "cell_type": "code",
   "execution_count": 3,
   "metadata": {
    "ExecuteTime": {
     "end_time": "2019-05-03T10:33:10.715097Z",
     "start_time": "2019-05-03T10:33:10.703097Z"
    }
   },
   "outputs": [],
   "source": [
    "def getFeaturesAndTargetRemoveDate(_df):\n",
    "    try:\n",
    "        train_y = _df['target']\n",
    "        train = _df.drop(['date','target'],axis =1)\n",
    "    except:\n",
    "        train_y = _df['Target']\n",
    "        train = _df.drop(['date','Target'],axis =1)        \n",
    "    return train, train_y"
   ]
  },
  {
   "cell_type": "code",
   "execution_count": 4,
   "metadata": {
    "ExecuteTime": {
     "end_time": "2019-05-03T10:33:10.733016Z",
     "start_time": "2019-05-03T10:33:10.717058Z"
    }
   },
   "outputs": [],
   "source": [
    "def prepareDataSet(_df):\n",
    "    _df.date = pd.to_datetime(_df.date)\n",
    "    train = _df[_df['date'] < pd.to_datetime('2019/01/01')]\n",
    "    test = _df[_df['date'] >= pd.to_datetime('2019/01/01')]\n",
    "    \n",
    "    train, train_y = getFeaturesAndTargetRemoveDate(train)\n",
    "    test, test_y = getFeaturesAndTargetRemoveDate(test)\n",
    "    return train, train_y,test, test_y"
   ]
  },
  {
   "cell_type": "code",
   "execution_count": 5,
   "metadata": {
    "ExecuteTime": {
     "end_time": "2019-05-03T10:33:11.053105Z",
     "start_time": "2019-05-03T10:33:10.734014Z"
    }
   },
   "outputs": [],
   "source": [
    "pathOfCwd = os.getcwd()\n",
    "pathOfCwd\n",
    "NewsFolder = r'\\\\MicrosoftNews\\\\' # use your path\n",
    "path = pathOfCwd +NewsFolder\n",
    "all_files = glob.glob(path + \"/*.csv\")\n",
    "\n",
    "li = []\n",
    "\n",
    "for filename in all_files:\n",
    "    df = pd.read_csv(filename, index_col=None, header=0)\n",
    "    li.append(df)\n",
    "\n",
    "frame = pd.concat(li, axis=0, ignore_index=True)"
   ]
  },
  {
   "cell_type": "code",
   "execution_count": 6,
   "metadata": {
    "ExecuteTime": {
     "end_time": "2019-05-03T10:33:11.065886Z",
     "start_time": "2019-05-03T10:33:11.054916Z"
    }
   },
   "outputs": [],
   "source": [
    "frame.dropna(inplace=True, axis='rows')"
   ]
  },
  {
   "cell_type": "code",
   "execution_count": 7,
   "metadata": {
    "ExecuteTime": {
     "end_time": "2019-05-03T10:33:11.071873Z",
     "start_time": "2019-05-03T10:33:11.066883Z"
    }
   },
   "outputs": [],
   "source": [
    "df = frame.copy()"
   ]
  },
  {
   "cell_type": "code",
   "execution_count": 8,
   "metadata": {
    "ExecuteTime": {
     "end_time": "2019-05-03T10:33:11.302543Z",
     "start_time": "2019-05-03T10:33:11.074865Z"
    }
   },
   "outputs": [],
   "source": [
    "df['HNA_combine'] = df['Headline'].map(str) + ' ' + df['NewsAbstract'].map(str) "
   ]
  },
  {
   "cell_type": "code",
   "execution_count": 9,
   "metadata": {
    "ExecuteTime": {
     "end_time": "2019-05-03T10:33:11.312556Z",
     "start_time": "2019-05-03T10:33:11.304541Z"
    }
   },
   "outputs": [],
   "source": [
    "df.drop(['Headline','NewsAbstract'], axis=1, inplace= True)"
   ]
  },
  {
   "cell_type": "code",
   "execution_count": 10,
   "metadata": {
    "ExecuteTime": {
     "end_time": "2019-05-03T10:33:11.401727Z",
     "start_time": "2019-05-03T10:33:11.313517Z"
    }
   },
   "outputs": [],
   "source": [
    "dfz = df.groupby(['Date']).agg({'HNA_combine':'-'.join}).reset_index()"
   ]
  },
  {
   "cell_type": "code",
   "execution_count": 11,
   "metadata": {
    "ExecuteTime": {
     "end_time": "2019-05-03T10:33:11.786499Z",
     "start_time": "2019-05-03T10:33:11.403523Z"
    },
    "scrolled": true
   },
   "outputs": [
    {
     "data": {
      "text/html": [
       "<div>\n",
       "<style scoped>\n",
       "    .dataframe tbody tr th:only-of-type {\n",
       "        vertical-align: middle;\n",
       "    }\n",
       "\n",
       "    .dataframe tbody tr th {\n",
       "        vertical-align: top;\n",
       "    }\n",
       "\n",
       "    .dataframe thead th {\n",
       "        text-align: right;\n",
       "    }\n",
       "</style>\n",
       "<table border=\"1\" class=\"dataframe\">\n",
       "  <thead>\n",
       "    <tr style=\"text-align: right;\">\n",
       "      <th></th>\n",
       "      <th>date</th>\n",
       "      <th>HNA_combine</th>\n",
       "    </tr>\n",
       "  </thead>\n",
       "  <tbody>\n",
       "    <tr>\n",
       "      <th>0</th>\n",
       "      <td>2005/04/01</td>\n",
       "      <td>On Asia: Why big is not really better ...share...</td>\n",
       "    </tr>\n",
       "    <tr>\n",
       "      <th>1</th>\n",
       "      <td>2004/12/01</td>\n",
       "      <td>Lex: Sage ...strong growth and margins compara...</td>\n",
       "    </tr>\n",
       "  </tbody>\n",
       "</table>\n",
       "</div>"
      ],
      "text/plain": [
       "         date                                        HNA_combine\n",
       "0  2005/04/01  On Asia: Why big is not really better ...share...\n",
       "1  2004/12/01  Lex: Sage ...strong growth and margins compara..."
      ]
     },
     "execution_count": 11,
     "metadata": {},
     "output_type": "execute_result"
    }
   ],
   "source": [
    "dfz.rename(columns={'Date': 'date'}, inplace=True)\n",
    "dfz['date'] = dfz['date'].apply(\n",
    "    lambda x: (parse(x).strftime('%Y/%m/%d')))\n",
    "dfz.head(2)"
   ]
  },
  {
   "cell_type": "markdown",
   "metadata": {},
   "source": [
    "# Appeding Target"
   ]
  },
  {
   "cell_type": "code",
   "execution_count": 12,
   "metadata": {
    "ExecuteTime": {
     "end_time": "2019-05-03T10:33:11.843348Z",
     "start_time": "2019-05-03T10:33:11.788493Z"
    }
   },
   "outputs": [],
   "source": [
    "targetDF_ = pd.read_csv('FIwithTargetwithFTT.csv')"
   ]
  },
  {
   "cell_type": "code",
   "execution_count": 13,
   "metadata": {
    "ExecuteTime": {
     "end_time": "2019-05-03T10:33:11.853322Z",
     "start_time": "2019-05-03T10:33:11.844346Z"
    }
   },
   "outputs": [],
   "source": [
    "targtWithDateForJoin =pd.DataFrame()\n",
    "targtWithDateForJoin['date'] = targetDF_.date.tolist()\n",
    "targtWithDateForJoin['target'] = targetDF_.Target.tolist()"
   ]
  },
  {
   "cell_type": "code",
   "execution_count": 14,
   "metadata": {
    "ExecuteTime": {
     "end_time": "2019-05-03T10:33:11.867285Z",
     "start_time": "2019-05-03T10:33:11.855317Z"
    }
   },
   "outputs": [],
   "source": [
    "dfz.date = pd.to_datetime(dfz.date)\n",
    "targtWithDateForJoin.date = pd.to_datetime(targtWithDateForJoin.date)"
   ]
  },
  {
   "cell_type": "code",
   "execution_count": 15,
   "metadata": {
    "ExecuteTime": {
     "end_time": "2019-05-03T10:33:11.884402Z",
     "start_time": "2019-05-03T10:33:11.869277Z"
    }
   },
   "outputs": [],
   "source": [
    "result =pd.merge( targtWithDateForJoin,dfz, how='right', on='date')"
   ]
  },
  {
   "cell_type": "code",
   "execution_count": 16,
   "metadata": {
    "ExecuteTime": {
     "end_time": "2019-05-03T10:33:12.276372Z",
     "start_time": "2019-05-03T10:33:11.885234Z"
    }
   },
   "outputs": [],
   "source": [
    "result['date'] = result['date'].apply(\n",
    "    lambda x: (parse(str(x)).strftime('%Y/%m/%d')))\n",
    "result.sort_values(by='date',inplace=True) "
   ]
  },
  {
   "cell_type": "code",
   "execution_count": 17,
   "metadata": {
    "ExecuteTime": {
     "end_time": "2019-05-03T10:33:12.284202Z",
     "start_time": "2019-05-03T10:33:12.277187Z"
    }
   },
   "outputs": [],
   "source": [
    "result = result.ffill()\n",
    "result.fillna(0,inplace=True)"
   ]
  },
  {
   "cell_type": "code",
   "execution_count": 18,
   "metadata": {
    "ExecuteTime": {
     "end_time": "2019-05-03T10:33:12.294176Z",
     "start_time": "2019-05-03T10:33:12.286181Z"
    }
   },
   "outputs": [
    {
     "data": {
      "text/plain": [
       "(4020, 3)"
      ]
     },
     "execution_count": 18,
     "metadata": {},
     "output_type": "execute_result"
    }
   ],
   "source": [
    "result.shape"
   ]
  },
  {
   "cell_type": "code",
   "execution_count": 19,
   "metadata": {
    "ExecuteTime": {
     "end_time": "2019-05-03T10:33:12.306145Z",
     "start_time": "2019-05-03T10:33:12.296163Z"
    }
   },
   "outputs": [
    {
     "data": {
      "text/html": [
       "<div>\n",
       "<style scoped>\n",
       "    .dataframe tbody tr th:only-of-type {\n",
       "        vertical-align: middle;\n",
       "    }\n",
       "\n",
       "    .dataframe tbody tr th {\n",
       "        vertical-align: top;\n",
       "    }\n",
       "\n",
       "    .dataframe thead th {\n",
       "        text-align: right;\n",
       "    }\n",
       "</style>\n",
       "<table border=\"1\" class=\"dataframe\">\n",
       "  <thead>\n",
       "    <tr style=\"text-align: right;\">\n",
       "      <th></th>\n",
       "      <th>date</th>\n",
       "      <th>target</th>\n",
       "      <th>HNA_combine</th>\n",
       "    </tr>\n",
       "  </thead>\n",
       "  <tbody>\n",
       "    <tr>\n",
       "      <th>0</th>\n",
       "      <td>2004/07/21</td>\n",
       "      <td>1.0</td>\n",
       "      <td>Experts call for ‘circles of trust’ ...Organis...</td>\n",
       "    </tr>\n",
       "    <tr>\n",
       "      <th>1</th>\n",
       "      <td>2004/08/02</td>\n",
       "      <td>0.0</td>\n",
       "      <td>Putting gender on the agenda ...compelling pro...</td>\n",
       "    </tr>\n",
       "    <tr>\n",
       "      <th>2</th>\n",
       "      <td>2004/08/03</td>\n",
       "      <td>0.0</td>\n",
       "      <td>Look out for the tunnel vision trap ...powerfu...</td>\n",
       "    </tr>\n",
       "    <tr>\n",
       "      <th>3</th>\n",
       "      <td>2004/08/04</td>\n",
       "      <td>0.0</td>\n",
       "      <td>Kerry displays business credentials in swipe a...</td>\n",
       "    </tr>\n",
       "  </tbody>\n",
       "</table>\n",
       "</div>"
      ],
      "text/plain": [
       "         date  target                                        HNA_combine\n",
       "0  2004/07/21     1.0  Experts call for ‘circles of trust’ ...Organis...\n",
       "1  2004/08/02     0.0  Putting gender on the agenda ...compelling pro...\n",
       "2  2004/08/03     0.0  Look out for the tunnel vision trap ...powerfu...\n",
       "3  2004/08/04     0.0  Kerry displays business credentials in swipe a..."
      ]
     },
     "execution_count": 19,
     "metadata": {},
     "output_type": "execute_result"
    }
   ],
   "source": [
    "result.head(4)"
   ]
  },
  {
   "cell_type": "code",
   "execution_count": 20,
   "metadata": {
    "ExecuteTime": {
     "end_time": "2019-05-03T10:33:12.325059Z",
     "start_time": "2019-05-03T10:33:12.308105Z"
    }
   },
   "outputs": [],
   "source": [
    "result = createComparableDataset(result)"
   ]
  },
  {
   "cell_type": "code",
   "execution_count": 21,
   "metadata": {
    "ExecuteTime": {
     "end_time": "2019-05-03T10:33:12.336071Z",
     "start_time": "2019-05-03T10:33:12.327055Z"
    }
   },
   "outputs": [
    {
     "data": {
      "text/plain": [
       "(1027, 3)"
      ]
     },
     "execution_count": 21,
     "metadata": {},
     "output_type": "execute_result"
    }
   ],
   "source": [
    "result.shape"
   ]
  },
  {
   "cell_type": "code",
   "execution_count": 22,
   "metadata": {
    "ExecuteTime": {
     "end_time": "2019-05-03T10:33:12.348993Z",
     "start_time": "2019-05-03T10:33:12.337027Z"
    }
   },
   "outputs": [
    {
     "data": {
      "text/html": [
       "<div>\n",
       "<style scoped>\n",
       "    .dataframe tbody tr th:only-of-type {\n",
       "        vertical-align: middle;\n",
       "    }\n",
       "\n",
       "    .dataframe tbody tr th {\n",
       "        vertical-align: top;\n",
       "    }\n",
       "\n",
       "    .dataframe thead th {\n",
       "        text-align: right;\n",
       "    }\n",
       "</style>\n",
       "<table border=\"1\" class=\"dataframe\">\n",
       "  <thead>\n",
       "    <tr style=\"text-align: right;\">\n",
       "      <th></th>\n",
       "      <th>date</th>\n",
       "      <th>target</th>\n",
       "      <th>HNA_combine</th>\n",
       "    </tr>\n",
       "  </thead>\n",
       "  <tbody>\n",
       "    <tr>\n",
       "      <th>2442</th>\n",
       "      <td>2015-05-04</td>\n",
       "      <td>0.0</td>\n",
       "      <td>Cisco Systems: re-routing ...Networks and Glob...</td>\n",
       "    </tr>\n",
       "    <tr>\n",
       "      <th>2443</th>\n",
       "      <td>2015-05-05</td>\n",
       "      <td>0.0</td>\n",
       "      <td>Time to end Europe’s dependence on Russian ene...</td>\n",
       "    </tr>\n",
       "    <tr>\n",
       "      <th>2444</th>\n",
       "      <td>2015-05-06</td>\n",
       "      <td>0.0</td>\n",
       "      <td>Gates pledges $75m to probe child deaths ...Mi...</td>\n",
       "    </tr>\n",
       "    <tr>\n",
       "      <th>2445</th>\n",
       "      <td>2015-05-07</td>\n",
       "      <td>0.0</td>\n",
       "      <td>Fintech finds new friends ...technologists awa...</td>\n",
       "    </tr>\n",
       "  </tbody>\n",
       "</table>\n",
       "</div>"
      ],
      "text/plain": [
       "           date  target                                        HNA_combine\n",
       "2442 2015-05-04     0.0  Cisco Systems: re-routing ...Networks and Glob...\n",
       "2443 2015-05-05     0.0  Time to end Europe’s dependence on Russian ene...\n",
       "2444 2015-05-06     0.0  Gates pledges $75m to probe child deaths ...Mi...\n",
       "2445 2015-05-07     0.0  Fintech finds new friends ...technologists awa..."
      ]
     },
     "execution_count": 22,
     "metadata": {},
     "output_type": "execute_result"
    }
   ],
   "source": [
    "result.head(4)"
   ]
  },
  {
   "cell_type": "code",
   "execution_count": 23,
   "metadata": {
    "ExecuteTime": {
     "end_time": "2019-05-03T10:33:12.369938Z",
     "start_time": "2019-05-03T10:33:12.351987Z"
    }
   },
   "outputs": [
    {
     "name": "stdout",
     "output_type": "stream",
     "text": [
      "train (961, 1) test (66, 1) train_y 961 test_y 66\n"
     ]
    }
   ],
   "source": [
    "train, train_y,test, test_y = prepareDataSet(result)\n",
    "print('train',train.shape,'test',test.shape,'train_y',len(train_y),'test_y',len(test_y))"
   ]
  },
  {
   "cell_type": "code",
   "execution_count": 24,
   "metadata": {
    "ExecuteTime": {
     "end_time": "2019-05-03T10:33:12.381940Z",
     "start_time": "2019-05-03T10:33:12.371932Z"
    }
   },
   "outputs": [
    {
     "data": {
      "text/html": [
       "<div>\n",
       "<style scoped>\n",
       "    .dataframe tbody tr th:only-of-type {\n",
       "        vertical-align: middle;\n",
       "    }\n",
       "\n",
       "    .dataframe tbody tr th {\n",
       "        vertical-align: top;\n",
       "    }\n",
       "\n",
       "    .dataframe thead th {\n",
       "        text-align: right;\n",
       "    }\n",
       "</style>\n",
       "<table border=\"1\" class=\"dataframe\">\n",
       "  <thead>\n",
       "    <tr style=\"text-align: right;\">\n",
       "      <th></th>\n",
       "      <th>HNA_combine</th>\n",
       "    </tr>\n",
       "  </thead>\n",
       "  <tbody>\n",
       "    <tr>\n",
       "      <th>2442</th>\n",
       "      <td>Cisco Systems: re-routing ...Networks and Glob...</td>\n",
       "    </tr>\n",
       "    <tr>\n",
       "      <th>2443</th>\n",
       "      <td>Time to end Europe’s dependence on Russian ene...</td>\n",
       "    </tr>\n",
       "  </tbody>\n",
       "</table>\n",
       "</div>"
      ],
      "text/plain": [
       "                                            HNA_combine\n",
       "2442  Cisco Systems: re-routing ...Networks and Glob...\n",
       "2443  Time to end Europe’s dependence on Russian ene..."
      ]
     },
     "execution_count": 24,
     "metadata": {},
     "output_type": "execute_result"
    }
   ],
   "source": [
    "train.head(2)"
   ]
  },
  {
   "cell_type": "markdown",
   "metadata": {
    "ExecuteTime": {
     "end_time": "2019-05-03T06:23:37.556067Z",
     "start_time": "2019-05-03T06:23:37.548068Z"
    }
   },
   "source": [
    "# UlmFit"
   ]
  },
  {
   "cell_type": "code",
   "execution_count": 25,
   "metadata": {
    "ExecuteTime": {
     "end_time": "2019-05-03T10:33:17.666083Z",
     "start_time": "2019-05-03T10:33:15.423704Z"
    }
   },
   "outputs": [],
   "source": [
    "from fastai.text import *\n",
    "import html"
   ]
  },
  {
   "cell_type": "code",
   "execution_count": 26,
   "metadata": {
    "ExecuteTime": {
     "end_time": "2019-05-03T10:33:17.671960Z",
     "start_time": "2019-05-03T10:33:17.667969Z"
    }
   },
   "outputs": [],
   "source": [
    "trn_texts = train.HNA_combine.values\n",
    "trn_labels = train_y.to_numpy()\n",
    "val_texts = test.HNA_combine.values\n",
    "val_labels = test_y.to_numpy()"
   ]
  },
  {
   "cell_type": "code",
   "execution_count": 27,
   "metadata": {
    "ExecuteTime": {
     "end_time": "2019-05-03T10:33:17.704082Z",
     "start_time": "2019-05-03T10:33:17.673919Z"
    }
   },
   "outputs": [],
   "source": [
    "col_names = ['labels','text']\n",
    "df_trn = pd.DataFrame({'text':trn_texts, 'labels':trn_labels}, columns=col_names)\n",
    "df_val = pd.DataFrame({'text':val_texts, 'labels':val_labels}, columns=col_names)"
   ]
  },
  {
   "cell_type": "code",
   "execution_count": 31,
   "metadata": {
    "ExecuteTime": {
     "end_time": "2019-05-03T10:36:25.015915Z",
     "start_time": "2019-05-03T10:36:24.966011Z"
    }
   },
   "outputs": [],
   "source": [
    "df_trn.to_csv('training.csv', index =None)\n",
    "df_val.to_csv('testing.csv', index =None)"
   ]
  },
  {
   "cell_type": "code",
   "execution_count": 28,
   "metadata": {
    "ExecuteTime": {
     "end_time": "2019-05-03T10:33:17.716015Z",
     "start_time": "2019-05-03T10:33:17.706043Z"
    }
   },
   "outputs": [
    {
     "data": {
      "text/plain": [
       "1.0    526\n",
       "0.0    435\n",
       "Name: labels, dtype: int64"
      ]
     },
     "execution_count": 28,
     "metadata": {},
     "output_type": "execute_result"
    }
   ],
   "source": [
    "df_trn['labels'].value_counts()"
   ]
  },
  {
   "cell_type": "code",
   "execution_count": 29,
   "metadata": {
    "ExecuteTime": {
     "end_time": "2019-05-03T10:33:17.960124Z",
     "start_time": "2019-05-03T10:33:17.951147Z"
    }
   },
   "outputs": [
    {
     "data": {
      "text/plain": [
       "1.0    37\n",
       "0.0    29\n",
       "Name: labels, dtype: int64"
      ]
     },
     "execution_count": 29,
     "metadata": {},
     "output_type": "execute_result"
    }
   ],
   "source": [
    "df_val['labels'].value_counts()"
   ]
  },
  {
   "cell_type": "code",
   "execution_count": 30,
   "metadata": {
    "ExecuteTime": {
     "end_time": "2019-05-03T10:33:38.447147Z",
     "start_time": "2019-05-03T10:33:18.476582Z"
    }
   },
   "outputs": [],
   "source": [
    "# Language model data\n",
    "data_lm = TextLMDataBunch.from_df('./', train_df=df_trn, valid_df=df_val)"
   ]
  },
  {
   "cell_type": "code",
   "execution_count": 36,
   "metadata": {
    "ExecuteTime": {
     "end_time": "2019-05-03T10:40:34.683578Z",
     "start_time": "2019-05-03T10:40:34.645672Z"
    }
   },
   "outputs": [],
   "source": [
    "# save and load\n",
    "data_lm.save('tmp_lm')\n",
    "# data_lm = TextClasDataBunch.load('./', 'tmp_lm')"
   ]
  },
  {
   "cell_type": "code",
   "execution_count": 37,
   "metadata": {
    "ExecuteTime": {
     "end_time": "2019-05-03T10:41:06.135107Z",
     "start_time": "2019-05-03T10:40:45.840171Z"
    }
   },
   "outputs": [],
   "source": [
    "# Classifier model data\n",
    "data_clas = TextClasDataBunch.from_df('./', train_df=df_trn, valid_df=df_val, vocab=data_lm.train_ds.vocab, bs=32)"
   ]
  },
  {
   "cell_type": "code",
   "execution_count": 38,
   "metadata": {
    "ExecuteTime": {
     "end_time": "2019-05-03T10:41:53.750884Z",
     "start_time": "2019-05-03T10:41:53.195406Z"
    }
   },
   "outputs": [],
   "source": [
    "learn = language_model_learner(data_lm, arch=AWD_LSTM, pretrained=True, drop_mult=0.5)"
   ]
  },
  {
   "cell_type": "code",
   "execution_count": 39,
   "metadata": {
    "ExecuteTime": {
     "end_time": "2019-05-03T10:50:25.227531Z",
     "start_time": "2019-05-03T10:41:54.719372Z"
    }
   },
   "outputs": [
    {
     "data": {
      "text/html": [],
      "text/plain": [
       "<IPython.core.display.HTML object>"
      ]
     },
     "metadata": {},
     "output_type": "display_data"
    },
    {
     "name": "stdout",
     "output_type": "stream",
     "text": [
      "LR Finder is complete, type {learner_name}.recorder.plot() to see the graph.\n"
     ]
    }
   ],
   "source": [
    "learn.lr_find()"
   ]
  },
  {
   "cell_type": "code",
   "execution_count": 40,
   "metadata": {
    "ExecuteTime": {
     "end_time": "2019-05-03T10:50:25.752025Z",
     "start_time": "2019-05-03T10:50:25.229526Z"
    }
   },
   "outputs": [
    {
     "data": {
      "image/png": "[encoded data removed]",
      "text/plain": [
       "<Figure size 432x288 with 1 Axes>"
      ]
     },
     "metadata": {
      "needs_background": "light"
     },
     "output_type": "display_data"
    }
   ],
   "source": [
    "learn.recorder.plot()"
   ]
  },
  {
   "cell_type": "code",
   "execution_count": 41,
   "metadata": {
    "ExecuteTime": {
     "end_time": "2019-05-03T10:53:08.777337Z",
     "start_time": "2019-05-03T10:50:25.754056Z"
    }
   },
   "outputs": [
    {
     "data": {
      "text/html": [
       "<table border=\"1\" class=\"dataframe\">\n",
       "  <thead>\n",
       "    <tr style=\"text-align: left;\">\n",
       "      <th>epoch</th>\n",
       "      <th>train_loss</th>\n",
       "      <th>valid_loss</th>\n",
       "      <th>accuracy</th>\n",
       "      <th>time</th>\n",
       "    </tr>\n",
       "  </thead>\n",
       "  <tbody>\n",
       "    <tr>\n",
       "      <td>0</td>\n",
       "      <td>4.910716</td>\n",
       "      <td>4.318453</td>\n",
       "      <td>0.266183</td>\n",
       "      <td>02:42</td>\n",
       "    </tr>\n",
       "  </tbody>\n",
       "</table>"
      ],
      "text/plain": [
       "<IPython.core.display.HTML object>"
      ]
     },
     "metadata": {},
     "output_type": "display_data"
    }
   ],
   "source": [
    "learn.fit_one_cycle(1, 1e-2)"
   ]
  },
  {
   "cell_type": "code",
   "execution_count": 42,
   "metadata": {
    "ExecuteTime": {
     "end_time": "2019-05-03T10:58:39.174543Z",
     "start_time": "2019-05-03T10:53:08.780329Z"
    }
   },
   "outputs": [
    {
     "data": {
      "text/html": [
       "<table border=\"1\" class=\"dataframe\">\n",
       "  <thead>\n",
       "    <tr style=\"text-align: left;\">\n",
       "      <th>epoch</th>\n",
       "      <th>train_loss</th>\n",
       "      <th>valid_loss</th>\n",
       "      <th>accuracy</th>\n",
       "      <th>time</th>\n",
       "    </tr>\n",
       "  </thead>\n",
       "  <tbody>\n",
       "    <tr>\n",
       "      <td>0</td>\n",
       "      <td>4.330081</td>\n",
       "      <td>4.035757</td>\n",
       "      <td>0.295313</td>\n",
       "      <td>05:30</td>\n",
       "    </tr>\n",
       "  </tbody>\n",
       "</table>"
      ],
      "text/plain": [
       "<IPython.core.display.HTML object>"
      ]
     },
     "metadata": {},
     "output_type": "display_data"
    }
   ],
   "source": [
    "learn.unfreeze()\n",
    "learn.fit_one_cycle(1, 1e-3)"
   ]
  },
  {
   "cell_type": "code",
   "execution_count": 43,
   "metadata": {
    "ExecuteTime": {
     "end_time": "2019-05-03T10:58:39.488703Z",
     "start_time": "2019-05-03T10:58:39.176538Z"
    }
   },
   "outputs": [
    {
     "data": {
      "text/plain": [
       "'Microsoft stock price rises as president meet every close to partially above expectations'"
      ]
     },
     "execution_count": 43,
     "metadata": {},
     "output_type": "execute_result"
    }
   ],
   "source": [
    "learn.predict(\"Microsoft stock price\", n_words=10)"
   ]
  },
  {
   "cell_type": "code",
   "execution_count": 44,
   "metadata": {
    "ExecuteTime": {
     "end_time": "2019-05-03T10:58:39.585444Z",
     "start_time": "2019-05-03T10:58:39.490699Z"
    }
   },
   "outputs": [],
   "source": [
    "learn.save_encoder('ft_enc')"
   ]
  },
  {
   "cell_type": "code",
   "execution_count": 45,
   "metadata": {
    "ExecuteTime": {
     "end_time": "2019-05-03T10:58:40.331449Z",
     "start_time": "2019-05-03T10:58:39.587440Z"
    }
   },
   "outputs": [],
   "source": [
    "classifier = text_classifier_learner(data_clas, arch=AWD_LSTM, drop_mult=0.2)\n",
    "classifier.load_encoder('ft_enc')"
   ]
  },
  {
   "cell_type": "code",
   "execution_count": 46,
   "metadata": {
    "ExecuteTime": {
     "end_time": "2019-05-03T10:59:17.486100Z",
     "start_time": "2019-05-03T10:58:40.334441Z"
    }
   },
   "outputs": [
    {
     "data": {
      "text/html": [
       "<table border=\"1\" class=\"dataframe\">\n",
       "  <thead>\n",
       "    <tr style=\"text-align: right;\">\n",
       "      <th>text</th>\n",
       "      <th>target</th>\n",
       "    </tr>\n",
       "  </thead>\n",
       "  <tbody>\n",
       "    <tr>\n",
       "      <td>xxbos xxmaj tech giants drive market to yet another record ... xxup us stocks clinched their xxunk record closing high of the year on xxmaj friday after a surge in the shares of a coterie of technology companies following stronger than expected earnings . \\n  xxmaj amazon , xxmaj microsoft ... -uber hires doj and xxmaj pepsi veteran as chief lawyer ... xxmaj francisco xxmaj bay xxmaj area native</td>\n",
       "      <td>1.0</td>\n",
       "    </tr>\n",
       "    <tr>\n",
       "      <td>xxbos xxmaj fast xxmaj asia xxmaj open : xxmaj markets stay xxunk ... cent lower and the xxmaj nasdaq xxmaj composite slipped 0.9 per cent , with xxmaj microsoft ’s $ 26.2bn deal to buy linkedin unable to boost the mood . xxmaj shares in xxmaj microsoft fell 2.6 per cent . \\n  xxmaj oil prices remained in negative ... -firstft :   xxmaj terrorism moves to xxup us</td>\n",
       "      <td>0.0</td>\n",
       "    </tr>\n",
       "    <tr>\n",
       "      <td>xxbos xxmaj euro hits xxunk low against the dollar ... central banks . \\n  xxmaj in xxmaj new xxmaj york , the xxup s&amp;p 500 recovered from an early dip to close flat at xxunk , as investors xxunk earnings reports from xxmaj microsoft and xxmaj general xxmaj electric . \\n  xxmaj wall xxmaj street stocks also ... -nintendo hints at key shift in focus with xxmaj switch</td>\n",
       "      <td>1.0</td>\n",
       "    </tr>\n",
       "    <tr>\n",
       "      <td>xxbos xxmaj fast xxmaj asia xxmaj open : xxmaj australia auto sales , s xxmaj korea money supply ... networked machines communicate with each other in older versions of xxmaj microsoft ’s xxmaj windows software . \\n  xxmaj but on xxmaj monday , the wannacry attack , which hit 200,000 computers across 150 countries , appeared to slow . xxmaj xxunk ... xxunk founder puts xxunk analysis on farm</td>\n",
       "      <td>0.0</td>\n",
       "    </tr>\n",
       "    <tr>\n",
       "      <td>xxbos xxmaj pound falls as weak xxup uk xxup gdp data damp rate rise talk ... xxmaj european peers . \\n  xxmaj wall xxmaj street put in a more cautious performance following the solid rise recorded on xxmaj thursday . \\n  xxmaj results - driven gains for xxmaj amazon and xxmaj microsoft , with shares in the former hitting a record ... -amazon gets trillion dollar valuation from</td>\n",
       "      <td>1.0</td>\n",
       "    </tr>\n",
       "  </tbody>\n",
       "</table>"
      ],
      "text/plain": [
       "<IPython.core.display.HTML object>"
      ]
     },
     "metadata": {},
     "output_type": "display_data"
    }
   ],
   "source": [
    "data_clas.show_batch()"
   ]
  },
  {
   "cell_type": "code",
   "execution_count": 47,
   "metadata": {
    "ExecuteTime": {
     "end_time": "2019-05-03T11:02:03.011377Z",
     "start_time": "2019-05-03T10:59:17.488094Z"
    }
   },
   "outputs": [
    {
     "data": {
      "text/html": [
       "<table border=\"1\" class=\"dataframe\">\n",
       "  <thead>\n",
       "    <tr style=\"text-align: left;\">\n",
       "      <th>epoch</th>\n",
       "      <th>train_loss</th>\n",
       "      <th>valid_loss</th>\n",
       "      <th>time</th>\n",
       "    </tr>\n",
       "  </thead>\n",
       "  <tbody>\n",
       "    <tr>\n",
       "      <td>0</td>\n",
       "      <td>0.408566</td>\n",
       "      <td>0.259595</td>\n",
       "      <td>02:45</td>\n",
       "    </tr>\n",
       "  </tbody>\n",
       "</table>"
      ],
      "text/plain": [
       "<IPython.core.display.HTML object>"
      ]
     },
     "metadata": {},
     "output_type": "display_data"
    }
   ],
   "source": [
    "classifier.fit_one_cycle(1, 1e-2)"
   ]
  },
  {
   "cell_type": "code",
   "execution_count": 48,
   "metadata": {
    "ExecuteTime": {
     "end_time": "2019-05-03T11:05:42.198048Z",
     "start_time": "2019-05-03T11:02:03.013371Z"
    }
   },
   "outputs": [
    {
     "data": {
      "text/html": [
       "<table border=\"1\" class=\"dataframe\">\n",
       "  <thead>\n",
       "    <tr style=\"text-align: left;\">\n",
       "      <th>epoch</th>\n",
       "      <th>train_loss</th>\n",
       "      <th>valid_loss</th>\n",
       "      <th>time</th>\n",
       "    </tr>\n",
       "  </thead>\n",
       "  <tbody>\n",
       "    <tr>\n",
       "      <td>0</td>\n",
       "      <td>0.269137</td>\n",
       "      <td>0.253210</td>\n",
       "      <td>03:39</td>\n",
       "    </tr>\n",
       "  </tbody>\n",
       "</table>"
      ],
      "text/plain": [
       "<IPython.core.display.HTML object>"
      ]
     },
     "metadata": {},
     "output_type": "display_data"
    }
   ],
   "source": [
    "classifier.freeze_to(-2)\n",
    "classifier.fit_one_cycle(1, slice(5e-3/2., 5e-3))"
   ]
  },
  {
   "cell_type": "code",
   "execution_count": 49,
   "metadata": {
    "ExecuteTime": {
     "end_time": "2019-05-03T11:16:29.292501Z",
     "start_time": "2019-05-03T11:05:42.199045Z"
    }
   },
   "outputs": [
    {
     "data": {
      "text/html": [
       "<table border=\"1\" class=\"dataframe\">\n",
       "  <thead>\n",
       "    <tr style=\"text-align: left;\">\n",
       "      <th>epoch</th>\n",
       "      <th>train_loss</th>\n",
       "      <th>valid_loss</th>\n",
       "      <th>time</th>\n",
       "    </tr>\n",
       "  </thead>\n",
       "  <tbody>\n",
       "    <tr>\n",
       "      <td>0</td>\n",
       "      <td>0.207138</td>\n",
       "      <td>0.271592</td>\n",
       "      <td>10:47</td>\n",
       "    </tr>\n",
       "  </tbody>\n",
       "</table>"
      ],
      "text/plain": [
       "<IPython.core.display.HTML object>"
      ]
     },
     "metadata": {},
     "output_type": "display_data"
    }
   ],
   "source": [
    "classifier.unfreeze()\n",
    "classifier.fit_one_cycle(1, slice(2e-3/100, 2e-3))"
   ]
  },
  {
   "cell_type": "code",
   "execution_count": 53,
   "metadata": {
    "ExecuteTime": {
     "end_time": "2019-05-03T11:18:45.786311Z",
     "start_time": "2019-05-03T11:18:45.665635Z"
    }
   },
   "outputs": [
    {
     "name": "stderr",
     "output_type": "stream",
     "text": [
      "C:\\Users\\praveen ji\\Anaconda3\\envs\\tf_gpu\\lib\\site-packages\\fastai\\torch_core.py:83: UserWarning: Tensor is int32: upgrading to int64; for better performance use int64 input\n",
      "  warn('Tensor is int32: upgrading to int64; for better performance use int64 input')\n"
     ]
    },
    {
     "data": {
      "text/plain": [
       "(FloatItem [0.772456], tensor([0.7725]), tensor([0.7725]))"
      ]
     },
     "execution_count": 53,
     "metadata": {},
     "output_type": "execute_result"
    }
   ],
   "source": [
    "classifier.predict(\"Stock Price of Microsoft will go down in coming future.\")"
   ]
  },
  {
   "cell_type": "code",
   "execution_count": 54,
   "metadata": {
    "ExecuteTime": {
     "end_time": "2019-05-03T11:21:36.646823Z",
     "start_time": "2019-05-03T11:21:36.644828Z"
    }
   },
   "outputs": [],
   "source": [
    "#confusion matrix"
   ]
  },
  {
   "cell_type": "code",
   "execution_count": null,
   "metadata": {},
   "outputs": [],
   "source": [
    "from fastai.vision import *"
   ]
  },
  {
   "cell_type": "code",
   "execution_count": 57,
   "metadata": {
    "ExecuteTime": {
     "end_time": "2019-05-03T11:25:49.900182Z",
     "start_time": "2019-05-03T11:25:09.519779Z"
    }
   },
   "outputs": [],
   "source": [
    "preds, y, losses = classifier.get_preds(with_loss= True)\n",
    "# interp =ClassificationInterpretation(data_clas,preds,y,losses)"
   ]
  },
  {
   "cell_type": "code",
   "execution_count": 90,
   "metadata": {
    "ExecuteTime": {
     "end_time": "2019-05-03T11:45:09.177632Z",
     "start_time": "2019-05-03T11:45:09.171649Z"
    }
   },
   "outputs": [],
   "source": [
    "yHat = preds.numpy()\n",
    "yHat = np.rint(np.squeeze(yHat))\n",
    "\n",
    "y = y.numpy()\n",
    "y = np.rint(np.squeeze(y))"
   ]
  },
  {
   "cell_type": "code",
   "execution_count": 71,
   "metadata": {
    "ExecuteTime": {
     "end_time": "2019-05-03T11:31:30.508417Z",
     "start_time": "2019-05-03T11:31:30.504428Z"
    }
   },
   "outputs": [],
   "source": [
    "from sklearn.metrics import confusion_matrix, accuracy_score, classification_report"
   ]
  },
  {
   "cell_type": "code",
   "execution_count": 98,
   "metadata": {
    "ExecuteTime": {
     "end_time": "2019-05-03T11:47:30.677672Z",
     "start_time": "2019-05-03T11:47:30.668696Z"
    }
   },
   "outputs": [
    {
     "name": "stdout",
     "output_type": "stream",
     "text": [
      "              precision    recall  f1-score   support\n",
      "\n",
      "         0.0       0.17      0.42      0.24        12\n",
      "         1.0       0.81      0.56      0.66        54\n",
      "\n",
      "   micro avg       0.53      0.53      0.53        66\n",
      "   macro avg       0.49      0.49      0.45        66\n",
      "weighted avg       0.69      0.53      0.58        66\n",
      "\n"
     ]
    }
   ],
   "source": [
    "print(classification_report(yHat,y))"
   ]
  },
  {
   "cell_type": "code",
   "execution_count": 113,
   "metadata": {
    "ExecuteTime": {
     "end_time": "2019-05-03T11:52:47.082655Z",
     "start_time": "2019-05-03T11:52:47.076670Z"
    }
   },
   "outputs": [
    {
     "data": {
      "text/plain": [
       "0.5303030303030303"
      ]
     },
     "execution_count": 113,
     "metadata": {},
     "output_type": "execute_result"
    }
   ],
   "source": [
    "accuracy_score(yHat,y)"
   ]
  },
  {
   "cell_type": "code",
   "execution_count": null,
   "metadata": {},
   "outputs": [],
   "source": []
  }
 ],
 "metadata": {
  "hide_input": false,
  "kernelspec": {
   "display_name": "Python 3",
   "language": "python",
   "name": "python3"
  },
  "language_info": {
   "codemirror_mode": {
    "name": "ipython",
    "version": 3
   },
   "file_extension": ".py",
   "mimetype": "text/x-python",
   "name": "python",
   "nbconvert_exporter": "python",
   "pygments_lexer": "ipython3",
   "version": "3.6.5"
  },
  "toc": {
   "base_numbering": 1,
   "nav_menu": {},
   "number_sections": true,
   "sideBar": true,
   "skip_h1_title": false,
   "title_cell": "Table of Contents",
   "title_sidebar": "Contents",
   "toc_cell": false,
   "toc_position": {},
   "toc_section_display": true,
   "toc_window_display": false
  }
 },
 "nbformat": 4,
 "nbformat_minor": 2
}
