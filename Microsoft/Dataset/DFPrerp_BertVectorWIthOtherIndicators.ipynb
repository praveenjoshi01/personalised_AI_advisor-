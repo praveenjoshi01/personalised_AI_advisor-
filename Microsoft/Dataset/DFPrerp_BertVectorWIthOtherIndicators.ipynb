{
 "cells": [
  {
   "cell_type": "code",
   "execution_count": 1,
   "metadata": {
    "ExecuteTime": {
     "end_time": "2019-04-25T23:18:54.957707Z",
     "start_time": "2019-04-25T23:18:38.873718Z"
    }
   },
   "outputs": [
    {
     "name": "stderr",
     "output_type": "stream",
     "text": [
      "C:\\Users\\praveen ji\\Anaconda3\\lib\\site-packages\\h5py\\__init__.py:36: FutureWarning: Conversion of the second argument of issubdtype from `float` to `np.floating` is deprecated. In future, it will be treated as `np.float64 == np.dtype(float).type`.\n",
      "  from ._conv import register_converters as _register_converters\n",
      "Using TensorFlow backend.\n"
     ]
    }
   ],
   "source": [
    "from sklearn.metrics import confusion_matrix, precision_score\n",
    "from sklearn.model_selection import train_test_split\n",
    "from keras.layers import Dense,Dropout\n",
    "from keras.models import Sequential\n",
    "from keras.regularizers import l2\n",
    "import matplotlib.pyplot as plt\n",
    "import pandas as pd\n",
    "import numpy as np\n",
    "import pandas as pd\n",
    "from sklearn.preprocessing import StandardScaler"
   ]
  },
  {
   "cell_type": "code",
   "execution_count": 24,
   "metadata": {
    "ExecuteTime": {
     "end_time": "2019-04-25T23:34:12.960344Z",
     "start_time": "2019-04-25T23:34:10.448344Z"
    }
   },
   "outputs": [],
   "source": [
    "featureDF_nw = pd.read_csv('nw_feature_woText_MSFT.csv')\n",
    "featureDF_tw = pd.read_csv('tw_feature_woText_MSFT.csv')\n",
    "featureFI = pd.read_csv('FIwithTargetwithFTT.csv')\n",
    "bert_featureDF_nw = pd.read_csv('nw_BertVector.csv')\n",
    "bert_featureDF_tw = pd.read_csv('tw_BertVector_MSFT.csv')"
   ]
  },
  {
   "cell_type": "code",
   "execution_count": 25,
   "metadata": {
    "ExecuteTime": {
     "end_time": "2019-04-25T23:34:12.968343Z",
     "start_time": "2019-04-25T23:34:12.960344Z"
    }
   },
   "outputs": [],
   "source": [
    "def getStartEndDateShape(dfz):\n",
    "    print('---------------------------')   \n",
    "    print('shape', dfz.shape) \n",
    "    try:\n",
    "        startDate = str(min(dfz['date']))\n",
    "        endDate = str(max(dfz['date']))\n",
    "        print('startDate', startDate)\n",
    "        print('endDate', endDate)\n",
    "\n",
    "    except:\n",
    "        print(\"No Date column\")"
   ]
  },
  {
   "cell_type": "code",
   "execution_count": 26,
   "metadata": {
    "ExecuteTime": {
     "end_time": "2019-04-25T23:34:12.984348Z",
     "start_time": "2019-04-25T23:34:12.968343Z"
    }
   },
   "outputs": [
    {
     "name": "stdout",
     "output_type": "stream",
     "text": [
      "---------------------------\n",
      "shape (4020, 24)\n",
      "startDate 2004/07/21\n",
      "endDate 2019/03/28\n",
      "---------------------------\n",
      "shape (1426, 25)\n",
      "startDate 2015/05/04\n",
      "endDate 2019/04/04\n",
      "---------------------------\n",
      "shape (4010, 32)\n",
      "startDate 2003/04/30\n",
      "endDate 2019/04/03\n",
      "---------------------------\n",
      "shape (4020, 768)\n",
      "No Date column\n",
      "---------------------------\n",
      "shape (1426, 768)\n",
      "No Date column\n"
     ]
    }
   ],
   "source": [
    "getStartEndDateShape(featureDF_nw)\n",
    "getStartEndDateShape(featureDF_tw)\n",
    "getStartEndDateShape(featureFI)\n",
    "getStartEndDateShape(bert_featureDF_nw)\n",
    "getStartEndDateShape(bert_featureDF_tw)"
   ]
  },
  {
   "cell_type": "markdown",
   "metadata": {},
   "source": [
    "# Formulation of overall dataset"
   ]
  },
  {
   "cell_type": "code",
   "execution_count": 27,
   "metadata": {
    "ExecuteTime": {
     "end_time": "2019-04-25T23:34:13.240343Z",
     "start_time": "2019-04-25T23:34:13.228353Z"
    }
   },
   "outputs": [],
   "source": [
    "nw_date = featureDF_nw.date.values.tolist()\n",
    "tw_date = featureDF_tw.date.values.tolist()"
   ]
  },
  {
   "cell_type": "code",
   "execution_count": 28,
   "metadata": {
    "ExecuteTime": {
     "end_time": "2019-04-25T23:34:13.896342Z",
     "start_time": "2019-04-25T23:34:13.888369Z"
    }
   },
   "outputs": [],
   "source": [
    "bert_featureDF_nw['date'] = nw_date\n",
    "bert_featureDF_tw['date'] = tw_date"
   ]
  },
  {
   "cell_type": "code",
   "execution_count": 29,
   "metadata": {
    "ExecuteTime": {
     "end_time": "2019-04-25T23:34:14.784342Z",
     "start_time": "2019-04-25T23:34:14.736344Z"
    }
   },
   "outputs": [
    {
     "name": "stdout",
     "output_type": "stream",
     "text": [
      "---------------------------\n",
      "shape (4749, 55)\n",
      "startDate 2003/04/30\n",
      "endDate 2019/04/03\n"
     ]
    }
   ],
   "source": [
    "result =pd.merge( featureFI,featureDF_nw, how='outer', on='date')\n",
    "getStartEndDateShape(result)"
   ]
  },
  {
   "cell_type": "code",
   "execution_count": 30,
   "metadata": {
    "ExecuteTime": {
     "end_time": "2019-04-25T23:34:15.148342Z",
     "start_time": "2019-04-25T23:34:15.072343Z"
    }
   },
   "outputs": [
    {
     "name": "stdout",
     "output_type": "stream",
     "text": [
      "---------------------------\n",
      "shape (5004, 79)\n",
      "startDate 2003/04/30\n",
      "endDate 2019/04/04\n"
     ]
    }
   ],
   "source": [
    "result =pd.merge( result,featureDF_tw, how='outer', on='date')\n",
    "getStartEndDateShape(result)"
   ]
  },
  {
   "cell_type": "code",
   "execution_count": null,
   "metadata": {},
   "outputs": [],
   "source": [
    "#start only scaling engineered features"
   ]
  },
  {
   "cell_type": "code",
   "execution_count": 10,
   "metadata": {
    "ExecuteTime": {
     "end_time": "2019-04-25T23:22:33.103095Z",
     "start_time": "2019-04-25T23:22:33.087097Z"
    }
   },
   "outputs": [],
   "source": [
    "resultScaled =result.copy()"
   ]
  },
  {
   "cell_type": "code",
   "execution_count": 11,
   "metadata": {
    "ExecuteTime": {
     "end_time": "2019-04-25T23:23:23.378996Z",
     "start_time": "2019-04-25T23:23:23.366996Z"
    }
   },
   "outputs": [],
   "source": [
    "tdate= resultScaled.date.tolist()\n",
    "ttarget = resultScaled.Target.tolist()\n",
    "resultScaled.drop(['date','Target'],axis =1,inplace=True)"
   ]
  },
  {
   "cell_type": "code",
   "execution_count": 12,
   "metadata": {
    "ExecuteTime": {
     "end_time": "2019-04-25T23:24:30.885503Z",
     "start_time": "2019-04-25T23:24:30.857505Z"
    }
   },
   "outputs": [],
   "source": [
    "scale = StandardScaler()\n",
    "resultScaled = pd.DataFrame(scale.fit_transform(resultScaled.values), columns=resultScaled.columns, index=resultScaled.index)"
   ]
  },
  {
   "cell_type": "code",
   "execution_count": 13,
   "metadata": {
    "ExecuteTime": {
     "end_time": "2019-04-25T23:26:05.411300Z",
     "start_time": "2019-04-25T23:26:05.403302Z"
    }
   },
   "outputs": [],
   "source": [
    "resultScaled['date'] = tdate\n",
    "resultScaled['target'] = ttarget"
   ]
  },
  {
   "cell_type": "code",
   "execution_count": 15,
   "metadata": {
    "ExecuteTime": {
     "end_time": "2019-04-25T23:27:57.307605Z",
     "start_time": "2019-04-25T23:27:57.211603Z"
    }
   },
   "outputs": [
    {
     "name": "stdout",
     "output_type": "stream",
     "text": [
      "---------------------------\n",
      "shape (5004, 847)\n",
      "startDate 2003/04/30\n",
      "endDate 2019/04/04\n"
     ]
    }
   ],
   "source": [
    "resultScaled =pd.merge( resultScaled,bert_featureDF_nw, how='outer', on='date')\n",
    "getStartEndDateShape(resultScaled)"
   ]
  },
  {
   "cell_type": "code",
   "execution_count": 16,
   "metadata": {
    "ExecuteTime": {
     "end_time": "2019-04-25T23:28:23.691590Z",
     "start_time": "2019-04-25T23:28:23.539592Z"
    }
   },
   "outputs": [
    {
     "name": "stdout",
     "output_type": "stream",
     "text": [
      "---------------------------\n",
      "shape (5004, 1615)\n",
      "startDate 2003/04/30\n",
      "endDate 2019/04/04\n"
     ]
    }
   ],
   "source": [
    "resultScaled =pd.merge( resultScaled,bert_featureDF_tw, how='outer', on='date')\n",
    "getStartEndDateShape(resultScaled)"
   ]
  },
  {
   "cell_type": "code",
   "execution_count": 17,
   "metadata": {
    "ExecuteTime": {
     "end_time": "2019-04-25T23:29:33.891551Z",
     "start_time": "2019-04-25T23:29:33.643554Z"
    }
   },
   "outputs": [],
   "source": [
    "resultScaled.sort_values(by='date',inplace=True) \n",
    "resultScaled = resultScaled.ffill()\n",
    "resultScaled = resultScaled.bfill()\n",
    "resultScaled.fillna(0,inplace=True)"
   ]
  },
  {
   "cell_type": "code",
   "execution_count": 18,
   "metadata": {
    "ExecuteTime": {
     "end_time": "2019-04-25T23:29:41.319547Z",
     "start_time": "2019-04-25T23:29:41.311546Z"
    }
   },
   "outputs": [],
   "source": [
    "resultScaled.date = pd.to_datetime(resultScaled.date)"
   ]
  },
  {
   "cell_type": "code",
   "execution_count": null,
   "metadata": {},
   "outputs": [],
   "source": [
    "#end only scaling engineered features"
   ]
  },
  {
   "cell_type": "code",
   "execution_count": 31,
   "metadata": {
    "ExecuteTime": {
     "end_time": "2019-04-25T23:34:30.820333Z",
     "start_time": "2019-04-25T23:34:30.692333Z"
    }
   },
   "outputs": [
    {
     "name": "stdout",
     "output_type": "stream",
     "text": [
      "---------------------------\n",
      "shape (5004, 847)\n",
      "startDate 2003/04/30\n",
      "endDate 2019/04/04\n"
     ]
    }
   ],
   "source": [
    "result =pd.merge( result,bert_featureDF_nw, how='outer', on='date')\n",
    "getStartEndDateShape(result)"
   ]
  },
  {
   "cell_type": "code",
   "execution_count": 32,
   "metadata": {
    "ExecuteTime": {
     "end_time": "2019-04-25T23:34:32.164334Z",
     "start_time": "2019-04-25T23:34:32.060334Z"
    }
   },
   "outputs": [
    {
     "name": "stdout",
     "output_type": "stream",
     "text": [
      "---------------------------\n",
      "shape (5004, 1615)\n",
      "startDate 2003/04/30\n",
      "endDate 2019/04/04\n"
     ]
    }
   ],
   "source": [
    "result =pd.merge( result,bert_featureDF_tw, how='outer', on='date')\n",
    "getStartEndDateShape(result)"
   ]
  },
  {
   "cell_type": "code",
   "execution_count": 33,
   "metadata": {
    "ExecuteTime": {
     "end_time": "2019-04-25T23:34:33.356334Z",
     "start_time": "2019-04-25T23:34:33.116333Z"
    }
   },
   "outputs": [],
   "source": [
    "result.sort_values(by='date',inplace=True) "
   ]
  },
  {
   "cell_type": "code",
   "execution_count": 34,
   "metadata": {
    "ExecuteTime": {
     "end_time": "2019-04-25T23:34:34.484334Z",
     "start_time": "2019-04-25T23:34:34.412331Z"
    }
   },
   "outputs": [],
   "source": [
    "result = result.ffill()\n",
    "result = result.bfill()\n",
    "result.fillna(0,inplace=True)"
   ]
  },
  {
   "cell_type": "code",
   "execution_count": 35,
   "metadata": {
    "ExecuteTime": {
     "end_time": "2019-04-25T23:38:55.189384Z",
     "start_time": "2019-04-25T23:38:55.182405Z"
    }
   },
   "outputs": [],
   "source": [
    "result.date = pd.to_datetime(result.date)"
   ]
  },
  {
   "cell_type": "code",
   "execution_count": null,
   "metadata": {},
   "outputs": [],
   "source": [
    "#start non Scaled Data Prep"
   ]
  },
  {
   "cell_type": "code",
   "execution_count": 36,
   "metadata": {
    "ExecuteTime": {
     "end_time": "2019-04-25T23:42:15.756280Z",
     "start_time": "2019-04-25T23:42:15.701425Z"
    }
   },
   "outputs": [],
   "source": [
    "resultNonScaledData = result.copy()"
   ]
  },
  {
   "cell_type": "code",
   "execution_count": null,
   "metadata": {},
   "outputs": [],
   "source": [
    "#end non Scaled Data Prep"
   ]
  },
  {
   "cell_type": "code",
   "execution_count": 29,
   "metadata": {
    "ExecuteTime": {
     "end_time": "2019-04-14T11:08:11.111554Z",
     "start_time": "2019-04-14T11:08:11.055518Z"
    }
   },
   "outputs": [],
   "source": [
    "date= result.date.tolist()\n",
    "target = result.Target.tolist()\n",
    "result.drop(['date','Target'],axis =1,inplace=True)"
   ]
  },
  {
   "cell_type": "code",
   "execution_count": 32,
   "metadata": {
    "ExecuteTime": {
     "end_time": "2019-04-14T11:08:58.371580Z",
     "start_time": "2019-04-14T11:08:58.079547Z"
    }
   },
   "outputs": [],
   "source": [
    "scale = StandardScaler()\n",
    "result = pd.DataFrame(scale.fit_transform(result.values), columns=result.columns, index=result.index)"
   ]
  },
  {
   "cell_type": "code",
   "execution_count": 33,
   "metadata": {
    "ExecuteTime": {
     "end_time": "2019-04-14T11:09:22.218039Z",
     "start_time": "2019-04-14T11:09:22.210037Z"
    }
   },
   "outputs": [],
   "source": [
    "result['date'] = date\n",
    "result['target'] = target"
   ]
  },
  {
   "cell_type": "code",
   "execution_count": 34,
   "metadata": {
    "ExecuteTime": {
     "end_time": "2019-04-14T11:10:13.069683Z",
     "start_time": "2019-04-14T11:09:56.770439Z"
    }
   },
   "outputs": [],
   "source": [
    "# Save data with without scaling\n",
    "result.to_csv('DFScaledNTFI_with_scaling.csv',index= False)"
   ]
  },
  {
   "cell_type": "markdown",
   "metadata": {},
   "source": [
    "# Test and Train Split"
   ]
  },
  {
   "cell_type": "code",
   "execution_count": 36,
   "metadata": {
    "ExecuteTime": {
     "end_time": "2019-04-14T11:13:36.706914Z",
     "start_time": "2019-04-14T11:13:36.590928Z"
    }
   },
   "outputs": [],
   "source": [
    "train = result[result['date'] < pd.to_datetime('2018/06/01')]\n",
    "test = result[result['date'] >= pd.to_datetime('2018/06/01')]"
   ]
  },
  {
   "cell_type": "code",
   "execution_count": 37,
   "metadata": {
    "ExecuteTime": {
     "end_time": "2019-04-14T11:13:45.405315Z",
     "start_time": "2019-04-14T11:13:45.397313Z"
    }
   },
   "outputs": [
    {
     "data": {
      "text/plain": [
       "(4696, 1615)"
      ]
     },
     "execution_count": 37,
     "metadata": {},
     "output_type": "execute_result"
    }
   ],
   "source": [
    "train.shape"
   ]
  },
  {
   "cell_type": "code",
   "execution_count": 39,
   "metadata": {
    "ExecuteTime": {
     "end_time": "2019-04-14T11:13:54.171569Z",
     "start_time": "2019-04-14T11:13:54.163609Z"
    }
   },
   "outputs": [
    {
     "data": {
      "text/plain": [
       "(308, 1615)"
      ]
     },
     "execution_count": 39,
     "metadata": {},
     "output_type": "execute_result"
    }
   ],
   "source": [
    "test.shape"
   ]
  },
  {
   "cell_type": "code",
   "execution_count": 40,
   "metadata": {
    "ExecuteTime": {
     "end_time": "2019-04-14T11:14:39.925607Z",
     "start_time": "2019-04-14T11:14:23.870056Z"
    }
   },
   "outputs": [],
   "source": [
    "train.to_csv('train_bert_tnfi.csv',index=False)\n",
    "test.to_csv('test_bert_tnfi.csv',index=False)"
   ]
  },
  {
   "cell_type": "code",
   "execution_count": null,
   "metadata": {},
   "outputs": [],
   "source": [
    "#start only scaling engineered features"
   ]
  },
  {
   "cell_type": "code",
   "execution_count": 19,
   "metadata": {
    "ExecuteTime": {
     "end_time": "2019-04-25T23:32:48.363713Z",
     "start_time": "2019-04-25T23:32:48.275677Z"
    }
   },
   "outputs": [],
   "source": [
    "train_s = resultScaled[resultScaled['date'] < pd.to_datetime('2018/06/01')]\n",
    "test_s = resultScaled[resultScaled['date'] >= pd.to_datetime('2018/06/01')]"
   ]
  },
  {
   "cell_type": "code",
   "execution_count": 22,
   "metadata": {
    "ExecuteTime": {
     "end_time": "2019-04-25T23:33:12.171667Z",
     "start_time": "2019-04-25T23:33:12.163667Z"
    }
   },
   "outputs": [
    {
     "name": "stdout",
     "output_type": "stream",
     "text": [
      "(4696, 1615)\n",
      "(308, 1615)\n"
     ]
    }
   ],
   "source": [
    "print(train_s.shape)\n",
    "print(test_s.shape)"
   ]
  },
  {
   "cell_type": "code",
   "execution_count": 23,
   "metadata": {
    "ExecuteTime": {
     "end_time": "2019-04-25T23:33:35.763651Z",
     "start_time": "2019-04-25T23:33:17.699662Z"
    }
   },
   "outputs": [],
   "source": [
    "train_s.to_csv('train_SEFnNSB_bert_tnfi.csv',index=False)\n",
    "test_s.to_csv('test_SEFnNSB_bert_tnfi.csv',index=False)"
   ]
  },
  {
   "cell_type": "code",
   "execution_count": null,
   "metadata": {},
   "outputs": [],
   "source": [
    "#end only scaling engineered features"
   ]
  },
  {
   "cell_type": "code",
   "execution_count": null,
   "metadata": {},
   "outputs": [],
   "source": [
    "#start only non-scaled dataset"
   ]
  },
  {
   "cell_type": "code",
   "execution_count": 37,
   "metadata": {
    "ExecuteTime": {
     "end_time": "2019-04-25T23:44:15.078552Z",
     "start_time": "2019-04-25T23:44:15.023701Z"
    }
   },
   "outputs": [],
   "source": [
    "train_ns = resultNonScaledData[resultNonScaledData['date'] < pd.to_datetime('2018/06/01')]\n",
    "test_ns = resultNonScaledData[resultNonScaledData['date'] >= pd.to_datetime('2018/06/01')]"
   ]
  },
  {
   "cell_type": "code",
   "execution_count": 38,
   "metadata": {
    "ExecuteTime": {
     "end_time": "2019-04-25T23:44:19.017019Z",
     "start_time": "2019-04-25T23:44:19.012033Z"
    }
   },
   "outputs": [
    {
     "name": "stdout",
     "output_type": "stream",
     "text": [
      "(4696, 1615)\n",
      "(308, 1615)\n"
     ]
    }
   ],
   "source": [
    "print(train_ns.shape)\n",
    "print(test_ns.shape)"
   ]
  },
  {
   "cell_type": "code",
   "execution_count": 40,
   "metadata": {
    "ExecuteTime": {
     "end_time": "2019-04-26T00:17:30.812076Z",
     "start_time": "2019-04-26T00:17:12.447455Z"
    }
   },
   "outputs": [],
   "source": [
    "train_ns.to_csv('train_nS_bert_tnfi.csv',index=False)\n",
    "train_ns.to_csv('test_nS_bert_tnfi.csv',index=False)"
   ]
  },
  {
   "cell_type": "code",
   "execution_count": null,
   "metadata": {},
   "outputs": [],
   "source": [
    "#end only non-scaled dataset"
   ]
  }
 ],
 "metadata": {
  "hide_input": false,
  "kernelspec": {
   "display_name": "Python 3",
   "language": "python",
   "name": "python3"
  },
  "language_info": {
   "codemirror_mode": {
    "name": "ipython",
    "version": 3
   },
   "file_extension": ".py",
   "mimetype": "text/x-python",
   "name": "python",
   "nbconvert_exporter": "python",
   "pygments_lexer": "ipython3",
   "version": "3.6.8"
  },
  "toc": {
   "base_numbering": 1,
   "nav_menu": {},
   "number_sections": true,
   "sideBar": true,
   "skip_h1_title": false,
   "title_cell": "Table of Contents",
   "title_sidebar": "Contents",
   "toc_cell": false,
   "toc_position": {},
   "toc_section_display": true,
   "toc_window_display": false
  }
 },
 "nbformat": 4,
 "nbformat_minor": 2
}
